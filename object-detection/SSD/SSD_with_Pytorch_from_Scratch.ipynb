{
  "nbformat": 4,
  "nbformat_minor": 0,
  "metadata": {
    "colab": {
      "provenance": [],
      "machine_shape": "hm",
      "gpuType": "A100"
    },
    "kernelspec": {
      "name": "python3",
      "display_name": "Python 3"
    },
    "language_info": {
      "name": "python"
    },
    "accelerator": "GPU"
  },
  "cells": [
    {
      "cell_type": "code",
      "execution_count": 19,
      "metadata": {
        "id": "QhtvL5mbCOEd",
        "colab": {
          "base_uri": "https://localhost:8080/"
        },
        "outputId": "3f91c5c8-993f-4696-8bbe-6a8eceb0445c"
      },
      "outputs": [
        {
          "output_type": "execute_result",
          "data": {
            "text/plain": [
              "device(type='cuda')"
            ]
          },
          "metadata": {},
          "execution_count": 19
        }
      ],
      "source": [
        "import torch\n",
        "import torch.nn as nn\n",
        "import torch.nn.functional as F\n",
        "import torchvision\n",
        "import torchvision.transforms.v2\n",
        "from torchvision.io import read_image\n",
        "from torch.utils.data.dataloader import DataLoader\n",
        "from torch.optim.lr_scheduler import MultiStepLR\n",
        "from torchvision import tv_tensors\n",
        "\n",
        "import math\n",
        "import glob\n",
        "import os\n",
        "import random\n",
        "import cv2\n",
        "import numpy as np\n",
        "from PIL import Image\n",
        "from tqdm import tqdm\n",
        "from torch.utils.data.dataset import Dataset\n",
        "import xml.etree.ElementTree as ET\n",
        "\n",
        "torch.backends.cudnn.benchmark = True\n",
        "device = torch.device(\"cuda\" if torch.cuda.is_available() else \"cpu\")\n",
        "device"
      ]
    },
    {
      "cell_type": "code",
      "source": [
        "dataset_params = {\n",
        "  \"train_im_sets\": [\"data/VOC2007\"],\n",
        "  \"test_im_sets\": [\"data/VOC2007-test\"],\n",
        "  \"num_classes\": 21,\n",
        "  \"im_size\": 300\n",
        "}\n",
        "\n",
        "model_params = {\n",
        "  \"im_channels\": 3,\n",
        "  \"aspect_ratios\": [\n",
        "    [ 1., 2., 0.5 ],\n",
        "    [ 1., 2., 3., 0.5, .333 ],\n",
        "    [ 1., 2., 3., 0.5, .333 ],\n",
        "    [ 1., 2., 3., 0.5, .333 ],\n",
        "    [ 1., 2., 0.5 ],\n",
        "    [ 1., 2., 0.5 ]\n",
        "  ],\n",
        "  \"scales\": [0.1, 0.2, 0.375, 0.55, 0.725, 0.9],\n",
        "  \"iou_threshold\": 0.5,\n",
        "  \"low_score_threshold\": 0.01,\n",
        "  \"neg_pos_ratio\": 3,\n",
        "  \"pre_nms_topK\": 400,\n",
        "  \"detections_per_img\": 200,\n",
        "  \"nms_threshold\": 0.45\n",
        "}\n",
        "\n",
        "train_params = {\n",
        "  \"task_name\": \"voc\",\n",
        "  \"seed\": 1111,\n",
        "  \"acc_steps\": 1, # Increase if you want to get gradients from >1 steps (kind of mimicking >1 batch size)\n",
        "  \"num_epochs\": 100,\n",
        "  \"batch_size\": 8,\n",
        "  \"lr_steps\": [40, 50, 60, 70, 80, 90],\n",
        "  \"lr\": 0.001,\n",
        "  \"log_steps\": 100,\n",
        "  \"infer_conf_threshold\": 0.5,\n",
        "  \"ckpt_name\": \"ssd_voc2007.pth\"\n",
        "}"
      ],
      "metadata": {
        "id": "cUlXLA-AtKUb"
      },
      "execution_count": 2,
      "outputs": []
    },
    {
      "cell_type": "code",
      "source": [
        "from google.colab import drive\n",
        "drive.mount(\"/content/drive\")"
      ],
      "metadata": {
        "id": "VTAZ-DO2tw1e",
        "colab": {
          "base_uri": "https://localhost:8080/"
        },
        "outputId": "82112578-ce3f-47a5-95dd-c6672f961a05"
      },
      "execution_count": 3,
      "outputs": [
        {
          "output_type": "stream",
          "name": "stdout",
          "text": [
            "Mounted at /content/drive\n"
          ]
        }
      ]
    },
    {
      "cell_type": "code",
      "source": [
        "!unzip -q \"/content/drive/MyDrive/Machine Learning/advanced-deep-learning/object-detection/YOLO/data.zip\" -d \"/content\""
      ],
      "metadata": {
        "id": "HDPH2YesuD_o"
      },
      "execution_count": 4,
      "outputs": []
    },
    {
      "cell_type": "code",
      "source": [
        "def load_images_and_anns(im_sets, label2idx, ann_fname, split):\n",
        "  \"\"\"\n",
        "  Method to get the xml files and for each file get all the objects and their ground truth detection information for the dataset\n",
        "\n",
        "  im_sets: Sets of images to consider\n",
        "  label2idx: Class Name to index mapping for dataset\n",
        "  ann_fname: txt file containing image names{trainval.txt/test.txt}\n",
        "  split: train/test\n",
        "  \"\"\"\n",
        "  im_infos = []\n",
        "  ims = []\n",
        "\n",
        "  for im_set in im_sets:\n",
        "    im_names = []\n",
        "    # Fetch all image names in txt file for this imageset\n",
        "    for line in open(os.path.join(im_set, \"ImageSets\", \"Main\", f\"{ann_fname}.txt\")):\n",
        "      im_names.append(line.strip())\n",
        "\n",
        "    # Set annotation and image path\n",
        "    ann_dir = os.path.join(im_set, \"Annotations\")\n",
        "    im_dir = os.path.join(im_set, \"JPEGImages\")\n",
        "\n",
        "    for im_name in im_names:\n",
        "      ann_file = os.path.join(ann_dir, f\"{im_name}.xml\")\n",
        "      im_info = {}\n",
        "      ann_info = ET.parse(ann_file)\n",
        "      root = ann_info.getroot()\n",
        "      size = root.find(\"size\")\n",
        "\n",
        "      width = int(size.find(\"width\").text)\n",
        "      height = int(size.find(\"height\").text)\n",
        "\n",
        "      im_info[\"img_id\"] = os.path.basename(ann_file).split(\".xml\")[0]\n",
        "      im_info[\"filename\"] = os.path.join(im_dir, f\"{im_info['img_id']}.jpg\")\n",
        "      im_info[\"width\"] = width\n",
        "      im_info[\"height\"] = height\n",
        "      detections = []\n",
        "\n",
        "      for obj in ann_info.findall(\"object\"):\n",
        "        det = {}\n",
        "        label = label2idx[obj.find(\"name\").text]\n",
        "        difficult = int(obj.find(\"difficult\").text)\n",
        "        bbox_info = obj.find(\"bndbox\")\n",
        "\n",
        "        bbox = [\n",
        "            int(bbox_info.find(\"xmin\").text) - 1,\n",
        "            int(bbox_info.find(\"ymin\").text) - 1,\n",
        "            int(bbox_info.find(\"xmax\").text) - 1,\n",
        "            int(bbox_info.find(\"ymax\").text) - 1\n",
        "        ]\n",
        "\n",
        "        det[\"label\"] = label\n",
        "        det[\"bbox\"] = bbox\n",
        "        det[\"difficult\"] = difficult\n",
        "\n",
        "        # At test time eval does the job of ignoring difficult\n",
        "        detections.append(det)\n",
        "\n",
        "      im_info[\"detections\"] = detections\n",
        "      im_infos.append(im_info)\n",
        "\n",
        "  print(f\"Total {len(im_infos)} images found\")\n",
        "  return im_infos"
      ],
      "metadata": {
        "id": "7RFPk-NHtrU5"
      },
      "execution_count": 5,
      "outputs": []
    },
    {
      "cell_type": "code",
      "source": [
        "class VOCDataset(Dataset):\n",
        "  def __init__(self, split, im_sets, im_size=300):\n",
        "    self.split = split\n",
        "\n",
        "    # Imagesets for this dataset instance (VOC2007/VOC2007+VOC2012/VOC2007-test)\n",
        "    self.im_sets = im_sets\n",
        "    self.fname = \"trainval\" if self.split == \"train\" else \"test\"\n",
        "    self.im_size = im_size\n",
        "    self.im_mean = [123.0, 117.0, 104.0]\n",
        "    self.imagenet_mean = [0.485, 0.456, 0.406]\n",
        "    self.imagenet_std = [0.229, 0.224, 0.225]\n",
        "\n",
        "    # Train and test transformations\n",
        "    self.transforms = {\n",
        "        \"train\": torchvision.transforms.v2.Compose([\n",
        "            torchvision.transforms.v2.RandomPhotometricDistort(),\n",
        "            torchvision.transforms.v2.RandomZoomOut(fill=self.im_mean),\n",
        "            torchvision.transforms.v2.RandomIoUCrop(),\n",
        "            torchvision.transforms.v2.RandomHorizontalFlip(p=0.5),\n",
        "            torchvision.transforms.v2.Resize(size=(self.im_size, self.im_size)),\n",
        "            torchvision.transforms.v2.SanitizeBoundingBoxes(\n",
        "                labels_getter=lambda transform_input:\n",
        "                (transform_input[1][\"labels\"], transform_input[1][\"difficult\"])),\n",
        "            torchvision.transforms.v2.ToPureTensor(),\n",
        "            torchvision.transforms.v2.ToDtype(torch.float32, scale=True),\n",
        "            torchvision.transforms.v2.Normalize(mean=self.imagenet_mean,\n",
        "                                                std=self.imagenet_std)\n",
        "\n",
        "        ]),\n",
        "        \"test\": torchvision.transforms.v2.Compose([\n",
        "            torchvision.transforms.v2.Resize(size=(self.im_size, self.im_size)),\n",
        "            torchvision.transforms.v2.ToPureTensor(),\n",
        "            torchvision.transforms.v2.ToDtype(torch.float32, scale=True),\n",
        "            torchvision.transforms.v2.Normalize(mean=self.imagenet_mean,\n",
        "                                                std=self.imagenet_std)\n",
        "        ]),\n",
        "    }\n",
        "\n",
        "    classes = [\n",
        "        \"person\", \"bird\", \"cat\", \"cow\", \"dog\", \"horse\", \"sheep\",\n",
        "        \"aeroplane\", \"bicycle\", \"boat\", \"bus\", \"car\", \"motorbike\", \"train\",\n",
        "        \"bottle\", \"chair\", \"diningtable\", \"pottedplant\", \"sofa\", \"tvmonitor\"\n",
        "    ]\n",
        "    classes = sorted(classes)\n",
        "    # We need to add background class as well with 0 index\n",
        "    classes = [\"background\"] + classes\n",
        "\n",
        "    self.label2idx = {classes[idx]: idx for idx in range(len(classes))}\n",
        "    self.idx2label = {idx: classes[idx] for idx in range(len(classes))}\n",
        "    print(self.idx2label)\n",
        "    self.images_info = load_images_and_anns(self.im_sets,\n",
        "                                            self.label2idx,\n",
        "                                            self.fname,\n",
        "                                            self.split)\n",
        "\n",
        "  def __len__(self):\n",
        "    return len(self.images_info)\n",
        "\n",
        "  def __getitem__(self, index):\n",
        "    im_info = self.images_info[index]\n",
        "    im = read_image(im_info[\"filename\"])\n",
        "\n",
        "    # Get annotations for this image\n",
        "    targets = {}\n",
        "    targets[\"bboxes\"] = tv_tensors.BoundingBoxes(\n",
        "        [detection[\"bbox\"] for detection in im_info[\"detections\"]],\n",
        "        format=\"XYXY\", canvas_size=im.shape[-2:])\n",
        "    targets[\"labels\"] = torch.as_tensor(\n",
        "        [detection[\"label\"] for detection in im_info[\"detections\"]])\n",
        "    targets[\"difficult\"] = torch.as_tensor(\n",
        "        [detection[\"difficult\"]for detection in im_info[\"detections\"]])\n",
        "\n",
        "    # Transform the image and targets\n",
        "    transformed_info = self.transforms[self.split](im, targets)\n",
        "    im_tensor, targets = transformed_info\n",
        "\n",
        "    h, w = im_tensor.shape[-2:]\n",
        "\n",
        "    wh_tensor = torch.as_tensor([[w, h, w, h]]).expand_as(targets[\"bboxes\"])\n",
        "    targets[\"bboxes\"] = targets[\"bboxes\"] / wh_tensor\n",
        "    return im_tensor, targets, im_info[\"filename\"]"
      ],
      "metadata": {
        "id": "2l7UIaddvTZR"
      },
      "execution_count": 6,
      "outputs": []
    },
    {
      "cell_type": "code",
      "source": [
        "def get_iou(boxes1, boxes2):\n",
        "  \"\"\"\n",
        "  IOU between two sets of boxes\n",
        "  boxes1: (Tensor of shape N x 4)\n",
        "  boxes2: (Tensor of shape M x 4)\n",
        "  \"\"\"\n",
        "\n",
        "  # Area of boxes (x_2 - x_1) * (y_2 - y_1)\n",
        "  area1 = (boxes1[:, 2] - boxes1[:, 0]) * (boxes1[:, 3] - boxes1[:, 1])  # (N,)\n",
        "  area2 = (boxes2[:, 2] - boxes2[:, 0]) * (boxes2[:, 3] - boxes2[:, 1])  # (M,)\n",
        "\n",
        "  # Get top left x_1, y_1 coordinate\n",
        "  x_left = torch.max(boxes1[:, None, 0], boxes2[:, 0])  # (N, M)\n",
        "  y_top = torch.max(boxes1[:, None, 1], boxes2[:, 1])  # (N, M)\n",
        "\n",
        "  # Get bottom right x_2, y_2 coordinate\n",
        "  x_right = torch.min(boxes1[:, None, 2], boxes2[:, 2])  # (N, M)\n",
        "  y_bottom = torch.min(boxes1[:, None, 3], boxes2[:, 3])  # (N, M)\n",
        "\n",
        "  intersection_area = ((x_right - x_left).clamp(min=0) *\n",
        "                        (y_bottom - y_top).clamp(min=0))  # (N, M)\n",
        "  union = area1[:, None] + area2 - intersection_area  # (N, M)\n",
        "  iou = intersection_area / union  # (N, M)\n",
        "\n",
        "  return iou"
      ],
      "metadata": {
        "id": "QLsAbBOIgjm_"
      },
      "execution_count": 7,
      "outputs": []
    },
    {
      "cell_type": "code",
      "source": [
        "def boxes_to_transformation_targets(ground_truth_boxes,\n",
        "                                    default_boxes,\n",
        "                                    weights=(10., 10., 5., 5.)):\n",
        "  \"\"\"\n",
        "  Method to compute targets for each default_boxes.\n",
        "  Assumes boxes are in x1y1x2y2 format.\n",
        "  We first convert boxes to cx,cy,w,h format and then\n",
        "  compute targets based on following formulation\n",
        "\n",
        "  target_dx = (gt_cx - default_boxes_cx) / default_boxes_w\n",
        "  target_dy = (gt_cy - default_boxes_cy) / default_boxes_h\n",
        "  target_dw = log(gt_w / default_boxes_w)\n",
        "  target_dh = log(gt_h / default_boxes_h)\n",
        "\n",
        "  ground_truth_boxes: (Tensor of shape N x 4)\n",
        "  default_boxes: (Tensor of shape N x 4)\n",
        "  weights: Tuple[float] -> (wx, wy, ww, wh)\n",
        "  \"\"\"\n",
        "\n",
        "  # Get center_x, center_y, width, height from x_1, y_1, x_2, y_2 for default_boxes\n",
        "  widths = default_boxes[:, 2] - default_boxes[:, 0]\n",
        "  heights = default_boxes[:, 3] - default_boxes[:, 1]\n",
        "  center_x = default_boxes[:, 0] + 0.5 * widths\n",
        "  center_y = default_boxes[:, 1] + 0.5 * heights\n",
        "\n",
        "  # # Get center_x, center_y, width, height from x_1, y_1, x_2, y_2 for ground-truth boxes\n",
        "  gt_widths = (ground_truth_boxes[:, 2] - ground_truth_boxes[:, 0])\n",
        "  gt_heights = ground_truth_boxes[:, 3] - ground_truth_boxes[:, 1]\n",
        "  gt_center_x = ground_truth_boxes[:, 0] + 0.5 * gt_widths\n",
        "  gt_center_y = ground_truth_boxes[:, 1] + 0.5 * gt_heights\n",
        "\n",
        "  # Use formulation to compute all targets\n",
        "  targets_dx = weights[0] * (gt_center_x - center_x) / widths\n",
        "  targets_dy = weights[1] * (gt_center_y - center_y) / heights\n",
        "  targets_dw = weights[2] * torch.log(gt_widths / widths)\n",
        "  targets_dh = weights[3] * torch.log(gt_heights / heights)\n",
        "  regression_targets = torch.stack((targets_dx,\n",
        "                                    targets_dy,\n",
        "                                    targets_dw,\n",
        "                                    targets_dh), dim=1)\n",
        "  return regression_targets"
      ],
      "metadata": {
        "id": "jIW77tMLg9_2"
      },
      "execution_count": 8,
      "outputs": []
    },
    {
      "cell_type": "code",
      "source": [
        "def apply_regression_pred_to_default_boxes(box_transform_pred,\n",
        "                                           default_boxes,\n",
        "                                           weights=(10., 10., 5., 5.)):\n",
        "  \"\"\"\n",
        "  Method to transform default_boxes based on transformation parameter\n",
        "  prediction.\n",
        "  Assumes boxes are in x_1, y_1, x_2, y_2 format\n",
        "\n",
        "  box_transform_pred: (Tensor of shape N x 4)\n",
        "  default_boxes: (Tensor of shape N x 4)\n",
        "  weights: Tuple[float] -> (wx, wy, ww, wh)\n",
        "  \"\"\"\n",
        "\n",
        "  # Get cx, cy, w, h from x1,y1,x2,y2\n",
        "  w = default_boxes[:, 2] - default_boxes[:, 0]\n",
        "  h = default_boxes[:, 3] - default_boxes[:, 1]\n",
        "  center_x = default_boxes[:, 0] + 0.5 * w\n",
        "  center_y = default_boxes[:, 1] + 0.5 * h\n",
        "\n",
        "  dx = box_transform_pred[..., 0] / weights[0]\n",
        "  dy = box_transform_pred[..., 1] / weights[1]\n",
        "  dw = box_transform_pred[..., 2] / weights[2]\n",
        "  dh = box_transform_pred[..., 3] / weights[3]\n",
        "  # dh -> (num_default_boxes)\n",
        "\n",
        "  pred_center_x = dx * w + center_x\n",
        "  pred_center_y = dy * h + center_y\n",
        "  pred_w = torch.exp(dw) * w\n",
        "  pred_h = torch.exp(dh) * h\n",
        "  # pred_center_x -> (num_default_boxes, 4)\n",
        "\n",
        "  pred_box_x1 = pred_center_x - 0.5 * pred_w\n",
        "  pred_box_y1 = pred_center_y - 0.5 * pred_h\n",
        "  pred_box_x2 = pred_center_x + 0.5 * pred_w\n",
        "  pred_box_y2 = pred_center_y + 0.5 * pred_h\n",
        "\n",
        "  pred_boxes = torch.stack((\n",
        "      pred_box_x1,\n",
        "      pred_box_y1,\n",
        "      pred_box_x2,\n",
        "      pred_box_y2),\n",
        "      dim=-1)\n",
        "  return pred_boxes"
      ],
      "metadata": {
        "id": "8u9iJvlJg-1F"
      },
      "execution_count": 9,
      "outputs": []
    },
    {
      "cell_type": "code",
      "source": [
        "def generate_default_boxes(feat, aspect_ratios, scales):\n",
        "  \"\"\"\n",
        "  Method to generate default_boxes for all feature maps the image\n",
        "\n",
        "  feat: List[(Tensor of shape B x C x Feat_H x Feat x W)]\n",
        "  aspect_ratios: List[List[float]] aspect ratios for each feature map\n",
        "  scales: List[float] scales for each feature map\n",
        "  \"\"\"\n",
        "\n",
        "  # List to store default boxes for all feature maps\n",
        "  default_boxes = []\n",
        "  for k in range(len(feat)):\n",
        "    # We first add the aspect ratio 1 and scale (sqrt(scale[k])*sqrt(scale[k+1])\n",
        "    s_prime_k = math.sqrt(scales[k] * scales[k + 1])\n",
        "    wh_pairs = [[s_prime_k, s_prime_k]]\n",
        "\n",
        "    # Adding all possible w,h pairs according to\n",
        "    # aspect ratio of the feature map k\n",
        "    for ar in aspect_ratios[k]:\n",
        "      sq_ar = math.sqrt(ar)\n",
        "      w = scales[k] * sq_ar\n",
        "      h = scales[k] / sq_ar\n",
        "\n",
        "      wh_pairs.extend([[w, h]])\n",
        "\n",
        "    feat_h, feat_w = feat[k].shape[-2:]\n",
        "\n",
        "    # These shifts will be the centre of each of the default boxes\n",
        "    shifts_x = ((torch.arange(0, feat_w) + 0.5) / feat_w).to(torch.float32)\n",
        "    shifts_y = ((torch.arange(0, feat_h) + 0.5) / feat_h).to(torch.float32)\n",
        "    shift_y, shift_x = torch.meshgrid(shifts_y, shifts_x, indexing=\"ij\")\n",
        "    shift_x = shift_x.reshape(-1)\n",
        "    shift_y = shift_y.reshape(-1)\n",
        "\n",
        "    # Duplicate these shifts for as many boxes (aspect ratios) per position we have\n",
        "    shifts = torch.stack((shift_x, shift_y) * len(wh_pairs), dim=-1).reshape(-1, 2)\n",
        "    # shifts for first feature map will be (5776 x 2)\n",
        "\n",
        "    wh_pairs = torch.as_tensor(wh_pairs)\n",
        "\n",
        "    # Repeat the wh pairs for all positions in feature map\n",
        "    wh_pairs = wh_pairs.repeat((feat_h * feat_w), 1)\n",
        "    # wh_pairs for first feature map will be (5776 x 2)\n",
        "\n",
        "    # Concat the shifts(cx cy) and wh values for all positions\n",
        "    default_box = torch.cat((shifts, wh_pairs), dim=1)\n",
        "    # default box for feat_1 -> (5776, 4)\n",
        "    # default box for feat_2 -> (2166, 4)\n",
        "    # default box for feat_3 -> (600, 4)\n",
        "    # default box for feat_4 -> (150, 4)\n",
        "    # default box for feat_5 -> (36, 4)\n",
        "    # default box for feat_6 -> (4, 4)\n",
        "\n",
        "    default_boxes.append(default_box)\n",
        "\n",
        "  default_boxes = torch.cat(default_boxes, dim=0)\n",
        "  # default_boxes -> (8732, 4)\n",
        "\n",
        "  # We now duplicate these default boxes\n",
        "  # for all images in the batch\n",
        "  # and also convert cx,cy,w,h format of\n",
        "  # default boxes to x1,y1,x2,y2\n",
        "  dboxes = []\n",
        "  for _ in range(feat[0].size(0)):\n",
        "    dboxes_in_image = default_boxes\n",
        "    # x1 = cx - 0.5 * width\n",
        "    # y1 = cy - 0.5 * height\n",
        "    # x2 = cx + 0.5 * width\n",
        "    # y2 = cy + 0.5 * height\n",
        "    dboxes_in_image = torch.cat(\n",
        "        [\n",
        "            (dboxes_in_image[:, :2] - 0.5 * dboxes_in_image[:, 2:]),\n",
        "            (dboxes_in_image[:, :2] + 0.5 * dboxes_in_image[:, 2:]),\n",
        "        ],\n",
        "        -1,\n",
        "    )\n",
        "    dboxes.append(dboxes_in_image.to(feat[0].device))\n",
        "\n",
        "  return dboxes"
      ],
      "metadata": {
        "id": "ZlmoG0_Mg-v4"
      },
      "execution_count": 10,
      "outputs": []
    },
    {
      "cell_type": "code",
      "source": [
        "class SSD(nn.Module):\n",
        "  \"\"\"\n",
        "  Main Class for SSD. Does the following steps to generate detections/losses.\n",
        "  During initialization\n",
        "  1. Load VGG Imagenet pretrained model\n",
        "  2. Extract Backbone from VGG and add extra conv layers\n",
        "  3. Add class prediction and bbox transformation prediction layers\n",
        "  4. Initialize all conv2d layers\n",
        "\n",
        "  During Forward Pass\n",
        "  1. Get conv4_3 output\n",
        "  2. Normalize and scale conv4_3 output (feat_output_1)\n",
        "  3. Pass the unscaled conv4_3 to conv5_3 layers and conv layers\n",
        "      replacing fc6 and fc7 of vgg (feat_output_2)\n",
        "  4. Pass the conv_fc7 output to extra conv layers (feat_output_3-6)\n",
        "  5. Get the classification and regression predictions for all 6 feature maps\n",
        "  6. Generate default_boxes for all these feature maps(8732 x 4)\n",
        "  7a. If in training assign targets for these default_boxes and\n",
        "      compute localization and classification losses\n",
        "  7b. If in inference mode, then do all pre-nms filtering, nms\n",
        "      and then post nms filtering and return the detected boxes,\n",
        "      their labels and their scores\n",
        "  \"\"\"\n",
        "  def __init__(self, config, num_classes=21):\n",
        "    super().__init__()\n",
        "\n",
        "    self.aspect_ratios = config[\"aspect_ratios\"]\n",
        "\n",
        "    self.scales = config[\"scales\"]\n",
        "    self.scales.append(1.0)\n",
        "\n",
        "    self.num_classes = num_classes\n",
        "    self.iou_threshold = config[\"iou_threshold\"]\n",
        "    self.low_score_threshold = config[\"low_score_threshold\"]\n",
        "    self.neg_pos_ratio = config[\"neg_pos_ratio\"]\n",
        "    self.pre_nms_topK = config[\"pre_nms_topK\"]\n",
        "    self.nms_threshold = config[\"nms_threshold\"]\n",
        "    self.detections_per_img = config[\"detections_per_img\"]\n",
        "\n",
        "    # Load imagenet pretrained vgg network\n",
        "    backbone = torchvision.models.vgg16(\n",
        "        weights=torchvision.models.VGG16_Weights.IMAGENET1K_V1\n",
        "    )\n",
        "\n",
        "    # Get all max pool indexes to determine different stages\n",
        "    max_pool_pos = [idx for idx, layer in enumerate(list(backbone.features))\n",
        "                    if isinstance(layer, nn.MaxPool2d)]\n",
        "    max_pool_stage_3_pos = max_pool_pos[-3]  # for vgg16 this would be 16\n",
        "    max_pool_stage_4_pos = max_pool_pos[-2]  # for vgg16 this would be 23\n",
        "\n",
        "    backbone.features[max_pool_stage_3_pos].ceil_mode = True\n",
        "\n",
        "    # otherwise vgg conv4_3 output will be 37x37\n",
        "    self.features = nn.Sequential(*backbone.features[:max_pool_stage_4_pos])\n",
        "    self.scale_weight = nn.Parameter(torch.ones(512) * 20)\n",
        "\n",
        "    # Conv5_3 + Conv for fc6 and fc 7\n",
        "    # Conv modules replacing fc6 and fc7\n",
        "    # Ideally we would copy the weights, but here we are just adding new layers and not copying fc6 and fc7 weights by subsampling\n",
        "    fcs = nn.Sequential(\n",
        "        nn.MaxPool2d(kernel_size=3, stride=1, padding=1),\n",
        "        nn.Conv2d(in_channels=512,\n",
        "                  out_channels=1024,\n",
        "                  kernel_size=3,\n",
        "                  stride=1,\n",
        "                  padding=6,\n",
        "                  dilation=6),\n",
        "        nn.ReLU(inplace=True),\n",
        "        nn.Conv2d(in_channels=1024,\n",
        "                  out_channels=1024,\n",
        "                  kernel_size=1,\n",
        "                  stride=1,\n",
        "                  padding=0),\n",
        "        nn.ReLU(inplace=True),\n",
        "    )\n",
        "    self.conv5_3_fc = nn.Sequential(\n",
        "        *backbone.features[max_pool_stage_4_pos:-1],\n",
        "        fcs,\n",
        "    )\n",
        "\n",
        "    # Additional Conv Layers\n",
        "\n",
        "    # Modules to take from 19x19 to 10x10\n",
        "    self.conv8_2 = nn.Sequential(\n",
        "        nn.Conv2d(in_channels=1024,\n",
        "                  out_channels=256,\n",
        "                  kernel_size=1,\n",
        "                  stride=1,\n",
        "                  padding=0),\n",
        "        nn.ReLU(inplace=True),\n",
        "        nn.Conv2d(in_channels=256,\n",
        "                  out_channels=512,\n",
        "                  kernel_size=3,\n",
        "                  stride=2,\n",
        "                  padding=1),\n",
        "        nn.ReLU(inplace=True)\n",
        "    )\n",
        "\n",
        "    # Modules to take from 10x10 to 5x5\n",
        "    self.conv9_2 = nn.Sequential(\n",
        "        nn.Conv2d(in_channels=512,\n",
        "                  out_channels=128,\n",
        "                  kernel_size=1,\n",
        "                  stride=1,\n",
        "                  padding=0),\n",
        "        nn.ReLU(inplace=True),\n",
        "        nn.Conv2d(in_channels=128,\n",
        "                  out_channels=256,\n",
        "                  kernel_size=3,\n",
        "                  stride=2,\n",
        "                  padding=1),\n",
        "        nn.ReLU(inplace=True)\n",
        "    )\n",
        "\n",
        "    # Modules to take from 5x5 to 3x3\n",
        "    self.conv10_2 = nn.Sequential(\n",
        "        nn.Conv2d(256, 128, kernel_size=1),\n",
        "        nn.ReLU(inplace=True),\n",
        "        nn.Conv2d(128, 256, kernel_size=3),\n",
        "        nn.ReLU(inplace=True)\n",
        "    )\n",
        "\n",
        "    # Modules to take from 3x3 to 1x1\n",
        "    self.conv11_2 = nn.Sequential(\n",
        "        nn.Conv2d(in_channels=256,\n",
        "                  out_channels=128,\n",
        "                  kernel_size=1,\n",
        "                  stride=1,\n",
        "                  padding=0),\n",
        "        nn.ReLU(inplace=True),\n",
        "        nn.Conv2d(in_channels=128,\n",
        "                  out_channels=256,\n",
        "                  kernel_size=3,\n",
        "                  stride=1,\n",
        "                  padding=0),\n",
        "        nn.ReLU(inplace=True)\n",
        "    )\n",
        "\n",
        "    # Must match conv4_3, fcs, conv8_2, conv9_2, conv10_2, conv11_2\n",
        "    out_channels = [512, 1024, 512, 256, 256, 256]\n",
        "\n",
        "    # Prediction Layers\n",
        "    self.cls_heads = nn.ModuleList()\n",
        "    for channels, aspect_ratio in zip(out_channels, self.aspect_ratios):\n",
        "      # extra 1 is added for scale of sqrt(sk * sk + 1)\n",
        "      self.cls_heads.append(nn.Conv2d(channels,\n",
        "                                      self.num_classes * (len(aspect_ratio) + 1),\n",
        "                                      kernel_size=3,\n",
        "                                      padding=1))\n",
        "\n",
        "    self.bbox_reg_heads = nn.ModuleList()\n",
        "    for channels, aspect_ratio in zip(out_channels, self.aspect_ratios):\n",
        "      # extra 1 is added for scale of sqrt(sk * sk + 1)\n",
        "      self.bbox_reg_heads.append(nn.Conv2d(channels, 4 * (len(aspect_ratio)+1),\n",
        "                                            kernel_size=3,\n",
        "                                            padding=1))\n",
        "\n",
        "    # Conv Layer Initialization\n",
        "    for layer in fcs.modules():\n",
        "        if isinstance(layer, nn.Conv2d):\n",
        "            torch.nn.init.xavier_uniform_(layer.weight)\n",
        "            if layer.bias is not None:\n",
        "                torch.nn.init.constant_(layer.bias, 0.0)\n",
        "\n",
        "    for conv_module in [self.conv8_2, self.conv9_2, self.conv10_2, self.conv11_2]:\n",
        "        for layer in conv_module.modules():\n",
        "            if isinstance(layer, nn.Conv2d):\n",
        "                torch.nn.init.xavier_uniform_(layer.weight)\n",
        "                if layer.bias is not None:\n",
        "                    torch.nn.init.constant_(layer.bias, 0.0)\n",
        "\n",
        "    for module in self.cls_heads:\n",
        "        torch.nn.init.xavier_uniform_(module.weight)\n",
        "        if module.bias is not None:\n",
        "            torch.nn.init.constant_(module.bias, 0.0)\n",
        "    for module in self.bbox_reg_heads:\n",
        "        torch.nn.init.xavier_uniform_(module.weight)\n",
        "        if module.bias is not None:\n",
        "            torch.nn.init.constant_(module.bias, 0.0)\n",
        "\n",
        "  def compute_loss(self,\n",
        "                   targets,\n",
        "                   cls_logits,\n",
        "                   bbox_regression,\n",
        "                   default_boxes,\n",
        "                   matched_idxs):\n",
        "    # Counting all the foreground default_boxes for computing N in loss equation\n",
        "    num_foreground = 0\n",
        "    # BBox losses for all batch images(for foreground default_boxes)\n",
        "    bbox_loss = []\n",
        "    # classification targets for all batch images(for ALL default_boxes)\n",
        "    cls_targets = []\n",
        "    for (\n",
        "        targets_per_image,\n",
        "        bbox_regression_per_image,\n",
        "        cls_logits_per_image,\n",
        "        default_boxes_per_image,\n",
        "        matched_idxs_per_image,\n",
        "    ) in zip(targets, bbox_regression, cls_logits, default_boxes, matched_idxs):\n",
        "      # Foreground default_boxes -> matched_idx >=0\n",
        "      # Background default_boxes -> matched_idx = -1\n",
        "      fg_idxs_per_image = torch.where(matched_idxs_per_image >= 0)[0]\n",
        "      foreground_matched_idxs_per_image = matched_idxs_per_image[\n",
        "          fg_idxs_per_image\n",
        "      ]\n",
        "      num_foreground += foreground_matched_idxs_per_image.numel()\n",
        "\n",
        "      # Get foreground default_boxes and their transformation predictions\n",
        "      matched_gt_boxes_per_image = targets_per_image[\"boxes\"][\n",
        "          foreground_matched_idxs_per_image\n",
        "      ]\n",
        "      bbox_regression_per_image = bbox_regression_per_image[fg_idxs_per_image, :]\n",
        "      default_boxes_per_image = default_boxes_per_image[fg_idxs_per_image, :]\n",
        "      target_regression = boxes_to_transformation_targets(\n",
        "          matched_gt_boxes_per_image,\n",
        "          default_boxes_per_image)\n",
        "\n",
        "      bbox_loss.append(\n",
        "          torch.nn.functional.smooth_l1_loss(bbox_regression_per_image,\n",
        "                                              target_regression,\n",
        "                                              reduction='sum')\n",
        "      )\n",
        "\n",
        "      # Get classification target for ALL default_boxes\n",
        "      # For all default_boxes set it as 0 first\n",
        "      # Then set foreground default_boxes target as label\n",
        "      # of assigned gt box\n",
        "      gt_classes_target = torch.zeros(\n",
        "          (cls_logits_per_image.size(0),),\n",
        "          dtype=targets_per_image[\"labels\"].dtype,\n",
        "          device=targets_per_image[\"labels\"].device,\n",
        "      )\n",
        "      gt_classes_target[fg_idxs_per_image] = targets_per_image[\"labels\"][\n",
        "          foreground_matched_idxs_per_image\n",
        "      ]\n",
        "      cls_targets.append(gt_classes_target)\n",
        "\n",
        "    # Aggregated bbox loss and classification targets\n",
        "    # for all batch images\n",
        "    bbox_loss = torch.stack(bbox_loss)\n",
        "    cls_targets = torch.stack(cls_targets)  # (B, 8732)\n",
        "\n",
        "    # Calculate classification loss for ALL default_boxes\n",
        "    num_classes = cls_logits.size(-1)\n",
        "    cls_loss = torch.nn.functional.cross_entropy(cls_logits.view(-1, num_classes),\n",
        "                                                  cls_targets.view(-1),\n",
        "                                                  reduction=\"none\").view(\n",
        "        cls_targets.size()\n",
        "    )\n",
        "\n",
        "    # Hard Negative Mining\n",
        "    foreground_idxs = cls_targets > 0\n",
        "    # We will sample total of 3 x (number of fg default_boxes)\n",
        "    # background default_boxes\n",
        "    num_negative = self.neg_pos_ratio * foreground_idxs.sum(1, keepdim=True)\n",
        "\n",
        "    # As of now cls_loss is for ALL default_boxes\n",
        "    negative_loss = cls_loss.clone()\n",
        "    # We want to ensure that after sorting based on loss value,\n",
        "    # foreground default_boxes are never picked when choosing topK\n",
        "    # highest loss indexes\n",
        "    negative_loss[foreground_idxs] = -float(\"inf\")\n",
        "    values, idx = negative_loss.sort(1, descending=True)\n",
        "    # Fetch those indexes which have in topK(K=num_negative) losses\n",
        "    background_idxs = idx.sort(1)[1] < num_negative\n",
        "    N = max(1, num_foreground)\n",
        "    return {\n",
        "        \"bbox_regression\": bbox_loss.sum() / N,\n",
        "        \"classification\": (cls_loss[foreground_idxs].sum() +\n",
        "                            cls_loss[background_idxs].sum()) / N,\n",
        "    }\n",
        "\n",
        "  def forward(self, x, targets=None):\n",
        "    # Call everything till conv4_3 layers first\n",
        "    conv_4_3_out = self.features(x)\n",
        "\n",
        "    # Scale conv4_3 output using learnt norm scale\n",
        "    conv_4_3_out_scaled = (self.scale_weight.view(1, -1, 1, 1) *\n",
        "                            torch.nn.functional.normalize(conv_4_3_out))\n",
        "\n",
        "    # Call conv5_3 with non_scaled conv_3 and also\n",
        "    # Call additional conv layers\n",
        "    conv_5_3_fc_out = self.conv5_3_fc(conv_4_3_out)\n",
        "    conv8_2_out = self.conv8_2(conv_5_3_fc_out)\n",
        "    conv9_2_out = self.conv9_2(conv8_2_out)\n",
        "    conv10_2_out = self.conv10_2(conv9_2_out)\n",
        "    conv11_2_out = self.conv11_2(conv10_2_out)\n",
        "\n",
        "    # Feature maps for predictions\n",
        "    outputs = [\n",
        "        conv_4_3_out_scaled,  # 38 x 38\n",
        "        conv_5_3_fc_out,  # 19 x 19\n",
        "        conv8_2_out,  # 10 x 10\n",
        "        conv9_2_out,  # 5 x 5\n",
        "        conv10_2_out,  # 3 x 3\n",
        "        conv11_2_out,   # 1 x 1\n",
        "    ]\n",
        "\n",
        "    # Classification and bbox regression for all feature maps\n",
        "    cls_logits = []\n",
        "    bbox_reg_deltas = []\n",
        "    for i, features in enumerate(outputs):\n",
        "      cls_feat_i = self.cls_heads[i](features)\n",
        "      bbox_reg_feat_i = self.bbox_reg_heads[i](features)\n",
        "\n",
        "      # Cls output from (B, A * num_classes, H, W) to (B, HWA, num_classes).\n",
        "      N, _, H, W = cls_feat_i.shape\n",
        "      cls_feat_i = cls_feat_i.view(N, -1, self.num_classes, H, W)\n",
        "      # (B, A, num_classes, H, W)\n",
        "      cls_feat_i = cls_feat_i.permute(0, 3, 4, 1, 2)  # (B, H, W, A, num_classes)\n",
        "      cls_feat_i = cls_feat_i.reshape(N, -1, self.num_classes)\n",
        "      # (B, HWA, num_classes)\n",
        "      cls_logits.append(cls_feat_i)\n",
        "\n",
        "      # Permute bbox reg output from (B, A * 4, H, W) to (B, HWA, 4).\n",
        "      N, _, H, W = bbox_reg_feat_i.shape\n",
        "      bbox_reg_feat_i = bbox_reg_feat_i.view(N, -1, 4, H, W)  # (B, A, 4, H, W)\n",
        "      bbox_reg_feat_i = bbox_reg_feat_i.permute(0, 3, 4, 1, 2)  # (B, H, W, A, 4)\n",
        "      bbox_reg_feat_i = bbox_reg_feat_i.reshape(N, -1, 4)  # Size=(B, HWA, 4)\n",
        "      bbox_reg_deltas.append(bbox_reg_feat_i)\n",
        "\n",
        "    # Concat cls logits and bbox regression predictions for all feature maps\n",
        "    cls_logits = torch.cat(cls_logits, dim=1)  # (B, 8732, num_classes)\n",
        "    bbox_reg_deltas = torch.cat(bbox_reg_deltas, dim=1)  # (B, 8732, 4)\n",
        "\n",
        "    # Generate default_boxes for all feature maps\n",
        "    default_boxes = generate_default_boxes(outputs, self.aspect_ratios, self.scales)\n",
        "    # default_boxes -> List[Tensor of shape 8732 x 4]\n",
        "    # len(default_boxes) = Batch size\n",
        "\n",
        "    losses = {}\n",
        "    detections = []\n",
        "    if self.training:\n",
        "      # List to hold for each image, which default box\n",
        "      # is assigned to with gt box if any\n",
        "      # or unassigned(background)\n",
        "      matched_idxs = []\n",
        "      for default_boxes_per_image, targets_per_image in zip(default_boxes, targets):\n",
        "        if targets_per_image[\"boxes\"].numel() == 0:\n",
        "            matched_idxs.append(\n",
        "                torch.full(\n",
        "                    (default_boxes_per_image.size(0),), -1,\n",
        "                    dtype=torch.int64,\n",
        "                    device=default_boxes_per_image.device\n",
        "                )\n",
        "            )\n",
        "            continue\n",
        "\n",
        "        iou_matrix = get_iou(targets_per_image[\"boxes\"],\n",
        "                              default_boxes_per_image)\n",
        "        # For each default box find best ground truth box\n",
        "        matched_vals, matches = iou_matrix.max(dim=0)\n",
        "        # matches -> [8732]\n",
        "\n",
        "        # Update index of match for all default_boxes which\n",
        "        # have maximum iou with a gt box < low threshold\n",
        "        # as -1\n",
        "        # This allows selecting foreground boxes as match index >= 0\n",
        "        below_low_threshold = matched_vals < self.iou_threshold\n",
        "        matches[below_low_threshold] = -1\n",
        "\n",
        "        # We want to also assign the best default box for every gt\n",
        "        # as foreground\n",
        "        # So first find the best default box for every gt\n",
        "        _, highest_quality_pred_foreach_gt = iou_matrix.max(dim=1)\n",
        "        # Update the best matching gt index for these best default_boxes\n",
        "        # as 0, 1, 2, ...., len(gt)-1\n",
        "        matches[highest_quality_pred_foreach_gt] = torch.arange(\n",
        "            highest_quality_pred_foreach_gt.size(0), dtype=torch.int64,\n",
        "            device=highest_quality_pred_foreach_gt.device\n",
        "        )\n",
        "        matched_idxs.append(matches)\n",
        "\n",
        "      losses = self.compute_loss(targets, cls_logits, bbox_reg_deltas,\n",
        "                                  default_boxes, matched_idxs)\n",
        "    else:\n",
        "      # For test time we do the following:\n",
        "      # 1. Convert default_boxes to boxes using predicted bbox regression deltas\n",
        "      # 2. Low score filtering\n",
        "      # 3. Pre-NMS TopK filtering\n",
        "      # 4. NMS\n",
        "      # 5. Post NMS TopK Filtering\n",
        "      cls_scores = torch.nn.functional.softmax(cls_logits, dim=-1)\n",
        "      num_classes = cls_scores.size(-1)\n",
        "\n",
        "      for bbox_deltas_i, cls_scores_i, default_boxes_i in zip(bbox_reg_deltas,\n",
        "                                                            cls_scores,\n",
        "                                                            default_boxes):\n",
        "        boxes = apply_regression_pred_to_default_boxes(bbox_deltas_i,\n",
        "                                                        default_boxes_i)\n",
        "        # Ensure all values are between 0-1\n",
        "        boxes.clamp_(min=0., max=1.)\n",
        "\n",
        "        pred_boxes = []\n",
        "        pred_scores = []\n",
        "        pred_labels = []\n",
        "        # Class wise filtering\n",
        "        for label in range(1, num_classes):\n",
        "          score = cls_scores_i[:, label]\n",
        "\n",
        "          # Remove low scoring boxes of this class\n",
        "          keep_idxs = score > self.low_score_threshold\n",
        "          score = score[keep_idxs]\n",
        "          box = boxes[keep_idxs]\n",
        "\n",
        "          # keep only topk scoring predictions of this class\n",
        "          score, top_k_idxs = score.topk(min(self.pre_nms_topK, len(score)))\n",
        "          box = box[top_k_idxs]\n",
        "\n",
        "          pred_boxes.append(box)\n",
        "          pred_scores.append(score)\n",
        "          pred_labels.append(torch.full_like(score, fill_value=label,\n",
        "                                              dtype=torch.int64,\n",
        "                                              device=cls_scores.device))\n",
        "\n",
        "        pred_boxes = torch.cat(pred_boxes, dim=0)\n",
        "        pred_scores = torch.cat(pred_scores, dim=0)\n",
        "        pred_labels = torch.cat(pred_labels, dim=0)\n",
        "\n",
        "        # Class wise NMS\n",
        "        keep_mask = torch.zeros_like(pred_scores, dtype=torch.bool)\n",
        "        for class_id in torch.unique(pred_labels):\n",
        "          curr_indices = torch.where(pred_labels == class_id)[0]\n",
        "          curr_keep_idxs = torch.ops.torchvision.nms(pred_boxes[curr_indices],\n",
        "                                                      pred_scores[curr_indices],\n",
        "                                                      self.nms_threshold)\n",
        "          keep_mask[curr_indices[curr_keep_idxs]] = True\n",
        "\n",
        "        keep_indices = torch.where(keep_mask)[0]\n",
        "        post_nms_keep_indices = keep_indices[pred_scores[keep_indices].sort(\n",
        "            descending=True)[1]]\n",
        "        keep = post_nms_keep_indices[:self.detections_per_img]\n",
        "        pred_boxes, pred_scores, pred_labels = (pred_boxes[keep],\n",
        "                                                pred_scores[keep],\n",
        "                                                pred_labels[keep])\n",
        "\n",
        "        detections.append(\n",
        "            {\n",
        "                \"boxes\": pred_boxes,\n",
        "                \"scores\": pred_scores,\n",
        "                \"labels\": pred_labels,\n",
        "            }\n",
        "        )\n",
        "\n",
        "    return losses, detections"
      ],
      "metadata": {
        "id": "HAJeEh8Ig-ts"
      },
      "execution_count": 15,
      "outputs": []
    },
    {
      "cell_type": "code",
      "source": [
        "def collate_function(data):\n",
        "  return tuple(zip(*data))"
      ],
      "metadata": {
        "id": "4h5EBedQg-rl"
      },
      "execution_count": 16,
      "outputs": []
    },
    {
      "cell_type": "code",
      "source": [
        "def train():\n",
        "  dataset_config = dataset_params\n",
        "  train_config = train_params\n",
        "\n",
        "  # Seet the random seed\n",
        "  seed = train_config[\"seed\"]\n",
        "  torch.manual_seed(seed)\n",
        "  np.random.seed(seed)\n",
        "  random.seed(seed)\n",
        "  if device == \"cuda\":\n",
        "    torch.cuda.manual_seed_all(seed)\n",
        "\n",
        "  voc = VOCDataset(\"train\",\n",
        "                    im_sets=dataset_config[\"train_im_sets\"],\n",
        "                    im_size=dataset_config[\"im_size\"])\n",
        "\n",
        "  train_dataset = DataLoader(voc,\n",
        "                              batch_size=train_config[\"batch_size\"],\n",
        "                              shuffle=True,\n",
        "                              collate_fn=collate_function)\n",
        "\n",
        "  # Instantiate model and load checkpoint if present\n",
        "  model = SSD(config=model_params, num_classes=dataset_config[\"num_classes\"])\n",
        "  model.to(device)\n",
        "  model.train()\n",
        "\n",
        "  if not os.path.exists(train_config[\"task_name\"]):\n",
        "    os.mkdir(train_config[\"task_name\"])\n",
        "\n",
        "  optimizer = torch.optim.SGD(lr=train_config[\"lr\"],\n",
        "                              params=model.parameters(),\n",
        "                              weight_decay=5E-4, momentum=0.9)\n",
        "  lr_scheduler = MultiStepLR(optimizer, milestones=train_config[\"lr_steps\"], gamma=0.5)\n",
        "\n",
        "  acc_steps = train_config[\"acc_steps\"]\n",
        "  num_epochs = train_config[\"num_epochs\"]\n",
        "  steps = 0\n",
        "\n",
        "  # Resume training from a saved checkpoint if it exists\n",
        "  checkpoint_path = os.path.join(train_config[\"task_name\"], train_config[\"ckpt_name\"])\n",
        "  start_epoch = 0\n",
        "\n",
        "  if os.path.exists(checkpoint_path):\n",
        "    print(\"Resuming training from checkpoint...\")\n",
        "    checkpoint = torch.load(checkpoint_path, map_location=device)\n",
        "\n",
        "    model.load_state_dict(checkpoint[\"model_state_dict\"])\n",
        "    optimizer.load_state_dict(checkpoint[\"optimizer_state_dict\"])\n",
        "    lr_scheduler.load_state_dict(checkpoint[\"scheduler_state_dict\"])\n",
        "    start_epoch = checkpoint[\"epoch\"]\n",
        "    steps = checkpoint[\"steps\"]\n",
        "\n",
        "  optimizer.zero_grad()\n",
        "\n",
        "  for i in range(start_epoch, num_epochs):\n",
        "    ssd_classification_losses = []\n",
        "    ssd_localization_losses = []\n",
        "    for idx, (ims, targets, _) in enumerate(tqdm(train_dataset)):\n",
        "      for target in targets:\n",
        "        target[\"boxes\"] = target[\"bboxes\"].float().to(device)\n",
        "        del target[\"bboxes\"]\n",
        "        target[\"labels\"] = target[\"labels\"].long().to(device)\n",
        "\n",
        "      images = torch.stack([im.float().to(device) for im in ims], dim=0)\n",
        "      batch_losses, _ = model(images, targets)\n",
        "      loss = batch_losses[\"classification\"]\n",
        "      loss += batch_losses[\"bbox_regression\"]\n",
        "\n",
        "      ssd_classification_losses.append(batch_losses[\"classification\"].item())\n",
        "      ssd_localization_losses.append(batch_losses[\"bbox_regression\"].item())\n",
        "      loss = loss / acc_steps\n",
        "      loss.backward()\n",
        "\n",
        "      if (idx + 1) % acc_steps == 0:\n",
        "        optimizer.step()\n",
        "        optimizer.zero_grad()\n",
        "      if steps % train_config[\"log_steps\"] == 0:\n",
        "        loss_output = \"\"\n",
        "        loss_output += f\"SSD Classification Loss: {np.mean(ssd_classification_losses):.4f}\"\n",
        "        loss_output += f\" | SSD Localization Loss: {np.mean(ssd_localization_losses):.4f}\"\n",
        "        print(loss_output)\n",
        "      if torch.isnan(loss):\n",
        "        print(\"Loss is becoming nan. Exiting\")\n",
        "        exit(0)\n",
        "\n",
        "      steps += 1\n",
        "\n",
        "    optimizer.step()\n",
        "    optimizer.zero_grad()\n",
        "    lr_scheduler.step()\n",
        "    print(\"Finished epoch {}\".format(i+1))\n",
        "    loss_output = \"\"\n",
        "    loss_output += f\"SSD Classification Loss: {np.mean(ssd_classification_losses):.4f}\"\n",
        "    loss_output += f\" | SSD Localization Loss: {np.mean(ssd_localization_losses):.4f}\"\n",
        "    print(loss_output)\n",
        "\n",
        "    checkpoint = {\n",
        "        \"epoch\": i,\n",
        "        \"steps\": steps,\n",
        "        \"model_state_dict\": model.state_dict(),\n",
        "        \"optimizer_state_dict\": optimizer.state_dict(),\n",
        "        \"scheduler_state_dict\": lr_scheduler.state_dict(),\n",
        "    }\n",
        "    torch.save(checkpoint, os.path.join(train_config[\"task_name\"], train_config[\"ckpt_name\"]))\n",
        "\n",
        "  print(\"Done Training...\")\n",
        "\n",
        "train()"
      ],
      "metadata": {
        "id": "yK3S2exAR0Mw",
        "colab": {
          "base_uri": "https://localhost:8080/"
        },
        "outputId": "f34b4147-f382-4651-c853-b2d258981a69"
      },
      "execution_count": 21,
      "outputs": [
        {
          "output_type": "stream",
          "name": "stdout",
          "text": [
            "{0: 'background', 1: 'aeroplane', 2: 'bicycle', 3: 'bird', 4: 'boat', 5: 'bottle', 6: 'bus', 7: 'car', 8: 'cat', 9: 'chair', 10: 'cow', 11: 'diningtable', 12: 'dog', 13: 'horse', 14: 'motorbike', 15: 'person', 16: 'pottedplant', 17: 'sheep', 18: 'sofa', 19: 'train', 20: 'tvmonitor'}\n",
            "Total 5011 images found\n"
          ]
        },
        {
          "output_type": "stream",
          "name": "stderr",
          "text": [
            "  0%|          | 1/627 [00:00<01:33,  6.73it/s]"
          ]
        },
        {
          "output_type": "stream",
          "name": "stdout",
          "text": [
            "SSD Classification Loss: 26.4580 | SSD Localization Loss: 3.1259\n"
          ]
        },
        {
          "output_type": "stream",
          "name": "stderr",
          "text": [
            " 16%|█▋        | 102/627 [00:22<02:10,  4.01it/s]"
          ]
        },
        {
          "output_type": "stream",
          "name": "stdout",
          "text": [
            "SSD Classification Loss: 14.9343 | SSD Localization Loss: 2.9918\n"
          ]
        },
        {
          "output_type": "stream",
          "name": "stderr",
          "text": [
            " 32%|███▏      | 201/627 [00:44<01:24,  5.01it/s]"
          ]
        },
        {
          "output_type": "stream",
          "name": "stdout",
          "text": [
            "SSD Classification Loss: 12.2403 | SSD Localization Loss: 2.9477\n"
          ]
        },
        {
          "output_type": "stream",
          "name": "stderr",
          "text": [
            " 48%|████▊     | 301/627 [01:07<01:08,  4.76it/s]"
          ]
        },
        {
          "output_type": "stream",
          "name": "stdout",
          "text": [
            "SSD Classification Loss: 10.9446 | SSD Localization Loss: 2.8565\n"
          ]
        },
        {
          "output_type": "stream",
          "name": "stderr",
          "text": [
            " 64%|██████▍   | 402/627 [01:30<00:59,  3.77it/s]"
          ]
        },
        {
          "output_type": "stream",
          "name": "stdout",
          "text": [
            "SSD Classification Loss: 10.1683 | SSD Localization Loss: 2.7633\n"
          ]
        },
        {
          "output_type": "stream",
          "name": "stderr",
          "text": [
            " 80%|████████  | 502/627 [01:53<00:23,  5.30it/s]"
          ]
        },
        {
          "output_type": "stream",
          "name": "stdout",
          "text": [
            "SSD Classification Loss: 9.6646 | SSD Localization Loss: 2.6946\n"
          ]
        },
        {
          "output_type": "stream",
          "name": "stderr",
          "text": [
            " 96%|█████████▌| 601/627 [02:16<00:06,  4.15it/s]"
          ]
        },
        {
          "output_type": "stream",
          "name": "stdout",
          "text": [
            "SSD Classification Loss: 9.3276 | SSD Localization Loss: 2.6390\n"
          ]
        },
        {
          "output_type": "stream",
          "name": "stderr",
          "text": [
            "100%|██████████| 627/627 [02:22<00:00,  4.40it/s]\n"
          ]
        },
        {
          "output_type": "stream",
          "name": "stdout",
          "text": [
            "Finished epoch 1\n",
            "SSD Classification Loss: 9.2440 | SSD Localization Loss: 2.6217\n"
          ]
        },
        {
          "output_type": "stream",
          "name": "stderr",
          "text": [
            " 12%|█▏        | 74/627 [00:16<02:19,  3.95it/s]"
          ]
        },
        {
          "output_type": "stream",
          "name": "stdout",
          "text": [
            "SSD Classification Loss: 7.3165 | SSD Localization Loss: 2.2675\n"
          ]
        },
        {
          "output_type": "stream",
          "name": "stderr",
          "text": [
            " 28%|██▊       | 174/627 [00:38<01:48,  4.18it/s]"
          ]
        },
        {
          "output_type": "stream",
          "name": "stdout",
          "text": [
            "SSD Classification Loss: 7.2971 | SSD Localization Loss: 2.2748\n"
          ]
        },
        {
          "output_type": "stream",
          "name": "stderr",
          "text": [
            " 44%|████▎     | 274/627 [01:00<01:18,  4.51it/s]"
          ]
        },
        {
          "output_type": "stream",
          "name": "stdout",
          "text": [
            "SSD Classification Loss: 7.2010 | SSD Localization Loss: 2.2218\n"
          ]
        },
        {
          "output_type": "stream",
          "name": "stderr",
          "text": [
            " 60%|█████▉    | 374/627 [01:23<00:58,  4.35it/s]"
          ]
        },
        {
          "output_type": "stream",
          "name": "stdout",
          "text": [
            "SSD Classification Loss: 7.1787 | SSD Localization Loss: 2.1925\n"
          ]
        },
        {
          "output_type": "stream",
          "name": "stderr",
          "text": [
            " 76%|███████▌  | 474/627 [01:46<00:34,  4.43it/s]"
          ]
        },
        {
          "output_type": "stream",
          "name": "stdout",
          "text": [
            "SSD Classification Loss: 7.1692 | SSD Localization Loss: 2.1904\n"
          ]
        },
        {
          "output_type": "stream",
          "name": "stderr",
          "text": [
            " 92%|█████████▏| 574/627 [02:09<00:11,  4.53it/s]"
          ]
        },
        {
          "output_type": "stream",
          "name": "stdout",
          "text": [
            "SSD Classification Loss: 7.0950 | SSD Localization Loss: 2.1649\n"
          ]
        },
        {
          "output_type": "stream",
          "name": "stderr",
          "text": [
            "100%|██████████| 627/627 [02:21<00:00,  4.42it/s]\n"
          ]
        },
        {
          "output_type": "stream",
          "name": "stdout",
          "text": [
            "Finished epoch 2\n",
            "SSD Classification Loss: 7.0658 | SSD Localization Loss: 2.1496\n"
          ]
        },
        {
          "output_type": "stream",
          "name": "stderr",
          "text": [
            "  7%|▋         | 47/627 [00:11<02:40,  3.62it/s]"
          ]
        },
        {
          "output_type": "stream",
          "name": "stdout",
          "text": [
            "SSD Classification Loss: 6.9637 | SSD Localization Loss: 2.0536\n"
          ]
        },
        {
          "output_type": "stream",
          "name": "stderr",
          "text": [
            " 24%|██▎       | 148/627 [00:34<01:33,  5.15it/s]"
          ]
        },
        {
          "output_type": "stream",
          "name": "stdout",
          "text": [
            "SSD Classification Loss: 6.7834 | SSD Localization Loss: 1.9800\n"
          ]
        },
        {
          "output_type": "stream",
          "name": "stderr",
          "text": [
            " 39%|███▉      | 247/627 [00:58<01:27,  4.35it/s]"
          ]
        },
        {
          "output_type": "stream",
          "name": "stdout",
          "text": [
            "SSD Classification Loss: 6.7321 | SSD Localization Loss: 1.9788\n"
          ]
        },
        {
          "output_type": "stream",
          "name": "stderr",
          "text": [
            " 55%|█████▌    | 347/627 [01:21<01:10,  3.97it/s]"
          ]
        },
        {
          "output_type": "stream",
          "name": "stdout",
          "text": [
            "SSD Classification Loss: 6.6928 | SSD Localization Loss: 1.9662\n"
          ]
        },
        {
          "output_type": "stream",
          "name": "stderr",
          "text": [
            " 71%|███████▏  | 448/627 [01:45<00:40,  4.42it/s]"
          ]
        },
        {
          "output_type": "stream",
          "name": "stdout",
          "text": [
            "SSD Classification Loss: 6.6725 | SSD Localization Loss: 1.9548\n"
          ]
        },
        {
          "output_type": "stream",
          "name": "stderr",
          "text": [
            " 87%|████████▋ | 548/627 [02:09<00:16,  4.76it/s]"
          ]
        },
        {
          "output_type": "stream",
          "name": "stdout",
          "text": [
            "SSD Classification Loss: 6.6163 | SSD Localization Loss: 1.9414\n"
          ]
        },
        {
          "output_type": "stream",
          "name": "stderr",
          "text": [
            "100%|██████████| 627/627 [02:27<00:00,  4.26it/s]\n"
          ]
        },
        {
          "output_type": "stream",
          "name": "stdout",
          "text": [
            "Finished epoch 3\n",
            "SSD Classification Loss: 6.5874 | SSD Localization Loss: 1.9316\n"
          ]
        },
        {
          "output_type": "stream",
          "name": "stderr",
          "text": [
            "  3%|▎         | 20/627 [00:04<02:21,  4.29it/s]"
          ]
        },
        {
          "output_type": "stream",
          "name": "stdout",
          "text": [
            "SSD Classification Loss: 6.3541 | SSD Localization Loss: 1.8934\n"
          ]
        },
        {
          "output_type": "stream",
          "name": "stderr",
          "text": [
            " 19%|█▉        | 120/627 [00:27<02:28,  3.41it/s]"
          ]
        },
        {
          "output_type": "stream",
          "name": "stdout",
          "text": [
            "SSD Classification Loss: 6.3692 | SSD Localization Loss: 1.8867\n"
          ]
        },
        {
          "output_type": "stream",
          "name": "stderr",
          "text": [
            " 35%|███▌      | 220/627 [00:51<01:25,  4.74it/s]"
          ]
        },
        {
          "output_type": "stream",
          "name": "stdout",
          "text": [
            "SSD Classification Loss: 6.3615 | SSD Localization Loss: 1.8766\n"
          ]
        },
        {
          "output_type": "stream",
          "name": "stderr",
          "text": [
            " 51%|█████     | 320/627 [01:13<01:09,  4.45it/s]"
          ]
        },
        {
          "output_type": "stream",
          "name": "stdout",
          "text": [
            "SSD Classification Loss: 6.2854 | SSD Localization Loss: 1.8435\n"
          ]
        },
        {
          "output_type": "stream",
          "name": "stderr",
          "text": [
            " 67%|██████▋   | 420/627 [01:35<00:50,  4.12it/s]"
          ]
        },
        {
          "output_type": "stream",
          "name": "stdout",
          "text": [
            "SSD Classification Loss: 6.2444 | SSD Localization Loss: 1.8358\n"
          ]
        },
        {
          "output_type": "stream",
          "name": "stderr",
          "text": [
            " 83%|████████▎ | 520/627 [01:58<00:24,  4.31it/s]"
          ]
        },
        {
          "output_type": "stream",
          "name": "stdout",
          "text": [
            "SSD Classification Loss: 6.2067 | SSD Localization Loss: 1.8215\n"
          ]
        },
        {
          "output_type": "stream",
          "name": "stderr",
          "text": [
            " 99%|█████████▉| 620/627 [02:21<00:01,  5.15it/s]"
          ]
        },
        {
          "output_type": "stream",
          "name": "stdout",
          "text": [
            "SSD Classification Loss: 6.1932 | SSD Localization Loss: 1.8129\n"
          ]
        },
        {
          "output_type": "stream",
          "name": "stderr",
          "text": [
            "100%|██████████| 627/627 [02:23<00:00,  4.37it/s]\n"
          ]
        },
        {
          "output_type": "stream",
          "name": "stdout",
          "text": [
            "Finished epoch 4\n",
            "SSD Classification Loss: 6.1895 | SSD Localization Loss: 1.8131\n"
          ]
        },
        {
          "output_type": "stream",
          "name": "stderr",
          "text": [
            " 15%|█▍        | 94/627 [00:20<01:41,  5.28it/s]"
          ]
        },
        {
          "output_type": "stream",
          "name": "stdout",
          "text": [
            "SSD Classification Loss: 6.0000 | SSD Localization Loss: 1.7491\n"
          ]
        },
        {
          "output_type": "stream",
          "name": "stderr",
          "text": [
            " 31%|███       | 193/627 [00:44<01:22,  5.27it/s]"
          ]
        },
        {
          "output_type": "stream",
          "name": "stdout",
          "text": [
            "SSD Classification Loss: 5.9654 | SSD Localization Loss: 1.7288\n"
          ]
        },
        {
          "output_type": "stream",
          "name": "stderr",
          "text": [
            " 47%|████▋     | 293/627 [01:06<01:18,  4.27it/s]"
          ]
        },
        {
          "output_type": "stream",
          "name": "stdout",
          "text": [
            "SSD Classification Loss: 5.9427 | SSD Localization Loss: 1.7136\n"
          ]
        },
        {
          "output_type": "stream",
          "name": "stderr",
          "text": [
            " 63%|██████▎   | 394/627 [01:29<00:51,  4.56it/s]"
          ]
        },
        {
          "output_type": "stream",
          "name": "stdout",
          "text": [
            "SSD Classification Loss: 5.9426 | SSD Localization Loss: 1.7171\n"
          ]
        },
        {
          "output_type": "stream",
          "name": "stderr",
          "text": [
            " 79%|███████▊  | 493/627 [01:51<00:29,  4.52it/s]"
          ]
        },
        {
          "output_type": "stream",
          "name": "stdout",
          "text": [
            "SSD Classification Loss: 5.9380 | SSD Localization Loss: 1.7310\n"
          ]
        },
        {
          "output_type": "stream",
          "name": "stderr",
          "text": [
            " 95%|█████████▍| 593/627 [02:14<00:08,  4.06it/s]"
          ]
        },
        {
          "output_type": "stream",
          "name": "stdout",
          "text": [
            "SSD Classification Loss: 5.9116 | SSD Localization Loss: 1.7259\n"
          ]
        },
        {
          "output_type": "stream",
          "name": "stderr",
          "text": [
            "100%|██████████| 627/627 [02:21<00:00,  4.43it/s]\n"
          ]
        },
        {
          "output_type": "stream",
          "name": "stdout",
          "text": [
            "Finished epoch 5\n",
            "SSD Classification Loss: 5.9099 | SSD Localization Loss: 1.7273\n"
          ]
        },
        {
          "output_type": "stream",
          "name": "stderr",
          "text": [
            " 11%|█         | 66/627 [00:15<02:31,  3.70it/s]"
          ]
        },
        {
          "output_type": "stream",
          "name": "stdout",
          "text": [
            "SSD Classification Loss: 5.8424 | SSD Localization Loss: 1.7452\n"
          ]
        },
        {
          "output_type": "stream",
          "name": "stderr",
          "text": [
            " 26%|██▋       | 166/627 [00:38<01:46,  4.34it/s]"
          ]
        },
        {
          "output_type": "stream",
          "name": "stdout",
          "text": [
            "SSD Classification Loss: 5.8462 | SSD Localization Loss: 1.7638\n"
          ]
        },
        {
          "output_type": "stream",
          "name": "stderr",
          "text": [
            " 43%|████▎     | 267/627 [01:00<01:17,  4.66it/s]"
          ]
        },
        {
          "output_type": "stream",
          "name": "stdout",
          "text": [
            "SSD Classification Loss: 5.7988 | SSD Localization Loss: 1.7392\n"
          ]
        },
        {
          "output_type": "stream",
          "name": "stderr",
          "text": [
            " 59%|█████▊    | 367/627 [01:23<00:56,  4.60it/s]"
          ]
        },
        {
          "output_type": "stream",
          "name": "stdout",
          "text": [
            "SSD Classification Loss: 5.7711 | SSD Localization Loss: 1.7399\n"
          ]
        },
        {
          "output_type": "stream",
          "name": "stderr",
          "text": [
            " 74%|███████▍  | 466/627 [01:45<00:38,  4.20it/s]"
          ]
        },
        {
          "output_type": "stream",
          "name": "stdout",
          "text": [
            "SSD Classification Loss: 5.7463 | SSD Localization Loss: 1.7277\n"
          ]
        },
        {
          "output_type": "stream",
          "name": "stderr",
          "text": [
            " 90%|█████████ | 566/627 [02:07<00:15,  4.00it/s]"
          ]
        },
        {
          "output_type": "stream",
          "name": "stdout",
          "text": [
            "SSD Classification Loss: 5.7284 | SSD Localization Loss: 1.7140\n"
          ]
        },
        {
          "output_type": "stream",
          "name": "stderr",
          "text": [
            "100%|██████████| 627/627 [02:22<00:00,  4.41it/s]\n"
          ]
        },
        {
          "output_type": "stream",
          "name": "stdout",
          "text": [
            "Finished epoch 6\n",
            "SSD Classification Loss: 5.7343 | SSD Localization Loss: 1.7125\n"
          ]
        },
        {
          "output_type": "stream",
          "name": "stderr",
          "text": [
            "  6%|▌         | 39/627 [00:08<02:14,  4.39it/s]"
          ]
        },
        {
          "output_type": "stream",
          "name": "stdout",
          "text": [
            "SSD Classification Loss: 5.6775 | SSD Localization Loss: 1.7376\n"
          ]
        },
        {
          "output_type": "stream",
          "name": "stderr",
          "text": [
            " 22%|██▏       | 139/627 [00:31<01:59,  4.09it/s]"
          ]
        },
        {
          "output_type": "stream",
          "name": "stdout",
          "text": [
            "SSD Classification Loss: 5.5524 | SSD Localization Loss: 1.6745\n"
          ]
        },
        {
          "output_type": "stream",
          "name": "stderr",
          "text": [
            " 38%|███▊      | 239/627 [00:54<01:19,  4.89it/s]"
          ]
        },
        {
          "output_type": "stream",
          "name": "stdout",
          "text": [
            "SSD Classification Loss: 5.5054 | SSD Localization Loss: 1.6576\n"
          ]
        },
        {
          "output_type": "stream",
          "name": "stderr",
          "text": [
            " 54%|█████▍    | 339/627 [01:16<01:04,  4.44it/s]"
          ]
        },
        {
          "output_type": "stream",
          "name": "stdout",
          "text": [
            "SSD Classification Loss: 5.4872 | SSD Localization Loss: 1.6523\n"
          ]
        },
        {
          "output_type": "stream",
          "name": "stderr",
          "text": [
            " 70%|███████   | 440/627 [01:40<00:39,  4.71it/s]"
          ]
        },
        {
          "output_type": "stream",
          "name": "stdout",
          "text": [
            "SSD Classification Loss: 5.4977 | SSD Localization Loss: 1.6524\n"
          ]
        },
        {
          "output_type": "stream",
          "name": "stderr",
          "text": [
            " 86%|████████▌ | 540/627 [02:02<00:18,  4.83it/s]"
          ]
        },
        {
          "output_type": "stream",
          "name": "stdout",
          "text": [
            "SSD Classification Loss: 5.5107 | SSD Localization Loss: 1.6524\n"
          ]
        },
        {
          "output_type": "stream",
          "name": "stderr",
          "text": [
            "100%|██████████| 627/627 [02:23<00:00,  4.38it/s]\n"
          ]
        },
        {
          "output_type": "stream",
          "name": "stdout",
          "text": [
            "Finished epoch 7\n",
            "SSD Classification Loss: 5.4927 | SSD Localization Loss: 1.6447\n"
          ]
        },
        {
          "output_type": "stream",
          "name": "stderr",
          "text": [
            "  2%|▏         | 12/627 [00:02<02:09,  4.73it/s]"
          ]
        },
        {
          "output_type": "stream",
          "name": "stdout",
          "text": [
            "SSD Classification Loss: 5.7201 | SSD Localization Loss: 1.6417\n"
          ]
        },
        {
          "output_type": "stream",
          "name": "stderr",
          "text": [
            " 18%|█▊        | 112/627 [00:25<02:34,  3.34it/s]"
          ]
        },
        {
          "output_type": "stream",
          "name": "stdout",
          "text": [
            "SSD Classification Loss: 5.3858 | SSD Localization Loss: 1.5727\n"
          ]
        },
        {
          "output_type": "stream",
          "name": "stderr",
          "text": [
            " 34%|███▍      | 213/627 [00:48<01:21,  5.11it/s]"
          ]
        },
        {
          "output_type": "stream",
          "name": "stdout",
          "text": [
            "SSD Classification Loss: 5.3774 | SSD Localization Loss: 1.5921\n"
          ]
        },
        {
          "output_type": "stream",
          "name": "stderr",
          "text": [
            " 50%|████▉     | 312/627 [01:11<01:12,  4.37it/s]"
          ]
        },
        {
          "output_type": "stream",
          "name": "stdout",
          "text": [
            "SSD Classification Loss: 5.3511 | SSD Localization Loss: 1.6042\n"
          ]
        },
        {
          "output_type": "stream",
          "name": "stderr",
          "text": [
            " 66%|██████▌   | 412/627 [01:33<00:53,  4.00it/s]"
          ]
        },
        {
          "output_type": "stream",
          "name": "stdout",
          "text": [
            "SSD Classification Loss: 5.3419 | SSD Localization Loss: 1.6053\n"
          ]
        },
        {
          "output_type": "stream",
          "name": "stderr",
          "text": [
            " 82%|████████▏ | 513/627 [01:57<00:23,  4.85it/s]"
          ]
        },
        {
          "output_type": "stream",
          "name": "stdout",
          "text": [
            "SSD Classification Loss: 5.3235 | SSD Localization Loss: 1.6057\n"
          ]
        },
        {
          "output_type": "stream",
          "name": "stderr",
          "text": [
            " 98%|█████████▊| 612/627 [02:19<00:03,  4.00it/s]"
          ]
        },
        {
          "output_type": "stream",
          "name": "stdout",
          "text": [
            "SSD Classification Loss: 5.3408 | SSD Localization Loss: 1.6103\n"
          ]
        },
        {
          "output_type": "stream",
          "name": "stderr",
          "text": [
            "100%|██████████| 627/627 [02:22<00:00,  4.40it/s]\n"
          ]
        },
        {
          "output_type": "stream",
          "name": "stdout",
          "text": [
            "Finished epoch 8\n",
            "SSD Classification Loss: 5.3396 | SSD Localization Loss: 1.6108\n"
          ]
        },
        {
          "output_type": "stream",
          "name": "stderr",
          "text": [
            " 14%|█▎        | 85/627 [00:19<02:10,  4.15it/s]"
          ]
        },
        {
          "output_type": "stream",
          "name": "stdout",
          "text": [
            "SSD Classification Loss: 5.2810 | SSD Localization Loss: 1.6248\n"
          ]
        },
        {
          "output_type": "stream",
          "name": "stderr",
          "text": [
            " 30%|██▉       | 185/627 [00:42<01:46,  4.16it/s]"
          ]
        },
        {
          "output_type": "stream",
          "name": "stdout",
          "text": [
            "SSD Classification Loss: 5.2511 | SSD Localization Loss: 1.5942\n"
          ]
        },
        {
          "output_type": "stream",
          "name": "stderr",
          "text": [
            " 45%|████▌     | 285/627 [01:04<01:12,  4.71it/s]"
          ]
        },
        {
          "output_type": "stream",
          "name": "stdout",
          "text": [
            "SSD Classification Loss: 5.2409 | SSD Localization Loss: 1.5970\n"
          ]
        },
        {
          "output_type": "stream",
          "name": "stderr",
          "text": [
            " 62%|██████▏   | 386/627 [01:26<00:46,  5.18it/s]"
          ]
        },
        {
          "output_type": "stream",
          "name": "stdout",
          "text": [
            "SSD Classification Loss: 5.2555 | SSD Localization Loss: 1.5979\n"
          ]
        },
        {
          "output_type": "stream",
          "name": "stderr",
          "text": [
            " 77%|███████▋  | 485/627 [01:49<00:39,  3.56it/s]"
          ]
        },
        {
          "output_type": "stream",
          "name": "stdout",
          "text": [
            "SSD Classification Loss: 5.2142 | SSD Localization Loss: 1.5855\n"
          ]
        },
        {
          "output_type": "stream",
          "name": "stderr",
          "text": [
            " 93%|█████████▎| 586/627 [02:12<00:07,  5.21it/s]"
          ]
        },
        {
          "output_type": "stream",
          "name": "stdout",
          "text": [
            "SSD Classification Loss: 5.2098 | SSD Localization Loss: 1.5795\n"
          ]
        },
        {
          "output_type": "stream",
          "name": "stderr",
          "text": [
            "100%|██████████| 627/627 [02:21<00:00,  4.44it/s]\n"
          ]
        },
        {
          "output_type": "stream",
          "name": "stdout",
          "text": [
            "Finished epoch 9\n",
            "SSD Classification Loss: 5.2028 | SSD Localization Loss: 1.5748\n"
          ]
        },
        {
          "output_type": "stream",
          "name": "stderr",
          "text": [
            "  9%|▉         | 58/627 [00:12<02:21,  4.02it/s]"
          ]
        },
        {
          "output_type": "stream",
          "name": "stdout",
          "text": [
            "SSD Classification Loss: 5.0139 | SSD Localization Loss: 1.5634\n"
          ]
        },
        {
          "output_type": "stream",
          "name": "stderr",
          "text": [
            " 25%|██▌       | 158/627 [00:35<01:48,  4.31it/s]"
          ]
        },
        {
          "output_type": "stream",
          "name": "stdout",
          "text": [
            "SSD Classification Loss: 5.0818 | SSD Localization Loss: 1.5452\n"
          ]
        },
        {
          "output_type": "stream",
          "name": "stderr",
          "text": [
            " 41%|████▏     | 259/627 [00:58<01:15,  4.87it/s]"
          ]
        },
        {
          "output_type": "stream",
          "name": "stdout",
          "text": [
            "SSD Classification Loss: 5.0795 | SSD Localization Loss: 1.5566\n"
          ]
        },
        {
          "output_type": "stream",
          "name": "stderr",
          "text": [
            " 57%|█████▋    | 358/627 [01:20<00:55,  4.88it/s]"
          ]
        },
        {
          "output_type": "stream",
          "name": "stdout",
          "text": [
            "SSD Classification Loss: 5.0647 | SSD Localization Loss: 1.5506\n"
          ]
        },
        {
          "output_type": "stream",
          "name": "stderr",
          "text": [
            " 73%|███████▎  | 458/627 [01:43<00:39,  4.29it/s]"
          ]
        },
        {
          "output_type": "stream",
          "name": "stdout",
          "text": [
            "SSD Classification Loss: 5.0619 | SSD Localization Loss: 1.5407\n"
          ]
        },
        {
          "output_type": "stream",
          "name": "stderr",
          "text": [
            " 89%|████████▉ | 559/627 [02:05<00:12,  5.42it/s]"
          ]
        },
        {
          "output_type": "stream",
          "name": "stdout",
          "text": [
            "SSD Classification Loss: 5.0536 | SSD Localization Loss: 1.5393\n"
          ]
        },
        {
          "output_type": "stream",
          "name": "stderr",
          "text": [
            "100%|██████████| 627/627 [02:20<00:00,  4.46it/s]\n"
          ]
        },
        {
          "output_type": "stream",
          "name": "stdout",
          "text": [
            "Finished epoch 10\n",
            "SSD Classification Loss: 5.0534 | SSD Localization Loss: 1.5387\n"
          ]
        },
        {
          "output_type": "stream",
          "name": "stderr",
          "text": [
            "  5%|▍         | 31/627 [00:07<02:10,  4.58it/s]"
          ]
        },
        {
          "output_type": "stream",
          "name": "stdout",
          "text": [
            "SSD Classification Loss: 5.1392 | SSD Localization Loss: 1.5753\n"
          ]
        },
        {
          "output_type": "stream",
          "name": "stderr",
          "text": [
            " 21%|██        | 131/627 [00:29<01:38,  5.03it/s]"
          ]
        },
        {
          "output_type": "stream",
          "name": "stdout",
          "text": [
            "SSD Classification Loss: 4.9994 | SSD Localization Loss: 1.5248\n"
          ]
        },
        {
          "output_type": "stream",
          "name": "stderr",
          "text": [
            " 37%|███▋      | 231/627 [00:51<01:48,  3.65it/s]"
          ]
        },
        {
          "output_type": "stream",
          "name": "stdout",
          "text": [
            "SSD Classification Loss: 4.9784 | SSD Localization Loss: 1.5227\n"
          ]
        },
        {
          "output_type": "stream",
          "name": "stderr",
          "text": [
            " 53%|█████▎    | 331/627 [01:13<01:01,  4.81it/s]"
          ]
        },
        {
          "output_type": "stream",
          "name": "stdout",
          "text": [
            "SSD Classification Loss: 4.9953 | SSD Localization Loss: 1.5257\n"
          ]
        },
        {
          "output_type": "stream",
          "name": "stderr",
          "text": [
            " 69%|██████▉   | 432/627 [01:36<00:38,  5.08it/s]"
          ]
        },
        {
          "output_type": "stream",
          "name": "stdout",
          "text": [
            "SSD Classification Loss: 5.0007 | SSD Localization Loss: 1.5315\n"
          ]
        },
        {
          "output_type": "stream",
          "name": "stderr",
          "text": [
            " 85%|████████▍ | 531/627 [01:59<00:23,  4.04it/s]"
          ]
        },
        {
          "output_type": "stream",
          "name": "stdout",
          "text": [
            "SSD Classification Loss: 4.9761 | SSD Localization Loss: 1.5224\n"
          ]
        },
        {
          "output_type": "stream",
          "name": "stderr",
          "text": [
            "100%|██████████| 627/627 [02:21<00:00,  4.42it/s]\n"
          ]
        },
        {
          "output_type": "stream",
          "name": "stdout",
          "text": [
            "Finished epoch 11\n",
            "SSD Classification Loss: 4.9893 | SSD Localization Loss: 1.5315\n"
          ]
        },
        {
          "output_type": "stream",
          "name": "stderr",
          "text": [
            "  1%|          | 4/627 [00:00<02:15,  4.60it/s]"
          ]
        },
        {
          "output_type": "stream",
          "name": "stdout",
          "text": [
            "SSD Classification Loss: 5.4070 | SSD Localization Loss: 1.5940\n"
          ]
        },
        {
          "output_type": "stream",
          "name": "stderr",
          "text": [
            " 17%|█▋        | 104/627 [00:23<01:55,  4.54it/s]"
          ]
        },
        {
          "output_type": "stream",
          "name": "stdout",
          "text": [
            "SSD Classification Loss: 4.9605 | SSD Localization Loss: 1.5432\n"
          ]
        },
        {
          "output_type": "stream",
          "name": "stderr",
          "text": [
            " 33%|███▎      | 204/627 [00:45<01:43,  4.08it/s]"
          ]
        },
        {
          "output_type": "stream",
          "name": "stdout",
          "text": [
            "SSD Classification Loss: 4.9299 | SSD Localization Loss: 1.5088\n"
          ]
        },
        {
          "output_type": "stream",
          "name": "stderr",
          "text": [
            " 48%|████▊     | 304/627 [01:08<01:15,  4.25it/s]"
          ]
        },
        {
          "output_type": "stream",
          "name": "stdout",
          "text": [
            "SSD Classification Loss: 4.8919 | SSD Localization Loss: 1.5022\n"
          ]
        },
        {
          "output_type": "stream",
          "name": "stderr",
          "text": [
            " 64%|██████▍   | 404/627 [01:31<00:57,  3.88it/s]"
          ]
        },
        {
          "output_type": "stream",
          "name": "stdout",
          "text": [
            "SSD Classification Loss: 4.8696 | SSD Localization Loss: 1.5049\n"
          ]
        },
        {
          "output_type": "stream",
          "name": "stderr",
          "text": [
            " 80%|████████  | 504/627 [01:53<00:28,  4.36it/s]"
          ]
        },
        {
          "output_type": "stream",
          "name": "stdout",
          "text": [
            "SSD Classification Loss: 4.8714 | SSD Localization Loss: 1.5054\n"
          ]
        },
        {
          "output_type": "stream",
          "name": "stderr",
          "text": [
            " 96%|█████████▋| 604/627 [02:16<00:04,  4.89it/s]"
          ]
        },
        {
          "output_type": "stream",
          "name": "stdout",
          "text": [
            "SSD Classification Loss: 4.8739 | SSD Localization Loss: 1.5108\n"
          ]
        },
        {
          "output_type": "stream",
          "name": "stderr",
          "text": [
            "100%|██████████| 627/627 [02:21<00:00,  4.43it/s]\n"
          ]
        },
        {
          "output_type": "stream",
          "name": "stdout",
          "text": [
            "Finished epoch 12\n",
            "SSD Classification Loss: 4.8709 | SSD Localization Loss: 1.5104\n"
          ]
        },
        {
          "output_type": "stream",
          "name": "stderr",
          "text": [
            " 12%|█▏        | 77/627 [00:17<02:05,  4.38it/s]"
          ]
        },
        {
          "output_type": "stream",
          "name": "stdout",
          "text": [
            "SSD Classification Loss: 4.7530 | SSD Localization Loss: 1.4809\n"
          ]
        },
        {
          "output_type": "stream",
          "name": "stderr",
          "text": [
            " 28%|██▊       | 178/627 [00:40<01:35,  4.72it/s]"
          ]
        },
        {
          "output_type": "stream",
          "name": "stdout",
          "text": [
            "SSD Classification Loss: 4.8107 | SSD Localization Loss: 1.5026\n"
          ]
        },
        {
          "output_type": "stream",
          "name": "stderr",
          "text": [
            " 44%|████▍     | 277/627 [01:03<01:11,  4.87it/s]"
          ]
        },
        {
          "output_type": "stream",
          "name": "stdout",
          "text": [
            "SSD Classification Loss: 4.8091 | SSD Localization Loss: 1.5008\n"
          ]
        },
        {
          "output_type": "stream",
          "name": "stderr",
          "text": [
            " 60%|██████    | 377/627 [01:26<01:04,  3.87it/s]"
          ]
        },
        {
          "output_type": "stream",
          "name": "stdout",
          "text": [
            "SSD Classification Loss: 4.7759 | SSD Localization Loss: 1.4911\n"
          ]
        },
        {
          "output_type": "stream",
          "name": "stderr",
          "text": [
            " 76%|███████▌  | 478/627 [01:49<00:30,  4.94it/s]"
          ]
        },
        {
          "output_type": "stream",
          "name": "stdout",
          "text": [
            "SSD Classification Loss: 4.8096 | SSD Localization Loss: 1.5059\n"
          ]
        },
        {
          "output_type": "stream",
          "name": "stderr",
          "text": [
            " 92%|█████████▏| 577/627 [02:11<00:12,  4.13it/s]"
          ]
        },
        {
          "output_type": "stream",
          "name": "stdout",
          "text": [
            "SSD Classification Loss: 4.7948 | SSD Localization Loss: 1.4962\n"
          ]
        },
        {
          "output_type": "stream",
          "name": "stderr",
          "text": [
            "100%|██████████| 627/627 [02:22<00:00,  4.40it/s]\n"
          ]
        },
        {
          "output_type": "stream",
          "name": "stdout",
          "text": [
            "Finished epoch 13\n",
            "SSD Classification Loss: 4.7957 | SSD Localization Loss: 1.5005\n"
          ]
        },
        {
          "output_type": "stream",
          "name": "stderr",
          "text": [
            "  8%|▊         | 50/627 [00:10<02:05,  4.59it/s]"
          ]
        },
        {
          "output_type": "stream",
          "name": "stdout",
          "text": [
            "SSD Classification Loss: 4.7130 | SSD Localization Loss: 1.4223\n"
          ]
        },
        {
          "output_type": "stream",
          "name": "stderr",
          "text": [
            " 24%|██▍       | 150/627 [00:32<01:57,  4.07it/s]"
          ]
        },
        {
          "output_type": "stream",
          "name": "stdout",
          "text": [
            "SSD Classification Loss: 4.6584 | SSD Localization Loss: 1.4256\n"
          ]
        },
        {
          "output_type": "stream",
          "name": "stderr",
          "text": [
            " 40%|███▉      | 250/627 [00:54<01:20,  4.67it/s]"
          ]
        },
        {
          "output_type": "stream",
          "name": "stdout",
          "text": [
            "SSD Classification Loss: 4.6587 | SSD Localization Loss: 1.4343\n"
          ]
        },
        {
          "output_type": "stream",
          "name": "stderr",
          "text": [
            " 56%|█████▌    | 350/627 [01:17<01:05,  4.22it/s]"
          ]
        },
        {
          "output_type": "stream",
          "name": "stdout",
          "text": [
            "SSD Classification Loss: 4.6504 | SSD Localization Loss: 1.4373\n"
          ]
        },
        {
          "output_type": "stream",
          "name": "stderr",
          "text": [
            " 72%|███████▏  | 450/627 [01:39<00:34,  5.11it/s]"
          ]
        },
        {
          "output_type": "stream",
          "name": "stdout",
          "text": [
            "SSD Classification Loss: 4.6669 | SSD Localization Loss: 1.4465\n"
          ]
        },
        {
          "output_type": "stream",
          "name": "stderr",
          "text": [
            " 88%|████████▊ | 550/627 [02:02<00:13,  5.57it/s]"
          ]
        },
        {
          "output_type": "stream",
          "name": "stdout",
          "text": [
            "SSD Classification Loss: 4.6633 | SSD Localization Loss: 1.4449\n"
          ]
        },
        {
          "output_type": "stream",
          "name": "stderr",
          "text": [
            "100%|██████████| 627/627 [02:18<00:00,  4.52it/s]\n"
          ]
        },
        {
          "output_type": "stream",
          "name": "stdout",
          "text": [
            "Finished epoch 14\n",
            "SSD Classification Loss: 4.6757 | SSD Localization Loss: 1.4492\n"
          ]
        },
        {
          "output_type": "stream",
          "name": "stderr",
          "text": [
            "  4%|▎         | 23/627 [00:05<02:01,  4.97it/s]"
          ]
        },
        {
          "output_type": "stream",
          "name": "stdout",
          "text": [
            "SSD Classification Loss: 4.6473 | SSD Localization Loss: 1.4517\n"
          ]
        },
        {
          "output_type": "stream",
          "name": "stderr",
          "text": [
            " 20%|█▉        | 124/627 [00:27<01:58,  4.25it/s]"
          ]
        },
        {
          "output_type": "stream",
          "name": "stdout",
          "text": [
            "SSD Classification Loss: 4.5735 | SSD Localization Loss: 1.4109\n"
          ]
        },
        {
          "output_type": "stream",
          "name": "stderr",
          "text": [
            " 36%|███▌      | 223/627 [00:48<01:26,  4.68it/s]"
          ]
        },
        {
          "output_type": "stream",
          "name": "stdout",
          "text": [
            "SSD Classification Loss: 4.6034 | SSD Localization Loss: 1.4305\n"
          ]
        },
        {
          "output_type": "stream",
          "name": "stderr",
          "text": [
            " 52%|█████▏    | 323/627 [01:12<01:02,  4.83it/s]"
          ]
        },
        {
          "output_type": "stream",
          "name": "stdout",
          "text": [
            "SSD Classification Loss: 4.6120 | SSD Localization Loss: 1.4304\n"
          ]
        },
        {
          "output_type": "stream",
          "name": "stderr",
          "text": [
            " 67%|██████▋   | 423/627 [01:33<00:40,  5.05it/s]"
          ]
        },
        {
          "output_type": "stream",
          "name": "stdout",
          "text": [
            "SSD Classification Loss: 4.5957 | SSD Localization Loss: 1.4243\n"
          ]
        },
        {
          "output_type": "stream",
          "name": "stderr",
          "text": [
            " 83%|████████▎ | 523/627 [01:55<00:24,  4.21it/s]"
          ]
        },
        {
          "output_type": "stream",
          "name": "stdout",
          "text": [
            "SSD Classification Loss: 4.6161 | SSD Localization Loss: 1.4327\n"
          ]
        },
        {
          "output_type": "stream",
          "name": "stderr",
          "text": [
            " 99%|█████████▉| 623/627 [02:18<00:00,  4.13it/s]"
          ]
        },
        {
          "output_type": "stream",
          "name": "stdout",
          "text": [
            "SSD Classification Loss: 4.6102 | SSD Localization Loss: 1.4320\n"
          ]
        },
        {
          "output_type": "stream",
          "name": "stderr",
          "text": [
            "100%|██████████| 627/627 [02:19<00:00,  4.48it/s]\n"
          ]
        },
        {
          "output_type": "stream",
          "name": "stdout",
          "text": [
            "Finished epoch 15\n",
            "SSD Classification Loss: 4.6097 | SSD Localization Loss: 1.4319\n"
          ]
        },
        {
          "output_type": "stream",
          "name": "stderr",
          "text": [
            " 15%|█▌        | 96/627 [00:21<01:44,  5.08it/s]"
          ]
        },
        {
          "output_type": "stream",
          "name": "stdout",
          "text": [
            "SSD Classification Loss: 4.5112 | SSD Localization Loss: 1.4227\n"
          ]
        },
        {
          "output_type": "stream",
          "name": "stderr",
          "text": [
            " 31%|███▏      | 196/627 [00:43<01:46,  4.04it/s]"
          ]
        },
        {
          "output_type": "stream",
          "name": "stdout",
          "text": [
            "SSD Classification Loss: 4.5916 | SSD Localization Loss: 1.4262\n"
          ]
        },
        {
          "output_type": "stream",
          "name": "stderr",
          "text": [
            " 47%|████▋     | 296/627 [01:05<01:02,  5.29it/s]"
          ]
        },
        {
          "output_type": "stream",
          "name": "stdout",
          "text": [
            "SSD Classification Loss: 4.5564 | SSD Localization Loss: 1.4194\n"
          ]
        },
        {
          "output_type": "stream",
          "name": "stderr",
          "text": [
            " 63%|██████▎   | 396/627 [01:28<00:51,  4.47it/s]"
          ]
        },
        {
          "output_type": "stream",
          "name": "stdout",
          "text": [
            "SSD Classification Loss: 4.5544 | SSD Localization Loss: 1.4140\n"
          ]
        },
        {
          "output_type": "stream",
          "name": "stderr",
          "text": [
            " 79%|███████▉  | 496/627 [01:50<00:29,  4.51it/s]"
          ]
        },
        {
          "output_type": "stream",
          "name": "stdout",
          "text": [
            "SSD Classification Loss: 4.5472 | SSD Localization Loss: 1.4175\n"
          ]
        },
        {
          "output_type": "stream",
          "name": "stderr",
          "text": [
            " 95%|█████████▌| 597/627 [02:12<00:05,  5.73it/s]"
          ]
        },
        {
          "output_type": "stream",
          "name": "stdout",
          "text": [
            "SSD Classification Loss: 4.5343 | SSD Localization Loss: 1.4145\n"
          ]
        },
        {
          "output_type": "stream",
          "name": "stderr",
          "text": [
            "100%|██████████| 627/627 [02:19<00:00,  4.50it/s]\n"
          ]
        },
        {
          "output_type": "stream",
          "name": "stdout",
          "text": [
            "Finished epoch 16\n",
            "SSD Classification Loss: 4.5409 | SSD Localization Loss: 1.4184\n"
          ]
        },
        {
          "output_type": "stream",
          "name": "stderr",
          "text": [
            " 11%|█         | 70/627 [00:16<02:10,  4.27it/s]"
          ]
        },
        {
          "output_type": "stream",
          "name": "stdout",
          "text": [
            "SSD Classification Loss: 4.5465 | SSD Localization Loss: 1.4257\n"
          ]
        },
        {
          "output_type": "stream",
          "name": "stderr",
          "text": [
            " 27%|██▋       | 169/627 [00:38<02:02,  3.74it/s]"
          ]
        },
        {
          "output_type": "stream",
          "name": "stdout",
          "text": [
            "SSD Classification Loss: 4.5172 | SSD Localization Loss: 1.3970\n"
          ]
        },
        {
          "output_type": "stream",
          "name": "stderr",
          "text": [
            " 43%|████▎     | 269/627 [01:00<01:17,  4.60it/s]"
          ]
        },
        {
          "output_type": "stream",
          "name": "stdout",
          "text": [
            "SSD Classification Loss: 4.4956 | SSD Localization Loss: 1.3970\n"
          ]
        },
        {
          "output_type": "stream",
          "name": "stderr",
          "text": [
            " 59%|█████▉    | 369/627 [01:23<00:56,  4.56it/s]"
          ]
        },
        {
          "output_type": "stream",
          "name": "stdout",
          "text": [
            "SSD Classification Loss: 4.4655 | SSD Localization Loss: 1.3943\n"
          ]
        },
        {
          "output_type": "stream",
          "name": "stderr",
          "text": [
            " 75%|███████▍  | 469/627 [01:46<00:35,  4.44it/s]"
          ]
        },
        {
          "output_type": "stream",
          "name": "stdout",
          "text": [
            "SSD Classification Loss: 4.4624 | SSD Localization Loss: 1.3942\n"
          ]
        },
        {
          "output_type": "stream",
          "name": "stderr",
          "text": [
            " 91%|█████████ | 569/627 [02:08<00:13,  4.31it/s]"
          ]
        },
        {
          "output_type": "stream",
          "name": "stdout",
          "text": [
            "SSD Classification Loss: 4.4404 | SSD Localization Loss: 1.3842\n"
          ]
        },
        {
          "output_type": "stream",
          "name": "stderr",
          "text": [
            "100%|██████████| 627/627 [02:21<00:00,  4.42it/s]\n"
          ]
        },
        {
          "output_type": "stream",
          "name": "stdout",
          "text": [
            "Finished epoch 17\n",
            "SSD Classification Loss: 4.4479 | SSD Localization Loss: 1.3895\n"
          ]
        },
        {
          "output_type": "stream",
          "name": "stderr",
          "text": [
            "  7%|▋         | 42/627 [00:09<02:14,  4.35it/s]"
          ]
        },
        {
          "output_type": "stream",
          "name": "stdout",
          "text": [
            "SSD Classification Loss: 4.5209 | SSD Localization Loss: 1.4248\n"
          ]
        },
        {
          "output_type": "stream",
          "name": "stderr",
          "text": [
            " 23%|██▎       | 142/627 [00:32<01:57,  4.13it/s]"
          ]
        },
        {
          "output_type": "stream",
          "name": "stdout",
          "text": [
            "SSD Classification Loss: 4.4548 | SSD Localization Loss: 1.4248\n"
          ]
        },
        {
          "output_type": "stream",
          "name": "stderr",
          "text": [
            " 39%|███▉      | 243/627 [00:56<01:07,  5.68it/s]"
          ]
        },
        {
          "output_type": "stream",
          "name": "stdout",
          "text": [
            "SSD Classification Loss: 4.4423 | SSD Localization Loss: 1.4093\n"
          ]
        },
        {
          "output_type": "stream",
          "name": "stderr",
          "text": [
            " 55%|█████▍    | 342/627 [01:19<00:57,  4.95it/s]"
          ]
        },
        {
          "output_type": "stream",
          "name": "stdout",
          "text": [
            "SSD Classification Loss: 4.4307 | SSD Localization Loss: 1.3916\n"
          ]
        },
        {
          "output_type": "stream",
          "name": "stderr",
          "text": [
            " 70%|███████   | 442/627 [01:42<00:45,  4.09it/s]"
          ]
        },
        {
          "output_type": "stream",
          "name": "stdout",
          "text": [
            "SSD Classification Loss: 4.4013 | SSD Localization Loss: 1.3769\n"
          ]
        },
        {
          "output_type": "stream",
          "name": "stderr",
          "text": [
            " 86%|████████▋ | 542/627 [02:06<00:17,  4.94it/s]"
          ]
        },
        {
          "output_type": "stream",
          "name": "stdout",
          "text": [
            "SSD Classification Loss: 4.3979 | SSD Localization Loss: 1.3775\n"
          ]
        },
        {
          "output_type": "stream",
          "name": "stderr",
          "text": [
            "100%|██████████| 627/627 [02:25<00:00,  4.32it/s]\n"
          ]
        },
        {
          "output_type": "stream",
          "name": "stdout",
          "text": [
            "Finished epoch 18\n",
            "SSD Classification Loss: 4.4099 | SSD Localization Loss: 1.3822\n"
          ]
        },
        {
          "output_type": "stream",
          "name": "stderr",
          "text": [
            "  2%|▏         | 15/627 [00:03<02:27,  4.16it/s]"
          ]
        },
        {
          "output_type": "stream",
          "name": "stdout",
          "text": [
            "SSD Classification Loss: 4.4348 | SSD Localization Loss: 1.4178\n"
          ]
        },
        {
          "output_type": "stream",
          "name": "stderr",
          "text": [
            " 18%|█▊        | 115/627 [00:27<01:57,  4.34it/s]"
          ]
        },
        {
          "output_type": "stream",
          "name": "stdout",
          "text": [
            "SSD Classification Loss: 4.4153 | SSD Localization Loss: 1.4037\n"
          ]
        },
        {
          "output_type": "stream",
          "name": "stderr",
          "text": [
            " 34%|███▍      | 216/627 [00:50<01:23,  4.94it/s]"
          ]
        },
        {
          "output_type": "stream",
          "name": "stdout",
          "text": [
            "SSD Classification Loss: 4.3805 | SSD Localization Loss: 1.3996\n"
          ]
        },
        {
          "output_type": "stream",
          "name": "stderr",
          "text": [
            " 50%|█████     | 315/627 [01:12<01:23,  3.74it/s]"
          ]
        },
        {
          "output_type": "stream",
          "name": "stdout",
          "text": [
            "SSD Classification Loss: 4.3870 | SSD Localization Loss: 1.3983\n"
          ]
        },
        {
          "output_type": "stream",
          "name": "stderr",
          "text": [
            " 66%|██████▌   | 415/627 [01:35<00:53,  3.95it/s]"
          ]
        },
        {
          "output_type": "stream",
          "name": "stdout",
          "text": [
            "SSD Classification Loss: 4.3919 | SSD Localization Loss: 1.3849\n"
          ]
        },
        {
          "output_type": "stream",
          "name": "stderr",
          "text": [
            " 82%|████████▏ | 516/627 [01:56<00:20,  5.43it/s]"
          ]
        },
        {
          "output_type": "stream",
          "name": "stdout",
          "text": [
            "SSD Classification Loss: 4.3815 | SSD Localization Loss: 1.3865\n"
          ]
        },
        {
          "output_type": "stream",
          "name": "stderr",
          "text": [
            " 98%|█████████▊| 615/627 [02:19<00:02,  4.99it/s]"
          ]
        },
        {
          "output_type": "stream",
          "name": "stdout",
          "text": [
            "SSD Classification Loss: 4.3675 | SSD Localization Loss: 1.3802\n"
          ]
        },
        {
          "output_type": "stream",
          "name": "stderr",
          "text": [
            "100%|██████████| 627/627 [02:21<00:00,  4.42it/s]\n"
          ]
        },
        {
          "output_type": "stream",
          "name": "stdout",
          "text": [
            "Finished epoch 19\n",
            "SSD Classification Loss: 4.3633 | SSD Localization Loss: 1.3789\n"
          ]
        },
        {
          "output_type": "stream",
          "name": "stderr",
          "text": [
            " 14%|█▍        | 88/627 [00:21<02:18,  3.89it/s]"
          ]
        },
        {
          "output_type": "stream",
          "name": "stdout",
          "text": [
            "SSD Classification Loss: 4.3871 | SSD Localization Loss: 1.4056\n"
          ]
        },
        {
          "output_type": "stream",
          "name": "stderr",
          "text": [
            " 30%|██▉       | 188/627 [00:43<01:33,  4.70it/s]"
          ]
        },
        {
          "output_type": "stream",
          "name": "stdout",
          "text": [
            "SSD Classification Loss: 4.3206 | SSD Localization Loss: 1.3737\n"
          ]
        },
        {
          "output_type": "stream",
          "name": "stderr",
          "text": [
            " 46%|████▌     | 289/627 [01:05<01:09,  4.89it/s]"
          ]
        },
        {
          "output_type": "stream",
          "name": "stdout",
          "text": [
            "SSD Classification Loss: 4.2870 | SSD Localization Loss: 1.3555\n"
          ]
        },
        {
          "output_type": "stream",
          "name": "stderr",
          "text": [
            " 62%|██████▏   | 388/627 [01:27<00:54,  4.35it/s]"
          ]
        },
        {
          "output_type": "stream",
          "name": "stdout",
          "text": [
            "SSD Classification Loss: 4.3051 | SSD Localization Loss: 1.3615\n"
          ]
        },
        {
          "output_type": "stream",
          "name": "stderr",
          "text": [
            " 78%|███████▊  | 488/627 [01:50<00:42,  3.24it/s]"
          ]
        },
        {
          "output_type": "stream",
          "name": "stdout",
          "text": [
            "SSD Classification Loss: 4.3072 | SSD Localization Loss: 1.3677\n"
          ]
        },
        {
          "output_type": "stream",
          "name": "stderr",
          "text": [
            " 94%|█████████▍| 588/627 [02:12<00:07,  4.97it/s]"
          ]
        },
        {
          "output_type": "stream",
          "name": "stdout",
          "text": [
            "SSD Classification Loss: 4.3079 | SSD Localization Loss: 1.3675\n"
          ]
        },
        {
          "output_type": "stream",
          "name": "stderr",
          "text": [
            "100%|██████████| 627/627 [02:21<00:00,  4.44it/s]\n"
          ]
        },
        {
          "output_type": "stream",
          "name": "stdout",
          "text": [
            "Finished epoch 20\n",
            "SSD Classification Loss: 4.3132 | SSD Localization Loss: 1.3666\n"
          ]
        },
        {
          "output_type": "stream",
          "name": "stderr",
          "text": [
            " 10%|▉         | 61/627 [00:13<02:33,  3.68it/s]"
          ]
        },
        {
          "output_type": "stream",
          "name": "stdout",
          "text": [
            "SSD Classification Loss: 4.3472 | SSD Localization Loss: 1.3823\n"
          ]
        },
        {
          "output_type": "stream",
          "name": "stderr",
          "text": [
            " 26%|██▌       | 162/627 [00:36<01:38,  4.70it/s]"
          ]
        },
        {
          "output_type": "stream",
          "name": "stdout",
          "text": [
            "SSD Classification Loss: 4.3525 | SSD Localization Loss: 1.3983\n"
          ]
        },
        {
          "output_type": "stream",
          "name": "stderr",
          "text": [
            " 42%|████▏     | 261/627 [00:57<01:11,  5.12it/s]"
          ]
        },
        {
          "output_type": "stream",
          "name": "stdout",
          "text": [
            "SSD Classification Loss: 4.3067 | SSD Localization Loss: 1.3793\n"
          ]
        },
        {
          "output_type": "stream",
          "name": "stderr",
          "text": [
            " 58%|█████▊    | 361/627 [01:20<01:04,  4.15it/s]"
          ]
        },
        {
          "output_type": "stream",
          "name": "stdout",
          "text": [
            "SSD Classification Loss: 4.2819 | SSD Localization Loss: 1.3696\n"
          ]
        },
        {
          "output_type": "stream",
          "name": "stderr",
          "text": [
            " 74%|███████▎  | 461/627 [01:43<00:35,  4.73it/s]"
          ]
        },
        {
          "output_type": "stream",
          "name": "stdout",
          "text": [
            "SSD Classification Loss: 4.2973 | SSD Localization Loss: 1.3667\n"
          ]
        },
        {
          "output_type": "stream",
          "name": "stderr",
          "text": [
            " 89%|████████▉ | 561/627 [02:04<00:13,  4.89it/s]"
          ]
        },
        {
          "output_type": "stream",
          "name": "stdout",
          "text": [
            "SSD Classification Loss: 4.2855 | SSD Localization Loss: 1.3603\n"
          ]
        },
        {
          "output_type": "stream",
          "name": "stderr",
          "text": [
            "100%|██████████| 627/627 [02:19<00:00,  4.51it/s]\n"
          ]
        },
        {
          "output_type": "stream",
          "name": "stdout",
          "text": [
            "Finished epoch 21\n",
            "SSD Classification Loss: 4.2676 | SSD Localization Loss: 1.3538\n"
          ]
        },
        {
          "output_type": "stream",
          "name": "stderr",
          "text": [
            "  5%|▌         | 34/627 [00:07<02:16,  4.34it/s]"
          ]
        },
        {
          "output_type": "stream",
          "name": "stdout",
          "text": [
            "SSD Classification Loss: 4.3088 | SSD Localization Loss: 1.3529\n"
          ]
        },
        {
          "output_type": "stream",
          "name": "stderr",
          "text": [
            " 21%|██▏       | 134/627 [00:30<01:37,  5.03it/s]"
          ]
        },
        {
          "output_type": "stream",
          "name": "stdout",
          "text": [
            "SSD Classification Loss: 4.2846 | SSD Localization Loss: 1.3468\n"
          ]
        },
        {
          "output_type": "stream",
          "name": "stderr",
          "text": [
            " 37%|███▋      | 234/627 [00:52<01:28,  4.46it/s]"
          ]
        },
        {
          "output_type": "stream",
          "name": "stdout",
          "text": [
            "SSD Classification Loss: 4.2913 | SSD Localization Loss: 1.3588\n"
          ]
        },
        {
          "output_type": "stream",
          "name": "stderr",
          "text": [
            " 53%|█████▎    | 334/627 [01:16<01:01,  4.78it/s]"
          ]
        },
        {
          "output_type": "stream",
          "name": "stdout",
          "text": [
            "SSD Classification Loss: 4.2616 | SSD Localization Loss: 1.3449\n"
          ]
        },
        {
          "output_type": "stream",
          "name": "stderr",
          "text": [
            " 69%|██████▉   | 434/627 [01:39<00:42,  4.54it/s]"
          ]
        },
        {
          "output_type": "stream",
          "name": "stdout",
          "text": [
            "SSD Classification Loss: 4.2481 | SSD Localization Loss: 1.3457\n"
          ]
        },
        {
          "output_type": "stream",
          "name": "stderr",
          "text": [
            " 85%|████████▌ | 534/627 [02:01<00:18,  5.14it/s]"
          ]
        },
        {
          "output_type": "stream",
          "name": "stdout",
          "text": [
            "SSD Classification Loss: 4.2343 | SSD Localization Loss: 1.3417\n"
          ]
        },
        {
          "output_type": "stream",
          "name": "stderr",
          "text": [
            "100%|██████████| 627/627 [02:23<00:00,  4.37it/s]\n"
          ]
        },
        {
          "output_type": "stream",
          "name": "stdout",
          "text": [
            "Finished epoch 22\n",
            "SSD Classification Loss: 4.2333 | SSD Localization Loss: 1.3396\n"
          ]
        },
        {
          "output_type": "stream",
          "name": "stderr",
          "text": [
            "  1%|          | 7/627 [00:01<02:10,  4.77it/s]"
          ]
        },
        {
          "output_type": "stream",
          "name": "stdout",
          "text": [
            "SSD Classification Loss: 4.0400 | SSD Localization Loss: 1.3048\n"
          ]
        },
        {
          "output_type": "stream",
          "name": "stderr",
          "text": [
            " 17%|█▋        | 107/627 [00:23<02:02,  4.24it/s]"
          ]
        },
        {
          "output_type": "stream",
          "name": "stdout",
          "text": [
            "SSD Classification Loss: 4.2487 | SSD Localization Loss: 1.3776\n"
          ]
        },
        {
          "output_type": "stream",
          "name": "stderr",
          "text": [
            " 33%|███▎      | 207/627 [00:47<01:41,  4.14it/s]"
          ]
        },
        {
          "output_type": "stream",
          "name": "stdout",
          "text": [
            "SSD Classification Loss: 4.2156 | SSD Localization Loss: 1.3582\n"
          ]
        },
        {
          "output_type": "stream",
          "name": "stderr",
          "text": [
            " 49%|████▉     | 308/627 [01:10<01:00,  5.29it/s]"
          ]
        },
        {
          "output_type": "stream",
          "name": "stdout",
          "text": [
            "SSD Classification Loss: 4.1853 | SSD Localization Loss: 1.3411\n"
          ]
        },
        {
          "output_type": "stream",
          "name": "stderr",
          "text": [
            " 65%|██████▍   | 407/627 [01:33<00:53,  4.14it/s]"
          ]
        },
        {
          "output_type": "stream",
          "name": "stdout",
          "text": [
            "SSD Classification Loss: 4.1828 | SSD Localization Loss: 1.3365\n"
          ]
        },
        {
          "output_type": "stream",
          "name": "stderr",
          "text": [
            " 81%|████████  | 507/627 [01:55<00:24,  4.83it/s]"
          ]
        },
        {
          "output_type": "stream",
          "name": "stdout",
          "text": [
            "SSD Classification Loss: 4.1966 | SSD Localization Loss: 1.3393\n"
          ]
        },
        {
          "output_type": "stream",
          "name": "stderr",
          "text": [
            " 97%|█████████▋| 608/627 [02:19<00:03,  4.81it/s]"
          ]
        },
        {
          "output_type": "stream",
          "name": "stdout",
          "text": [
            "SSD Classification Loss: 4.1872 | SSD Localization Loss: 1.3337\n"
          ]
        },
        {
          "output_type": "stream",
          "name": "stderr",
          "text": [
            "100%|██████████| 627/627 [02:24<00:00,  4.35it/s]\n"
          ]
        },
        {
          "output_type": "stream",
          "name": "stdout",
          "text": [
            "Finished epoch 23\n",
            "SSD Classification Loss: 4.1885 | SSD Localization Loss: 1.3323\n"
          ]
        },
        {
          "output_type": "stream",
          "name": "stderr",
          "text": [
            " 13%|█▎        | 80/627 [00:17<01:56,  4.72it/s]"
          ]
        },
        {
          "output_type": "stream",
          "name": "stdout",
          "text": [
            "SSD Classification Loss: 4.0847 | SSD Localization Loss: 1.3030\n"
          ]
        },
        {
          "output_type": "stream",
          "name": "stderr",
          "text": [
            " 29%|██▊       | 180/627 [00:39<01:33,  4.79it/s]"
          ]
        },
        {
          "output_type": "stream",
          "name": "stdout",
          "text": [
            "SSD Classification Loss: 4.0765 | SSD Localization Loss: 1.2989\n"
          ]
        },
        {
          "output_type": "stream",
          "name": "stderr",
          "text": [
            " 45%|████▍     | 280/627 [01:01<01:17,  4.47it/s]"
          ]
        },
        {
          "output_type": "stream",
          "name": "stdout",
          "text": [
            "SSD Classification Loss: 4.1093 | SSD Localization Loss: 1.3042\n"
          ]
        },
        {
          "output_type": "stream",
          "name": "stderr",
          "text": [
            " 61%|██████    | 380/627 [01:24<01:04,  3.80it/s]"
          ]
        },
        {
          "output_type": "stream",
          "name": "stdout",
          "text": [
            "SSD Classification Loss: 4.1232 | SSD Localization Loss: 1.3058\n"
          ]
        },
        {
          "output_type": "stream",
          "name": "stderr",
          "text": [
            " 77%|███████▋  | 480/627 [01:46<00:32,  4.49it/s]"
          ]
        },
        {
          "output_type": "stream",
          "name": "stdout",
          "text": [
            "SSD Classification Loss: 4.1210 | SSD Localization Loss: 1.2990\n"
          ]
        },
        {
          "output_type": "stream",
          "name": "stderr",
          "text": [
            " 93%|█████████▎| 580/627 [02:08<00:10,  4.52it/s]"
          ]
        },
        {
          "output_type": "stream",
          "name": "stdout",
          "text": [
            "SSD Classification Loss: 4.1309 | SSD Localization Loss: 1.3078\n"
          ]
        },
        {
          "output_type": "stream",
          "name": "stderr",
          "text": [
            "100%|██████████| 627/627 [02:19<00:00,  4.49it/s]\n"
          ]
        },
        {
          "output_type": "stream",
          "name": "stdout",
          "text": [
            "Finished epoch 24\n",
            "SSD Classification Loss: 4.1267 | SSD Localization Loss: 1.3049\n"
          ]
        },
        {
          "output_type": "stream",
          "name": "stderr",
          "text": [
            "  8%|▊         | 53/627 [00:11<02:02,  4.67it/s]"
          ]
        },
        {
          "output_type": "stream",
          "name": "stdout",
          "text": [
            "SSD Classification Loss: 4.0335 | SSD Localization Loss: 1.2559\n"
          ]
        },
        {
          "output_type": "stream",
          "name": "stderr",
          "text": [
            " 25%|██▍       | 154/627 [00:34<01:38,  4.79it/s]"
          ]
        },
        {
          "output_type": "stream",
          "name": "stdout",
          "text": [
            "SSD Classification Loss: 4.0215 | SSD Localization Loss: 1.2576\n"
          ]
        },
        {
          "output_type": "stream",
          "name": "stderr",
          "text": [
            " 40%|████      | 253/627 [00:57<01:27,  4.28it/s]"
          ]
        },
        {
          "output_type": "stream",
          "name": "stdout",
          "text": [
            "SSD Classification Loss: 4.0762 | SSD Localization Loss: 1.2800\n"
          ]
        },
        {
          "output_type": "stream",
          "name": "stderr",
          "text": [
            " 56%|█████▋    | 353/627 [01:20<01:09,  3.97it/s]"
          ]
        },
        {
          "output_type": "stream",
          "name": "stdout",
          "text": [
            "SSD Classification Loss: 4.0739 | SSD Localization Loss: 1.2818\n"
          ]
        },
        {
          "output_type": "stream",
          "name": "stderr",
          "text": [
            " 72%|███████▏  | 453/627 [01:43<00:36,  4.74it/s]"
          ]
        },
        {
          "output_type": "stream",
          "name": "stdout",
          "text": [
            "SSD Classification Loss: 4.0685 | SSD Localization Loss: 1.2901\n"
          ]
        },
        {
          "output_type": "stream",
          "name": "stderr",
          "text": [
            " 88%|████████▊ | 553/627 [02:06<00:17,  4.18it/s]"
          ]
        },
        {
          "output_type": "stream",
          "name": "stdout",
          "text": [
            "SSD Classification Loss: 4.0828 | SSD Localization Loss: 1.2940\n"
          ]
        },
        {
          "output_type": "stream",
          "name": "stderr",
          "text": [
            "100%|██████████| 627/627 [02:22<00:00,  4.39it/s]\n"
          ]
        },
        {
          "output_type": "stream",
          "name": "stdout",
          "text": [
            "Finished epoch 25\n",
            "SSD Classification Loss: 4.0939 | SSD Localization Loss: 1.2978\n"
          ]
        },
        {
          "output_type": "stream",
          "name": "stderr",
          "text": [
            "  4%|▍         | 26/627 [00:05<02:05,  4.77it/s]"
          ]
        },
        {
          "output_type": "stream",
          "name": "stdout",
          "text": [
            "SSD Classification Loss: 3.9820 | SSD Localization Loss: 1.2991\n"
          ]
        },
        {
          "output_type": "stream",
          "name": "stderr",
          "text": [
            " 20%|██        | 126/627 [00:28<01:56,  4.29it/s]"
          ]
        },
        {
          "output_type": "stream",
          "name": "stdout",
          "text": [
            "SSD Classification Loss: 4.0084 | SSD Localization Loss: 1.2764\n"
          ]
        },
        {
          "output_type": "stream",
          "name": "stderr",
          "text": [
            " 36%|███▌      | 226/627 [00:51<01:33,  4.27it/s]"
          ]
        },
        {
          "output_type": "stream",
          "name": "stdout",
          "text": [
            "SSD Classification Loss: 4.0664 | SSD Localization Loss: 1.2998\n"
          ]
        },
        {
          "output_type": "stream",
          "name": "stderr",
          "text": [
            " 52%|█████▏    | 326/627 [01:13<01:01,  4.93it/s]"
          ]
        },
        {
          "output_type": "stream",
          "name": "stdout",
          "text": [
            "SSD Classification Loss: 4.0536 | SSD Localization Loss: 1.2896\n"
          ]
        },
        {
          "output_type": "stream",
          "name": "stderr",
          "text": [
            " 68%|██████▊   | 426/627 [01:37<00:45,  4.42it/s]"
          ]
        },
        {
          "output_type": "stream",
          "name": "stdout",
          "text": [
            "SSD Classification Loss: 4.0728 | SSD Localization Loss: 1.3007\n"
          ]
        },
        {
          "output_type": "stream",
          "name": "stderr",
          "text": [
            " 84%|████████▍ | 526/627 [02:00<00:21,  4.78it/s]"
          ]
        },
        {
          "output_type": "stream",
          "name": "stdout",
          "text": [
            "SSD Classification Loss: 4.0753 | SSD Localization Loss: 1.2979\n"
          ]
        },
        {
          "output_type": "stream",
          "name": "stderr",
          "text": [
            "100%|██████████| 627/627 [02:22<00:00,  4.39it/s]"
          ]
        },
        {
          "output_type": "stream",
          "name": "stdout",
          "text": [
            "SSD Classification Loss: 4.0788 | SSD Localization Loss: 1.2990\n",
            "Finished epoch 26\n",
            "SSD Classification Loss: 4.0813 | SSD Localization Loss: 1.2999\n"
          ]
        },
        {
          "output_type": "stream",
          "name": "stderr",
          "text": [
            "\n",
            " 16%|█▌        | 100/627 [00:23<01:50,  4.77it/s]"
          ]
        },
        {
          "output_type": "stream",
          "name": "stdout",
          "text": [
            "SSD Classification Loss: 4.0191 | SSD Localization Loss: 1.2661\n"
          ]
        },
        {
          "output_type": "stream",
          "name": "stderr",
          "text": [
            " 32%|███▏      | 199/627 [00:45<01:25,  5.03it/s]"
          ]
        },
        {
          "output_type": "stream",
          "name": "stdout",
          "text": [
            "SSD Classification Loss: 4.0385 | SSD Localization Loss: 1.2823\n"
          ]
        },
        {
          "output_type": "stream",
          "name": "stderr",
          "text": [
            " 48%|████▊     | 299/627 [01:07<01:27,  3.74it/s]"
          ]
        },
        {
          "output_type": "stream",
          "name": "stdout",
          "text": [
            "SSD Classification Loss: 4.0486 | SSD Localization Loss: 1.2870\n"
          ]
        },
        {
          "output_type": "stream",
          "name": "stderr",
          "text": [
            " 64%|██████▎   | 399/627 [01:29<00:44,  5.18it/s]"
          ]
        },
        {
          "output_type": "stream",
          "name": "stdout",
          "text": [
            "SSD Classification Loss: 4.0419 | SSD Localization Loss: 1.2770\n"
          ]
        },
        {
          "output_type": "stream",
          "name": "stderr",
          "text": [
            " 80%|███████▉  | 499/627 [01:51<00:30,  4.19it/s]"
          ]
        },
        {
          "output_type": "stream",
          "name": "stdout",
          "text": [
            "SSD Classification Loss: 4.0367 | SSD Localization Loss: 1.2713\n"
          ]
        },
        {
          "output_type": "stream",
          "name": "stderr",
          "text": [
            " 96%|█████████▌| 600/627 [02:14<00:05,  4.65it/s]"
          ]
        },
        {
          "output_type": "stream",
          "name": "stdout",
          "text": [
            "SSD Classification Loss: 4.0268 | SSD Localization Loss: 1.2700\n"
          ]
        },
        {
          "output_type": "stream",
          "name": "stderr",
          "text": [
            "100%|██████████| 627/627 [02:20<00:00,  4.45it/s]\n"
          ]
        },
        {
          "output_type": "stream",
          "name": "stdout",
          "text": [
            "Finished epoch 27\n",
            "SSD Classification Loss: 4.0226 | SSD Localization Loss: 1.2677\n"
          ]
        },
        {
          "output_type": "stream",
          "name": "stderr",
          "text": [
            " 11%|█▏        | 72/627 [00:15<01:51,  4.96it/s]"
          ]
        },
        {
          "output_type": "stream",
          "name": "stdout",
          "text": [
            "SSD Classification Loss: 3.9135 | SSD Localization Loss: 1.2424\n"
          ]
        },
        {
          "output_type": "stream",
          "name": "stderr",
          "text": [
            " 27%|██▋       | 172/627 [00:37<01:48,  4.21it/s]"
          ]
        },
        {
          "output_type": "stream",
          "name": "stdout",
          "text": [
            "SSD Classification Loss: 3.9438 | SSD Localization Loss: 1.2506\n"
          ]
        },
        {
          "output_type": "stream",
          "name": "stderr",
          "text": [
            " 43%|████▎     | 272/627 [01:00<01:27,  4.05it/s]"
          ]
        },
        {
          "output_type": "stream",
          "name": "stdout",
          "text": [
            "SSD Classification Loss: 3.9504 | SSD Localization Loss: 1.2615\n"
          ]
        },
        {
          "output_type": "stream",
          "name": "stderr",
          "text": [
            " 59%|█████▉    | 372/627 [01:22<00:47,  5.33it/s]"
          ]
        },
        {
          "output_type": "stream",
          "name": "stdout",
          "text": [
            "SSD Classification Loss: 3.9446 | SSD Localization Loss: 1.2542\n"
          ]
        },
        {
          "output_type": "stream",
          "name": "stderr",
          "text": [
            " 75%|███████▌  | 472/627 [01:45<00:34,  4.45it/s]"
          ]
        },
        {
          "output_type": "stream",
          "name": "stdout",
          "text": [
            "SSD Classification Loss: 3.9443 | SSD Localization Loss: 1.2575\n"
          ]
        },
        {
          "output_type": "stream",
          "name": "stderr",
          "text": [
            " 91%|█████████ | 572/627 [02:08<00:14,  3.87it/s]"
          ]
        },
        {
          "output_type": "stream",
          "name": "stdout",
          "text": [
            "SSD Classification Loss: 3.9569 | SSD Localization Loss: 1.2630\n"
          ]
        },
        {
          "output_type": "stream",
          "name": "stderr",
          "text": [
            "100%|██████████| 627/627 [02:19<00:00,  4.48it/s]\n"
          ]
        },
        {
          "output_type": "stream",
          "name": "stdout",
          "text": [
            "Finished epoch 28\n",
            "SSD Classification Loss: 3.9485 | SSD Localization Loss: 1.2597\n"
          ]
        },
        {
          "output_type": "stream",
          "name": "stderr",
          "text": [
            "  7%|▋         | 45/627 [00:10<02:08,  4.52it/s]"
          ]
        },
        {
          "output_type": "stream",
          "name": "stdout",
          "text": [
            "SSD Classification Loss: 3.9253 | SSD Localization Loss: 1.2720\n"
          ]
        },
        {
          "output_type": "stream",
          "name": "stderr",
          "text": [
            " 23%|██▎       | 145/627 [00:32<02:04,  3.87it/s]"
          ]
        },
        {
          "output_type": "stream",
          "name": "stdout",
          "text": [
            "SSD Classification Loss: 3.8788 | SSD Localization Loss: 1.2299\n"
          ]
        },
        {
          "output_type": "stream",
          "name": "stderr",
          "text": [
            " 39%|███▉      | 245/627 [00:55<01:23,  4.59it/s]"
          ]
        },
        {
          "output_type": "stream",
          "name": "stdout",
          "text": [
            "SSD Classification Loss: 3.9020 | SSD Localization Loss: 1.2254\n"
          ]
        },
        {
          "output_type": "stream",
          "name": "stderr",
          "text": [
            " 55%|█████▌    | 345/627 [01:17<01:11,  3.96it/s]"
          ]
        },
        {
          "output_type": "stream",
          "name": "stdout",
          "text": [
            "SSD Classification Loss: 3.9095 | SSD Localization Loss: 1.2362\n"
          ]
        },
        {
          "output_type": "stream",
          "name": "stderr",
          "text": [
            " 71%|███████   | 445/627 [01:41<00:37,  4.86it/s]"
          ]
        },
        {
          "output_type": "stream",
          "name": "stdout",
          "text": [
            "SSD Classification Loss: 3.9260 | SSD Localization Loss: 1.2501\n"
          ]
        },
        {
          "output_type": "stream",
          "name": "stderr",
          "text": [
            " 87%|████████▋ | 546/627 [02:03<00:18,  4.50it/s]"
          ]
        },
        {
          "output_type": "stream",
          "name": "stdout",
          "text": [
            "SSD Classification Loss: 3.9270 | SSD Localization Loss: 1.2511\n"
          ]
        },
        {
          "output_type": "stream",
          "name": "stderr",
          "text": [
            "100%|██████████| 627/627 [02:22<00:00,  4.41it/s]\n"
          ]
        },
        {
          "output_type": "stream",
          "name": "stdout",
          "text": [
            "Finished epoch 29\n",
            "SSD Classification Loss: 3.9353 | SSD Localization Loss: 1.2560\n"
          ]
        },
        {
          "output_type": "stream",
          "name": "stderr",
          "text": [
            "  3%|▎         | 19/627 [00:04<02:08,  4.73it/s]"
          ]
        },
        {
          "output_type": "stream",
          "name": "stdout",
          "text": [
            "SSD Classification Loss: 3.9474 | SSD Localization Loss: 1.2968\n"
          ]
        },
        {
          "output_type": "stream",
          "name": "stderr",
          "text": [
            " 19%|█▉        | 118/627 [00:25<01:59,  4.26it/s]"
          ]
        },
        {
          "output_type": "stream",
          "name": "stdout",
          "text": [
            "SSD Classification Loss: 3.9064 | SSD Localization Loss: 1.2590\n"
          ]
        },
        {
          "output_type": "stream",
          "name": "stderr",
          "text": [
            " 35%|███▍      | 218/627 [00:48<01:39,  4.10it/s]"
          ]
        },
        {
          "output_type": "stream",
          "name": "stdout",
          "text": [
            "SSD Classification Loss: 3.9020 | SSD Localization Loss: 1.2456\n"
          ]
        },
        {
          "output_type": "stream",
          "name": "stderr",
          "text": [
            " 51%|█████     | 318/627 [01:10<01:13,  4.21it/s]"
          ]
        },
        {
          "output_type": "stream",
          "name": "stdout",
          "text": [
            "SSD Classification Loss: 3.8993 | SSD Localization Loss: 1.2378\n"
          ]
        },
        {
          "output_type": "stream",
          "name": "stderr",
          "text": [
            " 67%|██████▋   | 418/627 [01:33<00:38,  5.38it/s]"
          ]
        },
        {
          "output_type": "stream",
          "name": "stdout",
          "text": [
            "SSD Classification Loss: 3.9269 | SSD Localization Loss: 1.2471\n"
          ]
        },
        {
          "output_type": "stream",
          "name": "stderr",
          "text": [
            " 83%|████████▎ | 518/627 [01:56<00:23,  4.60it/s]"
          ]
        },
        {
          "output_type": "stream",
          "name": "stdout",
          "text": [
            "SSD Classification Loss: 3.9108 | SSD Localization Loss: 1.2409\n"
          ]
        },
        {
          "output_type": "stream",
          "name": "stderr",
          "text": [
            " 99%|█████████▊| 618/627 [02:19<00:01,  4.82it/s]"
          ]
        },
        {
          "output_type": "stream",
          "name": "stdout",
          "text": [
            "SSD Classification Loss: 3.9098 | SSD Localization Loss: 1.2466\n"
          ]
        },
        {
          "output_type": "stream",
          "name": "stderr",
          "text": [
            "100%|██████████| 627/627 [02:20<00:00,  4.45it/s]\n"
          ]
        },
        {
          "output_type": "stream",
          "name": "stdout",
          "text": [
            "Finished epoch 30\n",
            "SSD Classification Loss: 3.9076 | SSD Localization Loss: 1.2448\n"
          ]
        },
        {
          "output_type": "stream",
          "name": "stderr",
          "text": [
            " 15%|█▍        | 91/627 [00:20<01:46,  5.05it/s]"
          ]
        },
        {
          "output_type": "stream",
          "name": "stdout",
          "text": [
            "SSD Classification Loss: 3.8743 | SSD Localization Loss: 1.2589\n"
          ]
        },
        {
          "output_type": "stream",
          "name": "stderr",
          "text": [
            " 30%|███       | 191/627 [00:42<01:57,  3.72it/s]"
          ]
        },
        {
          "output_type": "stream",
          "name": "stdout",
          "text": [
            "SSD Classification Loss: 3.8455 | SSD Localization Loss: 1.2331\n"
          ]
        },
        {
          "output_type": "stream",
          "name": "stderr",
          "text": [
            " 46%|████▋     | 291/627 [01:06<01:18,  4.29it/s]"
          ]
        },
        {
          "output_type": "stream",
          "name": "stdout",
          "text": [
            "SSD Classification Loss: 3.8744 | SSD Localization Loss: 1.2355\n"
          ]
        },
        {
          "output_type": "stream",
          "name": "stderr",
          "text": [
            " 62%|██████▏   | 391/627 [01:29<01:01,  3.86it/s]"
          ]
        },
        {
          "output_type": "stream",
          "name": "stdout",
          "text": [
            "SSD Classification Loss: 3.8451 | SSD Localization Loss: 1.2276\n"
          ]
        },
        {
          "output_type": "stream",
          "name": "stderr",
          "text": [
            " 78%|███████▊  | 491/627 [01:52<00:30,  4.43it/s]"
          ]
        },
        {
          "output_type": "stream",
          "name": "stdout",
          "text": [
            "SSD Classification Loss: 3.8730 | SSD Localization Loss: 1.2405\n"
          ]
        },
        {
          "output_type": "stream",
          "name": "stderr",
          "text": [
            " 94%|█████████▍| 591/627 [02:13<00:07,  4.91it/s]"
          ]
        },
        {
          "output_type": "stream",
          "name": "stdout",
          "text": [
            "SSD Classification Loss: 3.8756 | SSD Localization Loss: 1.2360\n"
          ]
        },
        {
          "output_type": "stream",
          "name": "stderr",
          "text": [
            "100%|██████████| 627/627 [02:22<00:00,  4.41it/s]\n"
          ]
        },
        {
          "output_type": "stream",
          "name": "stdout",
          "text": [
            "Finished epoch 31\n",
            "SSD Classification Loss: 3.8785 | SSD Localization Loss: 1.2356\n"
          ]
        },
        {
          "output_type": "stream",
          "name": "stderr",
          "text": [
            " 10%|█         | 64/627 [00:14<02:03,  4.57it/s]"
          ]
        },
        {
          "output_type": "stream",
          "name": "stdout",
          "text": [
            "SSD Classification Loss: 3.9184 | SSD Localization Loss: 1.2723\n"
          ]
        },
        {
          "output_type": "stream",
          "name": "stderr",
          "text": [
            " 26%|██▋       | 165/627 [00:37<01:33,  4.93it/s]"
          ]
        },
        {
          "output_type": "stream",
          "name": "stdout",
          "text": [
            "SSD Classification Loss: 3.8841 | SSD Localization Loss: 1.2383\n"
          ]
        },
        {
          "output_type": "stream",
          "name": "stderr",
          "text": [
            " 42%|████▏     | 264/627 [01:00<01:15,  4.84it/s]"
          ]
        },
        {
          "output_type": "stream",
          "name": "stdout",
          "text": [
            "SSD Classification Loss: 3.8776 | SSD Localization Loss: 1.2408\n"
          ]
        },
        {
          "output_type": "stream",
          "name": "stderr",
          "text": [
            " 58%|█████▊    | 364/627 [01:22<00:59,  4.44it/s]"
          ]
        },
        {
          "output_type": "stream",
          "name": "stdout",
          "text": [
            "SSD Classification Loss: 3.8603 | SSD Localization Loss: 1.2378\n"
          ]
        },
        {
          "output_type": "stream",
          "name": "stderr",
          "text": [
            " 74%|███████▍  | 464/627 [01:45<00:39,  4.11it/s]"
          ]
        },
        {
          "output_type": "stream",
          "name": "stdout",
          "text": [
            "SSD Classification Loss: 3.8492 | SSD Localization Loss: 1.2325\n"
          ]
        },
        {
          "output_type": "stream",
          "name": "stderr",
          "text": [
            " 90%|█████████ | 565/627 [02:09<00:13,  4.62it/s]"
          ]
        },
        {
          "output_type": "stream",
          "name": "stdout",
          "text": [
            "SSD Classification Loss: 3.8618 | SSD Localization Loss: 1.2345\n"
          ]
        },
        {
          "output_type": "stream",
          "name": "stderr",
          "text": [
            "100%|██████████| 627/627 [02:23<00:00,  4.37it/s]\n"
          ]
        },
        {
          "output_type": "stream",
          "name": "stdout",
          "text": [
            "Finished epoch 32\n",
            "SSD Classification Loss: 3.8510 | SSD Localization Loss: 1.2271\n"
          ]
        },
        {
          "output_type": "stream",
          "name": "stderr",
          "text": [
            "  6%|▌         | 37/627 [00:08<02:21,  4.16it/s]"
          ]
        },
        {
          "output_type": "stream",
          "name": "stdout",
          "text": [
            "SSD Classification Loss: 3.8348 | SSD Localization Loss: 1.2463\n"
          ]
        },
        {
          "output_type": "stream",
          "name": "stderr",
          "text": [
            " 22%|██▏       | 137/627 [00:31<02:01,  4.03it/s]"
          ]
        },
        {
          "output_type": "stream",
          "name": "stdout",
          "text": [
            "SSD Classification Loss: 3.7839 | SSD Localization Loss: 1.1943\n"
          ]
        },
        {
          "output_type": "stream",
          "name": "stderr",
          "text": [
            " 38%|███▊      | 237/627 [00:55<01:48,  3.60it/s]"
          ]
        },
        {
          "output_type": "stream",
          "name": "stdout",
          "text": [
            "SSD Classification Loss: 3.7789 | SSD Localization Loss: 1.1919\n"
          ]
        },
        {
          "output_type": "stream",
          "name": "stderr",
          "text": [
            " 54%|█████▎    | 337/627 [01:18<01:06,  4.39it/s]"
          ]
        },
        {
          "output_type": "stream",
          "name": "stdout",
          "text": [
            "SSD Classification Loss: 3.7816 | SSD Localization Loss: 1.1872\n"
          ]
        },
        {
          "output_type": "stream",
          "name": "stderr",
          "text": [
            " 70%|██████▉   | 437/627 [01:41<00:39,  4.79it/s]"
          ]
        },
        {
          "output_type": "stream",
          "name": "stdout",
          "text": [
            "SSD Classification Loss: 3.8138 | SSD Localization Loss: 1.2054\n"
          ]
        },
        {
          "output_type": "stream",
          "name": "stderr",
          "text": [
            " 86%|████████▌ | 537/627 [02:03<00:19,  4.62it/s]"
          ]
        },
        {
          "output_type": "stream",
          "name": "stdout",
          "text": [
            "SSD Classification Loss: 3.8123 | SSD Localization Loss: 1.2071\n"
          ]
        },
        {
          "output_type": "stream",
          "name": "stderr",
          "text": [
            "100%|██████████| 627/627 [02:24<00:00,  4.35it/s]\n"
          ]
        },
        {
          "output_type": "stream",
          "name": "stdout",
          "text": [
            "Finished epoch 33\n",
            "SSD Classification Loss: 3.8075 | SSD Localization Loss: 1.2049\n"
          ]
        },
        {
          "output_type": "stream",
          "name": "stderr",
          "text": [
            "  2%|▏         | 11/627 [00:02<01:56,  5.29it/s]"
          ]
        },
        {
          "output_type": "stream",
          "name": "stdout",
          "text": [
            "SSD Classification Loss: 3.7503 | SSD Localization Loss: 1.2018\n"
          ]
        },
        {
          "output_type": "stream",
          "name": "stderr",
          "text": [
            " 18%|█▊        | 110/627 [00:25<02:11,  3.92it/s]"
          ]
        },
        {
          "output_type": "stream",
          "name": "stdout",
          "text": [
            "SSD Classification Loss: 3.7711 | SSD Localization Loss: 1.2013\n"
          ]
        },
        {
          "output_type": "stream",
          "name": "stderr",
          "text": [
            " 34%|███▎      | 211/627 [00:49<01:38,  4.24it/s]"
          ]
        },
        {
          "output_type": "stream",
          "name": "stdout",
          "text": [
            "SSD Classification Loss: 3.7862 | SSD Localization Loss: 1.2221\n"
          ]
        },
        {
          "output_type": "stream",
          "name": "stderr",
          "text": [
            " 49%|████▉     | 310/627 [01:12<01:19,  3.98it/s]"
          ]
        },
        {
          "output_type": "stream",
          "name": "stdout",
          "text": [
            "SSD Classification Loss: 3.8094 | SSD Localization Loss: 1.2323\n"
          ]
        },
        {
          "output_type": "stream",
          "name": "stderr",
          "text": [
            " 66%|██████▌   | 411/627 [01:35<00:43,  4.95it/s]"
          ]
        },
        {
          "output_type": "stream",
          "name": "stdout",
          "text": [
            "SSD Classification Loss: 3.7947 | SSD Localization Loss: 1.2222\n"
          ]
        },
        {
          "output_type": "stream",
          "name": "stderr",
          "text": [
            " 81%|████████▏ | 510/627 [01:58<00:26,  4.47it/s]"
          ]
        },
        {
          "output_type": "stream",
          "name": "stdout",
          "text": [
            "SSD Classification Loss: 3.7915 | SSD Localization Loss: 1.2111\n"
          ]
        },
        {
          "output_type": "stream",
          "name": "stderr",
          "text": [
            " 97%|█████████▋| 610/627 [02:20<00:04,  4.24it/s]"
          ]
        },
        {
          "output_type": "stream",
          "name": "stdout",
          "text": [
            "SSD Classification Loss: 3.7831 | SSD Localization Loss: 1.2056\n"
          ]
        },
        {
          "output_type": "stream",
          "name": "stderr",
          "text": [
            "100%|██████████| 627/627 [02:24<00:00,  4.34it/s]\n"
          ]
        },
        {
          "output_type": "stream",
          "name": "stdout",
          "text": [
            "Finished epoch 34\n",
            "SSD Classification Loss: 3.7870 | SSD Localization Loss: 1.2065\n"
          ]
        },
        {
          "output_type": "stream",
          "name": "stderr",
          "text": [
            " 13%|█▎        | 83/627 [00:19<02:21,  3.84it/s]"
          ]
        },
        {
          "output_type": "stream",
          "name": "stdout",
          "text": [
            "SSD Classification Loss: 3.7517 | SSD Localization Loss: 1.1959\n"
          ]
        },
        {
          "output_type": "stream",
          "name": "stderr",
          "text": [
            " 29%|██▉       | 184/627 [00:43<01:42,  4.30it/s]"
          ]
        },
        {
          "output_type": "stream",
          "name": "stdout",
          "text": [
            "SSD Classification Loss: 3.7223 | SSD Localization Loss: 1.1822\n"
          ]
        },
        {
          "output_type": "stream",
          "name": "stderr",
          "text": [
            " 45%|████▌     | 284/627 [01:05<01:11,  4.79it/s]"
          ]
        },
        {
          "output_type": "stream",
          "name": "stdout",
          "text": [
            "SSD Classification Loss: 3.7032 | SSD Localization Loss: 1.1708\n"
          ]
        },
        {
          "output_type": "stream",
          "name": "stderr",
          "text": [
            " 61%|██████    | 384/627 [01:28<00:53,  4.51it/s]"
          ]
        },
        {
          "output_type": "stream",
          "name": "stdout",
          "text": [
            "SSD Classification Loss: 3.6918 | SSD Localization Loss: 1.1665\n"
          ]
        },
        {
          "output_type": "stream",
          "name": "stderr",
          "text": [
            " 77%|███████▋  | 483/627 [01:50<00:30,  4.72it/s]"
          ]
        },
        {
          "output_type": "stream",
          "name": "stdout",
          "text": [
            "SSD Classification Loss: 3.6978 | SSD Localization Loss: 1.1654\n"
          ]
        },
        {
          "output_type": "stream",
          "name": "stderr",
          "text": [
            " 93%|█████████▎| 583/627 [02:13<00:10,  4.19it/s]"
          ]
        },
        {
          "output_type": "stream",
          "name": "stdout",
          "text": [
            "SSD Classification Loss: 3.7246 | SSD Localization Loss: 1.1800\n"
          ]
        },
        {
          "output_type": "stream",
          "name": "stderr",
          "text": [
            "100%|██████████| 627/627 [02:23<00:00,  4.37it/s]\n"
          ]
        },
        {
          "output_type": "stream",
          "name": "stdout",
          "text": [
            "Finished epoch 35\n",
            "SSD Classification Loss: 3.7170 | SSD Localization Loss: 1.1779\n"
          ]
        },
        {
          "output_type": "stream",
          "name": "stderr",
          "text": [
            "  9%|▉         | 56/627 [00:11<02:02,  4.64it/s]"
          ]
        },
        {
          "output_type": "stream",
          "name": "stdout",
          "text": [
            "SSD Classification Loss: 3.7435 | SSD Localization Loss: 1.1986\n"
          ]
        },
        {
          "output_type": "stream",
          "name": "stderr",
          "text": [
            " 25%|██▌       | 157/627 [00:34<01:24,  5.58it/s]"
          ]
        },
        {
          "output_type": "stream",
          "name": "stdout",
          "text": [
            "SSD Classification Loss: 3.7379 | SSD Localization Loss: 1.1856\n"
          ]
        },
        {
          "output_type": "stream",
          "name": "stderr",
          "text": [
            " 41%|████      | 257/627 [00:57<01:20,  4.61it/s]"
          ]
        },
        {
          "output_type": "stream",
          "name": "stdout",
          "text": [
            "SSD Classification Loss: 3.7174 | SSD Localization Loss: 1.1725\n"
          ]
        },
        {
          "output_type": "stream",
          "name": "stderr",
          "text": [
            " 57%|█████▋    | 356/627 [01:21<00:59,  4.56it/s]"
          ]
        },
        {
          "output_type": "stream",
          "name": "stdout",
          "text": [
            "SSD Classification Loss: 3.7388 | SSD Localization Loss: 1.1777\n"
          ]
        },
        {
          "output_type": "stream",
          "name": "stderr",
          "text": [
            " 73%|███████▎  | 456/627 [01:45<00:39,  4.32it/s]"
          ]
        },
        {
          "output_type": "stream",
          "name": "stdout",
          "text": [
            "SSD Classification Loss: 3.7455 | SSD Localization Loss: 1.1853\n"
          ]
        },
        {
          "output_type": "stream",
          "name": "stderr",
          "text": [
            " 89%|████████▊ | 556/627 [02:07<00:19,  3.61it/s]"
          ]
        },
        {
          "output_type": "stream",
          "name": "stdout",
          "text": [
            "SSD Classification Loss: 3.7503 | SSD Localization Loss: 1.1844\n"
          ]
        },
        {
          "output_type": "stream",
          "name": "stderr",
          "text": [
            "100%|██████████| 627/627 [02:23<00:00,  4.36it/s]\n"
          ]
        },
        {
          "output_type": "stream",
          "name": "stdout",
          "text": [
            "Finished epoch 36\n",
            "SSD Classification Loss: 3.7546 | SSD Localization Loss: 1.1901\n"
          ]
        },
        {
          "output_type": "stream",
          "name": "stderr",
          "text": [
            "  5%|▍         | 30/627 [00:06<02:09,  4.60it/s]"
          ]
        },
        {
          "output_type": "stream",
          "name": "stdout",
          "text": [
            "SSD Classification Loss: 3.7146 | SSD Localization Loss: 1.1653\n"
          ]
        },
        {
          "output_type": "stream",
          "name": "stderr",
          "text": [
            " 21%|██        | 130/627 [00:29<01:44,  4.74it/s]"
          ]
        },
        {
          "output_type": "stream",
          "name": "stdout",
          "text": [
            "SSD Classification Loss: 3.7341 | SSD Localization Loss: 1.1862\n"
          ]
        },
        {
          "output_type": "stream",
          "name": "stderr",
          "text": [
            " 37%|███▋      | 229/627 [00:52<01:43,  3.85it/s]"
          ]
        },
        {
          "output_type": "stream",
          "name": "stdout",
          "text": [
            "SSD Classification Loss: 3.7500 | SSD Localization Loss: 1.1844\n"
          ]
        },
        {
          "output_type": "stream",
          "name": "stderr",
          "text": [
            " 52%|█████▏    | 329/627 [01:14<00:59,  4.99it/s]"
          ]
        },
        {
          "output_type": "stream",
          "name": "stdout",
          "text": [
            "SSD Classification Loss: 3.7900 | SSD Localization Loss: 1.2034\n"
          ]
        },
        {
          "output_type": "stream",
          "name": "stderr",
          "text": [
            " 69%|██████▊   | 430/627 [01:37<00:38,  5.09it/s]"
          ]
        },
        {
          "output_type": "stream",
          "name": "stdout",
          "text": [
            "SSD Classification Loss: 3.7807 | SSD Localization Loss: 1.2002\n"
          ]
        },
        {
          "output_type": "stream",
          "name": "stderr",
          "text": [
            " 84%|████████▍ | 529/627 [01:59<00:24,  4.01it/s]"
          ]
        },
        {
          "output_type": "stream",
          "name": "stdout",
          "text": [
            "SSD Classification Loss: 3.7784 | SSD Localization Loss: 1.2005\n"
          ]
        },
        {
          "output_type": "stream",
          "name": "stderr",
          "text": [
            "100%|██████████| 627/627 [02:20<00:00,  4.46it/s]\n"
          ]
        },
        {
          "output_type": "stream",
          "name": "stdout",
          "text": [
            "Finished epoch 37\n",
            "SSD Classification Loss: 3.7540 | SSD Localization Loss: 1.1929\n"
          ]
        },
        {
          "output_type": "stream",
          "name": "stderr",
          "text": [
            "  0%|          | 2/627 [00:00<02:25,  4.29it/s]"
          ]
        },
        {
          "output_type": "stream",
          "name": "stdout",
          "text": [
            "SSD Classification Loss: 3.3714 | SSD Localization Loss: 1.1513\n"
          ]
        },
        {
          "output_type": "stream",
          "name": "stderr",
          "text": [
            " 16%|█▋        | 102/627 [00:23<01:59,  4.39it/s]"
          ]
        },
        {
          "output_type": "stream",
          "name": "stdout",
          "text": [
            "SSD Classification Loss: 3.6244 | SSD Localization Loss: 1.1635\n"
          ]
        },
        {
          "output_type": "stream",
          "name": "stderr",
          "text": [
            " 32%|███▏      | 202/627 [00:47<01:49,  3.87it/s]"
          ]
        },
        {
          "output_type": "stream",
          "name": "stdout",
          "text": [
            "SSD Classification Loss: 3.6532 | SSD Localization Loss: 1.1706\n"
          ]
        },
        {
          "output_type": "stream",
          "name": "stderr",
          "text": [
            " 48%|████▊     | 302/627 [01:11<01:21,  3.99it/s]"
          ]
        },
        {
          "output_type": "stream",
          "name": "stdout",
          "text": [
            "SSD Classification Loss: 3.7249 | SSD Localization Loss: 1.1907\n"
          ]
        },
        {
          "output_type": "stream",
          "name": "stderr",
          "text": [
            " 64%|██████▍   | 402/627 [01:33<00:58,  3.85it/s]"
          ]
        },
        {
          "output_type": "stream",
          "name": "stdout",
          "text": [
            "SSD Classification Loss: 3.7089 | SSD Localization Loss: 1.1828\n"
          ]
        },
        {
          "output_type": "stream",
          "name": "stderr",
          "text": [
            " 80%|████████  | 503/627 [01:56<00:22,  5.49it/s]"
          ]
        },
        {
          "output_type": "stream",
          "name": "stdout",
          "text": [
            "SSD Classification Loss: 3.7059 | SSD Localization Loss: 1.1771\n"
          ]
        },
        {
          "output_type": "stream",
          "name": "stderr",
          "text": [
            " 96%|█████████▌| 603/627 [02:18<00:04,  5.37it/s]"
          ]
        },
        {
          "output_type": "stream",
          "name": "stdout",
          "text": [
            "SSD Classification Loss: 3.6964 | SSD Localization Loss: 1.1713\n"
          ]
        },
        {
          "output_type": "stream",
          "name": "stderr",
          "text": [
            "100%|██████████| 627/627 [02:24<00:00,  4.35it/s]\n"
          ]
        },
        {
          "output_type": "stream",
          "name": "stdout",
          "text": [
            "Finished epoch 38\n",
            "SSD Classification Loss: 3.6898 | SSD Localization Loss: 1.1699\n"
          ]
        },
        {
          "output_type": "stream",
          "name": "stderr",
          "text": [
            " 12%|█▏        | 75/627 [00:16<02:09,  4.25it/s]"
          ]
        },
        {
          "output_type": "stream",
          "name": "stdout",
          "text": [
            "SSD Classification Loss: 3.5977 | SSD Localization Loss: 1.1588\n"
          ]
        },
        {
          "output_type": "stream",
          "name": "stderr",
          "text": [
            " 28%|██▊       | 175/627 [00:39<01:50,  4.08it/s]"
          ]
        },
        {
          "output_type": "stream",
          "name": "stdout",
          "text": [
            "SSD Classification Loss: 3.6065 | SSD Localization Loss: 1.1511\n"
          ]
        },
        {
          "output_type": "stream",
          "name": "stderr",
          "text": [
            " 44%|████▍     | 276/627 [01:03<01:13,  4.78it/s]"
          ]
        },
        {
          "output_type": "stream",
          "name": "stdout",
          "text": [
            "SSD Classification Loss: 3.6159 | SSD Localization Loss: 1.1530\n"
          ]
        },
        {
          "output_type": "stream",
          "name": "stderr",
          "text": [
            " 60%|█████▉    | 376/627 [01:26<01:03,  3.94it/s]"
          ]
        },
        {
          "output_type": "stream",
          "name": "stdout",
          "text": [
            "SSD Classification Loss: 3.6729 | SSD Localization Loss: 1.1758\n"
          ]
        },
        {
          "output_type": "stream",
          "name": "stderr",
          "text": [
            " 76%|███████▌  | 475/627 [01:49<00:31,  4.75it/s]"
          ]
        },
        {
          "output_type": "stream",
          "name": "stdout",
          "text": [
            "SSD Classification Loss: 3.6843 | SSD Localization Loss: 1.1779\n"
          ]
        },
        {
          "output_type": "stream",
          "name": "stderr",
          "text": [
            " 92%|█████████▏| 575/627 [02:12<00:13,  3.99it/s]"
          ]
        },
        {
          "output_type": "stream",
          "name": "stdout",
          "text": [
            "SSD Classification Loss: 3.6757 | SSD Localization Loss: 1.1730\n"
          ]
        },
        {
          "output_type": "stream",
          "name": "stderr",
          "text": [
            "100%|██████████| 627/627 [02:25<00:00,  4.32it/s]\n"
          ]
        },
        {
          "output_type": "stream",
          "name": "stdout",
          "text": [
            "Finished epoch 39\n",
            "SSD Classification Loss: 3.6943 | SSD Localization Loss: 1.1819\n"
          ]
        },
        {
          "output_type": "stream",
          "name": "stderr",
          "text": [
            "  8%|▊         | 48/627 [00:11<02:06,  4.59it/s]"
          ]
        },
        {
          "output_type": "stream",
          "name": "stdout",
          "text": [
            "SSD Classification Loss: 3.6542 | SSD Localization Loss: 1.1598\n"
          ]
        },
        {
          "output_type": "stream",
          "name": "stderr",
          "text": [
            " 24%|██▎       | 148/627 [00:34<02:00,  3.98it/s]"
          ]
        },
        {
          "output_type": "stream",
          "name": "stdout",
          "text": [
            "SSD Classification Loss: 3.6952 | SSD Localization Loss: 1.1567\n"
          ]
        },
        {
          "output_type": "stream",
          "name": "stderr",
          "text": [
            " 40%|███▉      | 248/627 [00:56<01:16,  4.92it/s]"
          ]
        },
        {
          "output_type": "stream",
          "name": "stdout",
          "text": [
            "SSD Classification Loss: 3.6324 | SSD Localization Loss: 1.1384\n"
          ]
        },
        {
          "output_type": "stream",
          "name": "stderr",
          "text": [
            " 56%|█████▌    | 349/627 [01:19<00:55,  4.99it/s]"
          ]
        },
        {
          "output_type": "stream",
          "name": "stdout",
          "text": [
            "SSD Classification Loss: 3.6285 | SSD Localization Loss: 1.1399\n"
          ]
        },
        {
          "output_type": "stream",
          "name": "stderr",
          "text": [
            " 71%|███████▏  | 448/627 [01:41<00:46,  3.84it/s]"
          ]
        },
        {
          "output_type": "stream",
          "name": "stdout",
          "text": [
            "SSD Classification Loss: 3.6386 | SSD Localization Loss: 1.1472\n"
          ]
        },
        {
          "output_type": "stream",
          "name": "stderr",
          "text": [
            " 87%|████████▋ | 548/627 [02:04<00:16,  4.79it/s]"
          ]
        },
        {
          "output_type": "stream",
          "name": "stdout",
          "text": [
            "SSD Classification Loss: 3.6513 | SSD Localization Loss: 1.1536\n"
          ]
        },
        {
          "output_type": "stream",
          "name": "stderr",
          "text": [
            "100%|██████████| 627/627 [02:22<00:00,  4.40it/s]\n"
          ]
        },
        {
          "output_type": "stream",
          "name": "stdout",
          "text": [
            "Finished epoch 40\n",
            "SSD Classification Loss: 3.6528 | SSD Localization Loss: 1.1531\n"
          ]
        },
        {
          "output_type": "stream",
          "name": "stderr",
          "text": [
            "  3%|▎         | 21/627 [00:04<02:20,  4.32it/s]"
          ]
        },
        {
          "output_type": "stream",
          "name": "stdout",
          "text": [
            "SSD Classification Loss: 3.6411 | SSD Localization Loss: 1.1259\n"
          ]
        },
        {
          "output_type": "stream",
          "name": "stderr",
          "text": [
            " 19%|█▉        | 121/627 [00:28<02:06,  4.00it/s]"
          ]
        },
        {
          "output_type": "stream",
          "name": "stdout",
          "text": [
            "SSD Classification Loss: 3.4982 | SSD Localization Loss: 1.1005\n"
          ]
        },
        {
          "output_type": "stream",
          "name": "stderr",
          "text": [
            " 35%|███▌      | 221/627 [00:51<01:22,  4.92it/s]"
          ]
        },
        {
          "output_type": "stream",
          "name": "stdout",
          "text": [
            "SSD Classification Loss: 3.4880 | SSD Localization Loss: 1.0950\n"
          ]
        },
        {
          "output_type": "stream",
          "name": "stderr",
          "text": [
            " 51%|█████     | 321/627 [01:14<01:10,  4.36it/s]"
          ]
        },
        {
          "output_type": "stream",
          "name": "stdout",
          "text": [
            "SSD Classification Loss: 3.4793 | SSD Localization Loss: 1.0913\n"
          ]
        },
        {
          "output_type": "stream",
          "name": "stderr",
          "text": [
            " 67%|██████▋   | 421/627 [01:37<00:48,  4.24it/s]"
          ]
        },
        {
          "output_type": "stream",
          "name": "stdout",
          "text": [
            "SSD Classification Loss: 3.4338 | SSD Localization Loss: 1.0796\n"
          ]
        },
        {
          "output_type": "stream",
          "name": "stderr",
          "text": [
            " 83%|████████▎ | 521/627 [02:01<00:20,  5.06it/s]"
          ]
        },
        {
          "output_type": "stream",
          "name": "stdout",
          "text": [
            "SSD Classification Loss: 3.4102 | SSD Localization Loss: 1.0705\n"
          ]
        },
        {
          "output_type": "stream",
          "name": "stderr",
          "text": [
            " 99%|█████████▉| 622/627 [02:25<00:00,  5.73it/s]"
          ]
        },
        {
          "output_type": "stream",
          "name": "stdout",
          "text": [
            "SSD Classification Loss: 3.4137 | SSD Localization Loss: 1.0753\n"
          ]
        },
        {
          "output_type": "stream",
          "name": "stderr",
          "text": [
            "100%|██████████| 627/627 [02:26<00:00,  4.28it/s]\n"
          ]
        },
        {
          "output_type": "stream",
          "name": "stdout",
          "text": [
            "Finished epoch 41\n",
            "SSD Classification Loss: 3.4156 | SSD Localization Loss: 1.0771\n"
          ]
        },
        {
          "output_type": "stream",
          "name": "stderr",
          "text": [
            " 15%|█▍        | 94/627 [00:21<01:56,  4.59it/s]"
          ]
        },
        {
          "output_type": "stream",
          "name": "stdout",
          "text": [
            "SSD Classification Loss: 3.4593 | SSD Localization Loss: 1.0977\n"
          ]
        },
        {
          "output_type": "stream",
          "name": "stderr",
          "text": [
            " 31%|███       | 194/627 [00:44<01:53,  3.81it/s]"
          ]
        },
        {
          "output_type": "stream",
          "name": "stdout",
          "text": [
            "SSD Classification Loss: 3.4439 | SSD Localization Loss: 1.0944\n"
          ]
        },
        {
          "output_type": "stream",
          "name": "stderr",
          "text": [
            " 47%|████▋     | 294/627 [01:06<01:17,  4.27it/s]"
          ]
        },
        {
          "output_type": "stream",
          "name": "stdout",
          "text": [
            "SSD Classification Loss: 3.4146 | SSD Localization Loss: 1.0789\n"
          ]
        },
        {
          "output_type": "stream",
          "name": "stderr",
          "text": [
            " 63%|██████▎   | 394/627 [01:29<00:50,  4.61it/s]"
          ]
        },
        {
          "output_type": "stream",
          "name": "stdout",
          "text": [
            "SSD Classification Loss: 3.3903 | SSD Localization Loss: 1.0736\n"
          ]
        },
        {
          "output_type": "stream",
          "name": "stderr",
          "text": [
            " 79%|███████▉  | 494/627 [01:52<00:34,  3.87it/s]"
          ]
        },
        {
          "output_type": "stream",
          "name": "stdout",
          "text": [
            "SSD Classification Loss: 3.3714 | SSD Localization Loss: 1.0650\n"
          ]
        },
        {
          "output_type": "stream",
          "name": "stderr",
          "text": [
            " 95%|█████████▍| 594/627 [02:15<00:07,  4.64it/s]"
          ]
        },
        {
          "output_type": "stream",
          "name": "stdout",
          "text": [
            "SSD Classification Loss: 3.3738 | SSD Localization Loss: 1.0665\n"
          ]
        },
        {
          "output_type": "stream",
          "name": "stderr",
          "text": [
            "100%|██████████| 627/627 [02:22<00:00,  4.40it/s]\n"
          ]
        },
        {
          "output_type": "stream",
          "name": "stdout",
          "text": [
            "Finished epoch 42\n",
            "SSD Classification Loss: 3.3788 | SSD Localization Loss: 1.0656\n"
          ]
        },
        {
          "output_type": "stream",
          "name": "stderr",
          "text": [
            " 11%|█         | 67/627 [00:15<01:56,  4.82it/s]"
          ]
        },
        {
          "output_type": "stream",
          "name": "stdout",
          "text": [
            "SSD Classification Loss: 3.3589 | SSD Localization Loss: 1.0614\n"
          ]
        },
        {
          "output_type": "stream",
          "name": "stderr",
          "text": [
            " 27%|██▋       | 167/627 [00:37<01:28,  5.17it/s]"
          ]
        },
        {
          "output_type": "stream",
          "name": "stdout",
          "text": [
            "SSD Classification Loss: 3.3117 | SSD Localization Loss: 1.0250\n"
          ]
        },
        {
          "output_type": "stream",
          "name": "stderr",
          "text": [
            " 43%|████▎     | 267/627 [00:59<01:14,  4.83it/s]"
          ]
        },
        {
          "output_type": "stream",
          "name": "stdout",
          "text": [
            "SSD Classification Loss: 3.3257 | SSD Localization Loss: 1.0421\n"
          ]
        },
        {
          "output_type": "stream",
          "name": "stderr",
          "text": [
            " 59%|█████▊    | 368/627 [01:22<00:50,  5.16it/s]"
          ]
        },
        {
          "output_type": "stream",
          "name": "stdout",
          "text": [
            "SSD Classification Loss: 3.3477 | SSD Localization Loss: 1.0527\n"
          ]
        },
        {
          "output_type": "stream",
          "name": "stderr",
          "text": [
            " 74%|███████▍  | 467/627 [01:45<00:42,  3.78it/s]"
          ]
        },
        {
          "output_type": "stream",
          "name": "stdout",
          "text": [
            "SSD Classification Loss: 3.3380 | SSD Localization Loss: 1.0464\n"
          ]
        },
        {
          "output_type": "stream",
          "name": "stderr",
          "text": [
            " 90%|█████████ | 567/627 [02:08<00:16,  3.59it/s]"
          ]
        },
        {
          "output_type": "stream",
          "name": "stdout",
          "text": [
            "SSD Classification Loss: 3.3271 | SSD Localization Loss: 1.0438\n"
          ]
        },
        {
          "output_type": "stream",
          "name": "stderr",
          "text": [
            "100%|██████████| 627/627 [02:23<00:00,  4.38it/s]\n"
          ]
        },
        {
          "output_type": "stream",
          "name": "stdout",
          "text": [
            "Finished epoch 43\n",
            "SSD Classification Loss: 3.3256 | SSD Localization Loss: 1.0427\n"
          ]
        },
        {
          "output_type": "stream",
          "name": "stderr",
          "text": [
            "  7%|▋         | 41/627 [00:08<01:50,  5.28it/s]"
          ]
        },
        {
          "output_type": "stream",
          "name": "stdout",
          "text": [
            "SSD Classification Loss: 3.4405 | SSD Localization Loss: 1.0997\n"
          ]
        },
        {
          "output_type": "stream",
          "name": "stderr",
          "text": [
            " 22%|██▏       | 140/627 [00:31<01:55,  4.21it/s]"
          ]
        },
        {
          "output_type": "stream",
          "name": "stdout",
          "text": [
            "SSD Classification Loss: 3.3808 | SSD Localization Loss: 1.0710\n"
          ]
        },
        {
          "output_type": "stream",
          "name": "stderr",
          "text": [
            " 38%|███▊      | 241/627 [00:53<01:13,  5.28it/s]"
          ]
        },
        {
          "output_type": "stream",
          "name": "stdout",
          "text": [
            "SSD Classification Loss: 3.3551 | SSD Localization Loss: 1.0616\n"
          ]
        },
        {
          "output_type": "stream",
          "name": "stderr",
          "text": [
            " 54%|█████▍    | 340/627 [01:15<01:02,  4.56it/s]"
          ]
        },
        {
          "output_type": "stream",
          "name": "stdout",
          "text": [
            "SSD Classification Loss: 3.3656 | SSD Localization Loss: 1.0662\n"
          ]
        },
        {
          "output_type": "stream",
          "name": "stderr",
          "text": [
            " 70%|███████   | 440/627 [01:38<00:40,  4.66it/s]"
          ]
        },
        {
          "output_type": "stream",
          "name": "stdout",
          "text": [
            "SSD Classification Loss: 3.3610 | SSD Localization Loss: 1.0641\n"
          ]
        },
        {
          "output_type": "stream",
          "name": "stderr",
          "text": [
            " 86%|████████▌ | 540/627 [02:01<00:20,  4.30it/s]"
          ]
        },
        {
          "output_type": "stream",
          "name": "stdout",
          "text": [
            "SSD Classification Loss: 3.3373 | SSD Localization Loss: 1.0521\n"
          ]
        },
        {
          "output_type": "stream",
          "name": "stderr",
          "text": [
            "100%|██████████| 627/627 [02:21<00:00,  4.44it/s]\n"
          ]
        },
        {
          "output_type": "stream",
          "name": "stdout",
          "text": [
            "Finished epoch 44\n",
            "SSD Classification Loss: 3.3259 | SSD Localization Loss: 1.0480\n"
          ]
        },
        {
          "output_type": "stream",
          "name": "stderr",
          "text": [
            "  2%|▏         | 14/627 [00:02<02:13,  4.59it/s]"
          ]
        },
        {
          "output_type": "stream",
          "name": "stdout",
          "text": [
            "SSD Classification Loss: 3.0812 | SSD Localization Loss: 0.9086\n"
          ]
        },
        {
          "output_type": "stream",
          "name": "stderr",
          "text": [
            " 18%|█▊        | 113/627 [00:25<02:29,  3.45it/s]"
          ]
        },
        {
          "output_type": "stream",
          "name": "stdout",
          "text": [
            "SSD Classification Loss: 3.2257 | SSD Localization Loss: 1.0070\n"
          ]
        },
        {
          "output_type": "stream",
          "name": "stderr",
          "text": [
            " 34%|███▍      | 213/627 [00:47<01:26,  4.79it/s]"
          ]
        },
        {
          "output_type": "stream",
          "name": "stdout",
          "text": [
            "SSD Classification Loss: 3.2472 | SSD Localization Loss: 1.0121\n"
          ]
        },
        {
          "output_type": "stream",
          "name": "stderr",
          "text": [
            " 50%|████▉     | 313/627 [01:10<01:38,  3.20it/s]"
          ]
        },
        {
          "output_type": "stream",
          "name": "stdout",
          "text": [
            "SSD Classification Loss: 3.2813 | SSD Localization Loss: 1.0303\n"
          ]
        },
        {
          "output_type": "stream",
          "name": "stderr",
          "text": [
            " 66%|██████▌   | 413/627 [01:34<00:47,  4.54it/s]"
          ]
        },
        {
          "output_type": "stream",
          "name": "stdout",
          "text": [
            "SSD Classification Loss: 3.2996 | SSD Localization Loss: 1.0362\n"
          ]
        },
        {
          "output_type": "stream",
          "name": "stderr",
          "text": [
            " 82%|████████▏ | 513/627 [01:57<00:34,  3.28it/s]"
          ]
        },
        {
          "output_type": "stream",
          "name": "stdout",
          "text": [
            "SSD Classification Loss: 3.3238 | SSD Localization Loss: 1.0463\n"
          ]
        },
        {
          "output_type": "stream",
          "name": "stderr",
          "text": [
            " 98%|█████████▊| 613/627 [02:20<00:03,  4.61it/s]"
          ]
        },
        {
          "output_type": "stream",
          "name": "stdout",
          "text": [
            "SSD Classification Loss: 3.3063 | SSD Localization Loss: 1.0365\n"
          ]
        },
        {
          "output_type": "stream",
          "name": "stderr",
          "text": [
            "100%|██████████| 627/627 [02:23<00:00,  4.36it/s]\n"
          ]
        },
        {
          "output_type": "stream",
          "name": "stdout",
          "text": [
            "Finished epoch 45\n",
            "SSD Classification Loss: 3.3094 | SSD Localization Loss: 1.0396\n"
          ]
        },
        {
          "output_type": "stream",
          "name": "stderr",
          "text": [
            " 14%|█▎        | 86/627 [00:19<02:09,  4.19it/s]"
          ]
        },
        {
          "output_type": "stream",
          "name": "stdout",
          "text": [
            "SSD Classification Loss: 3.3547 | SSD Localization Loss: 1.0688\n"
          ]
        },
        {
          "output_type": "stream",
          "name": "stderr",
          "text": [
            " 30%|██▉       | 186/627 [00:42<01:39,  4.42it/s]"
          ]
        },
        {
          "output_type": "stream",
          "name": "stdout",
          "text": [
            "SSD Classification Loss: 3.3680 | SSD Localization Loss: 1.0705\n"
          ]
        },
        {
          "output_type": "stream",
          "name": "stderr",
          "text": [
            " 46%|████▌     | 287/627 [01:05<01:10,  4.79it/s]"
          ]
        },
        {
          "output_type": "stream",
          "name": "stdout",
          "text": [
            "SSD Classification Loss: 3.3227 | SSD Localization Loss: 1.0478\n"
          ]
        },
        {
          "output_type": "stream",
          "name": "stderr",
          "text": [
            " 62%|██████▏   | 386/627 [01:28<00:49,  4.89it/s]"
          ]
        },
        {
          "output_type": "stream",
          "name": "stdout",
          "text": [
            "SSD Classification Loss: 3.3087 | SSD Localization Loss: 1.0470\n"
          ]
        },
        {
          "output_type": "stream",
          "name": "stderr",
          "text": [
            " 78%|███████▊  | 487/627 [01:52<00:27,  5.03it/s]"
          ]
        },
        {
          "output_type": "stream",
          "name": "stdout",
          "text": [
            "SSD Classification Loss: 3.2940 | SSD Localization Loss: 1.0438\n"
          ]
        },
        {
          "output_type": "stream",
          "name": "stderr",
          "text": [
            " 93%|█████████▎| 586/627 [02:15<00:10,  4.08it/s]"
          ]
        },
        {
          "output_type": "stream",
          "name": "stdout",
          "text": [
            "SSD Classification Loss: 3.2935 | SSD Localization Loss: 1.0386\n"
          ]
        },
        {
          "output_type": "stream",
          "name": "stderr",
          "text": [
            "100%|██████████| 627/627 [02:24<00:00,  4.33it/s]\n"
          ]
        },
        {
          "output_type": "stream",
          "name": "stdout",
          "text": [
            "Finished epoch 46\n",
            "SSD Classification Loss: 3.2956 | SSD Localization Loss: 1.0385\n"
          ]
        },
        {
          "output_type": "stream",
          "name": "stderr",
          "text": [
            "  9%|▉         | 59/627 [00:13<02:16,  4.17it/s]"
          ]
        },
        {
          "output_type": "stream",
          "name": "stdout",
          "text": [
            "SSD Classification Loss: 3.2893 | SSD Localization Loss: 1.0523\n"
          ]
        },
        {
          "output_type": "stream",
          "name": "stderr",
          "text": [
            " 26%|██▌       | 160/627 [00:36<01:56,  4.00it/s]"
          ]
        },
        {
          "output_type": "stream",
          "name": "stdout",
          "text": [
            "SSD Classification Loss: 3.2470 | SSD Localization Loss: 1.0254\n"
          ]
        },
        {
          "output_type": "stream",
          "name": "stderr",
          "text": [
            " 41%|████▏     | 259/627 [01:00<01:26,  4.28it/s]"
          ]
        },
        {
          "output_type": "stream",
          "name": "stdout",
          "text": [
            "SSD Classification Loss: 3.2919 | SSD Localization Loss: 1.0487\n"
          ]
        },
        {
          "output_type": "stream",
          "name": "stderr",
          "text": [
            " 57%|█████▋    | 360/627 [01:22<00:56,  4.69it/s]"
          ]
        },
        {
          "output_type": "stream",
          "name": "stdout",
          "text": [
            "SSD Classification Loss: 3.2744 | SSD Localization Loss: 1.0397\n"
          ]
        },
        {
          "output_type": "stream",
          "name": "stderr",
          "text": [
            " 73%|███████▎  | 459/627 [01:45<00:37,  4.46it/s]"
          ]
        },
        {
          "output_type": "stream",
          "name": "stdout",
          "text": [
            "SSD Classification Loss: 3.2794 | SSD Localization Loss: 1.0373\n"
          ]
        },
        {
          "output_type": "stream",
          "name": "stderr",
          "text": [
            " 89%|████████▉ | 559/627 [02:08<00:16,  4.24it/s]"
          ]
        },
        {
          "output_type": "stream",
          "name": "stdout",
          "text": [
            "SSD Classification Loss: 3.2993 | SSD Localization Loss: 1.0506\n"
          ]
        },
        {
          "output_type": "stream",
          "name": "stderr",
          "text": [
            "100%|██████████| 627/627 [02:23<00:00,  4.38it/s]\n"
          ]
        },
        {
          "output_type": "stream",
          "name": "stdout",
          "text": [
            "Finished epoch 47\n",
            "SSD Classification Loss: 3.3023 | SSD Localization Loss: 1.0497\n"
          ]
        },
        {
          "output_type": "stream",
          "name": "stderr",
          "text": [
            "  5%|▌         | 32/627 [00:06<01:54,  5.19it/s]"
          ]
        },
        {
          "output_type": "stream",
          "name": "stdout",
          "text": [
            "SSD Classification Loss: 3.3123 | SSD Localization Loss: 1.0579\n"
          ]
        },
        {
          "output_type": "stream",
          "name": "stderr",
          "text": [
            " 21%|██        | 132/627 [00:30<01:49,  4.51it/s]"
          ]
        },
        {
          "output_type": "stream",
          "name": "stdout",
          "text": [
            "SSD Classification Loss: 3.2368 | SSD Localization Loss: 1.0373\n"
          ]
        },
        {
          "output_type": "stream",
          "name": "stderr",
          "text": [
            " 37%|███▋      | 233/627 [00:52<01:14,  5.30it/s]"
          ]
        },
        {
          "output_type": "stream",
          "name": "stdout",
          "text": [
            "SSD Classification Loss: 3.2184 | SSD Localization Loss: 1.0158\n"
          ]
        },
        {
          "output_type": "stream",
          "name": "stderr",
          "text": [
            " 53%|█████▎    | 332/627 [01:15<01:03,  4.63it/s]"
          ]
        },
        {
          "output_type": "stream",
          "name": "stdout",
          "text": [
            "SSD Classification Loss: 3.2434 | SSD Localization Loss: 1.0241\n"
          ]
        },
        {
          "output_type": "stream",
          "name": "stderr",
          "text": [
            " 69%|██████▉   | 432/627 [01:38<00:51,  3.82it/s]"
          ]
        },
        {
          "output_type": "stream",
          "name": "stdout",
          "text": [
            "SSD Classification Loss: 3.2371 | SSD Localization Loss: 1.0190\n"
          ]
        },
        {
          "output_type": "stream",
          "name": "stderr",
          "text": [
            " 85%|████████▍ | 532/627 [02:01<00:19,  4.84it/s]"
          ]
        },
        {
          "output_type": "stream",
          "name": "stdout",
          "text": [
            "SSD Classification Loss: 3.2429 | SSD Localization Loss: 1.0213\n"
          ]
        },
        {
          "output_type": "stream",
          "name": "stderr",
          "text": [
            "100%|██████████| 627/627 [02:22<00:00,  4.39it/s]\n"
          ]
        },
        {
          "output_type": "stream",
          "name": "stdout",
          "text": [
            "Finished epoch 48\n",
            "SSD Classification Loss: 3.2439 | SSD Localization Loss: 1.0226\n"
          ]
        },
        {
          "output_type": "stream",
          "name": "stderr",
          "text": [
            "  1%|          | 5/627 [00:01<02:13,  4.65it/s]"
          ]
        },
        {
          "output_type": "stream",
          "name": "stdout",
          "text": [
            "SSD Classification Loss: 3.0945 | SSD Localization Loss: 0.9327\n"
          ]
        },
        {
          "output_type": "stream",
          "name": "stderr",
          "text": [
            " 17%|█▋        | 105/627 [00:23<01:51,  4.67it/s]"
          ]
        },
        {
          "output_type": "stream",
          "name": "stdout",
          "text": [
            "SSD Classification Loss: 3.2363 | SSD Localization Loss: 1.0305\n"
          ]
        },
        {
          "output_type": "stream",
          "name": "stderr",
          "text": [
            " 33%|███▎      | 205/627 [00:45<01:41,  4.17it/s]"
          ]
        },
        {
          "output_type": "stream",
          "name": "stdout",
          "text": [
            "SSD Classification Loss: 3.2572 | SSD Localization Loss: 1.0358\n"
          ]
        },
        {
          "output_type": "stream",
          "name": "stderr",
          "text": [
            " 49%|████▊     | 305/627 [01:09<01:14,  4.30it/s]"
          ]
        },
        {
          "output_type": "stream",
          "name": "stdout",
          "text": [
            "SSD Classification Loss: 3.2629 | SSD Localization Loss: 1.0326\n"
          ]
        },
        {
          "output_type": "stream",
          "name": "stderr",
          "text": [
            " 65%|██████▍   | 406/627 [01:32<00:51,  4.28it/s]"
          ]
        },
        {
          "output_type": "stream",
          "name": "stdout",
          "text": [
            "SSD Classification Loss: 3.2581 | SSD Localization Loss: 1.0236\n"
          ]
        },
        {
          "output_type": "stream",
          "name": "stderr",
          "text": [
            " 81%|████████  | 505/627 [01:55<00:22,  5.35it/s]"
          ]
        },
        {
          "output_type": "stream",
          "name": "stdout",
          "text": [
            "SSD Classification Loss: 3.2436 | SSD Localization Loss: 1.0214\n"
          ]
        },
        {
          "output_type": "stream",
          "name": "stderr",
          "text": [
            " 96%|█████████▋| 605/627 [02:17<00:04,  4.60it/s]"
          ]
        },
        {
          "output_type": "stream",
          "name": "stdout",
          "text": [
            "SSD Classification Loss: 3.2418 | SSD Localization Loss: 1.0201\n"
          ]
        },
        {
          "output_type": "stream",
          "name": "stderr",
          "text": [
            "100%|██████████| 627/627 [02:22<00:00,  4.40it/s]\n"
          ]
        },
        {
          "output_type": "stream",
          "name": "stdout",
          "text": [
            "Finished epoch 49\n",
            "SSD Classification Loss: 3.2366 | SSD Localization Loss: 1.0193\n"
          ]
        },
        {
          "output_type": "stream",
          "name": "stderr",
          "text": [
            " 12%|█▏        | 78/627 [00:18<02:26,  3.74it/s]"
          ]
        },
        {
          "output_type": "stream",
          "name": "stdout",
          "text": [
            "SSD Classification Loss: 3.2616 | SSD Localization Loss: 1.0225\n"
          ]
        },
        {
          "output_type": "stream",
          "name": "stderr",
          "text": [
            " 28%|██▊       | 178/627 [00:40<02:01,  3.71it/s]"
          ]
        },
        {
          "output_type": "stream",
          "name": "stdout",
          "text": [
            "SSD Classification Loss: 3.2384 | SSD Localization Loss: 1.0123\n"
          ]
        },
        {
          "output_type": "stream",
          "name": "stderr",
          "text": [
            " 44%|████▍     | 278/627 [01:02<01:14,  4.69it/s]"
          ]
        },
        {
          "output_type": "stream",
          "name": "stdout",
          "text": [
            "SSD Classification Loss: 3.1873 | SSD Localization Loss: 0.9967\n"
          ]
        },
        {
          "output_type": "stream",
          "name": "stderr",
          "text": [
            " 60%|██████    | 378/627 [01:24<00:51,  4.88it/s]"
          ]
        },
        {
          "output_type": "stream",
          "name": "stdout",
          "text": [
            "SSD Classification Loss: 3.1929 | SSD Localization Loss: 1.0011\n"
          ]
        },
        {
          "output_type": "stream",
          "name": "stderr",
          "text": [
            " 76%|███████▌  | 478/627 [01:48<00:30,  4.97it/s]"
          ]
        },
        {
          "output_type": "stream",
          "name": "stdout",
          "text": [
            "SSD Classification Loss: 3.2101 | SSD Localization Loss: 1.0103\n"
          ]
        },
        {
          "output_type": "stream",
          "name": "stderr",
          "text": [
            " 92%|█████████▏| 578/627 [02:10<00:10,  4.50it/s]"
          ]
        },
        {
          "output_type": "stream",
          "name": "stdout",
          "text": [
            "SSD Classification Loss: 3.2181 | SSD Localization Loss: 1.0152\n"
          ]
        },
        {
          "output_type": "stream",
          "name": "stderr",
          "text": [
            "100%|██████████| 627/627 [02:21<00:00,  4.42it/s]\n"
          ]
        },
        {
          "output_type": "stream",
          "name": "stdout",
          "text": [
            "Finished epoch 50\n",
            "SSD Classification Loss: 3.2285 | SSD Localization Loss: 1.0201\n"
          ]
        },
        {
          "output_type": "stream",
          "name": "stderr",
          "text": [
            "  8%|▊         | 51/627 [00:11<02:17,  4.18it/s]"
          ]
        },
        {
          "output_type": "stream",
          "name": "stdout",
          "text": [
            "SSD Classification Loss: 3.2465 | SSD Localization Loss: 1.0514\n"
          ]
        },
        {
          "output_type": "stream",
          "name": "stderr",
          "text": [
            " 24%|██▍       | 151/627 [00:35<01:45,  4.53it/s]"
          ]
        },
        {
          "output_type": "stream",
          "name": "stdout",
          "text": [
            "SSD Classification Loss: 3.1345 | SSD Localization Loss: 0.9937\n"
          ]
        },
        {
          "output_type": "stream",
          "name": "stderr",
          "text": [
            " 40%|████      | 251/627 [00:57<01:32,  4.08it/s]"
          ]
        },
        {
          "output_type": "stream",
          "name": "stdout",
          "text": [
            "SSD Classification Loss: 3.0959 | SSD Localization Loss: 0.9777\n"
          ]
        },
        {
          "output_type": "stream",
          "name": "stderr",
          "text": [
            " 56%|█████▌    | 351/627 [01:20<00:53,  5.15it/s]"
          ]
        },
        {
          "output_type": "stream",
          "name": "stdout",
          "text": [
            "SSD Classification Loss: 3.0965 | SSD Localization Loss: 0.9750\n"
          ]
        },
        {
          "output_type": "stream",
          "name": "stderr",
          "text": [
            " 72%|███████▏  | 451/627 [01:43<00:36,  4.86it/s]"
          ]
        },
        {
          "output_type": "stream",
          "name": "stdout",
          "text": [
            "SSD Classification Loss: 3.0888 | SSD Localization Loss: 0.9712\n"
          ]
        },
        {
          "output_type": "stream",
          "name": "stderr",
          "text": [
            " 88%|████████▊ | 551/627 [02:06<00:18,  4.14it/s]"
          ]
        },
        {
          "output_type": "stream",
          "name": "stdout",
          "text": [
            "SSD Classification Loss: 3.1048 | SSD Localization Loss: 0.9780\n"
          ]
        },
        {
          "output_type": "stream",
          "name": "stderr",
          "text": [
            "100%|██████████| 627/627 [02:23<00:00,  4.37it/s]\n"
          ]
        },
        {
          "output_type": "stream",
          "name": "stdout",
          "text": [
            "Finished epoch 51\n",
            "SSD Classification Loss: 3.1091 | SSD Localization Loss: 0.9808\n"
          ]
        },
        {
          "output_type": "stream",
          "name": "stderr",
          "text": [
            "  4%|▍         | 24/627 [00:05<02:19,  4.32it/s]"
          ]
        },
        {
          "output_type": "stream",
          "name": "stdout",
          "text": [
            "SSD Classification Loss: 3.1194 | SSD Localization Loss: 0.9618\n"
          ]
        },
        {
          "output_type": "stream",
          "name": "stderr",
          "text": [
            " 20%|█▉        | 125/627 [00:29<01:41,  4.94it/s]"
          ]
        },
        {
          "output_type": "stream",
          "name": "stdout",
          "text": [
            "SSD Classification Loss: 3.1733 | SSD Localization Loss: 1.0001\n"
          ]
        },
        {
          "output_type": "stream",
          "name": "stderr",
          "text": [
            " 36%|███▌      | 224/627 [00:52<01:41,  3.96it/s]"
          ]
        },
        {
          "output_type": "stream",
          "name": "stdout",
          "text": [
            "SSD Classification Loss: 3.1324 | SSD Localization Loss: 0.9862\n"
          ]
        },
        {
          "output_type": "stream",
          "name": "stderr",
          "text": [
            " 52%|█████▏    | 324/627 [01:15<01:11,  4.25it/s]"
          ]
        },
        {
          "output_type": "stream",
          "name": "stdout",
          "text": [
            "SSD Classification Loss: 3.1223 | SSD Localization Loss: 0.9814\n"
          ]
        },
        {
          "output_type": "stream",
          "name": "stderr",
          "text": [
            " 68%|██████▊   | 424/627 [01:38<00:46,  4.39it/s]"
          ]
        },
        {
          "output_type": "stream",
          "name": "stdout",
          "text": [
            "SSD Classification Loss: 3.1178 | SSD Localization Loss: 0.9786\n"
          ]
        },
        {
          "output_type": "stream",
          "name": "stderr",
          "text": [
            " 84%|████████▎ | 525/627 [02:00<00:20,  4.89it/s]"
          ]
        },
        {
          "output_type": "stream",
          "name": "stdout",
          "text": [
            "SSD Classification Loss: 3.1206 | SSD Localization Loss: 0.9784\n"
          ]
        },
        {
          "output_type": "stream",
          "name": "stderr",
          "text": [
            "100%|█████████▉| 625/627 [02:23<00:00,  4.31it/s]"
          ]
        },
        {
          "output_type": "stream",
          "name": "stdout",
          "text": [
            "SSD Classification Loss: 3.1257 | SSD Localization Loss: 0.9836\n"
          ]
        },
        {
          "output_type": "stream",
          "name": "stderr",
          "text": [
            "100%|██████████| 627/627 [02:24<00:00,  4.35it/s]\n"
          ]
        },
        {
          "output_type": "stream",
          "name": "stdout",
          "text": [
            "Finished epoch 52\n",
            "SSD Classification Loss: 3.1265 | SSD Localization Loss: 0.9846\n"
          ]
        },
        {
          "output_type": "stream",
          "name": "stderr",
          "text": [
            " 15%|█▌        | 97/627 [00:22<02:04,  4.24it/s]"
          ]
        },
        {
          "output_type": "stream",
          "name": "stdout",
          "text": [
            "SSD Classification Loss: 3.1096 | SSD Localization Loss: 0.9633\n"
          ]
        },
        {
          "output_type": "stream",
          "name": "stderr",
          "text": [
            " 31%|███▏      | 197/627 [00:46<01:57,  3.66it/s]"
          ]
        },
        {
          "output_type": "stream",
          "name": "stdout",
          "text": [
            "SSD Classification Loss: 3.1447 | SSD Localization Loss: 0.9862\n"
          ]
        },
        {
          "output_type": "stream",
          "name": "stderr",
          "text": [
            " 47%|████▋     | 297/627 [01:09<01:14,  4.46it/s]"
          ]
        },
        {
          "output_type": "stream",
          "name": "stdout",
          "text": [
            "SSD Classification Loss: 3.1276 | SSD Localization Loss: 0.9771\n"
          ]
        },
        {
          "output_type": "stream",
          "name": "stderr",
          "text": [
            " 63%|██████▎   | 397/627 [01:32<00:50,  4.59it/s]"
          ]
        },
        {
          "output_type": "stream",
          "name": "stdout",
          "text": [
            "SSD Classification Loss: 3.1121 | SSD Localization Loss: 0.9742\n"
          ]
        },
        {
          "output_type": "stream",
          "name": "stderr",
          "text": [
            " 79%|███████▉  | 497/627 [01:54<00:29,  4.48it/s]"
          ]
        },
        {
          "output_type": "stream",
          "name": "stdout",
          "text": [
            "SSD Classification Loss: 3.1025 | SSD Localization Loss: 0.9732\n"
          ]
        },
        {
          "output_type": "stream",
          "name": "stderr",
          "text": [
            " 95%|█████████▌| 597/627 [02:16<00:05,  5.14it/s]"
          ]
        },
        {
          "output_type": "stream",
          "name": "stdout",
          "text": [
            "SSD Classification Loss: 3.0918 | SSD Localization Loss: 0.9670\n"
          ]
        },
        {
          "output_type": "stream",
          "name": "stderr",
          "text": [
            "100%|██████████| 627/627 [02:23<00:00,  4.36it/s]\n"
          ]
        },
        {
          "output_type": "stream",
          "name": "stdout",
          "text": [
            "Finished epoch 53\n",
            "SSD Classification Loss: 3.0926 | SSD Localization Loss: 0.9688\n"
          ]
        },
        {
          "output_type": "stream",
          "name": "stderr",
          "text": [
            " 11%|█         | 70/627 [00:15<01:58,  4.69it/s]"
          ]
        },
        {
          "output_type": "stream",
          "name": "stdout",
          "text": [
            "SSD Classification Loss: 2.9563 | SSD Localization Loss: 0.9328\n"
          ]
        },
        {
          "output_type": "stream",
          "name": "stderr",
          "text": [
            " 27%|██▋       | 170/627 [00:40<01:30,  5.04it/s]"
          ]
        },
        {
          "output_type": "stream",
          "name": "stdout",
          "text": [
            "SSD Classification Loss: 3.0400 | SSD Localization Loss: 0.9630\n"
          ]
        },
        {
          "output_type": "stream",
          "name": "stderr",
          "text": [
            " 43%|████▎     | 270/627 [01:02<01:11,  4.98it/s]"
          ]
        },
        {
          "output_type": "stream",
          "name": "stdout",
          "text": [
            "SSD Classification Loss: 3.0314 | SSD Localization Loss: 0.9568\n"
          ]
        },
        {
          "output_type": "stream",
          "name": "stderr",
          "text": [
            " 59%|█████▉    | 370/627 [01:25<00:52,  4.85it/s]"
          ]
        },
        {
          "output_type": "stream",
          "name": "stdout",
          "text": [
            "SSD Classification Loss: 3.0439 | SSD Localization Loss: 0.9579\n"
          ]
        },
        {
          "output_type": "stream",
          "name": "stderr",
          "text": [
            " 75%|███████▌  | 471/627 [01:49<00:29,  5.24it/s]"
          ]
        },
        {
          "output_type": "stream",
          "name": "stdout",
          "text": [
            "SSD Classification Loss: 3.0677 | SSD Localization Loss: 0.9650\n"
          ]
        },
        {
          "output_type": "stream",
          "name": "stderr",
          "text": [
            " 91%|█████████ | 570/627 [02:11<00:11,  5.03it/s]"
          ]
        },
        {
          "output_type": "stream",
          "name": "stdout",
          "text": [
            "SSD Classification Loss: 3.0807 | SSD Localization Loss: 0.9679\n"
          ]
        },
        {
          "output_type": "stream",
          "name": "stderr",
          "text": [
            "100%|██████████| 627/627 [02:24<00:00,  4.33it/s]\n"
          ]
        },
        {
          "output_type": "stream",
          "name": "stdout",
          "text": [
            "Finished epoch 54\n",
            "SSD Classification Loss: 3.0847 | SSD Localization Loss: 0.9682\n"
          ]
        },
        {
          "output_type": "stream",
          "name": "stderr",
          "text": [
            "  7%|▋         | 44/627 [00:09<01:51,  5.22it/s]"
          ]
        },
        {
          "output_type": "stream",
          "name": "stdout",
          "text": [
            "SSD Classification Loss: 2.9372 | SSD Localization Loss: 0.8873\n"
          ]
        },
        {
          "output_type": "stream",
          "name": "stderr",
          "text": [
            " 23%|██▎       | 143/627 [00:32<01:56,  4.14it/s]"
          ]
        },
        {
          "output_type": "stream",
          "name": "stdout",
          "text": [
            "SSD Classification Loss: 3.0256 | SSD Localization Loss: 0.9454\n"
          ]
        },
        {
          "output_type": "stream",
          "name": "stderr",
          "text": [
            " 39%|███▉      | 243/627 [00:54<01:17,  4.96it/s]"
          ]
        },
        {
          "output_type": "stream",
          "name": "stdout",
          "text": [
            "SSD Classification Loss: 3.0603 | SSD Localization Loss: 0.9505\n"
          ]
        },
        {
          "output_type": "stream",
          "name": "stderr",
          "text": [
            " 55%|█████▍    | 343/627 [01:16<01:02,  4.52it/s]"
          ]
        },
        {
          "output_type": "stream",
          "name": "stdout",
          "text": [
            "SSD Classification Loss: 3.0353 | SSD Localization Loss: 0.9395\n"
          ]
        },
        {
          "output_type": "stream",
          "name": "stderr",
          "text": [
            " 71%|███████   | 443/627 [01:39<00:43,  4.19it/s]"
          ]
        },
        {
          "output_type": "stream",
          "name": "stdout",
          "text": [
            "SSD Classification Loss: 3.0474 | SSD Localization Loss: 0.9425\n"
          ]
        },
        {
          "output_type": "stream",
          "name": "stderr",
          "text": [
            " 87%|████████▋ | 543/627 [02:03<00:19,  4.32it/s]"
          ]
        },
        {
          "output_type": "stream",
          "name": "stdout",
          "text": [
            "SSD Classification Loss: 3.0644 | SSD Localization Loss: 0.9545\n"
          ]
        },
        {
          "output_type": "stream",
          "name": "stderr",
          "text": [
            "100%|██████████| 627/627 [02:21<00:00,  4.43it/s]\n"
          ]
        },
        {
          "output_type": "stream",
          "name": "stdout",
          "text": [
            "Finished epoch 55\n",
            "SSD Classification Loss: 3.0614 | SSD Localization Loss: 0.9541\n"
          ]
        },
        {
          "output_type": "stream",
          "name": "stderr",
          "text": [
            "  3%|▎         | 16/627 [00:03<02:08,  4.77it/s]"
          ]
        },
        {
          "output_type": "stream",
          "name": "stdout",
          "text": [
            "SSD Classification Loss: 3.0363 | SSD Localization Loss: 0.8901\n"
          ]
        },
        {
          "output_type": "stream",
          "name": "stderr",
          "text": [
            " 19%|█▊        | 116/627 [00:26<01:35,  5.34it/s]"
          ]
        },
        {
          "output_type": "stream",
          "name": "stdout",
          "text": [
            "SSD Classification Loss: 3.0045 | SSD Localization Loss: 0.9304\n"
          ]
        },
        {
          "output_type": "stream",
          "name": "stderr",
          "text": [
            " 34%|███▍      | 216/627 [00:48<01:43,  3.98it/s]"
          ]
        },
        {
          "output_type": "stream",
          "name": "stdout",
          "text": [
            "SSD Classification Loss: 3.0593 | SSD Localization Loss: 0.9589\n"
          ]
        },
        {
          "output_type": "stream",
          "name": "stderr",
          "text": [
            " 50%|█████     | 316/627 [01:13<01:01,  5.06it/s]"
          ]
        },
        {
          "output_type": "stream",
          "name": "stdout",
          "text": [
            "SSD Classification Loss: 3.0744 | SSD Localization Loss: 0.9652\n"
          ]
        },
        {
          "output_type": "stream",
          "name": "stderr",
          "text": [
            " 66%|██████▋   | 416/627 [01:36<01:07,  3.14it/s]"
          ]
        },
        {
          "output_type": "stream",
          "name": "stdout",
          "text": [
            "SSD Classification Loss: 3.0927 | SSD Localization Loss: 0.9716\n"
          ]
        },
        {
          "output_type": "stream",
          "name": "stderr",
          "text": [
            " 82%|████████▏ | 517/627 [02:00<00:24,  4.58it/s]"
          ]
        },
        {
          "output_type": "stream",
          "name": "stdout",
          "text": [
            "SSD Classification Loss: 3.0851 | SSD Localization Loss: 0.9694\n"
          ]
        },
        {
          "output_type": "stream",
          "name": "stderr",
          "text": [
            " 98%|█████████▊| 617/627 [02:23<00:02,  4.59it/s]"
          ]
        },
        {
          "output_type": "stream",
          "name": "stdout",
          "text": [
            "SSD Classification Loss: 3.0752 | SSD Localization Loss: 0.9656\n"
          ]
        },
        {
          "output_type": "stream",
          "name": "stderr",
          "text": [
            "100%|██████████| 627/627 [02:25<00:00,  4.31it/s]\n"
          ]
        },
        {
          "output_type": "stream",
          "name": "stdout",
          "text": [
            "Finished epoch 56\n",
            "SSD Classification Loss: 3.0727 | SSD Localization Loss: 0.9647\n"
          ]
        },
        {
          "output_type": "stream",
          "name": "stderr",
          "text": [
            " 14%|█▍        | 89/627 [00:20<02:09,  4.16it/s]"
          ]
        },
        {
          "output_type": "stream",
          "name": "stdout",
          "text": [
            "SSD Classification Loss: 3.0412 | SSD Localization Loss: 0.9642\n"
          ]
        },
        {
          "output_type": "stream",
          "name": "stderr",
          "text": [
            " 30%|███       | 189/627 [00:42<01:38,  4.44it/s]"
          ]
        },
        {
          "output_type": "stream",
          "name": "stdout",
          "text": [
            "SSD Classification Loss: 3.0783 | SSD Localization Loss: 0.9862\n"
          ]
        },
        {
          "output_type": "stream",
          "name": "stderr",
          "text": [
            " 46%|████▌     | 289/627 [01:06<01:16,  4.39it/s]"
          ]
        },
        {
          "output_type": "stream",
          "name": "stdout",
          "text": [
            "SSD Classification Loss: 3.0637 | SSD Localization Loss: 0.9730\n"
          ]
        },
        {
          "output_type": "stream",
          "name": "stderr",
          "text": [
            " 62%|██████▏   | 390/627 [01:29<00:53,  4.43it/s]"
          ]
        },
        {
          "output_type": "stream",
          "name": "stdout",
          "text": [
            "SSD Classification Loss: 3.0533 | SSD Localization Loss: 0.9665\n"
          ]
        },
        {
          "output_type": "stream",
          "name": "stderr",
          "text": [
            " 78%|███████▊  | 489/627 [01:52<00:37,  3.70it/s]"
          ]
        },
        {
          "output_type": "stream",
          "name": "stdout",
          "text": [
            "SSD Classification Loss: 3.0683 | SSD Localization Loss: 0.9713\n"
          ]
        },
        {
          "output_type": "stream",
          "name": "stderr",
          "text": [
            " 94%|█████████▍| 589/627 [02:14<00:07,  5.07it/s]"
          ]
        },
        {
          "output_type": "stream",
          "name": "stdout",
          "text": [
            "SSD Classification Loss: 3.0552 | SSD Localization Loss: 0.9654\n"
          ]
        },
        {
          "output_type": "stream",
          "name": "stderr",
          "text": [
            "100%|██████████| 627/627 [02:24<00:00,  4.35it/s]\n"
          ]
        },
        {
          "output_type": "stream",
          "name": "stdout",
          "text": [
            "Finished epoch 57\n",
            "SSD Classification Loss: 3.0589 | SSD Localization Loss: 0.9678\n"
          ]
        },
        {
          "output_type": "stream",
          "name": "stderr",
          "text": [
            " 10%|▉         | 62/627 [00:14<01:49,  5.16it/s]"
          ]
        },
        {
          "output_type": "stream",
          "name": "stdout",
          "text": [
            "SSD Classification Loss: 3.1019 | SSD Localization Loss: 0.9724\n"
          ]
        },
        {
          "output_type": "stream",
          "name": "stderr",
          "text": [
            " 26%|██▌       | 162/627 [00:38<01:42,  4.55it/s]"
          ]
        },
        {
          "output_type": "stream",
          "name": "stdout",
          "text": [
            "SSD Classification Loss: 3.0722 | SSD Localization Loss: 0.9590\n"
          ]
        },
        {
          "output_type": "stream",
          "name": "stderr",
          "text": [
            " 42%|████▏     | 262/627 [01:02<01:33,  3.89it/s]"
          ]
        },
        {
          "output_type": "stream",
          "name": "stdout",
          "text": [
            "SSD Classification Loss: 3.0695 | SSD Localization Loss: 0.9641\n"
          ]
        },
        {
          "output_type": "stream",
          "name": "stderr",
          "text": [
            " 58%|█████▊    | 362/627 [01:25<00:53,  4.96it/s]"
          ]
        },
        {
          "output_type": "stream",
          "name": "stdout",
          "text": [
            "SSD Classification Loss: 3.0778 | SSD Localization Loss: 0.9668\n"
          ]
        },
        {
          "output_type": "stream",
          "name": "stderr",
          "text": [
            " 74%|███████▎  | 462/627 [01:47<00:33,  4.87it/s]"
          ]
        },
        {
          "output_type": "stream",
          "name": "stdout",
          "text": [
            "SSD Classification Loss: 3.0624 | SSD Localization Loss: 0.9629\n"
          ]
        },
        {
          "output_type": "stream",
          "name": "stderr",
          "text": [
            " 90%|████████▉ | 563/627 [02:10<00:12,  5.24it/s]"
          ]
        },
        {
          "output_type": "stream",
          "name": "stdout",
          "text": [
            "SSD Classification Loss: 3.0634 | SSD Localization Loss: 0.9656\n"
          ]
        },
        {
          "output_type": "stream",
          "name": "stderr",
          "text": [
            "100%|██████████| 627/627 [02:24<00:00,  4.33it/s]\n"
          ]
        },
        {
          "output_type": "stream",
          "name": "stdout",
          "text": [
            "Finished epoch 58\n",
            "SSD Classification Loss: 3.0589 | SSD Localization Loss: 0.9618\n"
          ]
        },
        {
          "output_type": "stream",
          "name": "stderr",
          "text": [
            "  6%|▌         | 35/627 [00:08<02:16,  4.34it/s]"
          ]
        },
        {
          "output_type": "stream",
          "name": "stdout",
          "text": [
            "SSD Classification Loss: 3.0540 | SSD Localization Loss: 0.9716\n"
          ]
        },
        {
          "output_type": "stream",
          "name": "stderr",
          "text": [
            " 22%|██▏       | 135/627 [00:31<01:58,  4.15it/s]"
          ]
        },
        {
          "output_type": "stream",
          "name": "stdout",
          "text": [
            "SSD Classification Loss: 3.0752 | SSD Localization Loss: 0.9667\n"
          ]
        },
        {
          "output_type": "stream",
          "name": "stderr",
          "text": [
            " 37%|███▋      | 235/627 [00:53<01:31,  4.29it/s]"
          ]
        },
        {
          "output_type": "stream",
          "name": "stdout",
          "text": [
            "SSD Classification Loss: 3.0345 | SSD Localization Loss: 0.9476\n"
          ]
        },
        {
          "output_type": "stream",
          "name": "stderr",
          "text": [
            " 53%|█████▎    | 335/627 [01:15<01:00,  4.79it/s]"
          ]
        },
        {
          "output_type": "stream",
          "name": "stdout",
          "text": [
            "SSD Classification Loss: 3.0436 | SSD Localization Loss: 0.9480\n"
          ]
        },
        {
          "output_type": "stream",
          "name": "stderr",
          "text": [
            " 69%|██████▉   | 435/627 [01:39<00:45,  4.23it/s]"
          ]
        },
        {
          "output_type": "stream",
          "name": "stdout",
          "text": [
            "SSD Classification Loss: 3.0444 | SSD Localization Loss: 0.9506\n"
          ]
        },
        {
          "output_type": "stream",
          "name": "stderr",
          "text": [
            " 85%|████████▌ | 535/627 [02:02<00:20,  4.54it/s]"
          ]
        },
        {
          "output_type": "stream",
          "name": "stdout",
          "text": [
            "SSD Classification Loss: 3.0194 | SSD Localization Loss: 0.9440\n"
          ]
        },
        {
          "output_type": "stream",
          "name": "stderr",
          "text": [
            "100%|██████████| 627/627 [02:23<00:00,  4.37it/s]\n"
          ]
        },
        {
          "output_type": "stream",
          "name": "stdout",
          "text": [
            "Finished epoch 59\n",
            "SSD Classification Loss: 3.0271 | SSD Localization Loss: 0.9506\n"
          ]
        },
        {
          "output_type": "stream",
          "name": "stderr",
          "text": [
            "  1%|▏         | 8/627 [00:01<02:38,  3.91it/s]"
          ]
        },
        {
          "output_type": "stream",
          "name": "stdout",
          "text": [
            "SSD Classification Loss: 3.0718 | SSD Localization Loss: 0.9821\n"
          ]
        },
        {
          "output_type": "stream",
          "name": "stderr",
          "text": [
            " 17%|█▋        | 109/627 [00:24<01:59,  4.35it/s]"
          ]
        },
        {
          "output_type": "stream",
          "name": "stdout",
          "text": [
            "SSD Classification Loss: 3.0534 | SSD Localization Loss: 0.9642\n"
          ]
        },
        {
          "output_type": "stream",
          "name": "stderr",
          "text": [
            " 33%|███▎      | 209/627 [00:47<01:25,  4.91it/s]"
          ]
        },
        {
          "output_type": "stream",
          "name": "stdout",
          "text": [
            "SSD Classification Loss: 3.0628 | SSD Localization Loss: 0.9764\n"
          ]
        },
        {
          "output_type": "stream",
          "name": "stderr",
          "text": [
            " 49%|████▉     | 308/627 [01:08<01:08,  4.68it/s]"
          ]
        },
        {
          "output_type": "stream",
          "name": "stdout",
          "text": [
            "SSD Classification Loss: 3.0567 | SSD Localization Loss: 0.9750\n"
          ]
        },
        {
          "output_type": "stream",
          "name": "stderr",
          "text": [
            " 65%|██████▌   | 408/627 [01:33<00:57,  3.80it/s]"
          ]
        },
        {
          "output_type": "stream",
          "name": "stdout",
          "text": [
            "SSD Classification Loss: 3.0671 | SSD Localization Loss: 0.9750\n"
          ]
        },
        {
          "output_type": "stream",
          "name": "stderr",
          "text": [
            " 81%|████████  | 508/627 [01:56<00:27,  4.40it/s]"
          ]
        },
        {
          "output_type": "stream",
          "name": "stdout",
          "text": [
            "SSD Classification Loss: 3.0661 | SSD Localization Loss: 0.9720\n"
          ]
        },
        {
          "output_type": "stream",
          "name": "stderr",
          "text": [
            " 97%|█████████▋| 608/627 [02:20<00:04,  4.38it/s]"
          ]
        },
        {
          "output_type": "stream",
          "name": "stdout",
          "text": [
            "SSD Classification Loss: 3.0664 | SSD Localization Loss: 0.9675\n"
          ]
        },
        {
          "output_type": "stream",
          "name": "stderr",
          "text": [
            "100%|██████████| 627/627 [02:24<00:00,  4.34it/s]\n"
          ]
        },
        {
          "output_type": "stream",
          "name": "stdout",
          "text": [
            "Finished epoch 60\n",
            "SSD Classification Loss: 3.0710 | SSD Localization Loss: 0.9683\n"
          ]
        },
        {
          "output_type": "stream",
          "name": "stderr",
          "text": [
            " 13%|█▎        | 82/627 [00:18<01:58,  4.61it/s]"
          ]
        },
        {
          "output_type": "stream",
          "name": "stdout",
          "text": [
            "SSD Classification Loss: 3.0179 | SSD Localization Loss: 0.9497\n"
          ]
        },
        {
          "output_type": "stream",
          "name": "stderr",
          "text": [
            " 29%|██▉       | 181/627 [00:41<01:41,  4.41it/s]"
          ]
        },
        {
          "output_type": "stream",
          "name": "stdout",
          "text": [
            "SSD Classification Loss: 3.0270 | SSD Localization Loss: 0.9586\n"
          ]
        },
        {
          "output_type": "stream",
          "name": "stderr",
          "text": [
            " 45%|████▍     | 281/627 [01:04<01:20,  4.31it/s]"
          ]
        },
        {
          "output_type": "stream",
          "name": "stdout",
          "text": [
            "SSD Classification Loss: 2.9999 | SSD Localization Loss: 0.9493\n"
          ]
        },
        {
          "output_type": "stream",
          "name": "stderr",
          "text": [
            " 61%|██████    | 382/627 [01:27<00:46,  5.32it/s]"
          ]
        },
        {
          "output_type": "stream",
          "name": "stdout",
          "text": [
            "SSD Classification Loss: 2.9964 | SSD Localization Loss: 0.9471\n"
          ]
        },
        {
          "output_type": "stream",
          "name": "stderr",
          "text": [
            " 77%|███████▋  | 481/627 [01:49<00:29,  5.03it/s]"
          ]
        },
        {
          "output_type": "stream",
          "name": "stdout",
          "text": [
            "SSD Classification Loss: 2.9730 | SSD Localization Loss: 0.9373\n"
          ]
        },
        {
          "output_type": "stream",
          "name": "stderr",
          "text": [
            " 93%|█████████▎| 581/627 [02:12<00:08,  5.16it/s]"
          ]
        },
        {
          "output_type": "stream",
          "name": "stdout",
          "text": [
            "SSD Classification Loss: 2.9847 | SSD Localization Loss: 0.9406\n"
          ]
        },
        {
          "output_type": "stream",
          "name": "stderr",
          "text": [
            "100%|██████████| 627/627 [02:22<00:00,  4.40it/s]\n"
          ]
        },
        {
          "output_type": "stream",
          "name": "stdout",
          "text": [
            "Finished epoch 61\n",
            "SSD Classification Loss: 2.9911 | SSD Localization Loss: 0.9436\n"
          ]
        },
        {
          "output_type": "stream",
          "name": "stderr",
          "text": [
            "  9%|▊         | 54/627 [00:12<02:58,  3.21it/s]"
          ]
        },
        {
          "output_type": "stream",
          "name": "stdout",
          "text": [
            "SSD Classification Loss: 2.9567 | SSD Localization Loss: 0.9491\n"
          ]
        },
        {
          "output_type": "stream",
          "name": "stderr",
          "text": [
            " 25%|██▍       | 154/627 [00:35<01:44,  4.53it/s]"
          ]
        },
        {
          "output_type": "stream",
          "name": "stdout",
          "text": [
            "SSD Classification Loss: 2.9545 | SSD Localization Loss: 0.9232\n"
          ]
        },
        {
          "output_type": "stream",
          "name": "stderr",
          "text": [
            " 41%|████      | 254/627 [00:57<01:13,  5.10it/s]"
          ]
        },
        {
          "output_type": "stream",
          "name": "stdout",
          "text": [
            "SSD Classification Loss: 2.9577 | SSD Localization Loss: 0.9270\n"
          ]
        },
        {
          "output_type": "stream",
          "name": "stderr",
          "text": [
            " 56%|█████▋    | 354/627 [01:21<01:00,  4.49it/s]"
          ]
        },
        {
          "output_type": "stream",
          "name": "stdout",
          "text": [
            "SSD Classification Loss: 2.9463 | SSD Localization Loss: 0.9237\n"
          ]
        },
        {
          "output_type": "stream",
          "name": "stderr",
          "text": [
            " 72%|███████▏  | 454/627 [01:44<00:43,  3.99it/s]"
          ]
        },
        {
          "output_type": "stream",
          "name": "stdout",
          "text": [
            "SSD Classification Loss: 2.9508 | SSD Localization Loss: 0.9248\n"
          ]
        },
        {
          "output_type": "stream",
          "name": "stderr",
          "text": [
            " 88%|████████▊ | 554/627 [02:08<00:17,  4.25it/s]"
          ]
        },
        {
          "output_type": "stream",
          "name": "stdout",
          "text": [
            "SSD Classification Loss: 2.9533 | SSD Localization Loss: 0.9237\n"
          ]
        },
        {
          "output_type": "stream",
          "name": "stderr",
          "text": [
            "100%|██████████| 627/627 [02:25<00:00,  4.32it/s]\n"
          ]
        },
        {
          "output_type": "stream",
          "name": "stdout",
          "text": [
            "Finished epoch 62\n",
            "SSD Classification Loss: 2.9528 | SSD Localization Loss: 0.9256\n"
          ]
        },
        {
          "output_type": "stream",
          "name": "stderr",
          "text": [
            "  4%|▍         | 27/627 [00:06<02:49,  3.54it/s]"
          ]
        },
        {
          "output_type": "stream",
          "name": "stdout",
          "text": [
            "SSD Classification Loss: 2.9640 | SSD Localization Loss: 0.9334\n"
          ]
        },
        {
          "output_type": "stream",
          "name": "stderr",
          "text": [
            " 20%|██        | 127/627 [00:29<02:18,  3.61it/s]"
          ]
        },
        {
          "output_type": "stream",
          "name": "stdout",
          "text": [
            "SSD Classification Loss: 2.9417 | SSD Localization Loss: 0.9229\n"
          ]
        },
        {
          "output_type": "stream",
          "name": "stderr",
          "text": [
            " 36%|███▌      | 227/627 [00:52<01:20,  4.95it/s]"
          ]
        },
        {
          "output_type": "stream",
          "name": "stdout",
          "text": [
            "SSD Classification Loss: 2.9166 | SSD Localization Loss: 0.9090\n"
          ]
        },
        {
          "output_type": "stream",
          "name": "stderr",
          "text": [
            " 52%|█████▏    | 327/627 [01:14<01:04,  4.69it/s]"
          ]
        },
        {
          "output_type": "stream",
          "name": "stdout",
          "text": [
            "SSD Classification Loss: 2.9223 | SSD Localization Loss: 0.9079\n"
          ]
        },
        {
          "output_type": "stream",
          "name": "stderr",
          "text": [
            " 68%|██████▊   | 427/627 [01:36<00:47,  4.23it/s]"
          ]
        },
        {
          "output_type": "stream",
          "name": "stdout",
          "text": [
            "SSD Classification Loss: 2.9397 | SSD Localization Loss: 0.9175\n"
          ]
        },
        {
          "output_type": "stream",
          "name": "stderr",
          "text": [
            " 84%|████████▍ | 528/627 [01:59<00:20,  4.91it/s]"
          ]
        },
        {
          "output_type": "stream",
          "name": "stdout",
          "text": [
            "SSD Classification Loss: 2.9643 | SSD Localization Loss: 0.9235\n"
          ]
        },
        {
          "output_type": "stream",
          "name": "stderr",
          "text": [
            "100%|██████████| 627/627 [02:21<00:00,  4.42it/s]\n"
          ]
        },
        {
          "output_type": "stream",
          "name": "stdout",
          "text": [
            "SSD Classification Loss: 2.9677 | SSD Localization Loss: 0.9260\n",
            "Finished epoch 63\n",
            "SSD Classification Loss: 2.9677 | SSD Localization Loss: 0.9260\n"
          ]
        },
        {
          "output_type": "stream",
          "name": "stderr",
          "text": [
            " 16%|█▌        | 101/627 [00:22<01:42,  5.14it/s]"
          ]
        },
        {
          "output_type": "stream",
          "name": "stdout",
          "text": [
            "SSD Classification Loss: 3.0235 | SSD Localization Loss: 0.9557\n"
          ]
        },
        {
          "output_type": "stream",
          "name": "stderr",
          "text": [
            " 32%|███▏      | 200/627 [00:45<01:31,  4.69it/s]"
          ]
        },
        {
          "output_type": "stream",
          "name": "stdout",
          "text": [
            "SSD Classification Loss: 2.9483 | SSD Localization Loss: 0.9278\n"
          ]
        },
        {
          "output_type": "stream",
          "name": "stderr",
          "text": [
            " 48%|████▊     | 300/627 [01:08<01:18,  4.14it/s]"
          ]
        },
        {
          "output_type": "stream",
          "name": "stdout",
          "text": [
            "SSD Classification Loss: 2.9391 | SSD Localization Loss: 0.9207\n"
          ]
        },
        {
          "output_type": "stream",
          "name": "stderr",
          "text": [
            " 64%|██████▍   | 400/627 [01:30<00:50,  4.49it/s]"
          ]
        },
        {
          "output_type": "stream",
          "name": "stdout",
          "text": [
            "SSD Classification Loss: 2.9398 | SSD Localization Loss: 0.9221\n"
          ]
        },
        {
          "output_type": "stream",
          "name": "stderr",
          "text": [
            " 80%|███████▉  | 500/627 [01:53<00:26,  4.83it/s]"
          ]
        },
        {
          "output_type": "stream",
          "name": "stdout",
          "text": [
            "SSD Classification Loss: 2.9480 | SSD Localization Loss: 0.9252\n"
          ]
        },
        {
          "output_type": "stream",
          "name": "stderr",
          "text": [
            " 96%|█████████▌| 600/627 [02:15<00:06,  4.38it/s]"
          ]
        },
        {
          "output_type": "stream",
          "name": "stdout",
          "text": [
            "SSD Classification Loss: 2.9485 | SSD Localization Loss: 0.9247\n"
          ]
        },
        {
          "output_type": "stream",
          "name": "stderr",
          "text": [
            "100%|██████████| 627/627 [02:22<00:00,  4.41it/s]\n"
          ]
        },
        {
          "output_type": "stream",
          "name": "stdout",
          "text": [
            "Finished epoch 64\n",
            "SSD Classification Loss: 2.9433 | SSD Localization Loss: 0.9215\n"
          ]
        },
        {
          "output_type": "stream",
          "name": "stderr",
          "text": [
            " 12%|█▏        | 73/627 [00:16<01:47,  5.17it/s]"
          ]
        },
        {
          "output_type": "stream",
          "name": "stdout",
          "text": [
            "SSD Classification Loss: 2.9040 | SSD Localization Loss: 0.9152\n"
          ]
        },
        {
          "output_type": "stream",
          "name": "stderr",
          "text": [
            " 28%|██▊       | 173/627 [00:39<02:10,  3.48it/s]"
          ]
        },
        {
          "output_type": "stream",
          "name": "stdout",
          "text": [
            "SSD Classification Loss: 2.9203 | SSD Localization Loss: 0.9167\n"
          ]
        },
        {
          "output_type": "stream",
          "name": "stderr",
          "text": [
            " 44%|████▎     | 274/627 [01:03<01:08,  5.12it/s]"
          ]
        },
        {
          "output_type": "stream",
          "name": "stdout",
          "text": [
            "SSD Classification Loss: 2.9336 | SSD Localization Loss: 0.9230\n"
          ]
        },
        {
          "output_type": "stream",
          "name": "stderr",
          "text": [
            " 59%|█████▉    | 373/627 [01:25<00:53,  4.72it/s]"
          ]
        },
        {
          "output_type": "stream",
          "name": "stdout",
          "text": [
            "SSD Classification Loss: 2.9417 | SSD Localization Loss: 0.9269\n"
          ]
        },
        {
          "output_type": "stream",
          "name": "stderr",
          "text": [
            " 76%|███████▌  | 474/627 [01:49<00:31,  4.91it/s]"
          ]
        },
        {
          "output_type": "stream",
          "name": "stdout",
          "text": [
            "SSD Classification Loss: 2.9506 | SSD Localization Loss: 0.9262\n"
          ]
        },
        {
          "output_type": "stream",
          "name": "stderr",
          "text": [
            " 91%|█████████▏| 573/627 [02:11<00:11,  4.54it/s]"
          ]
        },
        {
          "output_type": "stream",
          "name": "stdout",
          "text": [
            "SSD Classification Loss: 2.9406 | SSD Localization Loss: 0.9242\n"
          ]
        },
        {
          "output_type": "stream",
          "name": "stderr",
          "text": [
            "100%|██████████| 627/627 [02:23<00:00,  4.36it/s]\n"
          ]
        },
        {
          "output_type": "stream",
          "name": "stdout",
          "text": [
            "Finished epoch 65\n",
            "SSD Classification Loss: 2.9519 | SSD Localization Loss: 0.9282\n"
          ]
        },
        {
          "output_type": "stream",
          "name": "stderr",
          "text": [
            "  7%|▋         | 46/627 [00:10<02:16,  4.26it/s]"
          ]
        },
        {
          "output_type": "stream",
          "name": "stdout",
          "text": [
            "SSD Classification Loss: 3.0678 | SSD Localization Loss: 0.9746\n"
          ]
        },
        {
          "output_type": "stream",
          "name": "stderr",
          "text": [
            " 23%|██▎       | 146/627 [00:33<02:01,  3.97it/s]"
          ]
        },
        {
          "output_type": "stream",
          "name": "stdout",
          "text": [
            "SSD Classification Loss: 3.0101 | SSD Localization Loss: 0.9519\n"
          ]
        },
        {
          "output_type": "stream",
          "name": "stderr",
          "text": [
            " 39%|███▉      | 247/627 [00:55<01:27,  4.32it/s]"
          ]
        },
        {
          "output_type": "stream",
          "name": "stdout",
          "text": [
            "SSD Classification Loss: 2.9600 | SSD Localization Loss: 0.9379\n"
          ]
        },
        {
          "output_type": "stream",
          "name": "stderr",
          "text": [
            " 55%|█████▌    | 347/627 [01:17<00:55,  5.05it/s]"
          ]
        },
        {
          "output_type": "stream",
          "name": "stdout",
          "text": [
            "SSD Classification Loss: 2.9410 | SSD Localization Loss: 0.9307\n"
          ]
        },
        {
          "output_type": "stream",
          "name": "stderr",
          "text": [
            " 71%|███████▏  | 447/627 [01:41<00:41,  4.31it/s]"
          ]
        },
        {
          "output_type": "stream",
          "name": "stdout",
          "text": [
            "SSD Classification Loss: 2.9285 | SSD Localization Loss: 0.9198\n"
          ]
        },
        {
          "output_type": "stream",
          "name": "stderr",
          "text": [
            " 87%|████████▋ | 546/627 [02:03<00:16,  4.81it/s]"
          ]
        },
        {
          "output_type": "stream",
          "name": "stdout",
          "text": [
            "SSD Classification Loss: 2.9148 | SSD Localization Loss: 0.9135\n"
          ]
        },
        {
          "output_type": "stream",
          "name": "stderr",
          "text": [
            "100%|██████████| 627/627 [02:21<00:00,  4.43it/s]\n"
          ]
        },
        {
          "output_type": "stream",
          "name": "stdout",
          "text": [
            "Finished epoch 66\n",
            "SSD Classification Loss: 2.9199 | SSD Localization Loss: 0.9162\n"
          ]
        },
        {
          "output_type": "stream",
          "name": "stderr",
          "text": [
            "  3%|▎         | 20/627 [00:04<02:05,  4.84it/s]"
          ]
        },
        {
          "output_type": "stream",
          "name": "stdout",
          "text": [
            "SSD Classification Loss: 2.9424 | SSD Localization Loss: 0.9210\n"
          ]
        },
        {
          "output_type": "stream",
          "name": "stderr",
          "text": [
            " 19%|█▉        | 119/627 [00:27<01:55,  4.40it/s]"
          ]
        },
        {
          "output_type": "stream",
          "name": "stdout",
          "text": [
            "SSD Classification Loss: 2.9988 | SSD Localization Loss: 0.9393\n"
          ]
        },
        {
          "output_type": "stream",
          "name": "stderr",
          "text": [
            " 35%|███▍      | 219/627 [00:50<01:23,  4.90it/s]"
          ]
        },
        {
          "output_type": "stream",
          "name": "stdout",
          "text": [
            "SSD Classification Loss: 2.9574 | SSD Localization Loss: 0.9214\n"
          ]
        },
        {
          "output_type": "stream",
          "name": "stderr",
          "text": [
            " 51%|█████     | 319/627 [01:11<01:04,  4.79it/s]"
          ]
        },
        {
          "output_type": "stream",
          "name": "stdout",
          "text": [
            "SSD Classification Loss: 2.9499 | SSD Localization Loss: 0.9201\n"
          ]
        },
        {
          "output_type": "stream",
          "name": "stderr",
          "text": [
            " 67%|██████▋   | 419/627 [01:33<00:39,  5.26it/s]"
          ]
        },
        {
          "output_type": "stream",
          "name": "stdout",
          "text": [
            "SSD Classification Loss: 2.9410 | SSD Localization Loss: 0.9175\n"
          ]
        },
        {
          "output_type": "stream",
          "name": "stderr",
          "text": [
            " 83%|████████▎ | 519/627 [01:57<00:25,  4.18it/s]"
          ]
        },
        {
          "output_type": "stream",
          "name": "stdout",
          "text": [
            "SSD Classification Loss: 2.9358 | SSD Localization Loss: 0.9142\n"
          ]
        },
        {
          "output_type": "stream",
          "name": "stderr",
          "text": [
            " 99%|█████████▉| 620/627 [02:19<00:01,  4.63it/s]"
          ]
        },
        {
          "output_type": "stream",
          "name": "stdout",
          "text": [
            "SSD Classification Loss: 2.9282 | SSD Localization Loss: 0.9106\n"
          ]
        },
        {
          "output_type": "stream",
          "name": "stderr",
          "text": [
            "100%|██████████| 627/627 [02:20<00:00,  4.45it/s]\n"
          ]
        },
        {
          "output_type": "stream",
          "name": "stdout",
          "text": [
            "Finished epoch 67\n",
            "SSD Classification Loss: 2.9274 | SSD Localization Loss: 0.9105\n"
          ]
        },
        {
          "output_type": "stream",
          "name": "stderr",
          "text": [
            " 15%|█▍        | 93/627 [00:21<01:41,  5.28it/s]"
          ]
        },
        {
          "output_type": "stream",
          "name": "stdout",
          "text": [
            "SSD Classification Loss: 3.0976 | SSD Localization Loss: 0.9843\n"
          ]
        },
        {
          "output_type": "stream",
          "name": "stderr",
          "text": [
            " 31%|███       | 192/627 [00:43<01:37,  4.48it/s]"
          ]
        },
        {
          "output_type": "stream",
          "name": "stdout",
          "text": [
            "SSD Classification Loss: 3.0053 | SSD Localization Loss: 0.9465\n"
          ]
        },
        {
          "output_type": "stream",
          "name": "stderr",
          "text": [
            " 47%|████▋     | 292/627 [01:06<01:29,  3.73it/s]"
          ]
        },
        {
          "output_type": "stream",
          "name": "stdout",
          "text": [
            "SSD Classification Loss: 2.9530 | SSD Localization Loss: 0.9262\n"
          ]
        },
        {
          "output_type": "stream",
          "name": "stderr",
          "text": [
            " 63%|██████▎   | 393/627 [01:28<00:47,  4.93it/s]"
          ]
        },
        {
          "output_type": "stream",
          "name": "stdout",
          "text": [
            "SSD Classification Loss: 2.9219 | SSD Localization Loss: 0.9178\n"
          ]
        },
        {
          "output_type": "stream",
          "name": "stderr",
          "text": [
            " 78%|███████▊  | 492/627 [01:50<00:27,  4.90it/s]"
          ]
        },
        {
          "output_type": "stream",
          "name": "stdout",
          "text": [
            "SSD Classification Loss: 2.9331 | SSD Localization Loss: 0.9221\n"
          ]
        },
        {
          "output_type": "stream",
          "name": "stderr",
          "text": [
            " 94%|█████████▍| 592/627 [02:13<00:07,  4.75it/s]"
          ]
        },
        {
          "output_type": "stream",
          "name": "stdout",
          "text": [
            "SSD Classification Loss: 2.9430 | SSD Localization Loss: 0.9286\n"
          ]
        },
        {
          "output_type": "stream",
          "name": "stderr",
          "text": [
            "100%|██████████| 627/627 [02:21<00:00,  4.43it/s]\n"
          ]
        },
        {
          "output_type": "stream",
          "name": "stdout",
          "text": [
            "Finished epoch 68\n",
            "SSD Classification Loss: 2.9404 | SSD Localization Loss: 0.9282\n"
          ]
        },
        {
          "output_type": "stream",
          "name": "stderr",
          "text": [
            " 10%|█         | 65/627 [00:15<01:55,  4.87it/s]"
          ]
        },
        {
          "output_type": "stream",
          "name": "stdout",
          "text": [
            "SSD Classification Loss: 2.8095 | SSD Localization Loss: 0.8762\n"
          ]
        },
        {
          "output_type": "stream",
          "name": "stderr",
          "text": [
            " 26%|██▋       | 165/627 [00:37<01:43,  4.47it/s]"
          ]
        },
        {
          "output_type": "stream",
          "name": "stdout",
          "text": [
            "SSD Classification Loss: 2.8905 | SSD Localization Loss: 0.9001\n"
          ]
        },
        {
          "output_type": "stream",
          "name": "stderr",
          "text": [
            " 42%|████▏     | 265/627 [01:00<01:21,  4.45it/s]"
          ]
        },
        {
          "output_type": "stream",
          "name": "stdout",
          "text": [
            "SSD Classification Loss: 2.9016 | SSD Localization Loss: 0.9095\n"
          ]
        },
        {
          "output_type": "stream",
          "name": "stderr",
          "text": [
            " 58%|█████▊    | 365/627 [01:22<00:59,  4.37it/s]"
          ]
        },
        {
          "output_type": "stream",
          "name": "stdout",
          "text": [
            "SSD Classification Loss: 2.8963 | SSD Localization Loss: 0.9138\n"
          ]
        },
        {
          "output_type": "stream",
          "name": "stderr",
          "text": [
            " 74%|███████▍  | 465/627 [01:46<00:31,  5.22it/s]"
          ]
        },
        {
          "output_type": "stream",
          "name": "stdout",
          "text": [
            "SSD Classification Loss: 2.9013 | SSD Localization Loss: 0.9136\n"
          ]
        },
        {
          "output_type": "stream",
          "name": "stderr",
          "text": [
            " 90%|█████████ | 565/627 [02:08<00:13,  4.54it/s]"
          ]
        },
        {
          "output_type": "stream",
          "name": "stdout",
          "text": [
            "SSD Classification Loss: 2.9077 | SSD Localization Loss: 0.9167\n"
          ]
        },
        {
          "output_type": "stream",
          "name": "stderr",
          "text": [
            "100%|██████████| 627/627 [02:22<00:00,  4.39it/s]\n"
          ]
        },
        {
          "output_type": "stream",
          "name": "stdout",
          "text": [
            "Finished epoch 69\n",
            "SSD Classification Loss: 2.9068 | SSD Localization Loss: 0.9131\n"
          ]
        },
        {
          "output_type": "stream",
          "name": "stderr",
          "text": [
            "  6%|▌         | 38/627 [00:08<02:24,  4.09it/s]"
          ]
        },
        {
          "output_type": "stream",
          "name": "stdout",
          "text": [
            "SSD Classification Loss: 2.8833 | SSD Localization Loss: 0.8695\n"
          ]
        },
        {
          "output_type": "stream",
          "name": "stderr",
          "text": [
            " 22%|██▏       | 139/627 [00:31<01:35,  5.10it/s]"
          ]
        },
        {
          "output_type": "stream",
          "name": "stdout",
          "text": [
            "SSD Classification Loss: 2.9201 | SSD Localization Loss: 0.8942\n"
          ]
        },
        {
          "output_type": "stream",
          "name": "stderr",
          "text": [
            " 38%|███▊      | 238/627 [00:53<01:19,  4.91it/s]"
          ]
        },
        {
          "output_type": "stream",
          "name": "stdout",
          "text": [
            "SSD Classification Loss: 2.9255 | SSD Localization Loss: 0.9054\n"
          ]
        },
        {
          "output_type": "stream",
          "name": "stderr",
          "text": [
            " 54%|█████▍    | 339/627 [01:16<01:00,  4.74it/s]"
          ]
        },
        {
          "output_type": "stream",
          "name": "stdout",
          "text": [
            "SSD Classification Loss: 2.9214 | SSD Localization Loss: 0.9087\n"
          ]
        },
        {
          "output_type": "stream",
          "name": "stderr",
          "text": [
            " 70%|██████▉   | 438/627 [01:38<00:42,  4.40it/s]"
          ]
        },
        {
          "output_type": "stream",
          "name": "stdout",
          "text": [
            "SSD Classification Loss: 2.8967 | SSD Localization Loss: 0.9017\n"
          ]
        },
        {
          "output_type": "stream",
          "name": "stderr",
          "text": [
            " 86%|████████▌ | 538/627 [02:01<00:19,  4.62it/s]"
          ]
        },
        {
          "output_type": "stream",
          "name": "stdout",
          "text": [
            "SSD Classification Loss: 2.9047 | SSD Localization Loss: 0.9062\n"
          ]
        },
        {
          "output_type": "stream",
          "name": "stderr",
          "text": [
            "100%|██████████| 627/627 [02:21<00:00,  4.44it/s]\n"
          ]
        },
        {
          "output_type": "stream",
          "name": "stdout",
          "text": [
            "Finished epoch 70\n",
            "SSD Classification Loss: 2.9098 | SSD Localization Loss: 0.9083\n"
          ]
        },
        {
          "output_type": "stream",
          "name": "stderr",
          "text": [
            "  2%|▏         | 11/627 [00:02<02:15,  4.54it/s]"
          ]
        },
        {
          "output_type": "stream",
          "name": "stdout",
          "text": [
            "SSD Classification Loss: 3.1408 | SSD Localization Loss: 1.0247\n"
          ]
        },
        {
          "output_type": "stream",
          "name": "stderr",
          "text": [
            " 18%|█▊        | 111/627 [00:25<01:44,  4.93it/s]"
          ]
        },
        {
          "output_type": "stream",
          "name": "stdout",
          "text": [
            "SSD Classification Loss: 2.9023 | SSD Localization Loss: 0.9047\n"
          ]
        },
        {
          "output_type": "stream",
          "name": "stderr",
          "text": [
            " 34%|███▎      | 211/627 [00:47<01:39,  4.18it/s]"
          ]
        },
        {
          "output_type": "stream",
          "name": "stdout",
          "text": [
            "SSD Classification Loss: 2.8758 | SSD Localization Loss: 0.8862\n"
          ]
        },
        {
          "output_type": "stream",
          "name": "stderr",
          "text": [
            " 50%|████▉     | 311/627 [01:11<01:08,  4.61it/s]"
          ]
        },
        {
          "output_type": "stream",
          "name": "stdout",
          "text": [
            "SSD Classification Loss: 2.9128 | SSD Localization Loss: 0.9046\n"
          ]
        },
        {
          "output_type": "stream",
          "name": "stderr",
          "text": [
            " 66%|██████▌   | 411/627 [01:33<00:54,  3.93it/s]"
          ]
        },
        {
          "output_type": "stream",
          "name": "stdout",
          "text": [
            "SSD Classification Loss: 2.8971 | SSD Localization Loss: 0.9017\n"
          ]
        },
        {
          "output_type": "stream",
          "name": "stderr",
          "text": [
            " 81%|████████▏ | 511/627 [01:55<00:23,  5.02it/s]"
          ]
        },
        {
          "output_type": "stream",
          "name": "stdout",
          "text": [
            "SSD Classification Loss: 2.9031 | SSD Localization Loss: 0.9064\n"
          ]
        },
        {
          "output_type": "stream",
          "name": "stderr",
          "text": [
            " 98%|█████████▊| 612/627 [02:19<00:02,  5.28it/s]"
          ]
        },
        {
          "output_type": "stream",
          "name": "stdout",
          "text": [
            "SSD Classification Loss: 2.9065 | SSD Localization Loss: 0.9092\n"
          ]
        },
        {
          "output_type": "stream",
          "name": "stderr",
          "text": [
            "100%|██████████| 627/627 [02:22<00:00,  4.39it/s]\n"
          ]
        },
        {
          "output_type": "stream",
          "name": "stdout",
          "text": [
            "Finished epoch 71\n",
            "SSD Classification Loss: 2.9078 | SSD Localization Loss: 0.9099\n"
          ]
        },
        {
          "output_type": "stream",
          "name": "stderr",
          "text": [
            " 13%|█▎        | 84/627 [00:19<01:59,  4.56it/s]"
          ]
        },
        {
          "output_type": "stream",
          "name": "stdout",
          "text": [
            "SSD Classification Loss: 2.9348 | SSD Localization Loss: 0.9148\n"
          ]
        },
        {
          "output_type": "stream",
          "name": "stderr",
          "text": [
            " 30%|██▉       | 185/627 [00:42<01:26,  5.09it/s]"
          ]
        },
        {
          "output_type": "stream",
          "name": "stdout",
          "text": [
            "SSD Classification Loss: 2.9217 | SSD Localization Loss: 0.9162\n"
          ]
        },
        {
          "output_type": "stream",
          "name": "stderr",
          "text": [
            " 45%|████▌     | 284/627 [01:04<01:21,  4.21it/s]"
          ]
        },
        {
          "output_type": "stream",
          "name": "stdout",
          "text": [
            "SSD Classification Loss: 2.9242 | SSD Localization Loss: 0.9204\n"
          ]
        },
        {
          "output_type": "stream",
          "name": "stderr",
          "text": [
            " 61%|██████    | 384/627 [01:27<00:56,  4.26it/s]"
          ]
        },
        {
          "output_type": "stream",
          "name": "stdout",
          "text": [
            "SSD Classification Loss: 2.8889 | SSD Localization Loss: 0.9049\n"
          ]
        },
        {
          "output_type": "stream",
          "name": "stderr",
          "text": [
            " 77%|███████▋  | 484/627 [01:49<00:32,  4.40it/s]"
          ]
        },
        {
          "output_type": "stream",
          "name": "stdout",
          "text": [
            "SSD Classification Loss: 2.8853 | SSD Localization Loss: 0.9026\n"
          ]
        },
        {
          "output_type": "stream",
          "name": "stderr",
          "text": [
            " 93%|█████████▎| 585/627 [02:12<00:09,  4.36it/s]"
          ]
        },
        {
          "output_type": "stream",
          "name": "stdout",
          "text": [
            "SSD Classification Loss: 2.8851 | SSD Localization Loss: 0.9067\n"
          ]
        },
        {
          "output_type": "stream",
          "name": "stderr",
          "text": [
            "100%|██████████| 627/627 [02:21<00:00,  4.43it/s]\n"
          ]
        },
        {
          "output_type": "stream",
          "name": "stdout",
          "text": [
            "Finished epoch 72\n",
            "SSD Classification Loss: 2.8790 | SSD Localization Loss: 0.9051\n"
          ]
        },
        {
          "output_type": "stream",
          "name": "stderr",
          "text": [
            "  9%|▉         | 57/627 [00:13<02:10,  4.38it/s]"
          ]
        },
        {
          "output_type": "stream",
          "name": "stdout",
          "text": [
            "SSD Classification Loss: 2.8711 | SSD Localization Loss: 0.8795\n"
          ]
        },
        {
          "output_type": "stream",
          "name": "stderr",
          "text": [
            " 25%|██▌       | 157/627 [00:36<01:54,  4.10it/s]"
          ]
        },
        {
          "output_type": "stream",
          "name": "stdout",
          "text": [
            "SSD Classification Loss: 2.8765 | SSD Localization Loss: 0.9077\n"
          ]
        },
        {
          "output_type": "stream",
          "name": "stderr",
          "text": [
            " 41%|████      | 257/627 [00:58<01:15,  4.87it/s]"
          ]
        },
        {
          "output_type": "stream",
          "name": "stdout",
          "text": [
            "SSD Classification Loss: 2.8694 | SSD Localization Loss: 0.9019\n"
          ]
        },
        {
          "output_type": "stream",
          "name": "stderr",
          "text": [
            " 57%|█████▋    | 358/627 [01:21<00:55,  4.80it/s]"
          ]
        },
        {
          "output_type": "stream",
          "name": "stdout",
          "text": [
            "SSD Classification Loss: 2.8663 | SSD Localization Loss: 0.8974\n"
          ]
        },
        {
          "output_type": "stream",
          "name": "stderr",
          "text": [
            " 73%|███████▎  | 457/627 [01:43<00:44,  3.79it/s]"
          ]
        },
        {
          "output_type": "stream",
          "name": "stdout",
          "text": [
            "SSD Classification Loss: 2.8407 | SSD Localization Loss: 0.8877\n"
          ]
        },
        {
          "output_type": "stream",
          "name": "stderr",
          "text": [
            " 89%|████████▉ | 558/627 [02:06<00:14,  4.90it/s]"
          ]
        },
        {
          "output_type": "stream",
          "name": "stdout",
          "text": [
            "SSD Classification Loss: 2.8368 | SSD Localization Loss: 0.8885\n"
          ]
        },
        {
          "output_type": "stream",
          "name": "stderr",
          "text": [
            "100%|██████████| 627/627 [02:22<00:00,  4.41it/s]\n"
          ]
        },
        {
          "output_type": "stream",
          "name": "stdout",
          "text": [
            "Finished epoch 73\n",
            "SSD Classification Loss: 2.8617 | SSD Localization Loss: 0.8922\n"
          ]
        },
        {
          "output_type": "stream",
          "name": "stderr",
          "text": [
            "  5%|▍         | 30/627 [00:06<02:44,  3.63it/s]"
          ]
        },
        {
          "output_type": "stream",
          "name": "stdout",
          "text": [
            "SSD Classification Loss: 2.9609 | SSD Localization Loss: 0.8928\n"
          ]
        },
        {
          "output_type": "stream",
          "name": "stderr",
          "text": [
            " 21%|██        | 130/627 [00:29<01:44,  4.77it/s]"
          ]
        },
        {
          "output_type": "stream",
          "name": "stdout",
          "text": [
            "SSD Classification Loss: 2.8799 | SSD Localization Loss: 0.8923\n"
          ]
        },
        {
          "output_type": "stream",
          "name": "stderr",
          "text": [
            " 37%|███▋      | 231/627 [00:52<01:20,  4.90it/s]"
          ]
        },
        {
          "output_type": "stream",
          "name": "stdout",
          "text": [
            "SSD Classification Loss: 2.8576 | SSD Localization Loss: 0.8900\n"
          ]
        },
        {
          "output_type": "stream",
          "name": "stderr",
          "text": [
            " 53%|█████▎    | 330/627 [01:15<01:10,  4.21it/s]"
          ]
        },
        {
          "output_type": "stream",
          "name": "stdout",
          "text": [
            "SSD Classification Loss: 2.8423 | SSD Localization Loss: 0.8813\n"
          ]
        },
        {
          "output_type": "stream",
          "name": "stderr",
          "text": [
            " 69%|██████▊   | 430/627 [01:38<00:44,  4.40it/s]"
          ]
        },
        {
          "output_type": "stream",
          "name": "stdout",
          "text": [
            "SSD Classification Loss: 2.8524 | SSD Localization Loss: 0.8858\n"
          ]
        },
        {
          "output_type": "stream",
          "name": "stderr",
          "text": [
            " 85%|████████▍ | 530/627 [02:00<00:21,  4.45it/s]"
          ]
        },
        {
          "output_type": "stream",
          "name": "stdout",
          "text": [
            "SSD Classification Loss: 2.8730 | SSD Localization Loss: 0.8970\n"
          ]
        },
        {
          "output_type": "stream",
          "name": "stderr",
          "text": [
            "100%|██████████| 627/627 [02:23<00:00,  4.38it/s]\n"
          ]
        },
        {
          "output_type": "stream",
          "name": "stdout",
          "text": [
            "Finished epoch 74\n",
            "SSD Classification Loss: 2.8660 | SSD Localization Loss: 0.8951\n"
          ]
        },
        {
          "output_type": "stream",
          "name": "stderr",
          "text": [
            "  1%|          | 4/627 [00:00<02:11,  4.75it/s]"
          ]
        },
        {
          "output_type": "stream",
          "name": "stdout",
          "text": [
            "SSD Classification Loss: 3.4776 | SSD Localization Loss: 1.0590\n"
          ]
        },
        {
          "output_type": "stream",
          "name": "stderr",
          "text": [
            " 16%|█▋        | 103/627 [00:24<02:09,  4.04it/s]"
          ]
        },
        {
          "output_type": "stream",
          "name": "stdout",
          "text": [
            "SSD Classification Loss: 2.9277 | SSD Localization Loss: 0.9251\n"
          ]
        },
        {
          "output_type": "stream",
          "name": "stderr",
          "text": [
            " 32%|███▏      | 203/627 [00:47<01:41,  4.19it/s]"
          ]
        },
        {
          "output_type": "stream",
          "name": "stdout",
          "text": [
            "SSD Classification Loss: 2.8941 | SSD Localization Loss: 0.8983\n"
          ]
        },
        {
          "output_type": "stream",
          "name": "stderr",
          "text": [
            " 48%|████▊     | 303/627 [01:10<01:04,  4.98it/s]"
          ]
        },
        {
          "output_type": "stream",
          "name": "stdout",
          "text": [
            "SSD Classification Loss: 2.8698 | SSD Localization Loss: 0.8924\n"
          ]
        },
        {
          "output_type": "stream",
          "name": "stderr",
          "text": [
            " 64%|██████▍   | 403/627 [01:33<00:47,  4.74it/s]"
          ]
        },
        {
          "output_type": "stream",
          "name": "stdout",
          "text": [
            "SSD Classification Loss: 2.8727 | SSD Localization Loss: 0.8953\n"
          ]
        },
        {
          "output_type": "stream",
          "name": "stderr",
          "text": [
            " 80%|████████  | 503/627 [01:56<00:28,  4.36it/s]"
          ]
        },
        {
          "output_type": "stream",
          "name": "stdout",
          "text": [
            "SSD Classification Loss: 2.8741 | SSD Localization Loss: 0.8953\n"
          ]
        },
        {
          "output_type": "stream",
          "name": "stderr",
          "text": [
            " 96%|█████████▌| 603/627 [02:19<00:05,  4.19it/s]"
          ]
        },
        {
          "output_type": "stream",
          "name": "stdout",
          "text": [
            "SSD Classification Loss: 2.8814 | SSD Localization Loss: 0.8970\n"
          ]
        },
        {
          "output_type": "stream",
          "name": "stderr",
          "text": [
            "100%|██████████| 627/627 [02:24<00:00,  4.34it/s]\n"
          ]
        },
        {
          "output_type": "stream",
          "name": "stdout",
          "text": [
            "Finished epoch 75\n",
            "SSD Classification Loss: 2.8775 | SSD Localization Loss: 0.8964\n"
          ]
        },
        {
          "output_type": "stream",
          "name": "stderr",
          "text": [
            " 12%|█▏        | 76/627 [00:17<02:07,  4.34it/s]"
          ]
        },
        {
          "output_type": "stream",
          "name": "stdout",
          "text": [
            "SSD Classification Loss: 2.9221 | SSD Localization Loss: 0.9209\n"
          ]
        },
        {
          "output_type": "stream",
          "name": "stderr",
          "text": [
            " 28%|██▊       | 176/627 [00:39<01:47,  4.21it/s]"
          ]
        },
        {
          "output_type": "stream",
          "name": "stdout",
          "text": [
            "SSD Classification Loss: 2.8755 | SSD Localization Loss: 0.9026\n"
          ]
        },
        {
          "output_type": "stream",
          "name": "stderr",
          "text": [
            " 44%|████▍     | 276/627 [01:02<01:17,  4.53it/s]"
          ]
        },
        {
          "output_type": "stream",
          "name": "stdout",
          "text": [
            "SSD Classification Loss: 2.8870 | SSD Localization Loss: 0.9020\n"
          ]
        },
        {
          "output_type": "stream",
          "name": "stderr",
          "text": [
            " 60%|█████▉    | 376/627 [01:25<00:52,  4.80it/s]"
          ]
        },
        {
          "output_type": "stream",
          "name": "stdout",
          "text": [
            "SSD Classification Loss: 2.9000 | SSD Localization Loss: 0.9078\n"
          ]
        },
        {
          "output_type": "stream",
          "name": "stderr",
          "text": [
            " 76%|███████▌  | 476/627 [01:48<00:31,  4.73it/s]"
          ]
        },
        {
          "output_type": "stream",
          "name": "stdout",
          "text": [
            "SSD Classification Loss: 2.8733 | SSD Localization Loss: 0.8941\n"
          ]
        },
        {
          "output_type": "stream",
          "name": "stderr",
          "text": [
            " 92%|█████████▏| 576/627 [02:12<00:12,  4.10it/s]"
          ]
        },
        {
          "output_type": "stream",
          "name": "stdout",
          "text": [
            "SSD Classification Loss: 2.8821 | SSD Localization Loss: 0.8986\n"
          ]
        },
        {
          "output_type": "stream",
          "name": "stderr",
          "text": [
            "100%|██████████| 627/627 [02:23<00:00,  4.37it/s]\n"
          ]
        },
        {
          "output_type": "stream",
          "name": "stdout",
          "text": [
            "Finished epoch 76\n",
            "SSD Classification Loss: 2.8910 | SSD Localization Loss: 0.9019\n"
          ]
        },
        {
          "output_type": "stream",
          "name": "stderr",
          "text": [
            "  8%|▊         | 49/627 [00:12<02:22,  4.05it/s]"
          ]
        },
        {
          "output_type": "stream",
          "name": "stdout",
          "text": [
            "SSD Classification Loss: 2.9653 | SSD Localization Loss: 0.9219\n"
          ]
        },
        {
          "output_type": "stream",
          "name": "stderr",
          "text": [
            " 24%|██▍       | 149/627 [00:34<01:35,  5.01it/s]"
          ]
        },
        {
          "output_type": "stream",
          "name": "stdout",
          "text": [
            "SSD Classification Loss: 2.9206 | SSD Localization Loss: 0.9142\n"
          ]
        },
        {
          "output_type": "stream",
          "name": "stderr",
          "text": [
            " 40%|███▉      | 250/627 [00:57<01:19,  4.77it/s]"
          ]
        },
        {
          "output_type": "stream",
          "name": "stdout",
          "text": [
            "SSD Classification Loss: 2.8773 | SSD Localization Loss: 0.9022\n"
          ]
        },
        {
          "output_type": "stream",
          "name": "stderr",
          "text": [
            " 56%|█████▌    | 349/627 [01:19<00:56,  4.91it/s]"
          ]
        },
        {
          "output_type": "stream",
          "name": "stdout",
          "text": [
            "SSD Classification Loss: 2.8679 | SSD Localization Loss: 0.8967\n"
          ]
        },
        {
          "output_type": "stream",
          "name": "stderr",
          "text": [
            " 72%|███████▏  | 449/627 [01:42<00:42,  4.20it/s]"
          ]
        },
        {
          "output_type": "stream",
          "name": "stdout",
          "text": [
            "SSD Classification Loss: 2.8640 | SSD Localization Loss: 0.8938\n"
          ]
        },
        {
          "output_type": "stream",
          "name": "stderr",
          "text": [
            " 88%|████████▊ | 549/627 [02:05<00:18,  4.25it/s]"
          ]
        },
        {
          "output_type": "stream",
          "name": "stdout",
          "text": [
            "SSD Classification Loss: 2.8865 | SSD Localization Loss: 0.9018\n"
          ]
        },
        {
          "output_type": "stream",
          "name": "stderr",
          "text": [
            "100%|██████████| 627/627 [02:23<00:00,  4.38it/s]\n"
          ]
        },
        {
          "output_type": "stream",
          "name": "stdout",
          "text": [
            "Finished epoch 77\n",
            "SSD Classification Loss: 2.8986 | SSD Localization Loss: 0.9043\n"
          ]
        },
        {
          "output_type": "stream",
          "name": "stderr",
          "text": [
            "  4%|▎         | 23/627 [00:05<02:27,  4.08it/s]"
          ]
        },
        {
          "output_type": "stream",
          "name": "stdout",
          "text": [
            "SSD Classification Loss: 2.8920 | SSD Localization Loss: 0.9429\n"
          ]
        },
        {
          "output_type": "stream",
          "name": "stderr",
          "text": [
            " 19%|█▉        | 122/627 [00:29<02:12,  3.81it/s]"
          ]
        },
        {
          "output_type": "stream",
          "name": "stdout",
          "text": [
            "SSD Classification Loss: 2.8439 | SSD Localization Loss: 0.8996\n"
          ]
        },
        {
          "output_type": "stream",
          "name": "stderr",
          "text": [
            " 35%|███▌      | 222/627 [00:52<01:18,  5.14it/s]"
          ]
        },
        {
          "output_type": "stream",
          "name": "stdout",
          "text": [
            "SSD Classification Loss: 2.8628 | SSD Localization Loss: 0.9029\n"
          ]
        },
        {
          "output_type": "stream",
          "name": "stderr",
          "text": [
            " 51%|█████▏    | 322/627 [01:14<00:57,  5.28it/s]"
          ]
        },
        {
          "output_type": "stream",
          "name": "stdout",
          "text": [
            "SSD Classification Loss: 2.8462 | SSD Localization Loss: 0.8991\n"
          ]
        },
        {
          "output_type": "stream",
          "name": "stderr",
          "text": [
            " 67%|██████▋   | 423/627 [01:37<00:44,  4.63it/s]"
          ]
        },
        {
          "output_type": "stream",
          "name": "stdout",
          "text": [
            "SSD Classification Loss: 2.8547 | SSD Localization Loss: 0.9010\n"
          ]
        },
        {
          "output_type": "stream",
          "name": "stderr",
          "text": [
            " 83%|████████▎ | 523/627 [02:00<00:22,  4.66it/s]"
          ]
        },
        {
          "output_type": "stream",
          "name": "stdout",
          "text": [
            "SSD Classification Loss: 2.8634 | SSD Localization Loss: 0.9012\n"
          ]
        },
        {
          "output_type": "stream",
          "name": "stderr",
          "text": [
            " 99%|█████████▉| 622/627 [02:23<00:01,  4.17it/s]"
          ]
        },
        {
          "output_type": "stream",
          "name": "stdout",
          "text": [
            "SSD Classification Loss: 2.8762 | SSD Localization Loss: 0.9047\n"
          ]
        },
        {
          "output_type": "stream",
          "name": "stderr",
          "text": [
            "100%|██████████| 627/627 [02:24<00:00,  4.35it/s]\n"
          ]
        },
        {
          "output_type": "stream",
          "name": "stdout",
          "text": [
            "Finished epoch 78\n",
            "SSD Classification Loss: 2.8739 | SSD Localization Loss: 0.9042\n"
          ]
        },
        {
          "output_type": "stream",
          "name": "stderr",
          "text": [
            " 15%|█▌        | 95/627 [00:20<01:44,  5.10it/s]"
          ]
        },
        {
          "output_type": "stream",
          "name": "stdout",
          "text": [
            "SSD Classification Loss: 2.8467 | SSD Localization Loss: 0.8908\n"
          ]
        },
        {
          "output_type": "stream",
          "name": "stderr",
          "text": [
            " 31%|███       | 195/627 [00:44<01:56,  3.70it/s]"
          ]
        },
        {
          "output_type": "stream",
          "name": "stdout",
          "text": [
            "SSD Classification Loss: 2.8426 | SSD Localization Loss: 0.8802\n"
          ]
        },
        {
          "output_type": "stream",
          "name": "stderr",
          "text": [
            " 47%|████▋     | 295/627 [01:06<01:03,  5.20it/s]"
          ]
        },
        {
          "output_type": "stream",
          "name": "stdout",
          "text": [
            "SSD Classification Loss: 2.8381 | SSD Localization Loss: 0.8805\n"
          ]
        },
        {
          "output_type": "stream",
          "name": "stderr",
          "text": [
            " 63%|██████▎   | 395/627 [01:30<00:49,  4.73it/s]"
          ]
        },
        {
          "output_type": "stream",
          "name": "stdout",
          "text": [
            "SSD Classification Loss: 2.8620 | SSD Localization Loss: 0.8928\n"
          ]
        },
        {
          "output_type": "stream",
          "name": "stderr",
          "text": [
            " 79%|███████▉  | 495/627 [01:53<00:34,  3.86it/s]"
          ]
        },
        {
          "output_type": "stream",
          "name": "stdout",
          "text": [
            "SSD Classification Loss: 2.8716 | SSD Localization Loss: 0.8971\n"
          ]
        },
        {
          "output_type": "stream",
          "name": "stderr",
          "text": [
            " 95%|█████████▍| 595/627 [02:16<00:05,  5.42it/s]"
          ]
        },
        {
          "output_type": "stream",
          "name": "stdout",
          "text": [
            "SSD Classification Loss: 2.8676 | SSD Localization Loss: 0.8979\n"
          ]
        },
        {
          "output_type": "stream",
          "name": "stderr",
          "text": [
            "100%|██████████| 627/627 [02:24<00:00,  4.35it/s]\n"
          ]
        },
        {
          "output_type": "stream",
          "name": "stdout",
          "text": [
            "Finished epoch 79\n",
            "SSD Classification Loss: 2.8661 | SSD Localization Loss: 0.8969\n"
          ]
        },
        {
          "output_type": "stream",
          "name": "stderr",
          "text": [
            " 11%|█         | 68/627 [00:15<02:30,  3.70it/s]"
          ]
        },
        {
          "output_type": "stream",
          "name": "stdout",
          "text": [
            "SSD Classification Loss: 2.8216 | SSD Localization Loss: 0.8740\n"
          ]
        },
        {
          "output_type": "stream",
          "name": "stderr",
          "text": [
            " 27%|██▋       | 168/627 [00:38<01:30,  5.08it/s]"
          ]
        },
        {
          "output_type": "stream",
          "name": "stdout",
          "text": [
            "SSD Classification Loss: 2.8446 | SSD Localization Loss: 0.8775\n"
          ]
        },
        {
          "output_type": "stream",
          "name": "stderr",
          "text": [
            " 43%|████▎     | 268/627 [01:01<01:08,  5.22it/s]"
          ]
        },
        {
          "output_type": "stream",
          "name": "stdout",
          "text": [
            "SSD Classification Loss: 2.8694 | SSD Localization Loss: 0.8887\n"
          ]
        },
        {
          "output_type": "stream",
          "name": "stderr",
          "text": [
            " 59%|█████▊    | 368/627 [01:24<00:54,  4.79it/s]"
          ]
        },
        {
          "output_type": "stream",
          "name": "stdout",
          "text": [
            "SSD Classification Loss: 2.8789 | SSD Localization Loss: 0.9001\n"
          ]
        },
        {
          "output_type": "stream",
          "name": "stderr",
          "text": [
            " 75%|███████▍  | 468/627 [01:47<00:34,  4.56it/s]"
          ]
        },
        {
          "output_type": "stream",
          "name": "stdout",
          "text": [
            "SSD Classification Loss: 2.8561 | SSD Localization Loss: 0.8925\n"
          ]
        },
        {
          "output_type": "stream",
          "name": "stderr",
          "text": [
            " 91%|█████████ | 568/627 [02:10<00:12,  4.72it/s]"
          ]
        },
        {
          "output_type": "stream",
          "name": "stdout",
          "text": [
            "SSD Classification Loss: 2.8587 | SSD Localization Loss: 0.8945\n"
          ]
        },
        {
          "output_type": "stream",
          "name": "stderr",
          "text": [
            "100%|██████████| 627/627 [02:23<00:00,  4.37it/s]\n"
          ]
        },
        {
          "output_type": "stream",
          "name": "stdout",
          "text": [
            "Finished epoch 80\n",
            "SSD Classification Loss: 2.8491 | SSD Localization Loss: 0.8894\n"
          ]
        },
        {
          "output_type": "stream",
          "name": "stderr",
          "text": [
            "  7%|▋         | 41/627 [00:08<02:02,  4.77it/s]"
          ]
        },
        {
          "output_type": "stream",
          "name": "stdout",
          "text": [
            "SSD Classification Loss: 2.9164 | SSD Localization Loss: 0.8984\n"
          ]
        },
        {
          "output_type": "stream",
          "name": "stderr",
          "text": [
            " 22%|██▏       | 141/627 [00:32<01:52,  4.33it/s]"
          ]
        },
        {
          "output_type": "stream",
          "name": "stdout",
          "text": [
            "SSD Classification Loss: 2.8438 | SSD Localization Loss: 0.8779\n"
          ]
        },
        {
          "output_type": "stream",
          "name": "stderr",
          "text": [
            " 39%|███▊      | 242/627 [00:55<01:19,  4.81it/s]"
          ]
        },
        {
          "output_type": "stream",
          "name": "stdout",
          "text": [
            "SSD Classification Loss: 2.8356 | SSD Localization Loss: 0.8825\n"
          ]
        },
        {
          "output_type": "stream",
          "name": "stderr",
          "text": [
            " 54%|█████▍    | 341/627 [01:17<01:08,  4.19it/s]"
          ]
        },
        {
          "output_type": "stream",
          "name": "stdout",
          "text": [
            "SSD Classification Loss: 2.8430 | SSD Localization Loss: 0.8916\n"
          ]
        },
        {
          "output_type": "stream",
          "name": "stderr",
          "text": [
            " 70%|███████   | 442/627 [01:42<00:44,  4.13it/s]"
          ]
        },
        {
          "output_type": "stream",
          "name": "stdout",
          "text": [
            "SSD Classification Loss: 2.8497 | SSD Localization Loss: 0.8980\n"
          ]
        },
        {
          "output_type": "stream",
          "name": "stderr",
          "text": [
            " 86%|████████▋ | 541/627 [02:05<00:22,  3.82it/s]"
          ]
        },
        {
          "output_type": "stream",
          "name": "stdout",
          "text": [
            "SSD Classification Loss: 2.8373 | SSD Localization Loss: 0.8903\n"
          ]
        },
        {
          "output_type": "stream",
          "name": "stderr",
          "text": [
            "100%|██████████| 627/627 [02:25<00:00,  4.31it/s]\n"
          ]
        },
        {
          "output_type": "stream",
          "name": "stdout",
          "text": [
            "Finished epoch 81\n",
            "SSD Classification Loss: 2.8346 | SSD Localization Loss: 0.8889\n"
          ]
        },
        {
          "output_type": "stream",
          "name": "stderr",
          "text": [
            "  2%|▏         | 14/627 [00:02<02:11,  4.68it/s]"
          ]
        },
        {
          "output_type": "stream",
          "name": "stdout",
          "text": [
            "SSD Classification Loss: 2.7782 | SSD Localization Loss: 0.7980\n"
          ]
        },
        {
          "output_type": "stream",
          "name": "stderr",
          "text": [
            " 18%|█▊        | 114/627 [00:26<01:59,  4.28it/s]"
          ]
        },
        {
          "output_type": "stream",
          "name": "stdout",
          "text": [
            "SSD Classification Loss: 2.8438 | SSD Localization Loss: 0.8872\n"
          ]
        },
        {
          "output_type": "stream",
          "name": "stderr",
          "text": [
            " 34%|███▍      | 215/627 [00:49<01:17,  5.33it/s]"
          ]
        },
        {
          "output_type": "stream",
          "name": "stdout",
          "text": [
            "SSD Classification Loss: 2.8261 | SSD Localization Loss: 0.8839\n"
          ]
        },
        {
          "output_type": "stream",
          "name": "stderr",
          "text": [
            " 50%|█████     | 314/627 [01:11<01:17,  4.06it/s]"
          ]
        },
        {
          "output_type": "stream",
          "name": "stdout",
          "text": [
            "SSD Classification Loss: 2.8388 | SSD Localization Loss: 0.8848\n"
          ]
        },
        {
          "output_type": "stream",
          "name": "stderr",
          "text": [
            " 66%|██████▌   | 414/627 [01:34<00:45,  4.65it/s]"
          ]
        },
        {
          "output_type": "stream",
          "name": "stdout",
          "text": [
            "SSD Classification Loss: 2.8361 | SSD Localization Loss: 0.8886\n"
          ]
        },
        {
          "output_type": "stream",
          "name": "stderr",
          "text": [
            " 82%|████████▏ | 514/627 [01:57<00:26,  4.27it/s]"
          ]
        },
        {
          "output_type": "stream",
          "name": "stdout",
          "text": [
            "SSD Classification Loss: 2.8473 | SSD Localization Loss: 0.8920\n"
          ]
        },
        {
          "output_type": "stream",
          "name": "stderr",
          "text": [
            " 98%|█████████▊| 614/627 [02:19<00:02,  4.58it/s]"
          ]
        },
        {
          "output_type": "stream",
          "name": "stdout",
          "text": [
            "SSD Classification Loss: 2.8544 | SSD Localization Loss: 0.8959\n"
          ]
        },
        {
          "output_type": "stream",
          "name": "stderr",
          "text": [
            "100%|██████████| 627/627 [02:22<00:00,  4.41it/s]\n"
          ]
        },
        {
          "output_type": "stream",
          "name": "stdout",
          "text": [
            "Finished epoch 82\n",
            "SSD Classification Loss: 2.8512 | SSD Localization Loss: 0.8947\n"
          ]
        },
        {
          "output_type": "stream",
          "name": "stderr",
          "text": [
            " 14%|█▍        | 87/627 [00:20<02:09,  4.17it/s]"
          ]
        },
        {
          "output_type": "stream",
          "name": "stdout",
          "text": [
            "SSD Classification Loss: 2.7699 | SSD Localization Loss: 0.8652\n"
          ]
        },
        {
          "output_type": "stream",
          "name": "stderr",
          "text": [
            " 30%|██▉       | 187/627 [00:43<01:51,  3.95it/s]"
          ]
        },
        {
          "output_type": "stream",
          "name": "stdout",
          "text": [
            "SSD Classification Loss: 2.8910 | SSD Localization Loss: 0.9088\n"
          ]
        },
        {
          "output_type": "stream",
          "name": "stderr",
          "text": [
            " 46%|████▌     | 287/627 [01:06<01:19,  4.27it/s]"
          ]
        },
        {
          "output_type": "stream",
          "name": "stdout",
          "text": [
            "SSD Classification Loss: 2.8541 | SSD Localization Loss: 0.8964\n"
          ]
        },
        {
          "output_type": "stream",
          "name": "stderr",
          "text": [
            " 62%|██████▏   | 387/627 [01:30<01:03,  3.79it/s]"
          ]
        },
        {
          "output_type": "stream",
          "name": "stdout",
          "text": [
            "SSD Classification Loss: 2.8572 | SSD Localization Loss: 0.8988\n"
          ]
        },
        {
          "output_type": "stream",
          "name": "stderr",
          "text": [
            " 78%|███████▊  | 487/627 [01:53<00:28,  4.91it/s]"
          ]
        },
        {
          "output_type": "stream",
          "name": "stdout",
          "text": [
            "SSD Classification Loss: 2.8663 | SSD Localization Loss: 0.9023\n"
          ]
        },
        {
          "output_type": "stream",
          "name": "stderr",
          "text": [
            " 94%|█████████▎| 587/627 [02:16<00:09,  4.22it/s]"
          ]
        },
        {
          "output_type": "stream",
          "name": "stdout",
          "text": [
            "SSD Classification Loss: 2.8548 | SSD Localization Loss: 0.8960\n"
          ]
        },
        {
          "output_type": "stream",
          "name": "stderr",
          "text": [
            "100%|██████████| 627/627 [02:26<00:00,  4.29it/s]\n"
          ]
        },
        {
          "output_type": "stream",
          "name": "stdout",
          "text": [
            "Finished epoch 83\n",
            "SSD Classification Loss: 2.8469 | SSD Localization Loss: 0.8927\n"
          ]
        },
        {
          "output_type": "stream",
          "name": "stderr",
          "text": [
            " 10%|▉         | 60/627 [00:13<02:16,  4.16it/s]"
          ]
        },
        {
          "output_type": "stream",
          "name": "stdout",
          "text": [
            "SSD Classification Loss: 2.7551 | SSD Localization Loss: 0.8448\n"
          ]
        },
        {
          "output_type": "stream",
          "name": "stderr",
          "text": [
            " 26%|██▌       | 161/627 [00:38<01:43,  4.51it/s]"
          ]
        },
        {
          "output_type": "stream",
          "name": "stdout",
          "text": [
            "SSD Classification Loss: 2.8405 | SSD Localization Loss: 0.8904\n"
          ]
        },
        {
          "output_type": "stream",
          "name": "stderr",
          "text": [
            " 41%|████▏     | 260/627 [01:00<01:17,  4.74it/s]"
          ]
        },
        {
          "output_type": "stream",
          "name": "stdout",
          "text": [
            "SSD Classification Loss: 2.8417 | SSD Localization Loss: 0.8875\n"
          ]
        },
        {
          "output_type": "stream",
          "name": "stderr",
          "text": [
            " 57%|█████▋    | 360/627 [01:24<01:07,  3.98it/s]"
          ]
        },
        {
          "output_type": "stream",
          "name": "stdout",
          "text": [
            "SSD Classification Loss: 2.8593 | SSD Localization Loss: 0.8972\n"
          ]
        },
        {
          "output_type": "stream",
          "name": "stderr",
          "text": [
            " 73%|███████▎  | 460/627 [01:47<00:37,  4.51it/s]"
          ]
        },
        {
          "output_type": "stream",
          "name": "stdout",
          "text": [
            "SSD Classification Loss: 2.8513 | SSD Localization Loss: 0.8919\n"
          ]
        },
        {
          "output_type": "stream",
          "name": "stderr",
          "text": [
            " 89%|████████▉ | 560/627 [02:10<00:15,  4.19it/s]"
          ]
        },
        {
          "output_type": "stream",
          "name": "stdout",
          "text": [
            "SSD Classification Loss: 2.8511 | SSD Localization Loss: 0.8915\n"
          ]
        },
        {
          "output_type": "stream",
          "name": "stderr",
          "text": [
            "100%|██████████| 627/627 [02:26<00:00,  4.28it/s]\n"
          ]
        },
        {
          "output_type": "stream",
          "name": "stdout",
          "text": [
            "Finished epoch 84\n",
            "SSD Classification Loss: 2.8500 | SSD Localization Loss: 0.8895\n"
          ]
        },
        {
          "output_type": "stream",
          "name": "stderr",
          "text": [
            "  5%|▌         | 33/627 [00:07<02:32,  3.89it/s]"
          ]
        },
        {
          "output_type": "stream",
          "name": "stdout",
          "text": [
            "SSD Classification Loss: 2.6264 | SSD Localization Loss: 0.8038\n"
          ]
        },
        {
          "output_type": "stream",
          "name": "stderr",
          "text": [
            " 21%|██        | 133/627 [00:30<02:02,  4.03it/s]"
          ]
        },
        {
          "output_type": "stream",
          "name": "stdout",
          "text": [
            "SSD Classification Loss: 2.8277 | SSD Localization Loss: 0.8853\n"
          ]
        },
        {
          "output_type": "stream",
          "name": "stderr",
          "text": [
            " 37%|███▋      | 233/627 [00:53<01:09,  5.65it/s]"
          ]
        },
        {
          "output_type": "stream",
          "name": "stdout",
          "text": [
            "SSD Classification Loss: 2.8187 | SSD Localization Loss: 0.8801\n"
          ]
        },
        {
          "output_type": "stream",
          "name": "stderr",
          "text": [
            " 53%|█████▎    | 334/627 [01:16<01:01,  4.79it/s]"
          ]
        },
        {
          "output_type": "stream",
          "name": "stdout",
          "text": [
            "SSD Classification Loss: 2.8448 | SSD Localization Loss: 0.8890\n"
          ]
        },
        {
          "output_type": "stream",
          "name": "stderr",
          "text": [
            " 69%|██████▉   | 433/627 [01:39<00:51,  3.77it/s]"
          ]
        },
        {
          "output_type": "stream",
          "name": "stdout",
          "text": [
            "SSD Classification Loss: 2.8465 | SSD Localization Loss: 0.8911\n"
          ]
        },
        {
          "output_type": "stream",
          "name": "stderr",
          "text": [
            " 85%|████████▌ | 533/627 [02:04<00:20,  4.49it/s]"
          ]
        },
        {
          "output_type": "stream",
          "name": "stdout",
          "text": [
            "SSD Classification Loss: 2.8331 | SSD Localization Loss: 0.8825\n"
          ]
        },
        {
          "output_type": "stream",
          "name": "stderr",
          "text": [
            "100%|██████████| 627/627 [02:25<00:00,  4.30it/s]\n"
          ]
        },
        {
          "output_type": "stream",
          "name": "stdout",
          "text": [
            "Finished epoch 85\n",
            "SSD Classification Loss: 2.8303 | SSD Localization Loss: 0.8802\n"
          ]
        },
        {
          "output_type": "stream",
          "name": "stderr",
          "text": [
            "  1%|          | 6/627 [00:01<02:22,  4.36it/s]"
          ]
        },
        {
          "output_type": "stream",
          "name": "stdout",
          "text": [
            "SSD Classification Loss: 3.1308 | SSD Localization Loss: 1.0349\n"
          ]
        },
        {
          "output_type": "stream",
          "name": "stderr",
          "text": [
            " 17%|█▋        | 106/627 [00:23<01:50,  4.70it/s]"
          ]
        },
        {
          "output_type": "stream",
          "name": "stdout",
          "text": [
            "SSD Classification Loss: 2.9078 | SSD Localization Loss: 0.9193\n"
          ]
        },
        {
          "output_type": "stream",
          "name": "stderr",
          "text": [
            " 33%|███▎      | 207/627 [00:46<01:27,  4.80it/s]"
          ]
        },
        {
          "output_type": "stream",
          "name": "stdout",
          "text": [
            "SSD Classification Loss: 2.8605 | SSD Localization Loss: 0.8990\n"
          ]
        },
        {
          "output_type": "stream",
          "name": "stderr",
          "text": [
            " 49%|████▉     | 307/627 [01:09<01:15,  4.24it/s]"
          ]
        },
        {
          "output_type": "stream",
          "name": "stdout",
          "text": [
            "SSD Classification Loss: 2.8666 | SSD Localization Loss: 0.8976\n"
          ]
        },
        {
          "output_type": "stream",
          "name": "stderr",
          "text": [
            " 65%|██████▍   | 406/627 [01:33<01:05,  3.38it/s]"
          ]
        },
        {
          "output_type": "stream",
          "name": "stdout",
          "text": [
            "SSD Classification Loss: 2.8618 | SSD Localization Loss: 0.8940\n"
          ]
        },
        {
          "output_type": "stream",
          "name": "stderr",
          "text": [
            " 81%|████████  | 506/627 [01:54<00:23,  5.21it/s]"
          ]
        },
        {
          "output_type": "stream",
          "name": "stdout",
          "text": [
            "SSD Classification Loss: 2.8398 | SSD Localization Loss: 0.8856\n"
          ]
        },
        {
          "output_type": "stream",
          "name": "stderr",
          "text": [
            " 97%|█████████▋| 606/627 [02:17<00:04,  4.45it/s]"
          ]
        },
        {
          "output_type": "stream",
          "name": "stdout",
          "text": [
            "SSD Classification Loss: 2.8451 | SSD Localization Loss: 0.8861\n"
          ]
        },
        {
          "output_type": "stream",
          "name": "stderr",
          "text": [
            "100%|██████████| 627/627 [02:21<00:00,  4.43it/s]\n"
          ]
        },
        {
          "output_type": "stream",
          "name": "stdout",
          "text": [
            "Finished epoch 86\n",
            "SSD Classification Loss: 2.8496 | SSD Localization Loss: 0.8887\n"
          ]
        },
        {
          "output_type": "stream",
          "name": "stderr",
          "text": [
            " 13%|█▎        | 80/627 [00:18<01:50,  4.95it/s]"
          ]
        },
        {
          "output_type": "stream",
          "name": "stdout",
          "text": [
            "SSD Classification Loss: 2.8408 | SSD Localization Loss: 0.8928\n"
          ]
        },
        {
          "output_type": "stream",
          "name": "stderr",
          "text": [
            " 29%|██▊       | 179/627 [00:41<01:41,  4.43it/s]"
          ]
        },
        {
          "output_type": "stream",
          "name": "stdout",
          "text": [
            "SSD Classification Loss: 2.8466 | SSD Localization Loss: 0.8941\n"
          ]
        },
        {
          "output_type": "stream",
          "name": "stderr",
          "text": [
            " 44%|████▍     | 279/627 [01:03<01:24,  4.10it/s]"
          ]
        },
        {
          "output_type": "stream",
          "name": "stdout",
          "text": [
            "SSD Classification Loss: 2.8277 | SSD Localization Loss: 0.8861\n"
          ]
        },
        {
          "output_type": "stream",
          "name": "stderr",
          "text": [
            " 60%|██████    | 379/627 [01:27<01:19,  3.11it/s]"
          ]
        },
        {
          "output_type": "stream",
          "name": "stdout",
          "text": [
            "SSD Classification Loss: 2.8425 | SSD Localization Loss: 0.8935\n"
          ]
        },
        {
          "output_type": "stream",
          "name": "stderr",
          "text": [
            " 76%|███████▋  | 479/627 [01:50<00:34,  4.24it/s]"
          ]
        },
        {
          "output_type": "stream",
          "name": "stdout",
          "text": [
            "SSD Classification Loss: 2.8398 | SSD Localization Loss: 0.8913\n"
          ]
        },
        {
          "output_type": "stream",
          "name": "stderr",
          "text": [
            " 92%|█████████▏| 579/627 [02:13<00:09,  4.99it/s]"
          ]
        },
        {
          "output_type": "stream",
          "name": "stdout",
          "text": [
            "SSD Classification Loss: 2.8290 | SSD Localization Loss: 0.8877\n"
          ]
        },
        {
          "output_type": "stream",
          "name": "stderr",
          "text": [
            "100%|██████████| 627/627 [02:23<00:00,  4.36it/s]\n"
          ]
        },
        {
          "output_type": "stream",
          "name": "stdout",
          "text": [
            "Finished epoch 87\n",
            "SSD Classification Loss: 2.8255 | SSD Localization Loss: 0.8846\n"
          ]
        },
        {
          "output_type": "stream",
          "name": "stderr",
          "text": [
            "  8%|▊         | 52/627 [00:11<02:07,  4.51it/s]"
          ]
        },
        {
          "output_type": "stream",
          "name": "stdout",
          "text": [
            "SSD Classification Loss: 2.8058 | SSD Localization Loss: 0.8478\n"
          ]
        },
        {
          "output_type": "stream",
          "name": "stderr",
          "text": [
            " 24%|██▍       | 153/627 [00:35<01:43,  4.59it/s]"
          ]
        },
        {
          "output_type": "stream",
          "name": "stdout",
          "text": [
            "SSD Classification Loss: 2.8205 | SSD Localization Loss: 0.8837\n"
          ]
        },
        {
          "output_type": "stream",
          "name": "stderr",
          "text": [
            " 40%|████      | 253/627 [00:58<01:11,  5.26it/s]"
          ]
        },
        {
          "output_type": "stream",
          "name": "stdout",
          "text": [
            "SSD Classification Loss: 2.8242 | SSD Localization Loss: 0.8860\n"
          ]
        },
        {
          "output_type": "stream",
          "name": "stderr",
          "text": [
            " 56%|█████▋    | 353/627 [01:20<00:52,  5.19it/s]"
          ]
        },
        {
          "output_type": "stream",
          "name": "stdout",
          "text": [
            "SSD Classification Loss: 2.8301 | SSD Localization Loss: 0.8899\n"
          ]
        },
        {
          "output_type": "stream",
          "name": "stderr",
          "text": [
            " 72%|███████▏  | 452/627 [01:44<00:42,  4.15it/s]"
          ]
        },
        {
          "output_type": "stream",
          "name": "stdout",
          "text": [
            "SSD Classification Loss: 2.8240 | SSD Localization Loss: 0.8834\n"
          ]
        },
        {
          "output_type": "stream",
          "name": "stderr",
          "text": [
            " 88%|████████▊ | 552/627 [02:08<00:18,  3.97it/s]"
          ]
        },
        {
          "output_type": "stream",
          "name": "stdout",
          "text": [
            "SSD Classification Loss: 2.8372 | SSD Localization Loss: 0.8902\n"
          ]
        },
        {
          "output_type": "stream",
          "name": "stderr",
          "text": [
            "100%|██████████| 627/627 [02:26<00:00,  4.29it/s]\n"
          ]
        },
        {
          "output_type": "stream",
          "name": "stdout",
          "text": [
            "Finished epoch 88\n",
            "SSD Classification Loss: 2.8409 | SSD Localization Loss: 0.8921\n"
          ]
        },
        {
          "output_type": "stream",
          "name": "stderr",
          "text": [
            "  4%|▍         | 26/627 [00:05<02:11,  4.59it/s]"
          ]
        },
        {
          "output_type": "stream",
          "name": "stdout",
          "text": [
            "SSD Classification Loss: 2.9067 | SSD Localization Loss: 0.8818\n"
          ]
        },
        {
          "output_type": "stream",
          "name": "stderr",
          "text": [
            " 20%|█▉        | 125/627 [00:27<01:42,  4.91it/s]"
          ]
        },
        {
          "output_type": "stream",
          "name": "stdout",
          "text": [
            "SSD Classification Loss: 2.7937 | SSD Localization Loss: 0.8797\n"
          ]
        },
        {
          "output_type": "stream",
          "name": "stderr",
          "text": [
            " 36%|███▌      | 226/627 [00:50<01:29,  4.46it/s]"
          ]
        },
        {
          "output_type": "stream",
          "name": "stdout",
          "text": [
            "SSD Classification Loss: 2.7953 | SSD Localization Loss: 0.8784\n"
          ]
        },
        {
          "output_type": "stream",
          "name": "stderr",
          "text": [
            " 52%|█████▏    | 325/627 [01:12<01:11,  4.24it/s]"
          ]
        },
        {
          "output_type": "stream",
          "name": "stdout",
          "text": [
            "SSD Classification Loss: 2.8119 | SSD Localization Loss: 0.8817\n"
          ]
        },
        {
          "output_type": "stream",
          "name": "stderr",
          "text": [
            " 68%|██████▊   | 425/627 [01:35<00:46,  4.37it/s]"
          ]
        },
        {
          "output_type": "stream",
          "name": "stdout",
          "text": [
            "SSD Classification Loss: 2.8207 | SSD Localization Loss: 0.8863\n"
          ]
        },
        {
          "output_type": "stream",
          "name": "stderr",
          "text": [
            " 84%|████████▎ | 525/627 [01:58<00:23,  4.28it/s]"
          ]
        },
        {
          "output_type": "stream",
          "name": "stdout",
          "text": [
            "SSD Classification Loss: 2.8301 | SSD Localization Loss: 0.8854\n"
          ]
        },
        {
          "output_type": "stream",
          "name": "stderr",
          "text": [
            "100%|█████████▉| 625/627 [02:21<00:00,  4.55it/s]"
          ]
        },
        {
          "output_type": "stream",
          "name": "stdout",
          "text": [
            "SSD Classification Loss: 2.8233 | SSD Localization Loss: 0.8823\n"
          ]
        },
        {
          "output_type": "stream",
          "name": "stderr",
          "text": [
            "100%|██████████| 627/627 [02:21<00:00,  4.42it/s]\n"
          ]
        },
        {
          "output_type": "stream",
          "name": "stdout",
          "text": [
            "Finished epoch 89\n",
            "SSD Classification Loss: 2.8237 | SSD Localization Loss: 0.8827\n"
          ]
        },
        {
          "output_type": "stream",
          "name": "stderr",
          "text": [
            " 16%|█▌        | 98/627 [00:22<01:52,  4.70it/s]"
          ]
        },
        {
          "output_type": "stream",
          "name": "stdout",
          "text": [
            "SSD Classification Loss: 2.7939 | SSD Localization Loss: 0.8657\n"
          ]
        },
        {
          "output_type": "stream",
          "name": "stderr",
          "text": [
            " 32%|███▏      | 198/627 [00:44<01:30,  4.75it/s]"
          ]
        },
        {
          "output_type": "stream",
          "name": "stdout",
          "text": [
            "SSD Classification Loss: 2.8531 | SSD Localization Loss: 0.8809\n"
          ]
        },
        {
          "output_type": "stream",
          "name": "stderr",
          "text": [
            " 48%|████▊     | 298/627 [01:06<01:06,  4.94it/s]"
          ]
        },
        {
          "output_type": "stream",
          "name": "stdout",
          "text": [
            "SSD Classification Loss: 2.7973 | SSD Localization Loss: 0.8681\n"
          ]
        },
        {
          "output_type": "stream",
          "name": "stderr",
          "text": [
            " 64%|██████▎   | 399/627 [01:29<00:46,  4.87it/s]"
          ]
        },
        {
          "output_type": "stream",
          "name": "stdout",
          "text": [
            "SSD Classification Loss: 2.8148 | SSD Localization Loss: 0.8785\n"
          ]
        },
        {
          "output_type": "stream",
          "name": "stderr",
          "text": [
            " 79%|███████▉  | 498/627 [01:52<00:31,  4.16it/s]"
          ]
        },
        {
          "output_type": "stream",
          "name": "stdout",
          "text": [
            "SSD Classification Loss: 2.8057 | SSD Localization Loss: 0.8779\n"
          ]
        },
        {
          "output_type": "stream",
          "name": "stderr",
          "text": [
            " 95%|█████████▌| 598/627 [02:15<00:06,  4.51it/s]"
          ]
        },
        {
          "output_type": "stream",
          "name": "stdout",
          "text": [
            "SSD Classification Loss: 2.8161 | SSD Localization Loss: 0.8809\n"
          ]
        },
        {
          "output_type": "stream",
          "name": "stderr",
          "text": [
            "100%|██████████| 627/627 [02:21<00:00,  4.43it/s]\n"
          ]
        },
        {
          "output_type": "stream",
          "name": "stdout",
          "text": [
            "Finished epoch 90\n",
            "SSD Classification Loss: 2.8136 | SSD Localization Loss: 0.8799\n"
          ]
        },
        {
          "output_type": "stream",
          "name": "stderr",
          "text": [
            " 11%|█▏        | 71/627 [00:16<02:02,  4.55it/s]"
          ]
        },
        {
          "output_type": "stream",
          "name": "stdout",
          "text": [
            "SSD Classification Loss: 2.7044 | SSD Localization Loss: 0.8217\n"
          ]
        },
        {
          "output_type": "stream",
          "name": "stderr",
          "text": [
            " 27%|██▋       | 171/627 [00:39<01:48,  4.21it/s]"
          ]
        },
        {
          "output_type": "stream",
          "name": "stdout",
          "text": [
            "SSD Classification Loss: 2.7896 | SSD Localization Loss: 0.8709\n"
          ]
        },
        {
          "output_type": "stream",
          "name": "stderr",
          "text": [
            " 43%|████▎     | 272/627 [01:02<01:18,  4.50it/s]"
          ]
        },
        {
          "output_type": "stream",
          "name": "stdout",
          "text": [
            "SSD Classification Loss: 2.8066 | SSD Localization Loss: 0.8782\n"
          ]
        },
        {
          "output_type": "stream",
          "name": "stderr",
          "text": [
            " 59%|█████▉    | 371/627 [01:26<00:46,  5.55it/s]"
          ]
        },
        {
          "output_type": "stream",
          "name": "stdout",
          "text": [
            "SSD Classification Loss: 2.8086 | SSD Localization Loss: 0.8797\n"
          ]
        },
        {
          "output_type": "stream",
          "name": "stderr",
          "text": [
            " 75%|███████▌  | 471/627 [01:50<00:35,  4.45it/s]"
          ]
        },
        {
          "output_type": "stream",
          "name": "stdout",
          "text": [
            "SSD Classification Loss: 2.8168 | SSD Localization Loss: 0.8800\n"
          ]
        },
        {
          "output_type": "stream",
          "name": "stderr",
          "text": [
            " 91%|█████████ | 571/627 [02:11<00:12,  4.44it/s]"
          ]
        },
        {
          "output_type": "stream",
          "name": "stdout",
          "text": [
            "SSD Classification Loss: 2.8056 | SSD Localization Loss: 0.8742\n"
          ]
        },
        {
          "output_type": "stream",
          "name": "stderr",
          "text": [
            "100%|██████████| 627/627 [02:25<00:00,  4.30it/s]\n"
          ]
        },
        {
          "output_type": "stream",
          "name": "stdout",
          "text": [
            "Finished epoch 91\n",
            "SSD Classification Loss: 2.8154 | SSD Localization Loss: 0.8788\n"
          ]
        },
        {
          "output_type": "stream",
          "name": "stderr",
          "text": [
            "  7%|▋         | 44/627 [00:09<02:06,  4.63it/s]"
          ]
        },
        {
          "output_type": "stream",
          "name": "stdout",
          "text": [
            "SSD Classification Loss: 2.8955 | SSD Localization Loss: 0.9260\n"
          ]
        },
        {
          "output_type": "stream",
          "name": "stderr",
          "text": [
            " 23%|██▎       | 144/627 [00:32<01:46,  4.54it/s]"
          ]
        },
        {
          "output_type": "stream",
          "name": "stdout",
          "text": [
            "SSD Classification Loss: 2.8706 | SSD Localization Loss: 0.9072\n"
          ]
        },
        {
          "output_type": "stream",
          "name": "stderr",
          "text": [
            " 39%|███▉      | 244/627 [00:56<01:28,  4.33it/s]"
          ]
        },
        {
          "output_type": "stream",
          "name": "stdout",
          "text": [
            "SSD Classification Loss: 2.8604 | SSD Localization Loss: 0.9024\n"
          ]
        },
        {
          "output_type": "stream",
          "name": "stderr",
          "text": [
            " 55%|█████▍    | 344/627 [01:20<01:04,  4.36it/s]"
          ]
        },
        {
          "output_type": "stream",
          "name": "stdout",
          "text": [
            "SSD Classification Loss: 2.8669 | SSD Localization Loss: 0.9022\n"
          ]
        },
        {
          "output_type": "stream",
          "name": "stderr",
          "text": [
            " 71%|███████   | 444/627 [01:43<00:42,  4.26it/s]"
          ]
        },
        {
          "output_type": "stream",
          "name": "stdout",
          "text": [
            "SSD Classification Loss: 2.8625 | SSD Localization Loss: 0.9014\n"
          ]
        },
        {
          "output_type": "stream",
          "name": "stderr",
          "text": [
            " 87%|████████▋ | 545/627 [02:06<00:16,  4.84it/s]"
          ]
        },
        {
          "output_type": "stream",
          "name": "stdout",
          "text": [
            "SSD Classification Loss: 2.8513 | SSD Localization Loss: 0.8941\n"
          ]
        },
        {
          "output_type": "stream",
          "name": "stderr",
          "text": [
            "100%|██████████| 627/627 [02:25<00:00,  4.32it/s]\n"
          ]
        },
        {
          "output_type": "stream",
          "name": "stdout",
          "text": [
            "Finished epoch 92\n",
            "SSD Classification Loss: 2.8617 | SSD Localization Loss: 0.8990\n"
          ]
        },
        {
          "output_type": "stream",
          "name": "stderr",
          "text": [
            "  3%|▎         | 18/627 [00:04<02:04,  4.89it/s]"
          ]
        },
        {
          "output_type": "stream",
          "name": "stdout",
          "text": [
            "SSD Classification Loss: 2.7394 | SSD Localization Loss: 0.8405\n"
          ]
        },
        {
          "output_type": "stream",
          "name": "stderr",
          "text": [
            " 19%|█▊        | 117/627 [00:27<01:48,  4.72it/s]"
          ]
        },
        {
          "output_type": "stream",
          "name": "stdout",
          "text": [
            "SSD Classification Loss: 2.8345 | SSD Localization Loss: 0.8750\n"
          ]
        },
        {
          "output_type": "stream",
          "name": "stderr",
          "text": [
            " 35%|███▍      | 217/627 [00:51<01:43,  3.98it/s]"
          ]
        },
        {
          "output_type": "stream",
          "name": "stdout",
          "text": [
            "SSD Classification Loss: 2.8640 | SSD Localization Loss: 0.8907\n"
          ]
        },
        {
          "output_type": "stream",
          "name": "stderr",
          "text": [
            " 51%|█████     | 317/627 [01:13<01:14,  4.16it/s]"
          ]
        },
        {
          "output_type": "stream",
          "name": "stdout",
          "text": [
            "SSD Classification Loss: 2.8433 | SSD Localization Loss: 0.8845\n"
          ]
        },
        {
          "output_type": "stream",
          "name": "stderr",
          "text": [
            " 67%|██████▋   | 417/627 [01:37<00:49,  4.28it/s]"
          ]
        },
        {
          "output_type": "stream",
          "name": "stdout",
          "text": [
            "SSD Classification Loss: 2.8413 | SSD Localization Loss: 0.8832\n"
          ]
        },
        {
          "output_type": "stream",
          "name": "stderr",
          "text": [
            " 82%|████████▏ | 517/627 [02:00<00:24,  4.56it/s]"
          ]
        },
        {
          "output_type": "stream",
          "name": "stdout",
          "text": [
            "SSD Classification Loss: 2.8357 | SSD Localization Loss: 0.8831\n"
          ]
        },
        {
          "output_type": "stream",
          "name": "stderr",
          "text": [
            " 98%|█████████▊| 617/627 [02:23<00:02,  4.31it/s]"
          ]
        },
        {
          "output_type": "stream",
          "name": "stdout",
          "text": [
            "SSD Classification Loss: 2.8106 | SSD Localization Loss: 0.8777\n"
          ]
        },
        {
          "output_type": "stream",
          "name": "stderr",
          "text": [
            "100%|██████████| 627/627 [02:25<00:00,  4.30it/s]\n"
          ]
        },
        {
          "output_type": "stream",
          "name": "stdout",
          "text": [
            "Finished epoch 93\n",
            "SSD Classification Loss: 2.8153 | SSD Localization Loss: 0.8789\n"
          ]
        },
        {
          "output_type": "stream",
          "name": "stderr",
          "text": [
            " 14%|█▍        | 90/627 [00:20<02:05,  4.29it/s]"
          ]
        },
        {
          "output_type": "stream",
          "name": "stdout",
          "text": [
            "SSD Classification Loss: 2.8775 | SSD Localization Loss: 0.9151\n"
          ]
        },
        {
          "output_type": "stream",
          "name": "stderr",
          "text": [
            " 30%|███       | 191/627 [00:42<01:20,  5.43it/s]"
          ]
        },
        {
          "output_type": "stream",
          "name": "stdout",
          "text": [
            "SSD Classification Loss: 2.8269 | SSD Localization Loss: 0.8857\n"
          ]
        },
        {
          "output_type": "stream",
          "name": "stderr",
          "text": [
            " 46%|████▋     | 290/627 [01:06<01:08,  4.92it/s]"
          ]
        },
        {
          "output_type": "stream",
          "name": "stdout",
          "text": [
            "SSD Classification Loss: 2.8260 | SSD Localization Loss: 0.8796\n"
          ]
        },
        {
          "output_type": "stream",
          "name": "stderr",
          "text": [
            " 62%|██████▏   | 390/627 [01:29<00:49,  4.74it/s]"
          ]
        },
        {
          "output_type": "stream",
          "name": "stdout",
          "text": [
            "SSD Classification Loss: 2.8451 | SSD Localization Loss: 0.8881\n"
          ]
        },
        {
          "output_type": "stream",
          "name": "stderr",
          "text": [
            " 78%|███████▊  | 490/627 [01:52<00:30,  4.42it/s]"
          ]
        },
        {
          "output_type": "stream",
          "name": "stdout",
          "text": [
            "SSD Classification Loss: 2.8273 | SSD Localization Loss: 0.8817\n"
          ]
        },
        {
          "output_type": "stream",
          "name": "stderr",
          "text": [
            " 94%|█████████▍| 590/627 [02:15<00:07,  4.67it/s]"
          ]
        },
        {
          "output_type": "stream",
          "name": "stdout",
          "text": [
            "SSD Classification Loss: 2.8274 | SSD Localization Loss: 0.8832\n"
          ]
        },
        {
          "output_type": "stream",
          "name": "stderr",
          "text": [
            "100%|██████████| 627/627 [02:23<00:00,  4.36it/s]\n"
          ]
        },
        {
          "output_type": "stream",
          "name": "stdout",
          "text": [
            "Finished epoch 94\n",
            "SSD Classification Loss: 2.8265 | SSD Localization Loss: 0.8830\n"
          ]
        },
        {
          "output_type": "stream",
          "name": "stderr",
          "text": [
            " 10%|█         | 63/627 [00:13<02:08,  4.39it/s]"
          ]
        },
        {
          "output_type": "stream",
          "name": "stdout",
          "text": [
            "SSD Classification Loss: 2.7798 | SSD Localization Loss: 0.8715\n"
          ]
        },
        {
          "output_type": "stream",
          "name": "stderr",
          "text": [
            " 26%|██▌       | 163/627 [00:36<01:52,  4.12it/s]"
          ]
        },
        {
          "output_type": "stream",
          "name": "stdout",
          "text": [
            "SSD Classification Loss: 2.7666 | SSD Localization Loss: 0.8526\n"
          ]
        },
        {
          "output_type": "stream",
          "name": "stderr",
          "text": [
            " 42%|████▏     | 263/627 [01:00<01:33,  3.90it/s]"
          ]
        },
        {
          "output_type": "stream",
          "name": "stdout",
          "text": [
            "SSD Classification Loss: 2.8022 | SSD Localization Loss: 0.8701\n"
          ]
        },
        {
          "output_type": "stream",
          "name": "stderr",
          "text": [
            " 58%|█████▊    | 363/627 [01:24<01:00,  4.33it/s]"
          ]
        },
        {
          "output_type": "stream",
          "name": "stdout",
          "text": [
            "SSD Classification Loss: 2.8225 | SSD Localization Loss: 0.8743\n"
          ]
        },
        {
          "output_type": "stream",
          "name": "stderr",
          "text": [
            " 74%|███████▍  | 463/627 [01:46<00:32,  5.11it/s]"
          ]
        },
        {
          "output_type": "stream",
          "name": "stdout",
          "text": [
            "SSD Classification Loss: 2.8334 | SSD Localization Loss: 0.8791\n"
          ]
        },
        {
          "output_type": "stream",
          "name": "stderr",
          "text": [
            " 90%|████████▉ | 563/627 [02:08<00:16,  3.90it/s]"
          ]
        },
        {
          "output_type": "stream",
          "name": "stdout",
          "text": [
            "SSD Classification Loss: 2.8323 | SSD Localization Loss: 0.8798\n"
          ]
        },
        {
          "output_type": "stream",
          "name": "stderr",
          "text": [
            "100%|██████████| 627/627 [02:23<00:00,  4.37it/s]\n"
          ]
        },
        {
          "output_type": "stream",
          "name": "stdout",
          "text": [
            "Finished epoch 95\n",
            "SSD Classification Loss: 2.8375 | SSD Localization Loss: 0.8811\n"
          ]
        },
        {
          "output_type": "stream",
          "name": "stderr",
          "text": [
            "  6%|▌         | 36/627 [00:08<01:59,  4.94it/s]"
          ]
        },
        {
          "output_type": "stream",
          "name": "stdout",
          "text": [
            "SSD Classification Loss: 2.7072 | SSD Localization Loss: 0.8472\n"
          ]
        },
        {
          "output_type": "stream",
          "name": "stderr",
          "text": [
            " 22%|██▏       | 137/627 [00:32<01:47,  4.54it/s]"
          ]
        },
        {
          "output_type": "stream",
          "name": "stdout",
          "text": [
            "SSD Classification Loss: 2.8568 | SSD Localization Loss: 0.8982\n"
          ]
        },
        {
          "output_type": "stream",
          "name": "stderr",
          "text": [
            " 38%|███▊      | 237/627 [00:54<01:22,  4.71it/s]"
          ]
        },
        {
          "output_type": "stream",
          "name": "stdout",
          "text": [
            "SSD Classification Loss: 2.8318 | SSD Localization Loss: 0.8883\n"
          ]
        },
        {
          "output_type": "stream",
          "name": "stderr",
          "text": [
            " 54%|█████▎    | 336/627 [01:17<01:02,  4.67it/s]"
          ]
        },
        {
          "output_type": "stream",
          "name": "stdout",
          "text": [
            "SSD Classification Loss: 2.8246 | SSD Localization Loss: 0.8844\n"
          ]
        },
        {
          "output_type": "stream",
          "name": "stderr",
          "text": [
            " 70%|██████▉   | 436/627 [01:40<00:44,  4.33it/s]"
          ]
        },
        {
          "output_type": "stream",
          "name": "stdout",
          "text": [
            "SSD Classification Loss: 2.8281 | SSD Localization Loss: 0.8837\n"
          ]
        },
        {
          "output_type": "stream",
          "name": "stderr",
          "text": [
            " 85%|████████▌ | 536/627 [02:03<00:19,  4.60it/s]"
          ]
        },
        {
          "output_type": "stream",
          "name": "stdout",
          "text": [
            "SSD Classification Loss: 2.8356 | SSD Localization Loss: 0.8834\n"
          ]
        },
        {
          "output_type": "stream",
          "name": "stderr",
          "text": [
            "100%|██████████| 627/627 [02:24<00:00,  4.33it/s]\n"
          ]
        },
        {
          "output_type": "stream",
          "name": "stdout",
          "text": [
            "Finished epoch 96\n",
            "SSD Classification Loss: 2.8181 | SSD Localization Loss: 0.8770\n"
          ]
        },
        {
          "output_type": "stream",
          "name": "stderr",
          "text": [
            "  1%|▏         | 9/627 [00:02<02:34,  4.00it/s]"
          ]
        },
        {
          "output_type": "stream",
          "name": "stdout",
          "text": [
            "SSD Classification Loss: 2.8058 | SSD Localization Loss: 0.8867\n"
          ]
        },
        {
          "output_type": "stream",
          "name": "stderr",
          "text": [
            " 17%|█▋        | 109/627 [00:24<02:05,  4.11it/s]"
          ]
        },
        {
          "output_type": "stream",
          "name": "stdout",
          "text": [
            "SSD Classification Loss: 2.8416 | SSD Localization Loss: 0.8958\n"
          ]
        },
        {
          "output_type": "stream",
          "name": "stderr",
          "text": [
            " 33%|███▎      | 209/627 [00:47<01:29,  4.67it/s]"
          ]
        },
        {
          "output_type": "stream",
          "name": "stdout",
          "text": [
            "SSD Classification Loss: 2.8313 | SSD Localization Loss: 0.8872\n"
          ]
        },
        {
          "output_type": "stream",
          "name": "stderr",
          "text": [
            " 49%|████▉     | 309/627 [01:10<01:13,  4.34it/s]"
          ]
        },
        {
          "output_type": "stream",
          "name": "stdout",
          "text": [
            "SSD Classification Loss: 2.8642 | SSD Localization Loss: 0.8994\n"
          ]
        },
        {
          "output_type": "stream",
          "name": "stderr",
          "text": [
            " 65%|██████▌   | 409/627 [01:34<00:46,  4.66it/s]"
          ]
        },
        {
          "output_type": "stream",
          "name": "stdout",
          "text": [
            "SSD Classification Loss: 2.8345 | SSD Localization Loss: 0.8836\n"
          ]
        },
        {
          "output_type": "stream",
          "name": "stderr",
          "text": [
            " 81%|████████  | 509/627 [01:57<00:24,  4.78it/s]"
          ]
        },
        {
          "output_type": "stream",
          "name": "stdout",
          "text": [
            "SSD Classification Loss: 2.8262 | SSD Localization Loss: 0.8814\n"
          ]
        },
        {
          "output_type": "stream",
          "name": "stderr",
          "text": [
            " 97%|█████████▋| 610/627 [02:20<00:03,  5.48it/s]"
          ]
        },
        {
          "output_type": "stream",
          "name": "stdout",
          "text": [
            "SSD Classification Loss: 2.8271 | SSD Localization Loss: 0.8818\n"
          ]
        },
        {
          "output_type": "stream",
          "name": "stderr",
          "text": [
            "100%|██████████| 627/627 [02:24<00:00,  4.34it/s]\n"
          ]
        },
        {
          "output_type": "stream",
          "name": "stdout",
          "text": [
            "Finished epoch 97\n",
            "SSD Classification Loss: 2.8337 | SSD Localization Loss: 0.8828\n"
          ]
        },
        {
          "output_type": "stream",
          "name": "stderr",
          "text": [
            " 13%|█▎        | 82/627 [00:18<02:04,  4.37it/s]"
          ]
        },
        {
          "output_type": "stream",
          "name": "stdout",
          "text": [
            "SSD Classification Loss: 2.7628 | SSD Localization Loss: 0.8448\n"
          ]
        },
        {
          "output_type": "stream",
          "name": "stderr",
          "text": [
            " 29%|██▉       | 183/627 [00:41<01:22,  5.36it/s]"
          ]
        },
        {
          "output_type": "stream",
          "name": "stdout",
          "text": [
            "SSD Classification Loss: 2.8216 | SSD Localization Loss: 0.8844\n"
          ]
        },
        {
          "output_type": "stream",
          "name": "stderr",
          "text": [
            " 45%|████▌     | 283/627 [01:04<01:10,  4.86it/s]"
          ]
        },
        {
          "output_type": "stream",
          "name": "stdout",
          "text": [
            "SSD Classification Loss: 2.8195 | SSD Localization Loss: 0.8756\n"
          ]
        },
        {
          "output_type": "stream",
          "name": "stderr",
          "text": [
            " 61%|██████    | 382/627 [01:26<00:54,  4.51it/s]"
          ]
        },
        {
          "output_type": "stream",
          "name": "stdout",
          "text": [
            "SSD Classification Loss: 2.8379 | SSD Localization Loss: 0.8835\n"
          ]
        },
        {
          "output_type": "stream",
          "name": "stderr",
          "text": [
            " 77%|███████▋  | 482/627 [01:49<00:30,  4.79it/s]"
          ]
        },
        {
          "output_type": "stream",
          "name": "stdout",
          "text": [
            "SSD Classification Loss: 2.8289 | SSD Localization Loss: 0.8789\n"
          ]
        },
        {
          "output_type": "stream",
          "name": "stderr",
          "text": [
            " 93%|█████████▎| 582/627 [02:12<00:12,  3.70it/s]"
          ]
        },
        {
          "output_type": "stream",
          "name": "stdout",
          "text": [
            "SSD Classification Loss: 2.8231 | SSD Localization Loss: 0.8790\n"
          ]
        },
        {
          "output_type": "stream",
          "name": "stderr",
          "text": [
            "100%|██████████| 627/627 [02:22<00:00,  4.40it/s]\n"
          ]
        },
        {
          "output_type": "stream",
          "name": "stdout",
          "text": [
            "Finished epoch 98\n",
            "SSD Classification Loss: 2.8193 | SSD Localization Loss: 0.8777\n"
          ]
        },
        {
          "output_type": "stream",
          "name": "stderr",
          "text": [
            "  9%|▉         | 55/627 [00:13<02:19,  4.11it/s]"
          ]
        },
        {
          "output_type": "stream",
          "name": "stdout",
          "text": [
            "SSD Classification Loss: 2.7776 | SSD Localization Loss: 0.8824\n"
          ]
        },
        {
          "output_type": "stream",
          "name": "stderr",
          "text": [
            " 25%|██▍       | 156/627 [00:35<01:39,  4.72it/s]"
          ]
        },
        {
          "output_type": "stream",
          "name": "stdout",
          "text": [
            "SSD Classification Loss: 2.8132 | SSD Localization Loss: 0.8869\n"
          ]
        },
        {
          "output_type": "stream",
          "name": "stderr",
          "text": [
            " 41%|████      | 256/627 [00:59<01:24,  4.42it/s]"
          ]
        },
        {
          "output_type": "stream",
          "name": "stdout",
          "text": [
            "SSD Classification Loss: 2.8020 | SSD Localization Loss: 0.8795\n"
          ]
        },
        {
          "output_type": "stream",
          "name": "stderr",
          "text": [
            " 57%|█████▋    | 355/627 [01:22<00:55,  4.92it/s]"
          ]
        },
        {
          "output_type": "stream",
          "name": "stdout",
          "text": [
            "SSD Classification Loss: 2.8229 | SSD Localization Loss: 0.8872\n"
          ]
        },
        {
          "output_type": "stream",
          "name": "stderr",
          "text": [
            " 73%|███████▎  | 455/627 [01:45<00:39,  4.33it/s]"
          ]
        },
        {
          "output_type": "stream",
          "name": "stdout",
          "text": [
            "SSD Classification Loss: 2.8210 | SSD Localization Loss: 0.8827\n"
          ]
        },
        {
          "output_type": "stream",
          "name": "stderr",
          "text": [
            " 89%|████████▊ | 555/627 [02:07<00:15,  4.52it/s]"
          ]
        },
        {
          "output_type": "stream",
          "name": "stdout",
          "text": [
            "SSD Classification Loss: 2.8119 | SSD Localization Loss: 0.8771\n"
          ]
        },
        {
          "output_type": "stream",
          "name": "stderr",
          "text": [
            "100%|██████████| 627/627 [02:23<00:00,  4.37it/s]\n"
          ]
        },
        {
          "output_type": "stream",
          "name": "stdout",
          "text": [
            "Finished epoch 99\n",
            "SSD Classification Loss: 2.8203 | SSD Localization Loss: 0.8808\n"
          ]
        },
        {
          "output_type": "stream",
          "name": "stderr",
          "text": [
            "  4%|▍         | 28/627 [00:06<01:54,  5.22it/s]"
          ]
        },
        {
          "output_type": "stream",
          "name": "stdout",
          "text": [
            "SSD Classification Loss: 2.7775 | SSD Localization Loss: 0.8728\n"
          ]
        },
        {
          "output_type": "stream",
          "name": "stderr",
          "text": [
            " 20%|██        | 128/627 [00:28<01:41,  4.90it/s]"
          ]
        },
        {
          "output_type": "stream",
          "name": "stdout",
          "text": [
            "SSD Classification Loss: 2.8391 | SSD Localization Loss: 0.8936\n"
          ]
        },
        {
          "output_type": "stream",
          "name": "stderr",
          "text": [
            " 37%|███▋      | 229/627 [00:52<01:34,  4.20it/s]"
          ]
        },
        {
          "output_type": "stream",
          "name": "stdout",
          "text": [
            "SSD Classification Loss: 2.8145 | SSD Localization Loss: 0.8773\n"
          ]
        },
        {
          "output_type": "stream",
          "name": "stderr",
          "text": [
            " 52%|█████▏    | 328/627 [01:14<01:04,  4.64it/s]"
          ]
        },
        {
          "output_type": "stream",
          "name": "stdout",
          "text": [
            "SSD Classification Loss: 2.8358 | SSD Localization Loss: 0.8859\n"
          ]
        },
        {
          "output_type": "stream",
          "name": "stderr",
          "text": [
            " 68%|██████▊   | 428/627 [01:37<00:46,  4.32it/s]"
          ]
        },
        {
          "output_type": "stream",
          "name": "stdout",
          "text": [
            "SSD Classification Loss: 2.8304 | SSD Localization Loss: 0.8849\n"
          ]
        },
        {
          "output_type": "stream",
          "name": "stderr",
          "text": [
            " 84%|████████▍ | 528/627 [01:59<00:20,  4.85it/s]"
          ]
        },
        {
          "output_type": "stream",
          "name": "stdout",
          "text": [
            "SSD Classification Loss: 2.8231 | SSD Localization Loss: 0.8833\n"
          ]
        },
        {
          "output_type": "stream",
          "name": "stderr",
          "text": [
            "100%|██████████| 627/627 [02:22<00:00,  4.41it/s]\n"
          ]
        },
        {
          "output_type": "stream",
          "name": "stdout",
          "text": [
            "Finished epoch 100\n",
            "SSD Classification Loss: 2.8299 | SSD Localization Loss: 0.8888\n",
            "Done Training...\n"
          ]
        }
      ]
    },
    {
      "cell_type": "code",
      "source": [
        "def get_iou_map(det, gt):\n",
        "  det_x1, det_y1, det_x2, det_y2 = det\n",
        "  gt_x1, gt_y1, gt_x2, gt_y2 = gt\n",
        "\n",
        "  x_left = max(det_x1, gt_x1)\n",
        "  y_top = max(det_y1, gt_y1)\n",
        "  x_right = min(det_x2, gt_x2)\n",
        "  y_bottom = min(det_y2, gt_y2)\n",
        "\n",
        "  if x_right < x_left or y_bottom < y_top:\n",
        "    return 0.0\n",
        "\n",
        "  area_intersection = (x_right - x_left) * (y_bottom - y_top)\n",
        "  det_area = (det_x2 - det_x1) * (det_y2 - det_y1)\n",
        "  gt_area = (gt_x2 - gt_x1) * (gt_y2 - gt_y1)\n",
        "\n",
        "  area_union = float(det_area + gt_area - area_intersection + 1E-6)\n",
        "  iou = area_intersection / area_union\n",
        "\n",
        "  return iou"
      ],
      "metadata": {
        "id": "9-YHVDWYShQw"
      },
      "execution_count": 22,
      "outputs": []
    },
    {
      "cell_type": "code",
      "source": [
        "def compute_map(det_boxes, gt_boxes, iou_threshold=0.5, method=\"area\", difficult=None):\n",
        "  gt_labels = {cls_key for im_gt in gt_boxes for cls_key in im_gt.keys()}\n",
        "  gt_labels = sorted(gt_labels)\n",
        "\n",
        "  all_aps = {}\n",
        "\n",
        "  # Average precisions for ALL classes\n",
        "  aps = []\n",
        "  for idx, label in enumerate(gt_labels):\n",
        "    # Get detection predictions of this class\n",
        "    cls_dets = [\n",
        "        [im_idx, im_dets_label] for im_idx, im_dets in enumerate(det_boxes)\n",
        "        if label in im_dets for im_dets_label in im_dets[label]\n",
        "    ]\n",
        "\n",
        "    # Sort them by confidence score\n",
        "    cls_dets = sorted(cls_dets, key=lambda k: -k[1][-1])\n",
        "\n",
        "    # For tracking which gt boxes of this class have already been matched\n",
        "    gt_matched = [[False for _ in im_gts[label]] for im_gts in gt_boxes]\n",
        "    # Number of gt boxes for this class for recall calculation\n",
        "    num_gts = sum([len(im_gts[label]) for im_gts in gt_boxes])\n",
        "    num_difficults = sum([sum(difficults_label[label]) for difficults_label in difficult])\n",
        "\n",
        "    tp = [0] * len(cls_dets)\n",
        "    fp = [0] * len(cls_dets)\n",
        "\n",
        "    # For each prediction\n",
        "    for det_idx, (im_idx, det_pred) in enumerate(cls_dets):\n",
        "      # Get gt boxes for this image and this label\n",
        "      im_gts = gt_boxes[im_idx][label]\n",
        "      im_gt_difficults = difficult[im_idx][label]\n",
        "\n",
        "      max_iou_found = -1\n",
        "      max_iou_gt_idx = -1\n",
        "\n",
        "      # Get best matching gt box\n",
        "      for gt_box_idx, gt_box in enumerate(im_gts):\n",
        "        gt_box_iou = get_iou_map(det_pred[:-1], gt_box)\n",
        "        if gt_box_iou > max_iou_found:\n",
        "          max_iou_found = gt_box_iou\n",
        "          max_iou_gt_idx = gt_box_idx\n",
        "      # TP only if iou >= threshold and this gt has not yet been matched\n",
        "      if max_iou_found >= iou_threshold:\n",
        "        if not im_gt_difficults[max_iou_gt_idx]:\n",
        "          if not gt_matched[im_idx][max_iou_gt_idx]:\n",
        "            # If tp then we set this gt box as matched\n",
        "            gt_matched[im_idx][max_iou_gt_idx] = True\n",
        "            tp[det_idx] = 1\n",
        "          else:\n",
        "            fp[det_idx] = 1\n",
        "      else:\n",
        "        fp[det_idx] = 1\n",
        "\n",
        "    # Cumulative tp and fp\n",
        "    tp = np.cumsum(tp)\n",
        "    fp = np.cumsum(fp)\n",
        "\n",
        "    eps = np.finfo(np.float32).eps\n",
        "    # recalls = tp / np.maximum(num_gts, eps)\n",
        "    recalls = tp / np.maximum(num_gts - num_difficults, eps)\n",
        "    precisions = tp / np.maximum((tp + fp), eps)\n",
        "\n",
        "    if method == \"area\":\n",
        "      recalls = np.concatenate(([0.0], recalls, [1.0]))\n",
        "      precisions = np.concatenate(([0.0], precisions, [0.0]))\n",
        "\n",
        "      # Replace precision values with recall r with maximum precision value\n",
        "      # of any recall value >= r\n",
        "      # This computes the precision envelope\n",
        "      for i in range(precisions.size - 1, 0, -1):\n",
        "          precisions[i - 1] = np.maximum(precisions[i - 1], precisions[i])\n",
        "      # For computing area, get points where recall changes value\n",
        "      i = np.where(recalls[1:] != recalls[:-1])[0]\n",
        "      # Add the rectangular areas to get ap\n",
        "      ap = np.sum((recalls[i + 1] - recalls[i]) * precisions[i + 1])\n",
        "    elif method == \"interp\":\n",
        "      ap = 0.0\n",
        "      for interp_pt in np.arange(0, 1 + 1E-3, 0.1):\n",
        "        # Get precision values for recall values >= interp_pt\n",
        "        prec_interp_pt = precisions[recalls >= interp_pt]\n",
        "\n",
        "        # Get max of those precision values\n",
        "        prec_interp_pt= prec_interp_pt.max() if prec_interp_pt.size>0.0 else 0.0\n",
        "        ap += prec_interp_pt\n",
        "      ap = ap / 11.0\n",
        "    else:\n",
        "      raise ValueError(\"Method can only be area or interp\")\n",
        "    if num_gts > 0:\n",
        "      aps.append(ap)\n",
        "      all_aps[label] = ap\n",
        "    else:\n",
        "      all_aps[label] = np.nan\n",
        "\n",
        "  # compute mAP at provided iou threshold\n",
        "  mean_ap = sum(aps) / len(aps)\n",
        "  return mean_ap, all_aps"
      ],
      "metadata": {
        "id": "rirHRDagShOx"
      },
      "execution_count": 23,
      "outputs": []
    },
    {
      "cell_type": "code",
      "source": [
        "def load_model_and_dataset():\n",
        "  dataset_config = dataset_params\n",
        "  model_config = model_params\n",
        "  train_config = train_params\n",
        "\n",
        "  voc = VOCDataset(\"test\", im_sets=dataset_config[\"test_im_sets\"])\n",
        "\n",
        "  test_dataset = DataLoader(voc,\n",
        "                            batch_size=1,\n",
        "                            shuffle=False,\n",
        "                            num_workers=os.cpu_count(),\n",
        "                            pin_memory=True)\n",
        "\n",
        "  model = SSD(config=model_config, num_classes=dataset_config[\"num_classes\"])\n",
        "\n",
        "  model.to(device)\n",
        "  model.eval()\n",
        "\n",
        "  checkpoint = torch.load(os.path.join(train_config[\"task_name\"], train_config[\"ckpt_name\"]),\n",
        "                          map_location=device)\n",
        "\n",
        "  model.load_state_dict(checkpoint[\"model_state_dict\"])\n",
        "\n",
        "  return model, voc, test_dataset"
      ],
      "metadata": {
        "id": "4mrKIQgQShMu"
      },
      "execution_count": 24,
      "outputs": []
    },
    {
      "cell_type": "code",
      "source": [
        "def infer():\n",
        "  if not os.path.exists(\"samples\"):\n",
        "    os.mkdir(\"samples\")\n",
        "\n",
        "  model, voc, test_dataset = load_model_and_dataset()\n",
        "  conf_threshold = train_params[\"infer_conf_threshold\"]\n",
        "  model.low_score_threshold = conf_threshold\n",
        "\n",
        "  num_samples = 5\n",
        "\n",
        "  for i in tqdm(range(num_samples)):\n",
        "    dataset_idx = random.randint(0, len(voc) - 1)\n",
        "    im_tensor, target, fname = voc[dataset_idx]\n",
        "    _, ssd_detections = model(im_tensor.unsqueeze(0).to(device), [target])\n",
        "\n",
        "    gt_im = cv2.imread(fname)\n",
        "    h, w = gt_im.shape[:2]\n",
        "    gt_im_copy = gt_im.copy()\n",
        "\n",
        "    # Saving images with ground truth boxes\n",
        "    for idx, box in enumerate(target[\"bboxes\"]):\n",
        "      x1, y1, x2, y2 = box.detach().cpu().numpy()\n",
        "      x1, y1, x2, y2 = int(w*x1), int(h*y1), int(w*x2), int(h*y2)\n",
        "      cv2.rectangle(gt_im, (x1, y1), (x2, y2), thickness=2, color=[0, 255, 0])\n",
        "      cv2.rectangle(gt_im_copy, (x1, y1), (x2, y2), thickness=2, color=[0, 255, 0])\n",
        "      text = voc.idx2label[target[\"labels\"][idx].detach().cpu().item()]\n",
        "      text_size, _ = cv2.getTextSize(text, cv2.FONT_HERSHEY_PLAIN, 1, 1)\n",
        "      text_w, text_h = text_size\n",
        "      cv2.rectangle(gt_im_copy, (x1, y1), (x1 + 10 + text_w, y1 + 10 + text_h), [255, 255, 255], -1)\n",
        "      cv2.putText(gt_im, text=voc.idx2label[target[\"labels\"][idx].detach().cpu().item()],\n",
        "                  org=(x1 + 5, y1 + 15),\n",
        "                  thickness=1,\n",
        "                  fontScale=1,\n",
        "                  color=[0, 0, 0],\n",
        "                  fontFace=cv2.FONT_HERSHEY_PLAIN)\n",
        "      cv2.putText(gt_im_copy, text=text,\n",
        "                  org=(x1 + 5, y1 + 15),\n",
        "                  thickness=1,\n",
        "                  fontScale=1,\n",
        "                  color=[0, 0, 0],\n",
        "                  fontFace=cv2.FONT_HERSHEY_PLAIN)\n",
        "\n",
        "    cv2.addWeighted(gt_im_copy, 0.7, gt_im, 0.3, 0, gt_im)\n",
        "    cv2.imwrite(f\"samples/output_ssd_gt_{i}.png\", gt_im)\n",
        "\n",
        "    # Getting predictions from trained model\n",
        "    boxes = ssd_detections[0][\"boxes\"]\n",
        "    labels = ssd_detections[0][\"labels\"]\n",
        "    scores = ssd_detections[0][\"scores\"]\n",
        "    im = cv2.imread(fname)\n",
        "    im_copy = im.copy()\n",
        "\n",
        "    # Saving images with predicted boxes\n",
        "    for idx, box in enumerate(boxes):\n",
        "      x1, y1, x2, y2 = box.detach().cpu().numpy()\n",
        "      x1, y1, x2, y2 = int(w * x1), int(h * y1), int(w * x2), int(h * y2)\n",
        "      cv2.rectangle(im, (x1, y1), (x2, y2), thickness=2, color=[0, 0, 255])\n",
        "      cv2.rectangle(im_copy, (x1, y1), (x2, y2), thickness=2, color=[0, 0, 255])\n",
        "      text = f\"{voc.idx2label[labels[idx].detach().cpu().item()]}: {scores[idx].detach().cpu().item():.2f}\"\n",
        "\n",
        "      text_size, _ = cv2.getTextSize(text, cv2.FONT_HERSHEY_PLAIN, 1, 1)\n",
        "      text_w, text_h = text_size\n",
        "      cv2.rectangle(im_copy, (x1, y1), (x1 + 10 + text_w, y1 + 10 + text_h), [255, 255, 255], -1)\n",
        "      cv2.putText(im, text=text,\n",
        "                  org=(x1 + 5, y1 + 15),\n",
        "                  thickness=1,\n",
        "                  fontScale=1,\n",
        "                  color=[0, 0, 0],\n",
        "                  fontFace=cv2.FONT_HERSHEY_PLAIN)\n",
        "      cv2.putText(im_copy, text=text,\n",
        "                  org=(x1 + 5, y1 + 15),\n",
        "                  thickness=1,\n",
        "                  fontScale=1,\n",
        "                  color=[0, 0, 0],\n",
        "                  fontFace=cv2.FONT_HERSHEY_PLAIN)\n",
        "\n",
        "    cv2.addWeighted(im_copy, 0.7, im, 0.3, 0, im)\n",
        "\n",
        "    cv2.imwrite(f\"samples/output_ssd_{i}.jpg\", im)\n",
        "\n",
        "  print(\"Done Detecting...\")\n",
        "\n",
        "infer()"
      ],
      "metadata": {
        "id": "IOeiIWDpTE03",
        "colab": {
          "base_uri": "https://localhost:8080/"
        },
        "outputId": "d2332c32-6b8e-49dd-b06e-d56c4d9163f4"
      },
      "execution_count": 25,
      "outputs": [
        {
          "output_type": "stream",
          "name": "stdout",
          "text": [
            "{0: 'background', 1: 'aeroplane', 2: 'bicycle', 3: 'bird', 4: 'boat', 5: 'bottle', 6: 'bus', 7: 'car', 8: 'cat', 9: 'chair', 10: 'cow', 11: 'diningtable', 12: 'dog', 13: 'horse', 14: 'motorbike', 15: 'person', 16: 'pottedplant', 17: 'sheep', 18: 'sofa', 19: 'train', 20: 'tvmonitor'}\n",
            "Total 4952 images found\n"
          ]
        },
        {
          "output_type": "stream",
          "name": "stderr",
          "text": [
            "100%|██████████| 5/5 [00:00<00:00,  7.96it/s]"
          ]
        },
        {
          "output_type": "stream",
          "name": "stdout",
          "text": [
            "Done Detecting...\n"
          ]
        },
        {
          "output_type": "stream",
          "name": "stderr",
          "text": [
            "\n"
          ]
        }
      ]
    },
    {
      "cell_type": "code",
      "source": [
        "def evaluate_map():\n",
        "  model, voc, test_dataset = load_model_and_dataset()\n",
        "\n",
        "  gts = []\n",
        "  preds = []\n",
        "  difficults = []\n",
        "  for im_tensor, target, fname in tqdm(test_dataset):\n",
        "    im_tensor = im_tensor.float().to(device)\n",
        "    target_bboxes = target[\"bboxes\"].float()[0].to(device)\n",
        "    target_labels = target[\"labels\"].long()[0].to(device)\n",
        "    difficult = target[\"difficult\"].long()[0].to(device)\n",
        "    _, ssd_detections = model(im_tensor)\n",
        "\n",
        "    boxes = ssd_detections[0][\"boxes\"]\n",
        "    labels = ssd_detections[0][\"labels\"]\n",
        "    scores = ssd_detections[0][\"scores\"]\n",
        "\n",
        "    pred_boxes = {}\n",
        "    gt_boxes = {}\n",
        "    difficult_boxes = {}\n",
        "\n",
        "    for label_name in voc.label2idx:\n",
        "        pred_boxes[label_name] = []\n",
        "        gt_boxes[label_name] = []\n",
        "        difficult_boxes[label_name] = []\n",
        "\n",
        "    for idx, box in enumerate(boxes):\n",
        "      x1, y1, x2, y2 = box.detach().cpu().numpy()\n",
        "      label = labels[idx].detach().cpu().item()\n",
        "      score = scores[idx].detach().cpu().item()\n",
        "      label_name = voc.idx2label[label]\n",
        "      pred_boxes[label_name].append([x1, y1, x2, y2, score])\n",
        "\n",
        "    for idx, box in enumerate(target_bboxes):\n",
        "      x1, y1, x2, y2 = box.detach().cpu().numpy()\n",
        "      label = target_labels[idx].detach().cpu().item()\n",
        "      label_name = voc.idx2label[label]\n",
        "      gt_boxes[label_name].append([x1, y1, x2, y2])\n",
        "      difficult_boxes[label_name].append(difficult[idx].detach().cpu().item())\n",
        "\n",
        "    gts.append(gt_boxes)\n",
        "    preds.append(pred_boxes)\n",
        "    difficults.append(difficult_boxes)\n",
        "\n",
        "  mean_ap, all_aps = compute_map(preds, gts, method=\"area\", difficult=difficults)\n",
        "  print(\"Class Wise Average Precisions\")\n",
        "  for idx in range(len(voc.idx2label)):\n",
        "    print(f\"AP for class {voc.idx2label[idx]} = {all_aps[voc.idx2label[idx]]:.4f}\")\n",
        "  print(f\"Mean Average Precision: {mean_ap:.4f}\")\n",
        "\n",
        "evaluate_map()"
      ],
      "metadata": {
        "id": "5P3Dd0ZoTEyh",
        "colab": {
          "base_uri": "https://localhost:8080/"
        },
        "outputId": "8efcd016-7d6c-4ff5-e920-b818c31a494f"
      },
      "execution_count": 26,
      "outputs": [
        {
          "output_type": "stream",
          "name": "stdout",
          "text": [
            "{0: 'background', 1: 'aeroplane', 2: 'bicycle', 3: 'bird', 4: 'boat', 5: 'bottle', 6: 'bus', 7: 'car', 8: 'cat', 9: 'chair', 10: 'cow', 11: 'diningtable', 12: 'dog', 13: 'horse', 14: 'motorbike', 15: 'person', 16: 'pottedplant', 17: 'sheep', 18: 'sofa', 19: 'train', 20: 'tvmonitor'}\n",
            "Total 4952 images found\n"
          ]
        },
        {
          "output_type": "stream",
          "name": "stderr",
          "text": [
            "100%|██████████| 4952/4952 [02:47<00:00, 29.64it/s]\n"
          ]
        },
        {
          "output_type": "stream",
          "name": "stdout",
          "text": [
            "Class Wise Average Precisions\n",
            "AP for class background = nan\n",
            "AP for class aeroplane = 0.7674\n",
            "AP for class bicycle = 0.8246\n",
            "AP for class bird = 0.7120\n",
            "AP for class boat = 0.6578\n",
            "AP for class bottle = 0.3309\n",
            "AP for class bus = 0.8131\n",
            "AP for class car = 0.8568\n",
            "AP for class cat = 0.8576\n",
            "AP for class chair = 0.4494\n",
            "AP for class cow = 0.7227\n",
            "AP for class diningtable = 0.6930\n",
            "AP for class dog = 0.8373\n",
            "AP for class horse = 0.8482\n",
            "AP for class motorbike = 0.8297\n",
            "AP for class person = 0.7537\n",
            "AP for class pottedplant = 0.3838\n",
            "AP for class sheep = 0.6980\n",
            "AP for class sofa = 0.7492\n",
            "AP for class train = 0.8526\n",
            "AP for class tvmonitor = 0.7187\n",
            "Mean Average Precision: 0.7178\n"
          ]
        }
      ]
    },
    {
      "cell_type": "code",
      "source": [
        "!zip -r samples.zip samples"
      ],
      "metadata": {
        "colab": {
          "base_uri": "https://localhost:8080/"
        },
        "id": "1CRxXd9wC5eJ",
        "outputId": "d185ae38-5414-4bb3-96e6-a07c0af29f5f"
      },
      "execution_count": 27,
      "outputs": [
        {
          "output_type": "stream",
          "name": "stdout",
          "text": [
            "  adding: samples/ (stored 0%)\n",
            "  adding: samples/output_ssd_2.jpg (deflated 0%)\n",
            "  adding: samples/output_ssd_gt_2.png (deflated 1%)\n",
            "  adding: samples/output_ssd_gt_0.png (deflated 1%)\n",
            "  adding: samples/output_ssd_0.jpg (deflated 0%)\n",
            "  adding: samples/output_ssd_gt_1.png (deflated 3%)\n",
            "  adding: samples/output_ssd_3.jpg (deflated 0%)\n",
            "  adding: samples/output_ssd_4.jpg (deflated 1%)\n",
            "  adding: samples/output_ssd_gt_3.png (deflated 2%)\n",
            "  adding: samples/output_ssd_gt_4.png (deflated 2%)\n",
            "  adding: samples/output_ssd_1.jpg (deflated 0%)\n"
          ]
        }
      ]
    },
    {
      "cell_type": "code",
      "source": [
        "from google.colab import files\n",
        "\n",
        "files.download(\"samples.zip\")"
      ],
      "metadata": {
        "colab": {
          "base_uri": "https://localhost:8080/",
          "height": 17
        },
        "id": "gB2n4ZwUC60M",
        "outputId": "82f16bfc-477c-4f26-b190-4778e371ee2f"
      },
      "execution_count": 28,
      "outputs": [
        {
          "output_type": "display_data",
          "data": {
            "text/plain": [
              "<IPython.core.display.Javascript object>"
            ],
            "application/javascript": [
              "\n",
              "    async function download(id, filename, size) {\n",
              "      if (!google.colab.kernel.accessAllowed) {\n",
              "        return;\n",
              "      }\n",
              "      const div = document.createElement('div');\n",
              "      const label = document.createElement('label');\n",
              "      label.textContent = `Downloading \"${filename}\": `;\n",
              "      div.appendChild(label);\n",
              "      const progress = document.createElement('progress');\n",
              "      progress.max = size;\n",
              "      div.appendChild(progress);\n",
              "      document.body.appendChild(div);\n",
              "\n",
              "      const buffers = [];\n",
              "      let downloaded = 0;\n",
              "\n",
              "      const channel = await google.colab.kernel.comms.open(id);\n",
              "      // Send a message to notify the kernel that we're ready.\n",
              "      channel.send({})\n",
              "\n",
              "      for await (const message of channel.messages) {\n",
              "        // Send a message to notify the kernel that we're ready.\n",
              "        channel.send({})\n",
              "        if (message.buffers) {\n",
              "          for (const buffer of message.buffers) {\n",
              "            buffers.push(buffer);\n",
              "            downloaded += buffer.byteLength;\n",
              "            progress.value = downloaded;\n",
              "          }\n",
              "        }\n",
              "      }\n",
              "      const blob = new Blob(buffers, {type: 'application/binary'});\n",
              "      const a = document.createElement('a');\n",
              "      a.href = window.URL.createObjectURL(blob);\n",
              "      a.download = filename;\n",
              "      div.appendChild(a);\n",
              "      a.click();\n",
              "      div.remove();\n",
              "    }\n",
              "  "
            ]
          },
          "metadata": {}
        },
        {
          "output_type": "display_data",
          "data": {
            "text/plain": [
              "<IPython.core.display.Javascript object>"
            ],
            "application/javascript": [
              "download(\"download_b48aa608-9b98-4a4a-8368-812ca2478178\", \"samples.zip\", 2035449)"
            ]
          },
          "metadata": {}
        }
      ]
    }
  ]
}