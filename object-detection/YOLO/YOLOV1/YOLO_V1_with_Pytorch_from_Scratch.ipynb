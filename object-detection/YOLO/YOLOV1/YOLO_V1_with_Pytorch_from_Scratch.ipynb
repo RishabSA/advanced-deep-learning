{
  "nbformat": 4,
  "nbformat_minor": 0,
  "metadata": {
    "colab": {
      "provenance": [],
      "machine_shape": "hm",
      "gpuType": "A100"
    },
    "kernelspec": {
      "name": "python3",
      "display_name": "Python 3"
    },
    "language_info": {
      "name": "python"
    },
    "accelerator": "GPU"
  },
  "cells": [
    {
      "cell_type": "code",
      "execution_count": 1,
      "metadata": {
        "id": "QhtvL5mbCOEd",
        "colab": {
          "base_uri": "https://localhost:8080/"
        },
        "outputId": "4068a67e-c937-4ef0-8e2a-f88da30b47b7"
      },
      "outputs": [
        {
          "output_type": "stream",
          "name": "stderr",
          "text": [
            "/usr/local/lib/python3.11/dist-packages/albumentations/__init__.py:28: UserWarning: A new version of Albumentations is available: '2.0.7' (you have '2.0.6'). Upgrade using: pip install -U albumentations. To disable automatic update checks, set the environment variable NO_ALBUMENTATIONS_UPDATE to 1.\n",
            "  check_for_updates()\n"
          ]
        },
        {
          "output_type": "execute_result",
          "data": {
            "text/plain": [
              "device(type='cuda')"
            ]
          },
          "metadata": {},
          "execution_count": 1
        }
      ],
      "source": [
        "import torch\n",
        "import torch.nn as nn\n",
        "import torch.nn.functional as F\n",
        "import torchvision\n",
        "from torch.utils.data.dataloader import DataLoader\n",
        "from torch.optim.lr_scheduler import MultiStepLR\n",
        "\n",
        "import math\n",
        "import glob\n",
        "import os\n",
        "import random\n",
        "import cv2\n",
        "import numpy as np\n",
        "from PIL import Image\n",
        "from tqdm import tqdm\n",
        "from torch.utils.data.dataset import Dataset\n",
        "import xml.etree.ElementTree as ET\n",
        "import albumentations as albu\n",
        "\n",
        "torch.backends.cudnn.benchmark = True\n",
        "device = torch.device(\"cuda\" if torch.cuda.is_available() else \"cpu\")\n",
        "device"
      ]
    },
    {
      "cell_type": "code",
      "source": [
        "dataset_params = {\n",
        "  \"train_im_sets\": [\"data/VOC2007\", \"data/VOC2012\"],\n",
        "  \"test_im_sets\": [\"data/VOC2007-test\"],\n",
        "  \"num_classes\": 20, # 20 foreground classes\n",
        "  \"im_size\": 448\n",
        "}\n",
        "\n",
        "model_params = {\n",
        "  \"im_channels\": 3,\n",
        "  \"backbone_channels\": 512,\n",
        "  \"conv_spatial_size\": 7, # Size after all conv layers\n",
        "  \"yolo_conv_channels\": 1024,\n",
        "  \"leaky_relu_slope\": 0.1,\n",
        "  \"fc_dim\": 4096,\n",
        "  \"fc_dropout\": 0.5,\n",
        "  \"S\": 7, # 49 grid cells\n",
        "  \"B\": 2, # 2 boxes per grid cell\n",
        "  \"use_sigmoid\": True,\n",
        "  \"use_conv\": True\n",
        "}\n",
        "\n",
        "train_params = {\n",
        "  \"task_name\": \"voc\",\n",
        "  \"seed\": 1111,\n",
        "  \"acc_steps\": 1, # Increase if you want to get gradients from >1 steps (kind of mimicking >1 batch size)\n",
        "  \"log_steps\": 100,\n",
        "  \"num_epochs\": 135,\n",
        "  \"batch_size\": 64,\n",
        "  \"lr_steps\": [50, 75, 100, 125],\n",
        "  \"lr\": 0.001,\n",
        "  \"infer_conf_threshold\": 0.2,\n",
        "  \"eval_conf_threshold\": 0.001,\n",
        "  \"nms_threshold\": 0.5,\n",
        "  \"ckpt_name\": \"yolo_voc2007.pth\"\n",
        "}"
      ],
      "metadata": {
        "id": "cUlXLA-AtKUb"
      },
      "execution_count": 2,
      "outputs": []
    },
    {
      "cell_type": "code",
      "source": [
        "from google.colab import drive\n",
        "drive.mount(\"/content/drive\")"
      ],
      "metadata": {
        "id": "VTAZ-DO2tw1e",
        "colab": {
          "base_uri": "https://localhost:8080/"
        },
        "outputId": "96041abc-9411-4d5f-fcb6-d71281bfe8c0"
      },
      "execution_count": 3,
      "outputs": [
        {
          "output_type": "stream",
          "name": "stdout",
          "text": [
            "Mounted at /content/drive\n"
          ]
        }
      ]
    },
    {
      "cell_type": "code",
      "source": [
        "!unzip -q \"/content/drive/MyDrive/Machine Learning/advanced-deep-learning/object-detection/YOLO/data.zip\" -d \"/content\""
      ],
      "metadata": {
        "id": "HDPH2YesuD_o"
      },
      "execution_count": 4,
      "outputs": []
    },
    {
      "cell_type": "code",
      "source": [
        "def load_images_and_anns(im_sets, label2idx, ann_fname, split):\n",
        "  \"\"\"\n",
        "  Method to get the xml files and for each file\n",
        "  get all the objects and their ground truth detection\n",
        "  information for the dataset\n",
        "\n",
        "  im_sets: Sets of images to consider\n",
        "  label2idx: Class Name to index mapping for dataset\n",
        "  ann_fname: txt file containing image names{trainval.txt/test.txt}\n",
        "  split: train/test\n",
        "  \"\"\"\n",
        "  im_infos = []\n",
        "  ims = []\n",
        "\n",
        "  for im_set in im_sets:\n",
        "    im_names = []\n",
        "\n",
        "    # Fetch all image names in txt file for this imageset\n",
        "    for line in open(os.path.join(im_set, \"ImageSets\", \"Main\", f\"{ann_fname}.txt\")):\n",
        "      im_names.append(line.strip())\n",
        "\n",
        "    # Set annotation and image path\n",
        "    ann_dir = os.path.join(im_set, \"Annotations\")\n",
        "    im_dir = os.path.join(im_set, \"JPEGImages\")\n",
        "\n",
        "    for im_name in im_names:\n",
        "      ann_file = os.path.join(ann_dir, f\"{im_name}.xml\")\n",
        "      im_info = {}\n",
        "      ann_info = ET.parse(ann_file)\n",
        "      root = ann_info.getroot()\n",
        "      size = root.find(\"size\")\n",
        "\n",
        "      width = int(size.find(\"width\").text)\n",
        "      height = int(size.find(\"height\").text)\n",
        "\n",
        "      im_info[\"img_id\"] = os.path.basename(ann_file).split(\".xml\")[0]\n",
        "      im_info[\"filename\"] = os.path.join(im_dir, f\"{im_info['img_id']}.jpg\")\n",
        "\n",
        "      im_info[\"width\"] = width\n",
        "      im_info[\"height\"] = height\n",
        "      detections = []\n",
        "\n",
        "      # We will keep an image only if there are valid rois in it\n",
        "      any_valid_object = False\n",
        "      for obj in ann_info.findall(\"object\"):\n",
        "        det = {}\n",
        "\n",
        "        label = label2idx[obj.find(\"name\").text]\n",
        "        difficult = int(obj.find(\"difficult\").text)\n",
        "        bbox_info = obj.find(\"bndbox\")\n",
        "\n",
        "        # Boxes are in x_1, y_1, x_2, y_2 format\n",
        "        bbox = [\n",
        "            int(float(bbox_info.find(\"xmin\").text))-1,\n",
        "            int(float(bbox_info.find(\"ymin\").text))-1,\n",
        "            int(float(bbox_info.find(\"xmax\").text))-1,\n",
        "            int(float(bbox_info.find(\"ymax\").text))-1\n",
        "        ]\n",
        "\n",
        "        det[\"label\"] = label\n",
        "        det[\"bbox\"] = bbox\n",
        "        det[\"difficult\"] = difficult\n",
        "\n",
        "        # Ignore difficult rois during training\n",
        "        # At test time eval does the job of ignoring difficult examples.\n",
        "        if difficult == 0 or split == \"test\":\n",
        "          detections.append(det)\n",
        "          any_valid_object = True\n",
        "\n",
        "      if any_valid_object:\n",
        "        im_info[\"detections\"] = detections\n",
        "        im_infos.append(im_info)\n",
        "\n",
        "  print(f\"Total {len(im_infos)} images found\")\n",
        "  return im_infos"
      ],
      "metadata": {
        "id": "7RFPk-NHtrU5"
      },
      "execution_count": 5,
      "outputs": []
    },
    {
      "cell_type": "code",
      "source": [
        "class VOCDataset(Dataset):\n",
        "  def __init__(self, split, im_sets, im_size=448, S=7, B=2, C=20):\n",
        "    self.split = split\n",
        "    # ImageSets for this dataset instance (VOC2007/VOC2007+VOC2012/VOC2007-test)\n",
        "    self.im_sets = im_sets\n",
        "    self.fname = \"trainval\" if self.split == \"train\" else \"test\"\n",
        "    self.im_size = im_size\n",
        "    # Grid size, B and C parameter for target setting\n",
        "    self.S = S\n",
        "    self.B = B\n",
        "    self.C = C\n",
        "\n",
        "    # Train and test augmentations\n",
        "    self.transforms = {\n",
        "        # Training Augmentations: Horizontal Flip, Affine, ColorJitter\n",
        "        \"train\": albu.Compose([\n",
        "            albu.HorizontalFlip(p=0.5),\n",
        "            albu.Affine(\n",
        "                scale=(0.8, 1.2),\n",
        "                translate_percent=(-0.2, 0.2),\n",
        "                always_apply=True\n",
        "            ),\n",
        "            albu.ColorJitter(\n",
        "                brightness=(0.8, 1.2),\n",
        "                contrast=(0.8, 1.2),\n",
        "                saturation=(0.8, 1.2),\n",
        "                hue=(-0.2, 0.2),\n",
        "                always_apply=False,\n",
        "                p=0.5,\n",
        "            ),\n",
        "            albu.Resize(self.im_size, self.im_size)],\n",
        "            bbox_params=albu.BboxParams(format=\"pascal_voc\",\n",
        "                                        label_fields=[\"labels\"])),\n",
        "        \"test\": albu.Compose([\n",
        "            albu.Resize(self.im_size, self.im_size),\n",
        "            ],\n",
        "            bbox_params=albu.BboxParams(format=\"pascal_voc\",\n",
        "                                        label_fields=[\"labels\"]))\n",
        "    }\n",
        "\n",
        "    classes = [\n",
        "        \"person\", \"bird\", \"cat\", \"cow\", \"dog\", \"horse\", \"sheep\",\n",
        "        \"aeroplane\", \"bicycle\", \"boat\", \"bus\", \"car\", \"motorbike\", \"train\",\n",
        "        \"bottle\", \"chair\", \"diningtable\", \"pottedplant\", \"sofa\", \"tvmonitor\"\n",
        "    ]\n",
        "    classes = sorted(classes)\n",
        "\n",
        "    self.label2idx = {classes[idx]: idx for idx in range(len(classes))}\n",
        "    self.idx2label = {idx: classes[idx] for idx in range(len(classes))}\n",
        "\n",
        "    print(self.idx2label)\n",
        "\n",
        "    self.images_info = load_images_and_anns(self.im_sets,\n",
        "                                            self.label2idx,\n",
        "                                            self.fname,\n",
        "                                            self.split)\n",
        "\n",
        "  def __len__(self):\n",
        "    return len(self.images_info)\n",
        "\n",
        "  def __getitem__(self, index):\n",
        "    im_info = self.images_info[index]\n",
        "    im = cv2.imread(im_info[\"filename\"])\n",
        "    im = cv2.cvtColor(im, cv2.COLOR_BGR2RGB)\n",
        "\n",
        "    # Get annotations for this image\n",
        "    bboxes = [detection[\"bbox\"] for detection in im_info[\"detections\"]]\n",
        "    labels = [detection[\"label\"] for detection in im_info[\"detections\"]]\n",
        "    difficult = [detection[\"difficult\"] for detection in im_info[\"detections\"]]\n",
        "\n",
        "    # Transform Image and ann according to augmentations list\n",
        "    transformed_info = self.transforms[self.split](image=im,\n",
        "                                                    bboxes=bboxes,\n",
        "                                                    labels=labels)\n",
        "    im = transformed_info[\"image\"]\n",
        "    bboxes = torch.as_tensor(transformed_info[\"bboxes\"])\n",
        "    labels = torch.as_tensor(transformed_info[\"labels\"])\n",
        "    difficult = torch.as_tensor(difficult)\n",
        "\n",
        "    # Convert image to tensor and normalize for ResNet pretrained on ImageNet\n",
        "    im_tensor = torch.from_numpy(im / 255.).permute((2, 0, 1)).float()\n",
        "    im_tensor_channel_0 = (torch.unsqueeze(im_tensor[0], 0) - 0.485) / 0.229\n",
        "    im_tensor_channel_1 = (torch.unsqueeze(im_tensor[1], 0) - 0.456) / 0.224\n",
        "    im_tensor_channel_2 = (torch.unsqueeze(im_tensor[2], 0) - 0.406) / 0.225\n",
        "\n",
        "    im_tensor = torch.cat((im_tensor_channel_0,\n",
        "                            im_tensor_channel_1,\n",
        "                            im_tensor_channel_2), 0)\n",
        "\n",
        "    bboxes_tensor = torch.as_tensor(bboxes)\n",
        "    labels_tensor = torch.as_tensor(labels)\n",
        "\n",
        "    # Build Target for Yolo\n",
        "    # S x S x (5B +C)\n",
        "    target_dim = 5 * self.B + self.C\n",
        "    h, w = im.shape[:2]\n",
        "    yolo_targets = torch.zeros(self.S, self.S, target_dim)\n",
        "\n",
        "    # Height and width of grid cells is H // S\n",
        "    cell_pixels = h // self.S\n",
        "\n",
        "    if len(bboxes) > 0:\n",
        "      # Convert x_1, y_1, x_2, y_2 to center_x, center_y, width, height format\n",
        "      box_widths = bboxes_tensor[:, 2] - bboxes_tensor[:, 0]\n",
        "      box_heights = bboxes_tensor[:, 3] - bboxes_tensor[:, 1]\n",
        "      box_center_x = bboxes_tensor[:, 0] + 0.5 * box_widths\n",
        "      box_center_y = bboxes_tensor[:, 1] + 0.5 * box_heights\n",
        "\n",
        "      # Get the grid cell i, j from x_center, y_center\n",
        "      box_i = torch.floor(box_center_x / cell_pixels).long()\n",
        "      box_j = torch.floor(box_center_y / cell_pixels).long()\n",
        "\n",
        "      # x_center and y_center offsets from the top left of grid cell and normalized to [0, 1]\n",
        "      box_xc_cell_offset = (box_center_x - box_i*cell_pixels) / cell_pixels\n",
        "      box_yc_cell_offset = (box_center_y - box_j*cell_pixels) / cell_pixels\n",
        "\n",
        "      # width and height targets normalized to [0, 1]\n",
        "      box_w_label = box_widths / w\n",
        "      box_h_label = box_heights / h\n",
        "\n",
        "      # Update the target array for all bboxes\n",
        "      for idx, b in enumerate(range(bboxes_tensor.size(0))):\n",
        "        # Make target of the exact same shape as prediction\n",
        "        for k in range(self.B):\n",
        "          s = 5 * k\n",
        "\n",
        "          # target_ij = [xc_offset,yc_offset,sqrt(w),sqrt(h), conf, cls_label]\n",
        "          yolo_targets[box_j[idx], box_i[idx], s] = box_xc_cell_offset[idx]\n",
        "          yolo_targets[box_j[idx], box_i[idx], s+1] = box_yc_cell_offset[idx]\n",
        "\n",
        "          # Use the square root for localization loss function\n",
        "          yolo_targets[box_j[idx], box_i[idx], s+2] = box_w_label[idx].sqrt()\n",
        "          yolo_targets[box_j[idx], box_i[idx], s+3] = box_h_label[idx].sqrt()\n",
        "          yolo_targets[box_j[idx], box_i[idx], s+4] = 1.0\n",
        "\n",
        "        label = int(labels[b])\n",
        "        cls_target = torch.zeros((self.C,))\n",
        "        cls_target[label] = 1.\n",
        "        yolo_targets[box_j[idx], box_i[idx], 5 * self.B:] = cls_target\n",
        "\n",
        "    # For training, we use yolo_targets(xoffset, yoffset, sqrt(w), sqrt(h))\n",
        "    # For evaluation we use bboxes_tensor (x1, y1, x2, y2)\n",
        "    # Normalize bboxes tensor to be between [0, 1] as thats what evaluation script expects so (x1/w, y1/h, x2/w, y2/h)\n",
        "    if len(bboxes) > 0:\n",
        "      bboxes_tensor /= torch.Tensor([[w, h, w, h]]).expand_as(bboxes_tensor)\n",
        "\n",
        "    targets = {\n",
        "        \"bboxes\": bboxes_tensor,\n",
        "        \"labels\": labels_tensor,\n",
        "        \"yolo_targets\": yolo_targets,\n",
        "        \"difficult\": difficult,\n",
        "    }\n",
        "\n",
        "    return im_tensor, targets, im_info[\"filename\"]"
      ],
      "metadata": {
        "id": "2l7UIaddvTZR"
      },
      "execution_count": 12,
      "outputs": []
    },
    {
      "cell_type": "code",
      "source": [
        "class YOLOV1(nn.Module):\n",
        "  \"\"\"\n",
        "  Model with three components:\n",
        "  1. Backbone of ResnNt34 pretrained on 224x224 images from Imagenet\n",
        "  2. 4 Conv, BatchNorm, and LeakyReLU layers for Yolo Detection Head\n",
        "  3. Linear layers with final layer having S * S * (5B + C) output dimensions\n",
        "\n",
        "  The final layer predicts the x_offset_boxB, y_offset_boxB, sqrt_w_boxB, sqrt_h_boxB, conf_boxB,\n",
        "  and class conditional probabilities for each S * S grid cell\n",
        "  \"\"\"\n",
        "  def __init__(self, im_size, num_classes, model_config):\n",
        "    super().__init__()\n",
        "\n",
        "    self.im_size = im_size # 448 x 448\n",
        "    self.im_channels = model_config[\"im_channels\"] # 3\n",
        "    self.backbone_channels = model_config[\"backbone_channels\"] # ResNet34 gives feature map with 512 channels\n",
        "    self.yolo_conv_channels = model_config[\"yolo_conv_channels\"] # 1024 channels\n",
        "    self.conv_spatial_size = model_config[\"conv_spatial_size\"] # size of final feature map after conv layers\n",
        "    self.leaky_relu_slope = model_config[\"leaky_relu_slope\"]\n",
        "    self.yolo_fc_hidden_dim = model_config[\"fc_dim\"]\n",
        "    self.yolo_fc_dropout_prob = model_config[\"fc_dropout\"]\n",
        "    self.use_conv = model_config[\"use_conv\"]\n",
        "    self.S = model_config[\"S\"] # 7\n",
        "    self.B = model_config[\"B\"] # 2\n",
        "    self.C = num_classes\n",
        "\n",
        "    backbone = torchvision.models.resnet34(weights=torchvision.models.ResNet34_Weights.IMAGENET1K_V1)\n",
        "\n",
        "    # Backbone Layers\n",
        "    self.features = nn.Sequential(\n",
        "        backbone.conv1,\n",
        "        backbone.bn1,\n",
        "        backbone.relu,\n",
        "        backbone.maxpool,\n",
        "        backbone.layer1,\n",
        "        backbone.layer2,\n",
        "        backbone.layer3,\n",
        "        backbone.layer4,\n",
        "    ) # ResNet34 layers without last linear layers\n",
        "\n",
        "    # Detection Convolutional Layers\n",
        "    self.conv_yolo_layers = nn.Sequential(\n",
        "        nn.Conv2d(in_channels=self.backbone_channels,\n",
        "                  out_channels=self.yolo_conv_channels,\n",
        "                  kernel_size=3,\n",
        "                  stride=1,\n",
        "                  padding=1,\n",
        "                  bias=False),\n",
        "        nn.BatchNorm2d(self.yolo_conv_channels),\n",
        "        nn.LeakyReLU(self.leaky_relu_slope),\n",
        "\n",
        "        nn.Conv2d(in_channels=self.yolo_conv_channels,\n",
        "                  out_channels=self.yolo_conv_channels,\n",
        "                  kernel_size=3,\n",
        "                  stride=2,\n",
        "                  padding=1,\n",
        "                  bias=False),\n",
        "        nn.BatchNorm2d(self.yolo_conv_channels),\n",
        "        nn.LeakyReLU(self.leaky_relu_slope),\n",
        "\n",
        "        nn.Conv2d(in_channels=self.yolo_conv_channels,\n",
        "                  out_channels=self.yolo_conv_channels,\n",
        "                  kernel_size=3,\n",
        "                  stride=1,\n",
        "                  padding=1,\n",
        "                  bias=False),\n",
        "        nn.BatchNorm2d(self.yolo_conv_channels),\n",
        "        nn.LeakyReLU(self.leaky_relu_slope),\n",
        "\n",
        "        nn.Conv2d(in_channels=self.yolo_conv_channels,\n",
        "                  out_channels=self.yolo_conv_channels,\n",
        "                  kernel_size=3,\n",
        "                  stride=1,\n",
        "                  padding=1,\n",
        "                  bias=False),\n",
        "        nn.BatchNorm2d(self.yolo_conv_channels),\n",
        "        nn.LeakyReLU(self.leaky_relu_slope),\n",
        "    )\n",
        "\n",
        "    # Detection Layers\n",
        "    if self.use_conv:\n",
        "      self.linear_yolo_layers = nn.Sequential(\n",
        "          nn.Conv2d(in_channels=self.yolo_conv_channels,\n",
        "                    out_channels=(5 * self.B + self.C),\n",
        "                    kernel_size=1,\n",
        "                    stride=1,\n",
        "                    padding=0)\n",
        "      )\n",
        "    else:\n",
        "      self.linear_yolo_layers = nn.Sequential(\n",
        "          nn.Flatten(),\n",
        "          nn.Linear(in_features=(self.conv_spatial_size * self.conv_spatial_size * self.yolo_conv_channels),\n",
        "                    out_features=self.yolo_fc_hidden_dim),\n",
        "          nn.LeakyReLU(self.leaky_relu_slope),\n",
        "          nn.Dropout(self.yolo_fc_dropout_prob),\n",
        "          nn.Linear(in_features=self.yolo_fc_hidden_dim,\n",
        "                    out_features=(self.S * self.S * (5 * self.B + self.C)))\n",
        "      )\n",
        "\n",
        "  def forward(self, x):\n",
        "    # Backbone\n",
        "    out = self.features(x)\n",
        "\n",
        "    out = self.conv_yolo_layers(out)\n",
        "    out = self.linear_yolo_layers(out)\n",
        "\n",
        "    if self.use_conv:\n",
        "      # Reshape to (batch_size, S, S, 5 * B + C)\n",
        "      out = out.permute(0, 2, 3, 1)\n",
        "\n",
        "    return out"
      ],
      "metadata": {
        "id": "WXe5Idna0_Ad"
      },
      "execution_count": 13,
      "outputs": []
    },
    {
      "cell_type": "code",
      "source": [
        "def get_iou(boxes1, boxes2):\n",
        "  \"\"\"IOU between two sets of boxes\"\"\"\n",
        "\n",
        "  # Area of boxes (x_2 - x_1) * (y_2 - y_1)\n",
        "  area1 = (boxes1[..., 2] - boxes1[..., 0]) * (boxes1[..., 3] - boxes1[..., 1])\n",
        "  area2 = (boxes2[..., 2] - boxes2[..., 0]) * (boxes2[..., 3] - boxes2[..., 1])\n",
        "\n",
        "  # Get top left coordinates: (x_1, y_1)\n",
        "  x_left = torch.max(boxes1[..., 0], boxes2[..., 0])\n",
        "  y_top = torch.max(boxes1[..., 1], boxes2[..., 1])\n",
        "\n",
        "  # Get bottom right coordinates: (x_2, y_2)\n",
        "  x_right = torch.min(boxes1[..., 2], boxes2[..., 2])\n",
        "  y_bottom = torch.min(boxes1[..., 3], boxes2[..., 3])\n",
        "\n",
        "  intersection_area = (x_right - x_left).clamp(min=0) * (y_bottom - y_top).clamp(min=0)\n",
        "  union = area1.clamp(min=0) + area2.clamp(min=0) - intersection_area\n",
        "\n",
        "  iou = intersection_area / (union + 1E-6)\n",
        "  return iou"
      ],
      "metadata": {
        "id": "cSmPy0_C3Zlv"
      },
      "execution_count": 14,
      "outputs": []
    },
    {
      "cell_type": "code",
      "source": [
        "class YOLOV1Loss(nn.Module):\n",
        "  \"\"\"\n",
        "  Loss module for YoloV1 which caters to the following components:\n",
        "  1. Localization Loss for responsible predictor boxes\n",
        "  2. Confidence Loss for responsible predictor boxes\n",
        "  2. Confidence Loss for non-responsible predictor boxes of cells assigned with objects\n",
        "  2. Confidence Loss for ALL predictor boxes of cells not assigned with objects\n",
        "  3. Classification Loss\n",
        "  \"\"\"\n",
        "  def __init__(self, S=7, B=2, C=20):\n",
        "    super().__init__()\n",
        "\n",
        "    self.S = S\n",
        "    self.B = B\n",
        "    self.C = C\n",
        "    self.lambda_coord = 5\n",
        "    self.lambda_noobj = 0.5\n",
        "\n",
        "  def forward(self, preds, targets, use_sigmoid=False):\n",
        "    \"\"\"\n",
        "    Compute the YOLO Loss\n",
        "    The target element for each cell has been duplicated 5B times(done in VOCDataset)\n",
        "\n",
        "    preds: (batch_size, S * S * (5B+C)) tensor\n",
        "    targets: (batch_size, S, S, (5B + C)) tensor\n",
        "    use_sigmoid: Whether to use sigmoid activation for box predicitons or not\n",
        "    \"\"\"\n",
        "    batch_size = preds.size(0)\n",
        "\n",
        "    # Reshape preds to same shape as targets\n",
        "    preds = preds.reshape(batch_size, self.S, self.S, 5 * self.B + self.C)\n",
        "    # preds shape: (batch_size, S, S, 5B + C)\n",
        "\n",
        "    # Sigmoid leads to quicker convergence\n",
        "    if use_sigmoid:\n",
        "      preds[..., :5 * self.B] = torch.sigmoid(preds[..., :5 * self.B])\n",
        "\n",
        "    # For localization and confidence loss, we need to get the responsible predictor box for each grid cell\n",
        "\n",
        "    # Define shifts for all grid cell locations and normalize between 0 and 1\n",
        "    # Will use these for converting x_center_offset and y_center_offset\n",
        "    # Values for x_1, y_2, x_2, and y_2 are normalized between [0, 1]\n",
        "    # S cells = 1 => each cell adds 1/S pixels of shift\n",
        "    shifts_x = torch.arange(0,\n",
        "                            self.S,\n",
        "                            dtype=torch.int32,\n",
        "                            device=preds.device) * 1 / float(self.S)\n",
        "    shifts_y = torch.arange(0,\n",
        "                            self.S,\n",
        "                            dtype=torch.int32,\n",
        "                            device=preds.device) * 1 / float(self.S)\n",
        "\n",
        "    # Create a grid using these shifts\n",
        "    shifts_y, shifts_x = torch.meshgrid(shifts_y, shifts_x, indexing=\"ij\")\n",
        "\n",
        "    # shifts shape: (1, S, S, B)\n",
        "    shifts_x = shifts_x.reshape((1, self.S, self.S, 1)).repeat(1, 1, 1, self.B)\n",
        "    shifts_y = shifts_y.reshape((1, self.S, self.S, 1)).repeat(1, 1, 1, self.B)\n",
        "\n",
        "    # pred_boxes shape: (batch_size, S, S, B, 5)\n",
        "    pred_boxes = preds[..., :5 * self.B].reshape(batch_size, self.S, self.S, self.B, -1)\n",
        "\n",
        "    # xc_offset, yc_offset, width, height -> x_1, y_1, x_2, y_2 normalized betwen [0, 1]\n",
        "    # x_center = (xc_offset / S + shift_x)\n",
        "    # x_1 = x_center - 0.5 * w\n",
        "    # x_2 = x_center + 0.5 * w\n",
        "\n",
        "    # Use squared value because the model predicts the square root of width and height\n",
        "    pred_boxes_x1 = ((pred_boxes[..., 0] / self.S + shifts_x) - 0.5 * torch.square(pred_boxes[..., 2]))\n",
        "    pred_boxes_x1 = pred_boxes_x1.unsqueeze(dim=-1)\n",
        "\n",
        "    pred_boxes_y1 = ((pred_boxes[..., 1] / self.S + shifts_y) - 0.5 * torch.square(pred_boxes[..., 3]))\n",
        "    pred_boxes_y1 = pred_boxes_y1.unsqueeze(dim=-1)\n",
        "\n",
        "    pred_boxes_x2 = ((pred_boxes[..., 0] / self.S + shifts_x) + 0.5 * torch.square(pred_boxes[..., 2]))\n",
        "    pred_boxes_x2 = pred_boxes_x2.unsqueeze(dim=-1)\n",
        "\n",
        "    pred_boxes_y2 = ((pred_boxes[..., 1] / self.S + shifts_y) + 0.5 * torch.square(pred_boxes[..., 3]))\n",
        "    pred_boxes_y2 = pred_boxes_y2.unsqueeze(dim=-1)\n",
        "\n",
        "    pred_boxes_x1y1x2y2 = torch.cat([\n",
        "        pred_boxes_x1,\n",
        "        pred_boxes_y1,\n",
        "        pred_boxes_x2,\n",
        "        pred_boxes_y2], dim=-1)\n",
        "\n",
        "    # Do the same for the target boxes\n",
        "    # target_boxes shape: (batch_size, S, S, B, 5)\n",
        "    target_boxes = targets[..., :5*self.B].reshape(batch_size, self.S, self.S, self.B, -1)\n",
        "\n",
        "    target_boxes_x1 = ((target_boxes[..., 0] / self.S + shifts_x) - 0.5 * torch.square(target_boxes[..., 2]))\n",
        "    target_boxes_x1 = target_boxes_x1.unsqueeze(dim=-1)\n",
        "\n",
        "    target_boxes_y1 = ((target_boxes[..., 1] / self.S + shifts_y) - 0.5 * torch.square(target_boxes[..., 3]))\n",
        "    target_boxes_y1 = target_boxes_y1.unsqueeze(dim=-1)\n",
        "\n",
        "    target_boxes_x2 = ((target_boxes[..., 0] / self.S + shifts_x) + 0.5 * torch.square(target_boxes[..., 2]))\n",
        "    target_boxes_x2 = target_boxes_x2.unsqueeze(dim=-1)\n",
        "\n",
        "    target_boxes_y2 = ((target_boxes[..., 1] / self.S + shifts_y) + 0.5 * torch.square(target_boxes[..., 3]))\n",
        "    target_boxes_y2 = target_boxes_y2.unsqueeze(dim=-1)\n",
        "\n",
        "    target_boxes_x1y1x2y2 = torch.cat([\n",
        "        target_boxes_x1,\n",
        "        target_boxes_y1,\n",
        "        target_boxes_x2,\n",
        "        target_boxes_y2], dim=-1)\n",
        "\n",
        "    # pred_boxes_x1y1x2y2 shape: (batch_size, S, S, B, 4)\n",
        "    # target_boxes_x1y1x2y2 shape: (batch_size, S, S, B, 4)\n",
        "\n",
        "    # iou shape: (batch_size, S, S, B)\n",
        "    iou = get_iou(pred_boxes_x1y1x2y2, target_boxes_x1y1x2y2)\n",
        "\n",
        "    # Get the max along the last dimension which is the box index that has the maximum IOU at every grid cell\n",
        "    # max_iou_val and max_iou_idx shape: (batch_size, S, S, 1)\n",
        "    max_iou_val, max_iou_idx = iou.max(dim=-1, keepdim=True)\n",
        "\n",
        "    # For localization and confidence loss, we need to find the cells that have objects assigned and which are the responsible predictor boxes\n",
        "\n",
        "    # Indicator Definitions\n",
        "    max_iou_idx = max_iou_idx.repeat(1, 1, 1, self.B) # (batch_size, S, S, 1) -> (batch_size, S, S, B)\n",
        "\n",
        "    bb_idxs = (torch.arange(self.B).reshape(1, 1, 1, self.B).expand_as(max_iou_idx).to(preds.device)) # (batch_size, S, S, B)\n",
        "\n",
        "    # Only the index which of the box that has the highest IOU will be 1, the others will be 0\n",
        "    is_max_iou_box = (max_iou_idx == bb_idxs).long() # (batch_size, S, S, B)\n",
        "\n",
        "    obj_indicator = targets[..., 4:5] # (batch_size, S, S, 1)\n",
        "\n",
        "    # Classification Loss\n",
        "    cls_target = targets[..., 5 * self.B:]\n",
        "    cls_preds = preds[..., 5 * self.B:]\n",
        "    cls_mse = (cls_preds - cls_target)**2\n",
        "\n",
        "    # Only keep losses from cells with objects assigned\n",
        "    cls_mse = (obj_indicator * cls_mse).sum()\n",
        "\n",
        "    # Confidence Loss for the responsible predictor boxes\n",
        "\n",
        "    # Filters out the cells which were not assigned an object and boxes that are not the responsible predictor\n",
        "    is_max_box_obj_indicator = is_max_iou_box * obj_indicator\n",
        "    obj_mse = (pred_boxes[..., 4] - max_iou_val)**2\n",
        "\n",
        "    # Only keep losses from boxes of cells with object assigned and that box which is the responsible predictor\n",
        "    obj_mse = (is_max_box_obj_indicator * obj_mse).sum()\n",
        "\n",
        "    # Localization Loss for x, y, w, h\n",
        "    x_mse = (pred_boxes[..., 0] - target_boxes[..., 0])**2\n",
        "    y_mse = (pred_boxes[..., 1] - target_boxes[..., 1])**2\n",
        "    w_sqrt_mse = (pred_boxes[..., 2] - target_boxes[..., 2])**2\n",
        "    h_sqrt_mse = (pred_boxes[..., 3] - target_boxes[..., 3])**2\n",
        "\n",
        "    # Only keep losses from boxes of cells with object assigned and that box which is the responsible predictor\n",
        "    x_mse = (is_max_box_obj_indicator * x_mse).sum()\n",
        "    y_mse = (is_max_box_obj_indicator * y_mse).sum()\n",
        "    w_sqrt_mse = (is_max_box_obj_indicator * w_sqrt_mse).sum()\n",
        "    h_sqrt_mse = (is_max_box_obj_indicator * h_sqrt_mse).sum()\n",
        "\n",
        "    # Confidence Loss for background boxes and cells\n",
        "    # Boxes of cells assigned with object that aren't responsible predictor boxes and for boxes of cell not assigned with object\n",
        "    no_object_indicator = 1 - is_max_box_obj_indicator\n",
        "    no_obj_mse = (pred_boxes[..., 4] - torch.zeros_like(pred_boxes[..., 4])) ** 2\n",
        "    no_obj_mse = (no_object_indicator * no_obj_mse).sum()\n",
        "\n",
        "    # Total Loss\n",
        "    loss = self.lambda_coord * (x_mse + y_mse + w_sqrt_mse + h_sqrt_mse)\n",
        "    loss += cls_mse + obj_mse\n",
        "    loss += self.lambda_noobj * no_obj_mse\n",
        "    loss = loss / batch_size\n",
        "    return loss"
      ],
      "metadata": {
        "id": "X2GghU653p-n"
      },
      "execution_count": 15,
      "outputs": []
    },
    {
      "cell_type": "code",
      "source": [
        "def collate_function(data):\n",
        "  return list(zip(*data))"
      ],
      "metadata": {
        "id": "_ENRXDUv7dvT"
      },
      "execution_count": 16,
      "outputs": []
    },
    {
      "cell_type": "code",
      "source": [
        "def train():\n",
        "  dataset_config = dataset_params\n",
        "  model_config = model_params\n",
        "  train_config = train_params\n",
        "\n",
        "  # Set the random seed\n",
        "  seed = train_config[\"seed\"]\n",
        "  torch.manual_seed(seed)\n",
        "  np.random.seed(seed)\n",
        "  random.seed(seed)\n",
        "  if device.type == \"cuda\":\n",
        "    torch.cuda.manual_seed_all(seed)\n",
        "\n",
        "  voc = VOCDataset(\"train\", im_sets=dataset_config[\"train_im_sets\"])\n",
        "  train_dataset = DataLoader(voc,\n",
        "                             batch_size=train_config[\"batch_size\"],\n",
        "                             shuffle=True,\n",
        "                             collate_fn=collate_function,\n",
        "                             num_workers=os.cpu_count(),\n",
        "                             pin_memory=True)\n",
        "\n",
        "  yolo_model = YOLOV1(im_size=dataset_config[\"im_size\"],\n",
        "                      num_classes=dataset_config[\"num_classes\"],\n",
        "                      model_config=model_config)\n",
        "  yolo_model.train()\n",
        "  yolo_model.to(device)\n",
        "\n",
        "  if not os.path.exists(train_config[\"task_name\"]):\n",
        "    os.mkdir(train_config[\"task_name\"])\n",
        "\n",
        "  optimizer = torch.optim.SGD(lr=train_config[\"lr\"],\n",
        "                              params=filter(lambda p: p.requires_grad,\n",
        "                                            yolo_model.parameters()),\n",
        "                              weight_decay=5E-4,\n",
        "                              momentum=0.9)\n",
        "\n",
        "  scheduler = MultiStepLR(optimizer, milestones=train_config[\"lr_steps\"], gamma=0.5)\n",
        "  criterion = YOLOV1Loss()\n",
        "  acc_steps = train_config[\"acc_steps\"]\n",
        "  num_epochs = train_config[\"num_epochs\"]\n",
        "  steps = 0\n",
        "\n",
        "  # Resume training from a saved checkpoint if it exists\n",
        "  checkpoint_path = os.path.join(train_config[\"task_name\"], train_config[\"ckpt_name\"])\n",
        "  start_epoch = 0\n",
        "\n",
        "  if os.path.exists(checkpoint_path):\n",
        "    print(\"Resuming training from checkpoint...\")\n",
        "    checkpoint = torch.load(checkpoint_path, map_location=device)\n",
        "\n",
        "    yolo_model.load_state_dict(checkpoint[\"model_state_dict\"])\n",
        "    optimizer.load_state_dict(checkpoint[\"optimizer_state_dict\"])\n",
        "    scheduler.load_state_dict(checkpoint[\"scheduler_state_dict\"])\n",
        "    start_epoch = checkpoint[\"epoch\"]\n",
        "    steps = checkpoint[\"steps\"]\n",
        "\n",
        "  optimizer.zero_grad()\n",
        "\n",
        "  for epoch_idx in range(start_epoch, num_epochs):\n",
        "    losses = []\n",
        "    optimizer.zero_grad()\n",
        "    for idx, (ims, targets, _) in enumerate(tqdm(train_dataset)):\n",
        "      yolo_targets = torch.cat([\n",
        "          target[\"yolo_targets\"].unsqueeze(0).float().to(device)\n",
        "          for target in targets\n",
        "      ], dim=0)\n",
        "\n",
        "      im = torch.cat([im.unsqueeze(0).float().to(device) for im in ims], dim=0)\n",
        "\n",
        "      yolo_preds = yolo_model(im)\n",
        "\n",
        "      loss = criterion(yolo_preds, yolo_targets, use_sigmoid=model_config[\"use_sigmoid\"])\n",
        "      loss = loss / acc_steps\n",
        "      loss.backward()\n",
        "      losses.append(loss.item())\n",
        "\n",
        "      if (idx + 1) % acc_steps == 0:\n",
        "        optimizer.step()\n",
        "        optimizer.zero_grad()\n",
        "      if steps % train_config[\"log_steps\"] == 0:\n",
        "        print(f\"Loss: {np.mean(losses):.4f}\")\n",
        "      if torch.isnan(loss):\n",
        "        print(\"Loss is becoming nan. Exiting\")\n",
        "        exit(0)\n",
        "\n",
        "      steps += 1\n",
        "    print(f\"Finished epoch {epoch_idx + 1} | Loss: {np.mean(losses):.4f}\")\n",
        "    optimizer.step()\n",
        "    optimizer.zero_grad()\n",
        "    scheduler.step()\n",
        "\n",
        "    checkpoint = {\n",
        "        \"epoch\": epoch_idx,\n",
        "        \"steps\": steps,\n",
        "        \"model_state_dict\": yolo_model.state_dict(),\n",
        "        \"optimizer_state_dict\": optimizer.state_dict(),\n",
        "        \"scheduler_state_dict\": scheduler.state_dict(),\n",
        "    }\n",
        "    torch.save(checkpoint, os.path.join(train_config[\"task_name\"], train_config[\"ckpt_name\"]))\n",
        "\n",
        "  print(\"Done Training...\")\n",
        "\n",
        "train()"
      ],
      "metadata": {
        "id": "TAXLDJrV7eTm",
        "colab": {
          "base_uri": "https://localhost:8080/"
        },
        "outputId": "9df0da24-5f0c-4f43-ceab-f39a006c9dd2"
      },
      "execution_count": 18,
      "outputs": [
        {
          "output_type": "stream",
          "name": "stderr",
          "text": [
            "<ipython-input-12-16ecad10404b>:18: UserWarning: Argument(s) 'always_apply' are not valid for transform Affine\n",
            "  albu.Affine(\n",
            "<ipython-input-12-16ecad10404b>:23: UserWarning: Argument(s) 'always_apply' are not valid for transform ColorJitter\n",
            "  albu.ColorJitter(\n"
          ]
        },
        {
          "output_type": "stream",
          "name": "stdout",
          "text": [
            "{0: 'aeroplane', 1: 'bicycle', 2: 'bird', 3: 'boat', 4: 'bottle', 5: 'bus', 6: 'car', 7: 'cat', 8: 'chair', 9: 'cow', 10: 'diningtable', 11: 'dog', 12: 'horse', 13: 'motorbike', 14: 'person', 15: 'pottedplant', 16: 'sheep', 17: 'sofa', 18: 'train', 19: 'tvmonitor'}\n",
            "Total 16551 images found\n"
          ]
        },
        {
          "output_type": "stream",
          "name": "stderr",
          "text": [
            "  0%|          | 1/259 [00:04<19:30,  4.54s/it]"
          ]
        },
        {
          "output_type": "stream",
          "name": "stdout",
          "text": [
            "Loss: 30.8514\n"
          ]
        },
        {
          "output_type": "stream",
          "name": "stderr",
          "text": [
            " 39%|███▉      | 101/259 [00:27<00:45,  3.48it/s]"
          ]
        },
        {
          "output_type": "stream",
          "name": "stdout",
          "text": [
            "Loss: 4.6826\n"
          ]
        },
        {
          "output_type": "stream",
          "name": "stderr",
          "text": [
            " 78%|███████▊  | 201/259 [00:50<00:12,  4.72it/s]"
          ]
        },
        {
          "output_type": "stream",
          "name": "stdout",
          "text": [
            "Loss: 3.7976\n"
          ]
        },
        {
          "output_type": "stream",
          "name": "stderr",
          "text": [
            "100%|██████████| 259/259 [01:02<00:00,  4.14it/s]\n"
          ]
        },
        {
          "output_type": "stream",
          "name": "stdout",
          "text": [
            "Finished epoch 1 | Loss: 3.5693\n"
          ]
        },
        {
          "output_type": "stream",
          "name": "stderr",
          "text": [
            " 17%|█▋        | 43/259 [00:13<00:42,  5.06it/s]"
          ]
        },
        {
          "output_type": "stream",
          "name": "stdout",
          "text": [
            "Loss: 2.5888\n"
          ]
        },
        {
          "output_type": "stream",
          "name": "stderr",
          "text": [
            " 55%|█████▌    | 143/259 [00:36<00:23,  4.88it/s]"
          ]
        },
        {
          "output_type": "stream",
          "name": "stdout",
          "text": [
            "Loss: 2.5194\n"
          ]
        },
        {
          "output_type": "stream",
          "name": "stderr",
          "text": [
            " 94%|█████████▍| 243/259 [00:59<00:03,  4.97it/s]"
          ]
        },
        {
          "output_type": "stream",
          "name": "stdout",
          "text": [
            "Loss: 2.4678\n"
          ]
        },
        {
          "output_type": "stream",
          "name": "stderr",
          "text": [
            "100%|██████████| 259/259 [01:02<00:00,  4.17it/s]\n"
          ]
        },
        {
          "output_type": "stream",
          "name": "stdout",
          "text": [
            "Finished epoch 2 | Loss: 2.4588\n"
          ]
        },
        {
          "output_type": "stream",
          "name": "stderr",
          "text": [
            " 32%|███▏      | 84/259 [00:23<00:34,  5.03it/s]"
          ]
        },
        {
          "output_type": "stream",
          "name": "stdout",
          "text": [
            "Loss: 2.2776\n"
          ]
        },
        {
          "output_type": "stream",
          "name": "stderr",
          "text": [
            " 71%|███████   | 184/259 [00:46<00:17,  4.35it/s]"
          ]
        },
        {
          "output_type": "stream",
          "name": "stdout",
          "text": [
            "Loss: 2.2142\n"
          ]
        },
        {
          "output_type": "stream",
          "name": "stderr",
          "text": [
            "100%|██████████| 259/259 [01:03<00:00,  4.07it/s]\n"
          ]
        },
        {
          "output_type": "stream",
          "name": "stdout",
          "text": [
            "Finished epoch 3 | Loss: 2.1929\n"
          ]
        },
        {
          "output_type": "stream",
          "name": "stderr",
          "text": [
            "  9%|▉         | 24/259 [00:10<00:47,  4.90it/s]"
          ]
        },
        {
          "output_type": "stream",
          "name": "stdout",
          "text": [
            "Loss: 2.0826\n"
          ]
        },
        {
          "output_type": "stream",
          "name": "stderr",
          "text": [
            " 48%|████▊     | 125/259 [00:33<00:32,  4.08it/s]"
          ]
        },
        {
          "output_type": "stream",
          "name": "stdout",
          "text": [
            "Loss: 2.0517\n"
          ]
        },
        {
          "output_type": "stream",
          "name": "stderr",
          "text": [
            " 87%|████████▋ | 225/259 [00:58<00:07,  4.74it/s]"
          ]
        },
        {
          "output_type": "stream",
          "name": "stdout",
          "text": [
            "Loss: 2.0335\n"
          ]
        },
        {
          "output_type": "stream",
          "name": "stderr",
          "text": [
            "100%|██████████| 259/259 [01:05<00:00,  3.98it/s]\n"
          ]
        },
        {
          "output_type": "stream",
          "name": "stdout",
          "text": [
            "Finished epoch 4 | Loss: 2.0207\n"
          ]
        },
        {
          "output_type": "stream",
          "name": "stderr",
          "text": [
            " 25%|██▌       | 66/259 [00:19<00:49,  3.92it/s]"
          ]
        },
        {
          "output_type": "stream",
          "name": "stdout",
          "text": [
            "Loss: 1.9756\n"
          ]
        },
        {
          "output_type": "stream",
          "name": "stderr",
          "text": [
            " 64%|██████▍   | 166/259 [00:43<00:19,  4.77it/s]"
          ]
        },
        {
          "output_type": "stream",
          "name": "stdout",
          "text": [
            "Loss: 1.9255\n"
          ]
        },
        {
          "output_type": "stream",
          "name": "stderr",
          "text": [
            "100%|██████████| 259/259 [01:04<00:00,  4.02it/s]\n"
          ]
        },
        {
          "output_type": "stream",
          "name": "stdout",
          "text": [
            "Finished epoch 5 | Loss: 1.8892\n"
          ]
        },
        {
          "output_type": "stream",
          "name": "stderr",
          "text": [
            "  3%|▎         | 7/259 [00:05<01:35,  2.64it/s]"
          ]
        },
        {
          "output_type": "stream",
          "name": "stdout",
          "text": [
            "Loss: 1.8110\n"
          ]
        },
        {
          "output_type": "stream",
          "name": "stderr",
          "text": [
            " 41%|████▏     | 107/259 [00:28<00:31,  4.78it/s]"
          ]
        },
        {
          "output_type": "stream",
          "name": "stdout",
          "text": [
            "Loss: 1.7882\n"
          ]
        },
        {
          "output_type": "stream",
          "name": "stderr",
          "text": [
            " 80%|███████▉  | 207/259 [00:51<00:10,  4.93it/s]"
          ]
        },
        {
          "output_type": "stream",
          "name": "stdout",
          "text": [
            "Loss: 1.7952\n"
          ]
        },
        {
          "output_type": "stream",
          "name": "stderr",
          "text": [
            "100%|██████████| 259/259 [01:02<00:00,  4.14it/s]\n"
          ]
        },
        {
          "output_type": "stream",
          "name": "stdout",
          "text": [
            "Finished epoch 6 | Loss: 1.7901\n"
          ]
        },
        {
          "output_type": "stream",
          "name": "stderr",
          "text": [
            " 19%|█▊        | 48/259 [00:14<00:41,  5.07it/s]"
          ]
        },
        {
          "output_type": "stream",
          "name": "stdout",
          "text": [
            "Loss: 1.6731\n"
          ]
        },
        {
          "output_type": "stream",
          "name": "stderr",
          "text": [
            " 57%|█████▋    | 148/259 [00:37<00:26,  4.21it/s]"
          ]
        },
        {
          "output_type": "stream",
          "name": "stdout",
          "text": [
            "Loss: 1.7197\n"
          ]
        },
        {
          "output_type": "stream",
          "name": "stderr",
          "text": [
            " 96%|█████████▌| 248/259 [00:59<00:02,  5.30it/s]"
          ]
        },
        {
          "output_type": "stream",
          "name": "stdout",
          "text": [
            "Loss: 1.7021\n"
          ]
        },
        {
          "output_type": "stream",
          "name": "stderr",
          "text": [
            "100%|██████████| 259/259 [01:01<00:00,  4.20it/s]\n"
          ]
        },
        {
          "output_type": "stream",
          "name": "stdout",
          "text": [
            "Finished epoch 7 | Loss: 1.7080\n"
          ]
        },
        {
          "output_type": "stream",
          "name": "stderr",
          "text": [
            " 34%|███▍      | 88/259 [00:24<00:49,  3.46it/s]"
          ]
        },
        {
          "output_type": "stream",
          "name": "stdout",
          "text": [
            "Loss: 1.6849\n"
          ]
        },
        {
          "output_type": "stream",
          "name": "stderr",
          "text": [
            " 73%|███████▎  | 189/259 [00:47<00:14,  4.87it/s]"
          ]
        },
        {
          "output_type": "stream",
          "name": "stdout",
          "text": [
            "Loss: 1.6408\n"
          ]
        },
        {
          "output_type": "stream",
          "name": "stderr",
          "text": [
            "100%|██████████| 259/259 [01:02<00:00,  4.13it/s]\n"
          ]
        },
        {
          "output_type": "stream",
          "name": "stdout",
          "text": [
            "Finished epoch 8 | Loss: 1.6400\n"
          ]
        },
        {
          "output_type": "stream",
          "name": "stderr",
          "text": [
            " 11%|█         | 29/259 [00:10<00:46,  4.94it/s]"
          ]
        },
        {
          "output_type": "stream",
          "name": "stdout",
          "text": [
            "Loss: 1.5817\n"
          ]
        },
        {
          "output_type": "stream",
          "name": "stderr",
          "text": [
            " 50%|████▉     | 129/259 [00:33<00:26,  4.90it/s]"
          ]
        },
        {
          "output_type": "stream",
          "name": "stdout",
          "text": [
            "Loss: 1.5925\n"
          ]
        },
        {
          "output_type": "stream",
          "name": "stderr",
          "text": [
            " 88%|████████▊ | 229/259 [00:55<00:06,  4.60it/s]"
          ]
        },
        {
          "output_type": "stream",
          "name": "stdout",
          "text": [
            "Loss: 1.5636\n"
          ]
        },
        {
          "output_type": "stream",
          "name": "stderr",
          "text": [
            "100%|██████████| 259/259 [01:01<00:00,  4.19it/s]\n"
          ]
        },
        {
          "output_type": "stream",
          "name": "stdout",
          "text": [
            "Finished epoch 9 | Loss: 1.5714\n"
          ]
        },
        {
          "output_type": "stream",
          "name": "stderr",
          "text": [
            " 27%|██▋       | 71/259 [00:19<00:38,  4.94it/s]"
          ]
        },
        {
          "output_type": "stream",
          "name": "stdout",
          "text": [
            "Loss: 1.5023\n"
          ]
        },
        {
          "output_type": "stream",
          "name": "stderr",
          "text": [
            " 66%|██████▌   | 170/259 [00:42<00:17,  4.97it/s]"
          ]
        },
        {
          "output_type": "stream",
          "name": "stdout",
          "text": [
            "Loss: 1.4936\n"
          ]
        },
        {
          "output_type": "stream",
          "name": "stderr",
          "text": [
            "100%|██████████| 259/259 [01:01<00:00,  4.19it/s]\n"
          ]
        },
        {
          "output_type": "stream",
          "name": "stdout",
          "text": [
            "Finished epoch 10 | Loss: 1.5056\n"
          ]
        },
        {
          "output_type": "stream",
          "name": "stderr",
          "text": [
            "  5%|▍         | 12/259 [00:06<00:55,  4.45it/s]"
          ]
        },
        {
          "output_type": "stream",
          "name": "stdout",
          "text": [
            "Loss: 1.5027\n"
          ]
        },
        {
          "output_type": "stream",
          "name": "stderr",
          "text": [
            " 43%|████▎     | 112/259 [00:29<00:29,  4.91it/s]"
          ]
        },
        {
          "output_type": "stream",
          "name": "stdout",
          "text": [
            "Loss: 1.4343\n"
          ]
        },
        {
          "output_type": "stream",
          "name": "stderr",
          "text": [
            " 82%|████████▏ | 212/259 [00:52<00:11,  4.12it/s]"
          ]
        },
        {
          "output_type": "stream",
          "name": "stdout",
          "text": [
            "Loss: 1.4548\n"
          ]
        },
        {
          "output_type": "stream",
          "name": "stderr",
          "text": [
            "100%|██████████| 259/259 [01:02<00:00,  4.16it/s]\n"
          ]
        },
        {
          "output_type": "stream",
          "name": "stdout",
          "text": [
            "Finished epoch 11 | Loss: 1.4544\n"
          ]
        },
        {
          "output_type": "stream",
          "name": "stderr",
          "text": [
            " 20%|██        | 53/259 [00:16<00:45,  4.48it/s]"
          ]
        },
        {
          "output_type": "stream",
          "name": "stdout",
          "text": [
            "Loss: 1.3442\n"
          ]
        },
        {
          "output_type": "stream",
          "name": "stderr",
          "text": [
            " 59%|█████▉    | 153/259 [00:39<00:22,  4.74it/s]"
          ]
        },
        {
          "output_type": "stream",
          "name": "stdout",
          "text": [
            "Loss: 1.3947\n"
          ]
        },
        {
          "output_type": "stream",
          "name": "stderr",
          "text": [
            " 98%|█████████▊| 253/259 [01:01<00:01,  5.44it/s]"
          ]
        },
        {
          "output_type": "stream",
          "name": "stdout",
          "text": [
            "Loss: 1.4020\n"
          ]
        },
        {
          "output_type": "stream",
          "name": "stderr",
          "text": [
            "100%|██████████| 259/259 [01:02<00:00,  4.14it/s]\n"
          ]
        },
        {
          "output_type": "stream",
          "name": "stdout",
          "text": [
            "Finished epoch 12 | Loss: 1.4006\n"
          ]
        },
        {
          "output_type": "stream",
          "name": "stderr",
          "text": [
            " 36%|███▋      | 94/259 [00:25<00:36,  4.51it/s]"
          ]
        },
        {
          "output_type": "stream",
          "name": "stdout",
          "text": [
            "Loss: 1.3638\n"
          ]
        },
        {
          "output_type": "stream",
          "name": "stderr",
          "text": [
            " 75%|███████▍  | 194/259 [00:47<00:15,  4.17it/s]"
          ]
        },
        {
          "output_type": "stream",
          "name": "stdout",
          "text": [
            "Loss: 1.3670\n"
          ]
        },
        {
          "output_type": "stream",
          "name": "stderr",
          "text": [
            "100%|██████████| 259/259 [01:01<00:00,  4.19it/s]\n"
          ]
        },
        {
          "output_type": "stream",
          "name": "stdout",
          "text": [
            "Finished epoch 13 | Loss: 1.3576\n"
          ]
        },
        {
          "output_type": "stream",
          "name": "stderr",
          "text": [
            " 14%|█▎        | 35/259 [00:12<00:45,  4.88it/s]"
          ]
        },
        {
          "output_type": "stream",
          "name": "stdout",
          "text": [
            "Loss: 1.3627\n"
          ]
        },
        {
          "output_type": "stream",
          "name": "stderr",
          "text": [
            " 52%|█████▏    | 134/259 [00:35<00:24,  5.00it/s]"
          ]
        },
        {
          "output_type": "stream",
          "name": "stdout",
          "text": [
            "Loss: 1.3212\n"
          ]
        },
        {
          "output_type": "stream",
          "name": "stderr",
          "text": [
            " 90%|█████████ | 234/259 [00:58<00:06,  4.15it/s]"
          ]
        },
        {
          "output_type": "stream",
          "name": "stdout",
          "text": [
            "Loss: 1.3203\n"
          ]
        },
        {
          "output_type": "stream",
          "name": "stderr",
          "text": [
            "100%|██████████| 259/259 [01:02<00:00,  4.12it/s]\n"
          ]
        },
        {
          "output_type": "stream",
          "name": "stdout",
          "text": [
            "Finished epoch 14 | Loss: 1.3208\n"
          ]
        },
        {
          "output_type": "stream",
          "name": "stderr",
          "text": [
            " 29%|██▉       | 76/259 [00:21<00:52,  3.49it/s]"
          ]
        },
        {
          "output_type": "stream",
          "name": "stdout",
          "text": [
            "Loss: 1.2537\n"
          ]
        },
        {
          "output_type": "stream",
          "name": "stderr",
          "text": [
            " 68%|██████▊   | 176/259 [00:44<00:18,  4.47it/s]"
          ]
        },
        {
          "output_type": "stream",
          "name": "stdout",
          "text": [
            "Loss: 1.2686\n"
          ]
        },
        {
          "output_type": "stream",
          "name": "stderr",
          "text": [
            "100%|██████████| 259/259 [01:02<00:00,  4.16it/s]\n"
          ]
        },
        {
          "output_type": "stream",
          "name": "stdout",
          "text": [
            "Finished epoch 15 | Loss: 1.2757\n"
          ]
        },
        {
          "output_type": "stream",
          "name": "stderr",
          "text": [
            "  7%|▋         | 17/259 [00:08<00:58,  4.17it/s]"
          ]
        },
        {
          "output_type": "stream",
          "name": "stdout",
          "text": [
            "Loss: 1.2642\n"
          ]
        },
        {
          "output_type": "stream",
          "name": "stderr",
          "text": [
            " 45%|████▌     | 117/259 [00:31<00:33,  4.30it/s]"
          ]
        },
        {
          "output_type": "stream",
          "name": "stdout",
          "text": [
            "Loss: 1.2358\n"
          ]
        },
        {
          "output_type": "stream",
          "name": "stderr",
          "text": [
            " 83%|████████▎ | 216/259 [00:53<00:09,  4.76it/s]"
          ]
        },
        {
          "output_type": "stream",
          "name": "stdout",
          "text": [
            "Loss: 1.2322\n"
          ]
        },
        {
          "output_type": "stream",
          "name": "stderr",
          "text": [
            "100%|██████████| 259/259 [01:02<00:00,  4.12it/s]\n"
          ]
        },
        {
          "output_type": "stream",
          "name": "stdout",
          "text": [
            "Finished epoch 16 | Loss: 1.2448\n"
          ]
        },
        {
          "output_type": "stream",
          "name": "stderr",
          "text": [
            " 22%|██▏       | 57/259 [00:17<00:42,  4.79it/s]"
          ]
        },
        {
          "output_type": "stream",
          "name": "stdout",
          "text": [
            "Loss: 1.1990\n"
          ]
        },
        {
          "output_type": "stream",
          "name": "stderr",
          "text": [
            " 61%|██████    | 158/259 [00:40<00:20,  4.90it/s]"
          ]
        },
        {
          "output_type": "stream",
          "name": "stdout",
          "text": [
            "Loss: 1.1925\n"
          ]
        },
        {
          "output_type": "stream",
          "name": "stderr",
          "text": [
            "100%|█████████▉| 258/259 [01:03<00:00,  5.39it/s]"
          ]
        },
        {
          "output_type": "stream",
          "name": "stdout",
          "text": [
            "Loss: 1.2115\n"
          ]
        },
        {
          "output_type": "stream",
          "name": "stderr",
          "text": [
            "100%|██████████| 259/259 [01:03<00:00,  4.06it/s]\n"
          ]
        },
        {
          "output_type": "stream",
          "name": "stdout",
          "text": [
            "Finished epoch 17 | Loss: 1.2123\n"
          ]
        },
        {
          "output_type": "stream",
          "name": "stderr",
          "text": [
            " 38%|███▊      | 99/259 [00:26<00:43,  3.66it/s]"
          ]
        },
        {
          "output_type": "stream",
          "name": "stdout",
          "text": [
            "Loss: 1.1803\n"
          ]
        },
        {
          "output_type": "stream",
          "name": "stderr",
          "text": [
            " 77%|███████▋  | 199/259 [00:49<00:12,  4.62it/s]"
          ]
        },
        {
          "output_type": "stream",
          "name": "stdout",
          "text": [
            "Loss: 1.1754\n"
          ]
        },
        {
          "output_type": "stream",
          "name": "stderr",
          "text": [
            "100%|██████████| 259/259 [01:02<00:00,  4.17it/s]\n"
          ]
        },
        {
          "output_type": "stream",
          "name": "stdout",
          "text": [
            "Finished epoch 18 | Loss: 1.1784\n"
          ]
        },
        {
          "output_type": "stream",
          "name": "stderr",
          "text": [
            " 15%|█▌        | 39/259 [00:12<00:43,  5.00it/s]"
          ]
        },
        {
          "output_type": "stream",
          "name": "stdout",
          "text": [
            "Loss: 1.1623\n"
          ]
        },
        {
          "output_type": "stream",
          "name": "stderr",
          "text": [
            " 54%|█████▍    | 140/259 [00:35<00:27,  4.31it/s]"
          ]
        },
        {
          "output_type": "stream",
          "name": "stdout",
          "text": [
            "Loss: 1.1297\n"
          ]
        },
        {
          "output_type": "stream",
          "name": "stderr",
          "text": [
            " 93%|█████████▎| 240/259 [00:57<00:03,  5.13it/s]"
          ]
        },
        {
          "output_type": "stream",
          "name": "stdout",
          "text": [
            "Loss: 1.1398\n"
          ]
        },
        {
          "output_type": "stream",
          "name": "stderr",
          "text": [
            "100%|██████████| 259/259 [01:01<00:00,  4.21it/s]\n"
          ]
        },
        {
          "output_type": "stream",
          "name": "stdout",
          "text": [
            "Finished epoch 19 | Loss: 1.1458\n"
          ]
        },
        {
          "output_type": "stream",
          "name": "stderr",
          "text": [
            " 31%|███▏      | 81/259 [00:22<00:37,  4.79it/s]"
          ]
        },
        {
          "output_type": "stream",
          "name": "stdout",
          "text": [
            "Loss: 1.1073\n"
          ]
        },
        {
          "output_type": "stream",
          "name": "stderr",
          "text": [
            " 70%|██████▉   | 181/259 [00:46<00:15,  5.02it/s]"
          ]
        },
        {
          "output_type": "stream",
          "name": "stdout",
          "text": [
            "Loss: 1.1123\n"
          ]
        },
        {
          "output_type": "stream",
          "name": "stderr",
          "text": [
            "100%|██████████| 259/259 [01:02<00:00,  4.11it/s]\n"
          ]
        },
        {
          "output_type": "stream",
          "name": "stdout",
          "text": [
            "Finished epoch 20 | Loss: 1.1150\n"
          ]
        },
        {
          "output_type": "stream",
          "name": "stderr",
          "text": [
            "  8%|▊         | 21/259 [00:09<00:50,  4.74it/s]"
          ]
        },
        {
          "output_type": "stream",
          "name": "stdout",
          "text": [
            "Loss: 1.1202\n"
          ]
        },
        {
          "output_type": "stream",
          "name": "stderr",
          "text": [
            " 47%|████▋     | 122/259 [00:33<00:30,  4.49it/s]"
          ]
        },
        {
          "output_type": "stream",
          "name": "stdout",
          "text": [
            "Loss: 1.1146\n"
          ]
        },
        {
          "output_type": "stream",
          "name": "stderr",
          "text": [
            " 86%|████████▌ | 222/259 [00:55<00:08,  4.24it/s]"
          ]
        },
        {
          "output_type": "stream",
          "name": "stdout",
          "text": [
            "Loss: 1.1037\n"
          ]
        },
        {
          "output_type": "stream",
          "name": "stderr",
          "text": [
            "100%|██████████| 259/259 [01:03<00:00,  4.10it/s]\n"
          ]
        },
        {
          "output_type": "stream",
          "name": "stdout",
          "text": [
            "Finished epoch 21 | Loss: 1.0978\n"
          ]
        },
        {
          "output_type": "stream",
          "name": "stderr",
          "text": [
            " 24%|██▍       | 63/259 [00:18<00:55,  3.56it/s]"
          ]
        },
        {
          "output_type": "stream",
          "name": "stdout",
          "text": [
            "Loss: 1.0334\n"
          ]
        },
        {
          "output_type": "stream",
          "name": "stderr",
          "text": [
            " 63%|██████▎   | 163/259 [00:41<00:20,  4.80it/s]"
          ]
        },
        {
          "output_type": "stream",
          "name": "stdout",
          "text": [
            "Loss: 1.0564\n"
          ]
        },
        {
          "output_type": "stream",
          "name": "stderr",
          "text": [
            "100%|██████████| 259/259 [01:02<00:00,  4.17it/s]\n"
          ]
        },
        {
          "output_type": "stream",
          "name": "stdout",
          "text": [
            "Finished epoch 22 | Loss: 1.0713\n"
          ]
        },
        {
          "output_type": "stream",
          "name": "stderr",
          "text": [
            "  2%|▏         | 4/259 [00:05<03:49,  1.11it/s]"
          ]
        },
        {
          "output_type": "stream",
          "name": "stdout",
          "text": [
            "Loss: 1.1072\n"
          ]
        },
        {
          "output_type": "stream",
          "name": "stderr",
          "text": [
            " 40%|████      | 104/259 [00:27<00:32,  4.74it/s]"
          ]
        },
        {
          "output_type": "stream",
          "name": "stdout",
          "text": [
            "Loss: 1.0690\n"
          ]
        },
        {
          "output_type": "stream",
          "name": "stderr",
          "text": [
            " 79%|███████▉  | 204/259 [00:50<00:11,  4.99it/s]"
          ]
        },
        {
          "output_type": "stream",
          "name": "stdout",
          "text": [
            "Loss: 1.0436\n"
          ]
        },
        {
          "output_type": "stream",
          "name": "stderr",
          "text": [
            "100%|██████████| 259/259 [01:01<00:00,  4.18it/s]\n"
          ]
        },
        {
          "output_type": "stream",
          "name": "stdout",
          "text": [
            "Finished epoch 23 | Loss: 1.0540\n"
          ]
        },
        {
          "output_type": "stream",
          "name": "stderr",
          "text": [
            " 17%|█▋        | 45/259 [00:14<00:50,  4.26it/s]"
          ]
        },
        {
          "output_type": "stream",
          "name": "stdout",
          "text": [
            "Loss: 0.9899\n"
          ]
        },
        {
          "output_type": "stream",
          "name": "stderr",
          "text": [
            " 56%|█████▌    | 144/259 [00:36<00:24,  4.61it/s]"
          ]
        },
        {
          "output_type": "stream",
          "name": "stdout",
          "text": [
            "Loss: 1.0372\n"
          ]
        },
        {
          "output_type": "stream",
          "name": "stderr",
          "text": [
            " 95%|█████████▍| 245/259 [00:59<00:02,  5.24it/s]"
          ]
        },
        {
          "output_type": "stream",
          "name": "stdout",
          "text": [
            "Loss: 1.0281\n"
          ]
        },
        {
          "output_type": "stream",
          "name": "stderr",
          "text": [
            "100%|██████████| 259/259 [01:01<00:00,  4.18it/s]\n"
          ]
        },
        {
          "output_type": "stream",
          "name": "stdout",
          "text": [
            "Finished epoch 24 | Loss: 1.0282\n"
          ]
        },
        {
          "output_type": "stream",
          "name": "stderr",
          "text": [
            " 33%|███▎      | 86/259 [00:23<00:35,  4.92it/s]"
          ]
        },
        {
          "output_type": "stream",
          "name": "stdout",
          "text": [
            "Loss: 0.9795\n"
          ]
        },
        {
          "output_type": "stream",
          "name": "stderr",
          "text": [
            " 72%|███████▏  | 186/259 [00:46<00:15,  4.60it/s]"
          ]
        },
        {
          "output_type": "stream",
          "name": "stdout",
          "text": [
            "Loss: 0.9935\n"
          ]
        },
        {
          "output_type": "stream",
          "name": "stderr",
          "text": [
            "100%|██████████| 259/259 [01:02<00:00,  4.18it/s]\n"
          ]
        },
        {
          "output_type": "stream",
          "name": "stdout",
          "text": [
            "Finished epoch 25 | Loss: 1.0034\n"
          ]
        },
        {
          "output_type": "stream",
          "name": "stderr",
          "text": [
            " 10%|█         | 27/259 [00:10<00:46,  5.01it/s]"
          ]
        },
        {
          "output_type": "stream",
          "name": "stdout",
          "text": [
            "Loss: 0.9977\n"
          ]
        },
        {
          "output_type": "stream",
          "name": "stderr",
          "text": [
            " 49%|████▊     | 126/259 [00:32<00:27,  4.75it/s]"
          ]
        },
        {
          "output_type": "stream",
          "name": "stdout",
          "text": [
            "Loss: 0.9839\n"
          ]
        },
        {
          "output_type": "stream",
          "name": "stderr",
          "text": [
            " 88%|████████▊ | 227/259 [00:55<00:06,  4.91it/s]"
          ]
        },
        {
          "output_type": "stream",
          "name": "stdout",
          "text": [
            "Loss: 0.9822\n"
          ]
        },
        {
          "output_type": "stream",
          "name": "stderr",
          "text": [
            "100%|██████████| 259/259 [01:01<00:00,  4.19it/s]\n"
          ]
        },
        {
          "output_type": "stream",
          "name": "stdout",
          "text": [
            "Finished epoch 26 | Loss: 0.9827\n"
          ]
        },
        {
          "output_type": "stream",
          "name": "stderr",
          "text": [
            " 26%|██▌       | 67/259 [00:18<00:40,  4.79it/s]"
          ]
        },
        {
          "output_type": "stream",
          "name": "stdout",
          "text": [
            "Loss: 0.9259\n"
          ]
        },
        {
          "output_type": "stream",
          "name": "stderr",
          "text": [
            " 64%|██████▍   | 167/259 [00:41<00:19,  4.63it/s]"
          ]
        },
        {
          "output_type": "stream",
          "name": "stdout",
          "text": [
            "Loss: 0.9583\n"
          ]
        },
        {
          "output_type": "stream",
          "name": "stderr",
          "text": [
            "100%|██████████| 259/259 [01:01<00:00,  4.18it/s]\n"
          ]
        },
        {
          "output_type": "stream",
          "name": "stdout",
          "text": [
            "Finished epoch 27 | Loss: 0.9652\n"
          ]
        },
        {
          "output_type": "stream",
          "name": "stderr",
          "text": [
            "  3%|▎         | 9/259 [00:06<01:10,  3.53it/s]"
          ]
        },
        {
          "output_type": "stream",
          "name": "stdout",
          "text": [
            "Loss: 0.9667\n"
          ]
        },
        {
          "output_type": "stream",
          "name": "stderr",
          "text": [
            " 42%|████▏     | 108/259 [00:28<00:34,  4.36it/s]"
          ]
        },
        {
          "output_type": "stream",
          "name": "stdout",
          "text": [
            "Loss: 0.9136\n"
          ]
        },
        {
          "output_type": "stream",
          "name": "stderr",
          "text": [
            " 81%|████████  | 209/259 [00:51<00:10,  4.66it/s]"
          ]
        },
        {
          "output_type": "stream",
          "name": "stdout",
          "text": [
            "Loss: 0.9238\n"
          ]
        },
        {
          "output_type": "stream",
          "name": "stderr",
          "text": [
            "100%|██████████| 259/259 [01:02<00:00,  4.16it/s]\n"
          ]
        },
        {
          "output_type": "stream",
          "name": "stdout",
          "text": [
            "Finished epoch 28 | Loss: 0.9419\n"
          ]
        },
        {
          "output_type": "stream",
          "name": "stderr",
          "text": [
            " 19%|█▉        | 50/259 [00:15<00:42,  4.94it/s]"
          ]
        },
        {
          "output_type": "stream",
          "name": "stdout",
          "text": [
            "Loss: 0.8950\n"
          ]
        },
        {
          "output_type": "stream",
          "name": "stderr",
          "text": [
            " 58%|█████▊    | 149/259 [00:37<00:22,  4.96it/s]"
          ]
        },
        {
          "output_type": "stream",
          "name": "stdout",
          "text": [
            "Loss: 0.9142\n"
          ]
        },
        {
          "output_type": "stream",
          "name": "stderr",
          "text": [
            " 97%|█████████▋| 250/259 [01:00<00:01,  5.32it/s]"
          ]
        },
        {
          "output_type": "stream",
          "name": "stdout",
          "text": [
            "Loss: 0.9233\n"
          ]
        },
        {
          "output_type": "stream",
          "name": "stderr",
          "text": [
            "100%|██████████| 259/259 [01:02<00:00,  4.16it/s]\n"
          ]
        },
        {
          "output_type": "stream",
          "name": "stdout",
          "text": [
            "Finished epoch 29 | Loss: 0.9255\n"
          ]
        },
        {
          "output_type": "stream",
          "name": "stderr",
          "text": [
            " 35%|███▌      | 91/259 [00:24<00:37,  4.50it/s]"
          ]
        },
        {
          "output_type": "stream",
          "name": "stdout",
          "text": [
            "Loss: 0.9153\n"
          ]
        },
        {
          "output_type": "stream",
          "name": "stderr",
          "text": [
            " 74%|███████▎  | 191/259 [00:47<00:13,  4.86it/s]"
          ]
        },
        {
          "output_type": "stream",
          "name": "stdout",
          "text": [
            "Loss: 0.9085\n"
          ]
        },
        {
          "output_type": "stream",
          "name": "stderr",
          "text": [
            "100%|██████████| 259/259 [01:02<00:00,  4.16it/s]\n"
          ]
        },
        {
          "output_type": "stream",
          "name": "stdout",
          "text": [
            "Finished epoch 30 | Loss: 0.9170\n"
          ]
        },
        {
          "output_type": "stream",
          "name": "stderr",
          "text": [
            " 12%|█▏        | 31/259 [00:11<00:46,  4.85it/s]"
          ]
        },
        {
          "output_type": "stream",
          "name": "stdout",
          "text": [
            "Loss: 0.8310\n"
          ]
        },
        {
          "output_type": "stream",
          "name": "stderr",
          "text": [
            " 51%|█████     | 132/259 [00:34<00:28,  4.45it/s]"
          ]
        },
        {
          "output_type": "stream",
          "name": "stdout",
          "text": [
            "Loss: 0.9061\n"
          ]
        },
        {
          "output_type": "stream",
          "name": "stderr",
          "text": [
            " 89%|████████▉ | 231/259 [00:56<00:05,  4.86it/s]"
          ]
        },
        {
          "output_type": "stream",
          "name": "stdout",
          "text": [
            "Loss: 0.8941\n"
          ]
        },
        {
          "output_type": "stream",
          "name": "stderr",
          "text": [
            "100%|██████████| 259/259 [01:02<00:00,  4.17it/s]\n"
          ]
        },
        {
          "output_type": "stream",
          "name": "stdout",
          "text": [
            "Finished epoch 31 | Loss: 0.8997\n"
          ]
        },
        {
          "output_type": "stream",
          "name": "stderr",
          "text": [
            " 28%|██▊       | 73/259 [00:20<00:39,  4.67it/s]"
          ]
        },
        {
          "output_type": "stream",
          "name": "stdout",
          "text": [
            "Loss: 0.8475\n"
          ]
        },
        {
          "output_type": "stream",
          "name": "stderr",
          "text": [
            " 67%|██████▋   | 173/259 [00:43<00:17,  4.99it/s]"
          ]
        },
        {
          "output_type": "stream",
          "name": "stdout",
          "text": [
            "Loss: 0.8740\n"
          ]
        },
        {
          "output_type": "stream",
          "name": "stderr",
          "text": [
            "100%|██████████| 259/259 [01:02<00:00,  4.13it/s]\n"
          ]
        },
        {
          "output_type": "stream",
          "name": "stdout",
          "text": [
            "Finished epoch 32 | Loss: 0.8794\n"
          ]
        },
        {
          "output_type": "stream",
          "name": "stderr",
          "text": [
            "  5%|▌         | 14/259 [00:08<01:23,  2.94it/s]"
          ]
        },
        {
          "output_type": "stream",
          "name": "stdout",
          "text": [
            "Loss: 0.8668\n"
          ]
        },
        {
          "output_type": "stream",
          "name": "stderr",
          "text": [
            " 44%|████▎     | 113/259 [00:30<00:33,  4.42it/s]"
          ]
        },
        {
          "output_type": "stream",
          "name": "stdout",
          "text": [
            "Loss: 0.8560\n"
          ]
        },
        {
          "output_type": "stream",
          "name": "stderr",
          "text": [
            " 82%|████████▏ | 213/259 [00:53<00:10,  4.52it/s]"
          ]
        },
        {
          "output_type": "stream",
          "name": "stdout",
          "text": [
            "Loss: 0.8520\n"
          ]
        },
        {
          "output_type": "stream",
          "name": "stderr",
          "text": [
            "100%|██████████| 259/259 [01:02<00:00,  4.12it/s]\n"
          ]
        },
        {
          "output_type": "stream",
          "name": "stdout",
          "text": [
            "Finished epoch 33 | Loss: 0.8576\n"
          ]
        },
        {
          "output_type": "stream",
          "name": "stderr",
          "text": [
            " 21%|██        | 55/259 [00:16<00:45,  4.46it/s]"
          ]
        },
        {
          "output_type": "stream",
          "name": "stdout",
          "text": [
            "Loss: 0.9153\n"
          ]
        },
        {
          "output_type": "stream",
          "name": "stderr",
          "text": [
            " 60%|█████▉    | 155/259 [00:39<00:21,  4.91it/s]"
          ]
        },
        {
          "output_type": "stream",
          "name": "stdout",
          "text": [
            "Loss: 0.8562\n"
          ]
        },
        {
          "output_type": "stream",
          "name": "stderr",
          "text": [
            " 98%|█████████▊| 255/259 [01:01<00:00,  5.42it/s]"
          ]
        },
        {
          "output_type": "stream",
          "name": "stdout",
          "text": [
            "Loss: 0.8449\n"
          ]
        },
        {
          "output_type": "stream",
          "name": "stderr",
          "text": [
            "100%|██████████| 259/259 [01:02<00:00,  4.17it/s]\n"
          ]
        },
        {
          "output_type": "stream",
          "name": "stdout",
          "text": [
            "Finished epoch 34 | Loss: 0.8446\n"
          ]
        },
        {
          "output_type": "stream",
          "name": "stderr",
          "text": [
            " 37%|███▋      | 96/259 [00:25<00:33,  4.90it/s]"
          ]
        },
        {
          "output_type": "stream",
          "name": "stdout",
          "text": [
            "Loss: 0.7860\n"
          ]
        },
        {
          "output_type": "stream",
          "name": "stderr",
          "text": [
            " 75%|███████▌  | 195/259 [00:49<00:14,  4.32it/s]"
          ]
        },
        {
          "output_type": "stream",
          "name": "stdout",
          "text": [
            "Loss: 0.8190\n"
          ]
        },
        {
          "output_type": "stream",
          "name": "stderr",
          "text": [
            "100%|██████████| 259/259 [01:02<00:00,  4.12it/s]\n"
          ]
        },
        {
          "output_type": "stream",
          "name": "stdout",
          "text": [
            "Finished epoch 35 | Loss: 0.8276\n"
          ]
        },
        {
          "output_type": "stream",
          "name": "stderr",
          "text": [
            " 14%|█▍        | 37/259 [00:12<00:48,  4.58it/s]"
          ]
        },
        {
          "output_type": "stream",
          "name": "stdout",
          "text": [
            "Loss: 0.8127\n"
          ]
        },
        {
          "output_type": "stream",
          "name": "stderr",
          "text": [
            " 53%|█████▎    | 136/259 [00:35<00:37,  3.29it/s]"
          ]
        },
        {
          "output_type": "stream",
          "name": "stdout",
          "text": [
            "Loss: 0.8336\n"
          ]
        },
        {
          "output_type": "stream",
          "name": "stderr",
          "text": [
            " 92%|█████████▏| 237/259 [00:58<00:04,  4.46it/s]"
          ]
        },
        {
          "output_type": "stream",
          "name": "stdout",
          "text": [
            "Loss: 0.8290\n"
          ]
        },
        {
          "output_type": "stream",
          "name": "stderr",
          "text": [
            "100%|██████████| 259/259 [01:02<00:00,  4.12it/s]\n"
          ]
        },
        {
          "output_type": "stream",
          "name": "stdout",
          "text": [
            "Finished epoch 36 | Loss: 0.8343\n"
          ]
        },
        {
          "output_type": "stream",
          "name": "stderr",
          "text": [
            " 30%|███       | 78/259 [00:22<00:41,  4.36it/s]"
          ]
        },
        {
          "output_type": "stream",
          "name": "stdout",
          "text": [
            "Loss: 0.8089\n"
          ]
        },
        {
          "output_type": "stream",
          "name": "stderr",
          "text": [
            " 68%|██████▊   | 177/259 [00:45<00:16,  4.86it/s]"
          ]
        },
        {
          "output_type": "stream",
          "name": "stdout",
          "text": [
            "Loss: 0.8073\n"
          ]
        },
        {
          "output_type": "stream",
          "name": "stderr",
          "text": [
            "100%|██████████| 259/259 [01:03<00:00,  4.11it/s]\n"
          ]
        },
        {
          "output_type": "stream",
          "name": "stdout",
          "text": [
            "Finished epoch 37 | Loss: 0.8159\n"
          ]
        },
        {
          "output_type": "stream",
          "name": "stderr",
          "text": [
            "  7%|▋         | 18/259 [00:09<01:02,  3.89it/s]"
          ]
        },
        {
          "output_type": "stream",
          "name": "stdout",
          "text": [
            "Loss: 0.8364\n"
          ]
        },
        {
          "output_type": "stream",
          "name": "stderr",
          "text": [
            " 46%|████▌     | 118/259 [00:31<00:28,  4.88it/s]"
          ]
        },
        {
          "output_type": "stream",
          "name": "stdout",
          "text": [
            "Loss: 0.8020\n"
          ]
        },
        {
          "output_type": "stream",
          "name": "stderr",
          "text": [
            " 84%|████████▍ | 218/259 [00:54<00:11,  3.57it/s]"
          ]
        },
        {
          "output_type": "stream",
          "name": "stdout",
          "text": [
            "Loss: 0.7907\n"
          ]
        },
        {
          "output_type": "stream",
          "name": "stderr",
          "text": [
            "100%|██████████| 259/259 [01:03<00:00,  4.09it/s]\n"
          ]
        },
        {
          "output_type": "stream",
          "name": "stdout",
          "text": [
            "Finished epoch 38 | Loss: 0.7958\n"
          ]
        },
        {
          "output_type": "stream",
          "name": "stderr",
          "text": [
            " 23%|██▎       | 60/259 [00:18<00:40,  4.96it/s]"
          ]
        },
        {
          "output_type": "stream",
          "name": "stdout",
          "text": [
            "Loss: 0.7699\n"
          ]
        },
        {
          "output_type": "stream",
          "name": "stderr",
          "text": [
            " 61%|██████▏   | 159/259 [00:41<00:20,  4.99it/s]"
          ]
        },
        {
          "output_type": "stream",
          "name": "stdout",
          "text": [
            "Loss: 0.7784\n"
          ]
        },
        {
          "output_type": "stream",
          "name": "stderr",
          "text": [
            "100%|██████████| 259/259 [01:03<00:00,  4.05it/s]"
          ]
        },
        {
          "output_type": "stream",
          "name": "stdout",
          "text": [
            "Loss: 0.7818\n",
            "Finished epoch 39 | Loss: 0.7818\n"
          ]
        },
        {
          "output_type": "stream",
          "name": "stderr",
          "text": [
            "\n",
            " 39%|███▉      | 101/259 [00:27<00:37,  4.21it/s]"
          ]
        },
        {
          "output_type": "stream",
          "name": "stdout",
          "text": [
            "Loss: 0.7574\n"
          ]
        },
        {
          "output_type": "stream",
          "name": "stderr",
          "text": [
            " 77%|███████▋  | 200/259 [00:49<00:12,  4.88it/s]"
          ]
        },
        {
          "output_type": "stream",
          "name": "stdout",
          "text": [
            "Loss: 0.7820\n"
          ]
        },
        {
          "output_type": "stream",
          "name": "stderr",
          "text": [
            "100%|██████████| 259/259 [01:02<00:00,  4.16it/s]\n"
          ]
        },
        {
          "output_type": "stream",
          "name": "stdout",
          "text": [
            "Finished epoch 40 | Loss: 0.7857\n"
          ]
        },
        {
          "output_type": "stream",
          "name": "stderr",
          "text": [
            " 16%|█▌        | 42/259 [00:14<01:02,  3.48it/s]"
          ]
        },
        {
          "output_type": "stream",
          "name": "stdout",
          "text": [
            "Loss: 0.7452\n"
          ]
        },
        {
          "output_type": "stream",
          "name": "stderr",
          "text": [
            " 55%|█████▍    | 142/259 [00:36<00:25,  4.66it/s]"
          ]
        },
        {
          "output_type": "stream",
          "name": "stdout",
          "text": [
            "Loss: 0.7770\n"
          ]
        },
        {
          "output_type": "stream",
          "name": "stderr",
          "text": [
            " 93%|█████████▎| 242/259 [00:59<00:03,  5.13it/s]"
          ]
        },
        {
          "output_type": "stream",
          "name": "stdout",
          "text": [
            "Loss: 0.7779\n"
          ]
        },
        {
          "output_type": "stream",
          "name": "stderr",
          "text": [
            "100%|██████████| 259/259 [01:02<00:00,  4.13it/s]\n"
          ]
        },
        {
          "output_type": "stream",
          "name": "stdout",
          "text": [
            "Finished epoch 41 | Loss: 0.7786\n"
          ]
        },
        {
          "output_type": "stream",
          "name": "stderr",
          "text": [
            " 32%|███▏      | 82/259 [00:22<00:40,  4.37it/s]"
          ]
        },
        {
          "output_type": "stream",
          "name": "stdout",
          "text": [
            "Loss: 0.7504\n"
          ]
        },
        {
          "output_type": "stream",
          "name": "stderr",
          "text": [
            " 71%|███████   | 183/259 [00:45<00:19,  3.88it/s]"
          ]
        },
        {
          "output_type": "stream",
          "name": "stdout",
          "text": [
            "Loss: 0.7751\n"
          ]
        },
        {
          "output_type": "stream",
          "name": "stderr",
          "text": [
            "100%|██████████| 259/259 [01:01<00:00,  4.18it/s]\n"
          ]
        },
        {
          "output_type": "stream",
          "name": "stdout",
          "text": [
            "Finished epoch 42 | Loss: 0.7717\n"
          ]
        },
        {
          "output_type": "stream",
          "name": "stderr",
          "text": [
            "  9%|▉         | 23/259 [00:09<00:48,  4.91it/s]"
          ]
        },
        {
          "output_type": "stream",
          "name": "stdout",
          "text": [
            "Loss: 0.7817\n"
          ]
        },
        {
          "output_type": "stream",
          "name": "stderr",
          "text": [
            " 48%|████▊     | 124/259 [00:32<00:30,  4.47it/s]"
          ]
        },
        {
          "output_type": "stream",
          "name": "stdout",
          "text": [
            "Loss: 0.7514\n"
          ]
        },
        {
          "output_type": "stream",
          "name": "stderr",
          "text": [
            " 86%|████████▋ | 224/259 [00:55<00:07,  4.80it/s]"
          ]
        },
        {
          "output_type": "stream",
          "name": "stdout",
          "text": [
            "Loss: 0.7479\n"
          ]
        },
        {
          "output_type": "stream",
          "name": "stderr",
          "text": [
            "100%|██████████| 259/259 [01:02<00:00,  4.16it/s]\n"
          ]
        },
        {
          "output_type": "stream",
          "name": "stdout",
          "text": [
            "Finished epoch 43 | Loss: 0.7493\n"
          ]
        },
        {
          "output_type": "stream",
          "name": "stderr",
          "text": [
            " 25%|██▍       | 64/259 [00:19<00:57,  3.41it/s]"
          ]
        },
        {
          "output_type": "stream",
          "name": "stdout",
          "text": [
            "Loss: 0.7475\n"
          ]
        },
        {
          "output_type": "stream",
          "name": "stderr",
          "text": [
            " 64%|██████▎   | 165/259 [00:42<00:20,  4.70it/s]"
          ]
        },
        {
          "output_type": "stream",
          "name": "stdout",
          "text": [
            "Loss: 0.7475\n"
          ]
        },
        {
          "output_type": "stream",
          "name": "stderr",
          "text": [
            "100%|██████████| 259/259 [01:03<00:00,  4.10it/s]\n"
          ]
        },
        {
          "output_type": "stream",
          "name": "stdout",
          "text": [
            "Finished epoch 44 | Loss: 0.7487\n"
          ]
        },
        {
          "output_type": "stream",
          "name": "stderr",
          "text": [
            "  2%|▏         | 6/259 [00:05<01:50,  2.28it/s]"
          ]
        },
        {
          "output_type": "stream",
          "name": "stdout",
          "text": [
            "Loss: 0.6996\n"
          ]
        },
        {
          "output_type": "stream",
          "name": "stderr",
          "text": [
            " 41%|████      | 105/259 [00:28<00:32,  4.73it/s]"
          ]
        },
        {
          "output_type": "stream",
          "name": "stdout",
          "text": [
            "Loss: 0.7566\n"
          ]
        },
        {
          "output_type": "stream",
          "name": "stderr",
          "text": [
            " 80%|███████▉  | 206/259 [00:51<00:10,  5.03it/s]"
          ]
        },
        {
          "output_type": "stream",
          "name": "stdout",
          "text": [
            "Loss: 0.7414\n"
          ]
        },
        {
          "output_type": "stream",
          "name": "stderr",
          "text": [
            "100%|██████████| 259/259 [01:02<00:00,  4.16it/s]\n"
          ]
        },
        {
          "output_type": "stream",
          "name": "stdout",
          "text": [
            "Finished epoch 45 | Loss: 0.7469\n"
          ]
        },
        {
          "output_type": "stream",
          "name": "stderr",
          "text": [
            " 18%|█▊        | 47/259 [00:14<00:41,  5.06it/s]"
          ]
        },
        {
          "output_type": "stream",
          "name": "stdout",
          "text": [
            "Loss: 0.7188\n"
          ]
        },
        {
          "output_type": "stream",
          "name": "stderr",
          "text": [
            " 56%|█████▋    | 146/259 [00:37<00:25,  4.35it/s]"
          ]
        },
        {
          "output_type": "stream",
          "name": "stdout",
          "text": [
            "Loss: 0.7215\n"
          ]
        },
        {
          "output_type": "stream",
          "name": "stderr",
          "text": [
            " 95%|█████████▌| 247/259 [01:00<00:02,  5.28it/s]"
          ]
        },
        {
          "output_type": "stream",
          "name": "stdout",
          "text": [
            "Loss: 0.7250\n"
          ]
        },
        {
          "output_type": "stream",
          "name": "stderr",
          "text": [
            "100%|██████████| 259/259 [01:02<00:00,  4.15it/s]\n"
          ]
        },
        {
          "output_type": "stream",
          "name": "stdout",
          "text": [
            "Finished epoch 46 | Loss: 0.7257\n"
          ]
        },
        {
          "output_type": "stream",
          "name": "stderr",
          "text": [
            " 34%|███▍      | 88/259 [00:24<00:34,  4.94it/s]"
          ]
        },
        {
          "output_type": "stream",
          "name": "stdout",
          "text": [
            "Loss: 0.6896\n"
          ]
        },
        {
          "output_type": "stream",
          "name": "stderr",
          "text": [
            " 73%|███████▎  | 188/259 [00:47<00:18,  3.94it/s]"
          ]
        },
        {
          "output_type": "stream",
          "name": "stdout",
          "text": [
            "Loss: 0.7110\n"
          ]
        },
        {
          "output_type": "stream",
          "name": "stderr",
          "text": [
            "100%|██████████| 259/259 [01:02<00:00,  4.13it/s]\n"
          ]
        },
        {
          "output_type": "stream",
          "name": "stdout",
          "text": [
            "Finished epoch 47 | Loss: 0.7156\n"
          ]
        },
        {
          "output_type": "stream",
          "name": "stderr",
          "text": [
            " 11%|█         | 29/259 [00:10<00:54,  4.22it/s]"
          ]
        },
        {
          "output_type": "stream",
          "name": "stdout",
          "text": [
            "Loss: 0.7303\n"
          ]
        },
        {
          "output_type": "stream",
          "name": "stderr",
          "text": [
            " 49%|████▉     | 128/259 [00:33<00:26,  4.87it/s]"
          ]
        },
        {
          "output_type": "stream",
          "name": "stdout",
          "text": [
            "Loss: 0.7171\n"
          ]
        },
        {
          "output_type": "stream",
          "name": "stderr",
          "text": [
            " 88%|████████▊ | 229/259 [00:56<00:06,  4.97it/s]"
          ]
        },
        {
          "output_type": "stream",
          "name": "stdout",
          "text": [
            "Loss: 0.7132\n"
          ]
        },
        {
          "output_type": "stream",
          "name": "stderr",
          "text": [
            "100%|██████████| 259/259 [01:02<00:00,  4.17it/s]\n"
          ]
        },
        {
          "output_type": "stream",
          "name": "stdout",
          "text": [
            "Finished epoch 48 | Loss: 0.7192\n"
          ]
        },
        {
          "output_type": "stream",
          "name": "stderr",
          "text": [
            " 27%|██▋       | 70/259 [00:19<00:45,  4.14it/s]"
          ]
        },
        {
          "output_type": "stream",
          "name": "stdout",
          "text": [
            "Loss: 0.6878\n"
          ]
        },
        {
          "output_type": "stream",
          "name": "stderr",
          "text": [
            " 66%|██████▌   | 170/259 [00:42<00:18,  4.88it/s]"
          ]
        },
        {
          "output_type": "stream",
          "name": "stdout",
          "text": [
            "Loss: 0.6920\n"
          ]
        },
        {
          "output_type": "stream",
          "name": "stderr",
          "text": [
            "100%|██████████| 259/259 [01:02<00:00,  4.17it/s]\n"
          ]
        },
        {
          "output_type": "stream",
          "name": "stdout",
          "text": [
            "Finished epoch 49 | Loss: 0.7037\n"
          ]
        },
        {
          "output_type": "stream",
          "name": "stderr",
          "text": [
            "  4%|▍         | 10/259 [00:06<01:05,  3.78it/s]"
          ]
        },
        {
          "output_type": "stream",
          "name": "stdout",
          "text": [
            "Loss: 0.7970\n"
          ]
        },
        {
          "output_type": "stream",
          "name": "stderr",
          "text": [
            " 42%|████▏     | 110/259 [00:28<00:30,  4.88it/s]"
          ]
        },
        {
          "output_type": "stream",
          "name": "stdout",
          "text": [
            "Loss: 0.7054\n"
          ]
        },
        {
          "output_type": "stream",
          "name": "stderr",
          "text": [
            " 81%|████████  | 210/259 [00:51<00:14,  3.47it/s]"
          ]
        },
        {
          "output_type": "stream",
          "name": "stdout",
          "text": [
            "Loss: 0.6982\n"
          ]
        },
        {
          "output_type": "stream",
          "name": "stderr",
          "text": [
            "100%|██████████| 259/259 [01:01<00:00,  4.20it/s]\n"
          ]
        },
        {
          "output_type": "stream",
          "name": "stdout",
          "text": [
            "Finished epoch 50 | Loss: 0.7012\n"
          ]
        },
        {
          "output_type": "stream",
          "name": "stderr",
          "text": [
            " 20%|█▉        | 51/259 [00:15<00:41,  4.95it/s]"
          ]
        },
        {
          "output_type": "stream",
          "name": "stdout",
          "text": [
            "Loss: 0.6578\n"
          ]
        },
        {
          "output_type": "stream",
          "name": "stderr",
          "text": [
            " 59%|█████▊    | 152/259 [00:39<00:31,  3.38it/s]"
          ]
        },
        {
          "output_type": "stream",
          "name": "stdout",
          "text": [
            "Loss: 0.6617\n"
          ]
        },
        {
          "output_type": "stream",
          "name": "stderr",
          "text": [
            " 97%|█████████▋| 252/259 [01:01<00:01,  5.41it/s]"
          ]
        },
        {
          "output_type": "stream",
          "name": "stdout",
          "text": [
            "Loss: 0.6563\n"
          ]
        },
        {
          "output_type": "stream",
          "name": "stderr",
          "text": [
            "100%|██████████| 259/259 [01:02<00:00,  4.15it/s]\n"
          ]
        },
        {
          "output_type": "stream",
          "name": "stdout",
          "text": [
            "Finished epoch 51 | Loss: 0.6545\n"
          ]
        },
        {
          "output_type": "stream",
          "name": "stderr",
          "text": [
            " 36%|███▌      | 93/259 [00:25<00:35,  4.66it/s]"
          ]
        },
        {
          "output_type": "stream",
          "name": "stdout",
          "text": [
            "Loss: 0.6193\n"
          ]
        },
        {
          "output_type": "stream",
          "name": "stderr",
          "text": [
            " 75%|███████▍  | 193/259 [00:47<00:13,  4.83it/s]"
          ]
        },
        {
          "output_type": "stream",
          "name": "stdout",
          "text": [
            "Loss: 0.6276\n"
          ]
        },
        {
          "output_type": "stream",
          "name": "stderr",
          "text": [
            "100%|██████████| 259/259 [01:01<00:00,  4.19it/s]\n"
          ]
        },
        {
          "output_type": "stream",
          "name": "stdout",
          "text": [
            "Finished epoch 52 | Loss: 0.6341\n"
          ]
        },
        {
          "output_type": "stream",
          "name": "stderr",
          "text": [
            " 13%|█▎        | 34/259 [00:12<00:50,  4.50it/s]"
          ]
        },
        {
          "output_type": "stream",
          "name": "stdout",
          "text": [
            "Loss: 0.6250\n"
          ]
        },
        {
          "output_type": "stream",
          "name": "stderr",
          "text": [
            " 52%|█████▏    | 134/259 [00:34<00:25,  4.97it/s]"
          ]
        },
        {
          "output_type": "stream",
          "name": "stdout",
          "text": [
            "Loss: 0.6253\n"
          ]
        },
        {
          "output_type": "stream",
          "name": "stderr",
          "text": [
            " 90%|████████▉ | 233/259 [00:57<00:05,  5.04it/s]"
          ]
        },
        {
          "output_type": "stream",
          "name": "stdout",
          "text": [
            "Loss: 0.6192\n"
          ]
        },
        {
          "output_type": "stream",
          "name": "stderr",
          "text": [
            "100%|██████████| 259/259 [01:02<00:00,  4.14it/s]\n"
          ]
        },
        {
          "output_type": "stream",
          "name": "stdout",
          "text": [
            "Finished epoch 53 | Loss: 0.6219\n"
          ]
        },
        {
          "output_type": "stream",
          "name": "stderr",
          "text": [
            " 29%|██▊       | 74/259 [00:21<00:38,  4.83it/s]"
          ]
        },
        {
          "output_type": "stream",
          "name": "stdout",
          "text": [
            "Loss: 0.5968\n"
          ]
        },
        {
          "output_type": "stream",
          "name": "stderr",
          "text": [
            " 68%|██████▊   | 175/259 [00:44<00:21,  3.94it/s]"
          ]
        },
        {
          "output_type": "stream",
          "name": "stdout",
          "text": [
            "Loss: 0.6148\n"
          ]
        },
        {
          "output_type": "stream",
          "name": "stderr",
          "text": [
            "100%|██████████| 259/259 [01:02<00:00,  4.12it/s]\n"
          ]
        },
        {
          "output_type": "stream",
          "name": "stdout",
          "text": [
            "Finished epoch 54 | Loss: 0.6118\n"
          ]
        },
        {
          "output_type": "stream",
          "name": "stderr",
          "text": [
            "  6%|▌         | 15/259 [00:07<00:52,  4.67it/s]"
          ]
        },
        {
          "output_type": "stream",
          "name": "stdout",
          "text": [
            "Loss: 0.6951\n"
          ]
        },
        {
          "output_type": "stream",
          "name": "stderr",
          "text": [
            " 45%|████▍     | 116/259 [00:30<00:31,  4.50it/s]"
          ]
        },
        {
          "output_type": "stream",
          "name": "stdout",
          "text": [
            "Loss: 0.6052\n"
          ]
        },
        {
          "output_type": "stream",
          "name": "stderr",
          "text": [
            " 83%|████████▎ | 216/259 [00:53<00:08,  4.94it/s]"
          ]
        },
        {
          "output_type": "stream",
          "name": "stdout",
          "text": [
            "Loss: 0.6045\n"
          ]
        },
        {
          "output_type": "stream",
          "name": "stderr",
          "text": [
            "100%|██████████| 259/259 [01:02<00:00,  4.15it/s]\n"
          ]
        },
        {
          "output_type": "stream",
          "name": "stdout",
          "text": [
            "Finished epoch 55 | Loss: 0.6103\n"
          ]
        },
        {
          "output_type": "stream",
          "name": "stderr",
          "text": [
            " 22%|██▏       | 56/259 [00:16<00:39,  5.08it/s]"
          ]
        },
        {
          "output_type": "stream",
          "name": "stdout",
          "text": [
            "Loss: 0.5903\n"
          ]
        },
        {
          "output_type": "stream",
          "name": "stderr",
          "text": [
            " 60%|██████    | 156/259 [00:39<00:20,  5.01it/s]"
          ]
        },
        {
          "output_type": "stream",
          "name": "stdout",
          "text": [
            "Loss: 0.5957\n"
          ]
        },
        {
          "output_type": "stream",
          "name": "stderr",
          "text": [
            " 99%|█████████▉| 257/259 [01:02<00:00,  5.41it/s]"
          ]
        },
        {
          "output_type": "stream",
          "name": "stdout",
          "text": [
            "Loss: 0.6046\n"
          ]
        },
        {
          "output_type": "stream",
          "name": "stderr",
          "text": [
            "100%|██████████| 259/259 [01:03<00:00,  4.10it/s]\n"
          ]
        },
        {
          "output_type": "stream",
          "name": "stdout",
          "text": [
            "Finished epoch 56 | Loss: 0.6046\n"
          ]
        },
        {
          "output_type": "stream",
          "name": "stderr",
          "text": [
            " 37%|███▋      | 97/259 [00:26<00:34,  4.76it/s]"
          ]
        },
        {
          "output_type": "stream",
          "name": "stdout",
          "text": [
            "Loss: 0.5833\n"
          ]
        },
        {
          "output_type": "stream",
          "name": "stderr",
          "text": [
            " 76%|███████▌  | 197/259 [00:48<00:13,  4.76it/s]"
          ]
        },
        {
          "output_type": "stream",
          "name": "stdout",
          "text": [
            "Loss: 0.6033\n"
          ]
        },
        {
          "output_type": "stream",
          "name": "stderr",
          "text": [
            "100%|██████████| 259/259 [01:02<00:00,  4.18it/s]\n"
          ]
        },
        {
          "output_type": "stream",
          "name": "stdout",
          "text": [
            "Finished epoch 57 | Loss: 0.6015\n"
          ]
        },
        {
          "output_type": "stream",
          "name": "stderr",
          "text": [
            " 15%|█▍        | 38/259 [00:13<01:10,  3.12it/s]"
          ]
        },
        {
          "output_type": "stream",
          "name": "stdout",
          "text": [
            "Loss: 0.5735\n"
          ]
        },
        {
          "output_type": "stream",
          "name": "stderr",
          "text": [
            " 54%|█████▎    | 139/259 [00:36<00:26,  4.60it/s]"
          ]
        },
        {
          "output_type": "stream",
          "name": "stdout",
          "text": [
            "Loss: 0.5826\n"
          ]
        },
        {
          "output_type": "stream",
          "name": "stderr",
          "text": [
            " 92%|█████████▏| 239/259 [00:59<00:05,  3.88it/s]"
          ]
        },
        {
          "output_type": "stream",
          "name": "stdout",
          "text": [
            "Loss: 0.5839\n"
          ]
        },
        {
          "output_type": "stream",
          "name": "stderr",
          "text": [
            "100%|██████████| 259/259 [01:03<00:00,  4.09it/s]\n"
          ]
        },
        {
          "output_type": "stream",
          "name": "stdout",
          "text": [
            "Finished epoch 58 | Loss: 0.5835\n"
          ]
        },
        {
          "output_type": "stream",
          "name": "stderr",
          "text": [
            " 31%|███       | 79/259 [00:21<00:41,  4.29it/s]"
          ]
        },
        {
          "output_type": "stream",
          "name": "stdout",
          "text": [
            "Loss: 0.5655\n"
          ]
        },
        {
          "output_type": "stream",
          "name": "stderr",
          "text": [
            " 69%|██████▉   | 179/259 [00:44<00:17,  4.50it/s]"
          ]
        },
        {
          "output_type": "stream",
          "name": "stdout",
          "text": [
            "Loss: 0.5789\n"
          ]
        },
        {
          "output_type": "stream",
          "name": "stderr",
          "text": [
            "100%|██████████| 259/259 [01:02<00:00,  4.16it/s]\n"
          ]
        },
        {
          "output_type": "stream",
          "name": "stdout",
          "text": [
            "Finished epoch 59 | Loss: 0.5887\n"
          ]
        },
        {
          "output_type": "stream",
          "name": "stderr",
          "text": [
            "  8%|▊         | 21/259 [00:09<00:48,  4.87it/s]"
          ]
        },
        {
          "output_type": "stream",
          "name": "stdout",
          "text": [
            "Loss: 0.5892\n"
          ]
        },
        {
          "output_type": "stream",
          "name": "stderr",
          "text": [
            " 46%|████▋     | 120/259 [00:31<00:27,  5.02it/s]"
          ]
        },
        {
          "output_type": "stream",
          "name": "stdout",
          "text": [
            "Loss: 0.5921\n"
          ]
        },
        {
          "output_type": "stream",
          "name": "stderr",
          "text": [
            " 85%|████████▍ | 220/259 [00:54<00:10,  3.89it/s]"
          ]
        },
        {
          "output_type": "stream",
          "name": "stdout",
          "text": [
            "Loss: 0.5885\n"
          ]
        },
        {
          "output_type": "stream",
          "name": "stderr",
          "text": [
            "100%|██████████| 259/259 [01:02<00:00,  4.15it/s]\n"
          ]
        },
        {
          "output_type": "stream",
          "name": "stdout",
          "text": [
            "Finished epoch 60 | Loss: 0.5905\n"
          ]
        },
        {
          "output_type": "stream",
          "name": "stderr",
          "text": [
            " 24%|██▍       | 62/259 [00:17<00:39,  4.96it/s]"
          ]
        },
        {
          "output_type": "stream",
          "name": "stdout",
          "text": [
            "Loss: 0.5867\n"
          ]
        },
        {
          "output_type": "stream",
          "name": "stderr",
          "text": [
            " 63%|██████▎   | 162/259 [00:41<00:21,  4.60it/s]"
          ]
        },
        {
          "output_type": "stream",
          "name": "stdout",
          "text": [
            "Loss: 0.5794\n"
          ]
        },
        {
          "output_type": "stream",
          "name": "stderr",
          "text": [
            "100%|██████████| 259/259 [01:02<00:00,  4.16it/s]\n"
          ]
        },
        {
          "output_type": "stream",
          "name": "stdout",
          "text": [
            "Finished epoch 61 | Loss: 0.5764\n"
          ]
        },
        {
          "output_type": "stream",
          "name": "stderr",
          "text": [
            "  1%|          | 2/259 [00:04<07:18,  1.71s/it]"
          ]
        },
        {
          "output_type": "stream",
          "name": "stdout",
          "text": [
            "Loss: 0.8925\n"
          ]
        },
        {
          "output_type": "stream",
          "name": "stderr",
          "text": [
            " 40%|███▉      | 103/259 [00:27<00:44,  3.49it/s]"
          ]
        },
        {
          "output_type": "stream",
          "name": "stdout",
          "text": [
            "Loss: 0.5713\n"
          ]
        },
        {
          "output_type": "stream",
          "name": "stderr",
          "text": [
            " 78%|███████▊  | 203/259 [00:50<00:11,  4.67it/s]"
          ]
        },
        {
          "output_type": "stream",
          "name": "stdout",
          "text": [
            "Loss: 0.5730\n"
          ]
        },
        {
          "output_type": "stream",
          "name": "stderr",
          "text": [
            "100%|██████████| 259/259 [01:02<00:00,  4.16it/s]\n"
          ]
        },
        {
          "output_type": "stream",
          "name": "stdout",
          "text": [
            "Finished epoch 62 | Loss: 0.5697\n"
          ]
        },
        {
          "output_type": "stream",
          "name": "stderr",
          "text": [
            " 17%|█▋        | 43/259 [00:13<00:57,  3.73it/s]"
          ]
        },
        {
          "output_type": "stream",
          "name": "stdout",
          "text": [
            "Loss: 0.5794\n"
          ]
        },
        {
          "output_type": "stream",
          "name": "stderr",
          "text": [
            " 55%|█████▌    | 143/259 [00:36<00:25,  4.46it/s]"
          ]
        },
        {
          "output_type": "stream",
          "name": "stdout",
          "text": [
            "Loss: 0.5745\n"
          ]
        },
        {
          "output_type": "stream",
          "name": "stderr",
          "text": [
            " 94%|█████████▍| 244/259 [00:59<00:02,  5.22it/s]"
          ]
        },
        {
          "output_type": "stream",
          "name": "stdout",
          "text": [
            "Loss: 0.5635\n"
          ]
        },
        {
          "output_type": "stream",
          "name": "stderr",
          "text": [
            "100%|██████████| 259/259 [01:01<00:00,  4.18it/s]\n"
          ]
        },
        {
          "output_type": "stream",
          "name": "stdout",
          "text": [
            "Finished epoch 63 | Loss: 0.5622\n"
          ]
        },
        {
          "output_type": "stream",
          "name": "stderr",
          "text": [
            " 33%|███▎      | 85/259 [00:23<00:35,  4.91it/s]"
          ]
        },
        {
          "output_type": "stream",
          "name": "stdout",
          "text": [
            "Loss: 0.5561\n"
          ]
        },
        {
          "output_type": "stream",
          "name": "stderr",
          "text": [
            " 71%|███████▏  | 185/259 [00:46<00:17,  4.30it/s]"
          ]
        },
        {
          "output_type": "stream",
          "name": "stdout",
          "text": [
            "Loss: 0.5664\n"
          ]
        },
        {
          "output_type": "stream",
          "name": "stderr",
          "text": [
            "100%|██████████| 259/259 [01:02<00:00,  4.12it/s]\n"
          ]
        },
        {
          "output_type": "stream",
          "name": "stdout",
          "text": [
            "Finished epoch 64 | Loss: 0.5681\n"
          ]
        },
        {
          "output_type": "stream",
          "name": "stderr",
          "text": [
            " 10%|▉         | 25/259 [00:10<00:48,  4.87it/s]"
          ]
        },
        {
          "output_type": "stream",
          "name": "stdout",
          "text": [
            "Loss: 0.5498\n"
          ]
        },
        {
          "output_type": "stream",
          "name": "stderr",
          "text": [
            " 49%|████▊     | 126/259 [00:32<00:28,  4.70it/s]"
          ]
        },
        {
          "output_type": "stream",
          "name": "stdout",
          "text": [
            "Loss: 0.5516\n"
          ]
        },
        {
          "output_type": "stream",
          "name": "stderr",
          "text": [
            " 87%|████████▋ | 226/259 [00:55<00:06,  5.02it/s]"
          ]
        },
        {
          "output_type": "stream",
          "name": "stdout",
          "text": [
            "Loss: 0.5549\n"
          ]
        },
        {
          "output_type": "stream",
          "name": "stderr",
          "text": [
            "100%|██████████| 259/259 [01:02<00:00,  4.16it/s]\n"
          ]
        },
        {
          "output_type": "stream",
          "name": "stdout",
          "text": [
            "Finished epoch 65 | Loss: 0.5603\n"
          ]
        },
        {
          "output_type": "stream",
          "name": "stderr",
          "text": [
            " 26%|██▌       | 67/259 [00:19<00:44,  4.27it/s]"
          ]
        },
        {
          "output_type": "stream",
          "name": "stdout",
          "text": [
            "Loss: 0.5483\n"
          ]
        },
        {
          "output_type": "stream",
          "name": "stderr",
          "text": [
            " 64%|██████▍   | 167/259 [00:42<00:18,  4.92it/s]"
          ]
        },
        {
          "output_type": "stream",
          "name": "stdout",
          "text": [
            "Loss: 0.5369\n"
          ]
        },
        {
          "output_type": "stream",
          "name": "stderr",
          "text": [
            "100%|██████████| 259/259 [01:02<00:00,  4.14it/s]\n"
          ]
        },
        {
          "output_type": "stream",
          "name": "stdout",
          "text": [
            "Finished epoch 66 | Loss: 0.5482\n"
          ]
        },
        {
          "output_type": "stream",
          "name": "stderr",
          "text": [
            "  3%|▎         | 8/259 [00:06<01:21,  3.08it/s]"
          ]
        },
        {
          "output_type": "stream",
          "name": "stdout",
          "text": [
            "Loss: 0.5750\n"
          ]
        },
        {
          "output_type": "stream",
          "name": "stderr",
          "text": [
            " 42%|████▏     | 108/259 [00:28<00:30,  4.95it/s]"
          ]
        },
        {
          "output_type": "stream",
          "name": "stdout",
          "text": [
            "Loss: 0.5456\n"
          ]
        },
        {
          "output_type": "stream",
          "name": "stderr",
          "text": [
            " 80%|████████  | 208/259 [00:51<00:14,  3.52it/s]"
          ]
        },
        {
          "output_type": "stream",
          "name": "stdout",
          "text": [
            "Loss: 0.5434\n"
          ]
        },
        {
          "output_type": "stream",
          "name": "stderr",
          "text": [
            "100%|██████████| 259/259 [01:02<00:00,  4.13it/s]\n"
          ]
        },
        {
          "output_type": "stream",
          "name": "stdout",
          "text": [
            "Finished epoch 67 | Loss: 0.5460\n"
          ]
        },
        {
          "output_type": "stream",
          "name": "stderr",
          "text": [
            " 19%|█▉        | 49/259 [00:15<00:41,  5.06it/s]"
          ]
        },
        {
          "output_type": "stream",
          "name": "stdout",
          "text": [
            "Loss: 0.5807\n"
          ]
        },
        {
          "output_type": "stream",
          "name": "stderr",
          "text": [
            " 57%|█████▋    | 148/259 [00:37<00:26,  4.22it/s]"
          ]
        },
        {
          "output_type": "stream",
          "name": "stdout",
          "text": [
            "Loss: 0.5551\n"
          ]
        },
        {
          "output_type": "stream",
          "name": "stderr",
          "text": [
            " 96%|█████████▌| 249/259 [01:00<00:01,  5.25it/s]"
          ]
        },
        {
          "output_type": "stream",
          "name": "stdout",
          "text": [
            "Loss: 0.5496\n"
          ]
        },
        {
          "output_type": "stream",
          "name": "stderr",
          "text": [
            "100%|██████████| 259/259 [01:02<00:00,  4.12it/s]\n"
          ]
        },
        {
          "output_type": "stream",
          "name": "stdout",
          "text": [
            "Finished epoch 68 | Loss: 0.5495\n"
          ]
        },
        {
          "output_type": "stream",
          "name": "stderr",
          "text": [
            " 35%|███▍      | 90/259 [00:24<00:47,  3.54it/s]"
          ]
        },
        {
          "output_type": "stream",
          "name": "stdout",
          "text": [
            "Loss: 0.5255\n"
          ]
        },
        {
          "output_type": "stream",
          "name": "stderr",
          "text": [
            " 73%|███████▎  | 190/259 [00:47<00:14,  4.61it/s]"
          ]
        },
        {
          "output_type": "stream",
          "name": "stdout",
          "text": [
            "Loss: 0.5413\n"
          ]
        },
        {
          "output_type": "stream",
          "name": "stderr",
          "text": [
            "100%|██████████| 259/259 [01:02<00:00,  4.16it/s]\n"
          ]
        },
        {
          "output_type": "stream",
          "name": "stdout",
          "text": [
            "Finished epoch 69 | Loss: 0.5492\n"
          ]
        },
        {
          "output_type": "stream",
          "name": "stderr",
          "text": [
            " 12%|█▏        | 30/259 [00:11<00:47,  4.86it/s]"
          ]
        },
        {
          "output_type": "stream",
          "name": "stdout",
          "text": [
            "Loss: 0.5492\n"
          ]
        },
        {
          "output_type": "stream",
          "name": "stderr",
          "text": [
            " 51%|█████     | 131/259 [00:33<00:25,  5.05it/s]"
          ]
        },
        {
          "output_type": "stream",
          "name": "stdout",
          "text": [
            "Loss: 0.5338\n"
          ]
        },
        {
          "output_type": "stream",
          "name": "stderr",
          "text": [
            " 89%|████████▉ | 231/259 [00:56<00:06,  4.07it/s]"
          ]
        },
        {
          "output_type": "stream",
          "name": "stdout",
          "text": [
            "Loss: 0.5416\n"
          ]
        },
        {
          "output_type": "stream",
          "name": "stderr",
          "text": [
            "100%|██████████| 259/259 [01:02<00:00,  4.14it/s]\n"
          ]
        },
        {
          "output_type": "stream",
          "name": "stdout",
          "text": [
            "Finished epoch 70 | Loss: 0.5472\n"
          ]
        },
        {
          "output_type": "stream",
          "name": "stderr",
          "text": [
            " 27%|██▋       | 71/259 [00:19<00:43,  4.31it/s]"
          ]
        },
        {
          "output_type": "stream",
          "name": "stdout",
          "text": [
            "Loss: 0.5431\n"
          ]
        },
        {
          "output_type": "stream",
          "name": "stderr",
          "text": [
            " 66%|██████▌   | 171/259 [00:42<00:19,  4.42it/s]"
          ]
        },
        {
          "output_type": "stream",
          "name": "stdout",
          "text": [
            "Loss: 0.5407\n"
          ]
        },
        {
          "output_type": "stream",
          "name": "stderr",
          "text": [
            "100%|██████████| 259/259 [01:02<00:00,  4.12it/s]\n"
          ]
        },
        {
          "output_type": "stream",
          "name": "stdout",
          "text": [
            "Finished epoch 71 | Loss: 0.5453\n"
          ]
        },
        {
          "output_type": "stream",
          "name": "stderr",
          "text": [
            "  5%|▍         | 12/259 [00:07<00:55,  4.43it/s]"
          ]
        },
        {
          "output_type": "stream",
          "name": "stdout",
          "text": [
            "Loss: 0.6282\n"
          ]
        },
        {
          "output_type": "stream",
          "name": "stderr",
          "text": [
            " 43%|████▎     | 112/259 [00:29<00:32,  4.52it/s]"
          ]
        },
        {
          "output_type": "stream",
          "name": "stdout",
          "text": [
            "Loss: 0.5294\n"
          ]
        },
        {
          "output_type": "stream",
          "name": "stderr",
          "text": [
            " 82%|████████▏ | 212/259 [00:52<00:10,  4.40it/s]"
          ]
        },
        {
          "output_type": "stream",
          "name": "stdout",
          "text": [
            "Loss: 0.5317\n"
          ]
        },
        {
          "output_type": "stream",
          "name": "stderr",
          "text": [
            "100%|██████████| 259/259 [01:02<00:00,  4.14it/s]\n"
          ]
        },
        {
          "output_type": "stream",
          "name": "stdout",
          "text": [
            "Finished epoch 72 | Loss: 0.5340\n"
          ]
        },
        {
          "output_type": "stream",
          "name": "stderr",
          "text": [
            " 21%|██        | 54/259 [00:16<00:40,  5.04it/s]"
          ]
        },
        {
          "output_type": "stream",
          "name": "stdout",
          "text": [
            "Loss: 0.5517\n"
          ]
        },
        {
          "output_type": "stream",
          "name": "stderr",
          "text": [
            " 59%|█████▉    | 153/259 [00:38<00:25,  4.16it/s]"
          ]
        },
        {
          "output_type": "stream",
          "name": "stdout",
          "text": [
            "Loss: 0.5492\n"
          ]
        },
        {
          "output_type": "stream",
          "name": "stderr",
          "text": [
            " 98%|█████████▊| 254/259 [01:01<00:00,  5.36it/s]"
          ]
        },
        {
          "output_type": "stream",
          "name": "stdout",
          "text": [
            "Loss: 0.5415\n"
          ]
        },
        {
          "output_type": "stream",
          "name": "stderr",
          "text": [
            "100%|██████████| 259/259 [01:02<00:00,  4.17it/s]\n"
          ]
        },
        {
          "output_type": "stream",
          "name": "stdout",
          "text": [
            "Finished epoch 73 | Loss: 0.5424\n"
          ]
        },
        {
          "output_type": "stream",
          "name": "stderr",
          "text": [
            " 37%|███▋      | 95/259 [00:26<00:35,  4.68it/s]"
          ]
        },
        {
          "output_type": "stream",
          "name": "stdout",
          "text": [
            "Loss: 0.5355\n"
          ]
        },
        {
          "output_type": "stream",
          "name": "stderr",
          "text": [
            " 75%|███████▌  | 195/259 [00:49<00:13,  4.82it/s]"
          ]
        },
        {
          "output_type": "stream",
          "name": "stdout",
          "text": [
            "Loss: 0.5363\n"
          ]
        },
        {
          "output_type": "stream",
          "name": "stderr",
          "text": [
            "100%|██████████| 259/259 [01:03<00:00,  4.10it/s]\n"
          ]
        },
        {
          "output_type": "stream",
          "name": "stdout",
          "text": [
            "Finished epoch 74 | Loss: 0.5356\n"
          ]
        },
        {
          "output_type": "stream",
          "name": "stderr",
          "text": [
            " 14%|█▎        | 35/259 [00:12<00:45,  4.97it/s]"
          ]
        },
        {
          "output_type": "stream",
          "name": "stdout",
          "text": [
            "Loss: 0.5037\n"
          ]
        },
        {
          "output_type": "stream",
          "name": "stderr",
          "text": [
            " 53%|█████▎    | 136/259 [00:35<00:29,  4.15it/s]"
          ]
        },
        {
          "output_type": "stream",
          "name": "stdout",
          "text": [
            "Loss: 0.5356\n"
          ]
        },
        {
          "output_type": "stream",
          "name": "stderr",
          "text": [
            " 91%|█████████ | 236/259 [00:58<00:04,  4.68it/s]"
          ]
        },
        {
          "output_type": "stream",
          "name": "stdout",
          "text": [
            "Loss: 0.5274\n"
          ]
        },
        {
          "output_type": "stream",
          "name": "stderr",
          "text": [
            "100%|██████████| 259/259 [01:02<00:00,  4.14it/s]\n"
          ]
        },
        {
          "output_type": "stream",
          "name": "stdout",
          "text": [
            "Finished epoch 75 | Loss: 0.5273\n"
          ]
        },
        {
          "output_type": "stream",
          "name": "stderr",
          "text": [
            " 29%|██▉       | 76/259 [00:22<00:36,  4.97it/s]"
          ]
        },
        {
          "output_type": "stream",
          "name": "stdout",
          "text": [
            "Loss: 0.5196\n"
          ]
        },
        {
          "output_type": "stream",
          "name": "stderr",
          "text": [
            " 68%|██████▊   | 177/259 [00:45<00:18,  4.54it/s]"
          ]
        },
        {
          "output_type": "stream",
          "name": "stdout",
          "text": [
            "Loss: 0.5159\n"
          ]
        },
        {
          "output_type": "stream",
          "name": "stderr",
          "text": [
            "100%|██████████| 259/259 [01:03<00:00,  4.08it/s]\n"
          ]
        },
        {
          "output_type": "stream",
          "name": "stdout",
          "text": [
            "Finished epoch 76 | Loss: 0.5146\n"
          ]
        },
        {
          "output_type": "stream",
          "name": "stderr",
          "text": [
            "  7%|▋         | 18/259 [00:08<01:00,  3.99it/s]"
          ]
        },
        {
          "output_type": "stream",
          "name": "stdout",
          "text": [
            "Loss: 0.5722\n"
          ]
        },
        {
          "output_type": "stream",
          "name": "stderr",
          "text": [
            " 45%|████▌     | 117/259 [00:31<00:30,  4.59it/s]"
          ]
        },
        {
          "output_type": "stream",
          "name": "stdout",
          "text": [
            "Loss: 0.5203\n"
          ]
        },
        {
          "output_type": "stream",
          "name": "stderr",
          "text": [
            " 84%|████████▍ | 218/259 [00:53<00:08,  5.01it/s]"
          ]
        },
        {
          "output_type": "stream",
          "name": "stdout",
          "text": [
            "Loss: 0.5132\n"
          ]
        },
        {
          "output_type": "stream",
          "name": "stderr",
          "text": [
            "100%|██████████| 259/259 [01:02<00:00,  4.14it/s]\n"
          ]
        },
        {
          "output_type": "stream",
          "name": "stdout",
          "text": [
            "Finished epoch 77 | Loss: 0.5123\n"
          ]
        },
        {
          "output_type": "stream",
          "name": "stderr",
          "text": [
            " 23%|██▎       | 59/259 [00:17<00:40,  4.88it/s]"
          ]
        },
        {
          "output_type": "stream",
          "name": "stdout",
          "text": [
            "Loss: 0.5043\n"
          ]
        },
        {
          "output_type": "stream",
          "name": "stderr",
          "text": [
            " 61%|██████    | 158/259 [00:40<00:20,  5.01it/s]"
          ]
        },
        {
          "output_type": "stream",
          "name": "stdout",
          "text": [
            "Loss: 0.4977\n"
          ]
        },
        {
          "output_type": "stream",
          "name": "stderr",
          "text": [
            "100%|██████████| 259/259 [01:03<00:00,  6.09it/s]"
          ]
        },
        {
          "output_type": "stream",
          "name": "stdout",
          "text": [
            "Loss: 0.5008\n"
          ]
        },
        {
          "output_type": "stream",
          "name": "stderr",
          "text": [
            "\r100%|██████████| 259/259 [01:03<00:00,  4.07it/s]\n"
          ]
        },
        {
          "output_type": "stream",
          "name": "stdout",
          "text": [
            "Finished epoch 78 | Loss: 0.5008\n"
          ]
        },
        {
          "output_type": "stream",
          "name": "stderr",
          "text": [
            " 38%|███▊      | 99/259 [00:26<00:31,  5.01it/s]"
          ]
        },
        {
          "output_type": "stream",
          "name": "stdout",
          "text": [
            "Loss: 0.4922\n"
          ]
        },
        {
          "output_type": "stream",
          "name": "stderr",
          "text": [
            " 77%|███████▋  | 200/259 [00:51<00:12,  4.69it/s]"
          ]
        },
        {
          "output_type": "stream",
          "name": "stdout",
          "text": [
            "Loss: 0.5007\n"
          ]
        },
        {
          "output_type": "stream",
          "name": "stderr",
          "text": [
            "100%|██████████| 259/259 [01:04<00:00,  4.03it/s]\n"
          ]
        },
        {
          "output_type": "stream",
          "name": "stdout",
          "text": [
            "Finished epoch 79 | Loss: 0.5009\n"
          ]
        },
        {
          "output_type": "stream",
          "name": "stderr",
          "text": [
            " 16%|█▌        | 41/259 [00:13<00:43,  5.04it/s]"
          ]
        },
        {
          "output_type": "stream",
          "name": "stdout",
          "text": [
            "Loss: 0.5126\n"
          ]
        },
        {
          "output_type": "stream",
          "name": "stderr",
          "text": [
            " 54%|█████▍    | 141/259 [00:37<00:25,  4.57it/s]"
          ]
        },
        {
          "output_type": "stream",
          "name": "stdout",
          "text": [
            "Loss: 0.5182\n"
          ]
        },
        {
          "output_type": "stream",
          "name": "stderr",
          "text": [
            " 93%|█████████▎| 241/259 [00:59<00:03,  5.08it/s]"
          ]
        },
        {
          "output_type": "stream",
          "name": "stdout",
          "text": [
            "Loss: 0.5082\n"
          ]
        },
        {
          "output_type": "stream",
          "name": "stderr",
          "text": [
            "100%|██████████| 259/259 [01:03<00:00,  4.08it/s]\n"
          ]
        },
        {
          "output_type": "stream",
          "name": "stdout",
          "text": [
            "Finished epoch 80 | Loss: 0.5065\n"
          ]
        },
        {
          "output_type": "stream",
          "name": "stderr",
          "text": [
            " 31%|███▏      | 81/259 [00:22<00:40,  4.43it/s]"
          ]
        },
        {
          "output_type": "stream",
          "name": "stdout",
          "text": [
            "Loss: 0.4864\n"
          ]
        },
        {
          "output_type": "stream",
          "name": "stderr",
          "text": [
            " 70%|██████▉   | 181/259 [00:46<00:21,  3.67it/s]"
          ]
        },
        {
          "output_type": "stream",
          "name": "stdout",
          "text": [
            "Loss: 0.4983\n"
          ]
        },
        {
          "output_type": "stream",
          "name": "stderr",
          "text": [
            "100%|██████████| 259/259 [01:04<00:00,  4.04it/s]\n"
          ]
        },
        {
          "output_type": "stream",
          "name": "stdout",
          "text": [
            "Finished epoch 81 | Loss: 0.4974\n"
          ]
        },
        {
          "output_type": "stream",
          "name": "stderr",
          "text": [
            "  9%|▉         | 23/259 [00:10<00:49,  4.73it/s]"
          ]
        },
        {
          "output_type": "stream",
          "name": "stdout",
          "text": [
            "Loss: 0.5280\n"
          ]
        },
        {
          "output_type": "stream",
          "name": "stderr",
          "text": [
            " 47%|████▋     | 122/259 [00:32<00:31,  4.34it/s]"
          ]
        },
        {
          "output_type": "stream",
          "name": "stdout",
          "text": [
            "Loss: 0.4982\n"
          ]
        },
        {
          "output_type": "stream",
          "name": "stderr",
          "text": [
            " 86%|████████▌ | 222/259 [00:56<00:08,  4.42it/s]"
          ]
        },
        {
          "output_type": "stream",
          "name": "stdout",
          "text": [
            "Loss: 0.4919\n"
          ]
        },
        {
          "output_type": "stream",
          "name": "stderr",
          "text": [
            "100%|██████████| 259/259 [01:03<00:00,  4.05it/s]\n"
          ]
        },
        {
          "output_type": "stream",
          "name": "stdout",
          "text": [
            "Finished epoch 82 | Loss: 0.4930\n"
          ]
        },
        {
          "output_type": "stream",
          "name": "stderr",
          "text": [
            " 25%|██▍       | 64/259 [00:18<00:39,  4.91it/s]"
          ]
        },
        {
          "output_type": "stream",
          "name": "stdout",
          "text": [
            "Loss: 0.4723\n"
          ]
        },
        {
          "output_type": "stream",
          "name": "stderr",
          "text": [
            " 63%|██████▎   | 164/259 [00:42<00:23,  4.02it/s]"
          ]
        },
        {
          "output_type": "stream",
          "name": "stdout",
          "text": [
            "Loss: 0.4921\n"
          ]
        },
        {
          "output_type": "stream",
          "name": "stderr",
          "text": [
            "100%|██████████| 259/259 [01:03<00:00,  4.08it/s]\n"
          ]
        },
        {
          "output_type": "stream",
          "name": "stdout",
          "text": [
            "Finished epoch 83 | Loss: 0.4826\n"
          ]
        },
        {
          "output_type": "stream",
          "name": "stderr",
          "text": [
            "  2%|▏         | 5/259 [00:05<02:30,  1.69it/s]"
          ]
        },
        {
          "output_type": "stream",
          "name": "stdout",
          "text": [
            "Loss: 0.5144\n"
          ]
        },
        {
          "output_type": "stream",
          "name": "stderr",
          "text": [
            " 40%|████      | 104/259 [00:28<00:33,  4.66it/s]"
          ]
        },
        {
          "output_type": "stream",
          "name": "stdout",
          "text": [
            "Loss: 0.4845\n"
          ]
        },
        {
          "output_type": "stream",
          "name": "stderr",
          "text": [
            " 79%|███████▉  | 204/259 [00:51<00:11,  4.95it/s]"
          ]
        },
        {
          "output_type": "stream",
          "name": "stdout",
          "text": [
            "Loss: 0.4858\n"
          ]
        },
        {
          "output_type": "stream",
          "name": "stderr",
          "text": [
            "100%|██████████| 259/259 [01:02<00:00,  4.11it/s]\n"
          ]
        },
        {
          "output_type": "stream",
          "name": "stdout",
          "text": [
            "Finished epoch 84 | Loss: 0.4913\n"
          ]
        },
        {
          "output_type": "stream",
          "name": "stderr",
          "text": [
            " 18%|█▊        | 46/259 [00:14<00:42,  5.01it/s]"
          ]
        },
        {
          "output_type": "stream",
          "name": "stdout",
          "text": [
            "Loss: 0.4895\n"
          ]
        },
        {
          "output_type": "stream",
          "name": "stderr",
          "text": [
            " 56%|█████▋    | 146/259 [00:38<00:30,  3.67it/s]"
          ]
        },
        {
          "output_type": "stream",
          "name": "stdout",
          "text": [
            "Loss: 0.4957\n"
          ]
        },
        {
          "output_type": "stream",
          "name": "stderr",
          "text": [
            " 95%|█████████▍| 246/259 [01:00<00:02,  5.30it/s]"
          ]
        },
        {
          "output_type": "stream",
          "name": "stdout",
          "text": [
            "Loss: 0.4866\n"
          ]
        },
        {
          "output_type": "stream",
          "name": "stderr",
          "text": [
            "100%|██████████| 259/259 [01:03<00:00,  4.09it/s]\n"
          ]
        },
        {
          "output_type": "stream",
          "name": "stdout",
          "text": [
            "Finished epoch 85 | Loss: 0.4859\n"
          ]
        },
        {
          "output_type": "stream",
          "name": "stderr",
          "text": [
            " 34%|███▎      | 87/259 [00:24<00:57,  2.97it/s]"
          ]
        },
        {
          "output_type": "stream",
          "name": "stdout",
          "text": [
            "Loss: 0.4690\n"
          ]
        },
        {
          "output_type": "stream",
          "name": "stderr",
          "text": [
            " 72%|███████▏  | 186/259 [00:47<00:15,  4.70it/s]"
          ]
        },
        {
          "output_type": "stream",
          "name": "stdout",
          "text": [
            "Loss: 0.4784\n"
          ]
        },
        {
          "output_type": "stream",
          "name": "stderr",
          "text": [
            "100%|██████████| 259/259 [01:03<00:00,  4.08it/s]\n"
          ]
        },
        {
          "output_type": "stream",
          "name": "stdout",
          "text": [
            "Finished epoch 86 | Loss: 0.4850\n"
          ]
        },
        {
          "output_type": "stream",
          "name": "stderr",
          "text": [
            " 11%|█         | 28/259 [00:10<00:54,  4.25it/s]"
          ]
        },
        {
          "output_type": "stream",
          "name": "stdout",
          "text": [
            "Loss: 0.4790\n"
          ]
        },
        {
          "output_type": "stream",
          "name": "stderr",
          "text": [
            " 49%|████▉     | 128/259 [00:34<00:30,  4.34it/s]"
          ]
        },
        {
          "output_type": "stream",
          "name": "stdout",
          "text": [
            "Loss: 0.4793\n"
          ]
        },
        {
          "output_type": "stream",
          "name": "stderr",
          "text": [
            " 88%|████████▊ | 228/259 [00:57<00:06,  4.78it/s]"
          ]
        },
        {
          "output_type": "stream",
          "name": "stdout",
          "text": [
            "Loss: 0.4821\n"
          ]
        },
        {
          "output_type": "stream",
          "name": "stderr",
          "text": [
            "100%|██████████| 259/259 [01:03<00:00,  4.08it/s]\n"
          ]
        },
        {
          "output_type": "stream",
          "name": "stdout",
          "text": [
            "Finished epoch 87 | Loss: 0.4811\n"
          ]
        },
        {
          "output_type": "stream",
          "name": "stderr",
          "text": [
            " 27%|██▋       | 69/259 [00:21<00:51,  3.67it/s]"
          ]
        },
        {
          "output_type": "stream",
          "name": "stdout",
          "text": [
            "Loss: 0.4502\n"
          ]
        },
        {
          "output_type": "stream",
          "name": "stderr",
          "text": [
            " 65%|██████▌   | 169/259 [00:44<00:21,  4.25it/s]"
          ]
        },
        {
          "output_type": "stream",
          "name": "stdout",
          "text": [
            "Loss: 0.4753\n"
          ]
        },
        {
          "output_type": "stream",
          "name": "stderr",
          "text": [
            "100%|██████████| 259/259 [01:04<00:00,  4.04it/s]\n"
          ]
        },
        {
          "output_type": "stream",
          "name": "stdout",
          "text": [
            "Finished epoch 88 | Loss: 0.4849\n"
          ]
        },
        {
          "output_type": "stream",
          "name": "stderr",
          "text": [
            "  4%|▍         | 10/259 [00:06<01:06,  3.72it/s]"
          ]
        },
        {
          "output_type": "stream",
          "name": "stdout",
          "text": [
            "Loss: 0.5076\n"
          ]
        },
        {
          "output_type": "stream",
          "name": "stderr",
          "text": [
            " 42%|████▏     | 109/259 [00:29<00:29,  5.02it/s]"
          ]
        },
        {
          "output_type": "stream",
          "name": "stdout",
          "text": [
            "Loss: 0.4811\n"
          ]
        },
        {
          "output_type": "stream",
          "name": "stderr",
          "text": [
            " 81%|████████  | 210/259 [00:53<00:10,  4.73it/s]"
          ]
        },
        {
          "output_type": "stream",
          "name": "stdout",
          "text": [
            "Loss: 0.4772\n"
          ]
        },
        {
          "output_type": "stream",
          "name": "stderr",
          "text": [
            "100%|██████████| 259/259 [01:03<00:00,  4.08it/s]\n"
          ]
        },
        {
          "output_type": "stream",
          "name": "stdout",
          "text": [
            "Finished epoch 89 | Loss: 0.4795\n"
          ]
        },
        {
          "output_type": "stream",
          "name": "stderr",
          "text": [
            " 19%|█▉        | 50/259 [00:15<00:41,  4.99it/s]"
          ]
        },
        {
          "output_type": "stream",
          "name": "stdout",
          "text": [
            "Loss: 0.4946\n"
          ]
        },
        {
          "output_type": "stream",
          "name": "stderr",
          "text": [
            " 58%|█████▊    | 150/259 [00:39<00:28,  3.77it/s]"
          ]
        },
        {
          "output_type": "stream",
          "name": "stdout",
          "text": [
            "Loss: 0.4784\n"
          ]
        },
        {
          "output_type": "stream",
          "name": "stderr",
          "text": [
            " 97%|█████████▋| 251/259 [01:01<00:01,  5.32it/s]"
          ]
        },
        {
          "output_type": "stream",
          "name": "stdout",
          "text": [
            "Loss: 0.4753\n"
          ]
        },
        {
          "output_type": "stream",
          "name": "stderr",
          "text": [
            "100%|██████████| 259/259 [01:03<00:00,  4.10it/s]\n"
          ]
        },
        {
          "output_type": "stream",
          "name": "stdout",
          "text": [
            "Finished epoch 90 | Loss: 0.4758\n"
          ]
        },
        {
          "output_type": "stream",
          "name": "stderr",
          "text": [
            " 35%|███▌      | 91/259 [00:25<00:41,  4.02it/s]"
          ]
        },
        {
          "output_type": "stream",
          "name": "stdout",
          "text": [
            "Loss: 0.4828\n"
          ]
        },
        {
          "output_type": "stream",
          "name": "stderr",
          "text": [
            " 74%|███████▎  | 191/259 [00:48<00:18,  3.73it/s]"
          ]
        },
        {
          "output_type": "stream",
          "name": "stdout",
          "text": [
            "Loss: 0.4819\n"
          ]
        },
        {
          "output_type": "stream",
          "name": "stderr",
          "text": [
            "100%|██████████| 259/259 [01:03<00:00,  4.09it/s]\n"
          ]
        },
        {
          "output_type": "stream",
          "name": "stdout",
          "text": [
            "Finished epoch 91 | Loss: 0.4829\n"
          ]
        },
        {
          "output_type": "stream",
          "name": "stderr",
          "text": [
            " 13%|█▎        | 33/259 [00:11<00:59,  3.83it/s]"
          ]
        },
        {
          "output_type": "stream",
          "name": "stdout",
          "text": [
            "Loss: 0.4680\n"
          ]
        },
        {
          "output_type": "stream",
          "name": "stderr",
          "text": [
            " 51%|█████▏    | 133/259 [00:34<00:25,  4.87it/s]"
          ]
        },
        {
          "output_type": "stream",
          "name": "stdout",
          "text": [
            "Loss: 0.4684\n"
          ]
        },
        {
          "output_type": "stream",
          "name": "stderr",
          "text": [
            " 90%|████████▉ | 233/259 [00:59<00:05,  5.00it/s]"
          ]
        },
        {
          "output_type": "stream",
          "name": "stdout",
          "text": [
            "Loss: 0.4665\n"
          ]
        },
        {
          "output_type": "stream",
          "name": "stderr",
          "text": [
            "100%|██████████| 259/259 [01:04<00:00,  4.03it/s]\n"
          ]
        },
        {
          "output_type": "stream",
          "name": "stdout",
          "text": [
            "Finished epoch 92 | Loss: 0.4705\n"
          ]
        },
        {
          "output_type": "stream",
          "name": "stderr",
          "text": [
            " 29%|██▊       | 74/259 [00:21<00:37,  4.91it/s]"
          ]
        },
        {
          "output_type": "stream",
          "name": "stdout",
          "text": [
            "Loss: 0.4448\n"
          ]
        },
        {
          "output_type": "stream",
          "name": "stderr",
          "text": [
            " 67%|██████▋   | 174/259 [00:45<00:16,  5.02it/s]"
          ]
        },
        {
          "output_type": "stream",
          "name": "stdout",
          "text": [
            "Loss: 0.4673\n"
          ]
        },
        {
          "output_type": "stream",
          "name": "stderr",
          "text": [
            "100%|██████████| 259/259 [01:04<00:00,  4.02it/s]\n"
          ]
        },
        {
          "output_type": "stream",
          "name": "stdout",
          "text": [
            "Finished epoch 93 | Loss: 0.4761\n"
          ]
        },
        {
          "output_type": "stream",
          "name": "stderr",
          "text": [
            "  6%|▌         | 15/259 [00:08<01:01,  3.94it/s]"
          ]
        },
        {
          "output_type": "stream",
          "name": "stdout",
          "text": [
            "Loss: 0.5500\n"
          ]
        },
        {
          "output_type": "stream",
          "name": "stderr",
          "text": [
            " 44%|████▍     | 115/259 [00:31<00:33,  4.36it/s]"
          ]
        },
        {
          "output_type": "stream",
          "name": "stdout",
          "text": [
            "Loss: 0.4611\n"
          ]
        },
        {
          "output_type": "stream",
          "name": "stderr",
          "text": [
            " 83%|████████▎ | 214/259 [00:53<00:09,  4.58it/s]"
          ]
        },
        {
          "output_type": "stream",
          "name": "stdout",
          "text": [
            "Loss: 0.4604\n"
          ]
        },
        {
          "output_type": "stream",
          "name": "stderr",
          "text": [
            "100%|██████████| 259/259 [01:03<00:00,  4.08it/s]\n"
          ]
        },
        {
          "output_type": "stream",
          "name": "stdout",
          "text": [
            "Finished epoch 94 | Loss: 0.4643\n"
          ]
        },
        {
          "output_type": "stream",
          "name": "stderr",
          "text": [
            " 21%|██        | 55/259 [00:16<00:41,  4.93it/s]"
          ]
        },
        {
          "output_type": "stream",
          "name": "stdout",
          "text": [
            "Loss: 0.4454\n"
          ]
        },
        {
          "output_type": "stream",
          "name": "stderr",
          "text": [
            " 60%|█████▉    | 155/259 [00:39<00:20,  4.96it/s]"
          ]
        },
        {
          "output_type": "stream",
          "name": "stdout",
          "text": [
            "Loss: 0.4640\n"
          ]
        },
        {
          "output_type": "stream",
          "name": "stderr",
          "text": [
            " 99%|█████████▉| 256/259 [01:02<00:00,  5.41it/s]"
          ]
        },
        {
          "output_type": "stream",
          "name": "stdout",
          "text": [
            "Loss: 0.4691\n"
          ]
        },
        {
          "output_type": "stream",
          "name": "stderr",
          "text": [
            "100%|██████████| 259/259 [01:03<00:00,  4.07it/s]\n"
          ]
        },
        {
          "output_type": "stream",
          "name": "stdout",
          "text": [
            "Finished epoch 95 | Loss: 0.4686\n"
          ]
        },
        {
          "output_type": "stream",
          "name": "stderr",
          "text": [
            " 37%|███▋      | 97/259 [00:26<00:32,  4.94it/s]"
          ]
        },
        {
          "output_type": "stream",
          "name": "stdout",
          "text": [
            "Loss: 0.4780\n"
          ]
        },
        {
          "output_type": "stream",
          "name": "stderr",
          "text": [
            " 76%|███████▌  | 196/259 [00:49<00:12,  4.97it/s]"
          ]
        },
        {
          "output_type": "stream",
          "name": "stdout",
          "text": [
            "Loss: 0.4754\n"
          ]
        },
        {
          "output_type": "stream",
          "name": "stderr",
          "text": [
            "100%|██████████| 259/259 [01:02<00:00,  4.14it/s]\n"
          ]
        },
        {
          "output_type": "stream",
          "name": "stdout",
          "text": [
            "Finished epoch 96 | Loss: 0.4759\n"
          ]
        },
        {
          "output_type": "stream",
          "name": "stderr",
          "text": [
            " 14%|█▍        | 37/259 [00:12<00:44,  4.99it/s]"
          ]
        },
        {
          "output_type": "stream",
          "name": "stdout",
          "text": [
            "Loss: 0.4731\n"
          ]
        },
        {
          "output_type": "stream",
          "name": "stderr",
          "text": [
            " 53%|█████▎    | 137/259 [00:35<00:27,  4.52it/s]"
          ]
        },
        {
          "output_type": "stream",
          "name": "stdout",
          "text": [
            "Loss: 0.4666\n"
          ]
        },
        {
          "output_type": "stream",
          "name": "stderr",
          "text": [
            " 92%|█████████▏| 238/259 [00:58<00:04,  4.79it/s]"
          ]
        },
        {
          "output_type": "stream",
          "name": "stdout",
          "text": [
            "Loss: 0.4650\n"
          ]
        },
        {
          "output_type": "stream",
          "name": "stderr",
          "text": [
            "100%|██████████| 259/259 [01:02<00:00,  4.15it/s]\n"
          ]
        },
        {
          "output_type": "stream",
          "name": "stdout",
          "text": [
            "Finished epoch 97 | Loss: 0.4642\n"
          ]
        },
        {
          "output_type": "stream",
          "name": "stderr",
          "text": [
            " 31%|███       | 79/259 [00:22<00:41,  4.31it/s]"
          ]
        },
        {
          "output_type": "stream",
          "name": "stdout",
          "text": [
            "Loss: 0.4476\n"
          ]
        },
        {
          "output_type": "stream",
          "name": "stderr",
          "text": [
            " 69%|██████▉   | 179/259 [00:45<00:16,  4.75it/s]"
          ]
        },
        {
          "output_type": "stream",
          "name": "stdout",
          "text": [
            "Loss: 0.4600\n"
          ]
        },
        {
          "output_type": "stream",
          "name": "stderr",
          "text": [
            "100%|██████████| 259/259 [01:02<00:00,  4.13it/s]\n"
          ]
        },
        {
          "output_type": "stream",
          "name": "stdout",
          "text": [
            "Finished epoch 98 | Loss: 0.4584\n"
          ]
        },
        {
          "output_type": "stream",
          "name": "stderr",
          "text": [
            "  7%|▋         | 19/259 [00:08<00:52,  4.61it/s]"
          ]
        },
        {
          "output_type": "stream",
          "name": "stdout",
          "text": [
            "Loss: 0.4694\n"
          ]
        },
        {
          "output_type": "stream",
          "name": "stderr",
          "text": [
            " 46%|████▌     | 119/259 [00:31<00:28,  5.00it/s]"
          ]
        },
        {
          "output_type": "stream",
          "name": "stdout",
          "text": [
            "Loss: 0.4516\n"
          ]
        },
        {
          "output_type": "stream",
          "name": "stderr",
          "text": [
            " 85%|████████▍ | 220/259 [00:54<00:09,  3.96it/s]"
          ]
        },
        {
          "output_type": "stream",
          "name": "stdout",
          "text": [
            "Loss: 0.4532\n"
          ]
        },
        {
          "output_type": "stream",
          "name": "stderr",
          "text": [
            "100%|██████████| 259/259 [01:02<00:00,  4.13it/s]\n"
          ]
        },
        {
          "output_type": "stream",
          "name": "stdout",
          "text": [
            "Finished epoch 99 | Loss: 0.4584\n"
          ]
        },
        {
          "output_type": "stream",
          "name": "stderr",
          "text": [
            " 24%|██▎       | 61/259 [00:17<00:40,  4.88it/s]"
          ]
        },
        {
          "output_type": "stream",
          "name": "stdout",
          "text": [
            "Loss: 0.4636\n"
          ]
        },
        {
          "output_type": "stream",
          "name": "stderr",
          "text": [
            " 62%|██████▏   | 160/259 [00:40<00:19,  4.98it/s]"
          ]
        },
        {
          "output_type": "stream",
          "name": "stdout",
          "text": [
            "Loss: 0.4663\n"
          ]
        },
        {
          "output_type": "stream",
          "name": "stderr",
          "text": [
            "100%|██████████| 259/259 [01:02<00:00,  4.16it/s]\n"
          ]
        },
        {
          "output_type": "stream",
          "name": "stdout",
          "text": [
            "Finished epoch 100 | Loss: 0.4638\n"
          ]
        },
        {
          "output_type": "stream",
          "name": "stderr",
          "text": [
            "  0%|          | 1/259 [00:05<21:47,  5.07s/it]"
          ]
        },
        {
          "output_type": "stream",
          "name": "stdout",
          "text": [
            "Loss: 0.4218\n"
          ]
        },
        {
          "output_type": "stream",
          "name": "stderr",
          "text": [
            " 39%|███▉      | 101/259 [00:27<00:37,  4.23it/s]"
          ]
        },
        {
          "output_type": "stream",
          "name": "stdout",
          "text": [
            "Loss: 0.4504\n"
          ]
        },
        {
          "output_type": "stream",
          "name": "stderr",
          "text": [
            " 78%|███████▊  | 201/259 [00:49<00:13,  4.30it/s]"
          ]
        },
        {
          "output_type": "stream",
          "name": "stdout",
          "text": [
            "Loss: 0.4533\n"
          ]
        },
        {
          "output_type": "stream",
          "name": "stderr",
          "text": [
            "100%|██████████| 259/259 [01:02<00:00,  4.15it/s]\n"
          ]
        },
        {
          "output_type": "stream",
          "name": "stdout",
          "text": [
            "Finished epoch 101 | Loss: 0.4570\n"
          ]
        },
        {
          "output_type": "stream",
          "name": "stderr",
          "text": [
            " 16%|█▌        | 42/259 [00:13<01:00,  3.62it/s]"
          ]
        },
        {
          "output_type": "stream",
          "name": "stdout",
          "text": [
            "Loss: 0.4233\n"
          ]
        },
        {
          "output_type": "stream",
          "name": "stderr",
          "text": [
            " 55%|█████▌    | 143/259 [00:36<00:24,  4.67it/s]"
          ]
        },
        {
          "output_type": "stream",
          "name": "stdout",
          "text": [
            "Loss: 0.4549\n"
          ]
        },
        {
          "output_type": "stream",
          "name": "stderr",
          "text": [
            " 94%|█████████▍| 243/259 [00:59<00:03,  5.13it/s]"
          ]
        },
        {
          "output_type": "stream",
          "name": "stdout",
          "text": [
            "Loss: 0.4547\n"
          ]
        },
        {
          "output_type": "stream",
          "name": "stderr",
          "text": [
            "100%|██████████| 259/259 [01:02<00:00,  4.17it/s]\n"
          ]
        },
        {
          "output_type": "stream",
          "name": "stdout",
          "text": [
            "Finished epoch 102 | Loss: 0.4536\n"
          ]
        },
        {
          "output_type": "stream",
          "name": "stderr",
          "text": [
            " 32%|███▏      | 84/259 [00:23<00:37,  4.70it/s]"
          ]
        },
        {
          "output_type": "stream",
          "name": "stdout",
          "text": [
            "Loss: 0.4260\n"
          ]
        },
        {
          "output_type": "stream",
          "name": "stderr",
          "text": [
            " 71%|███████   | 184/259 [00:46<00:14,  5.03it/s]"
          ]
        },
        {
          "output_type": "stream",
          "name": "stdout",
          "text": [
            "Loss: 0.4404\n"
          ]
        },
        {
          "output_type": "stream",
          "name": "stderr",
          "text": [
            "100%|██████████| 259/259 [01:02<00:00,  4.14it/s]\n"
          ]
        },
        {
          "output_type": "stream",
          "name": "stdout",
          "text": [
            "Finished epoch 103 | Loss: 0.4488\n"
          ]
        },
        {
          "output_type": "stream",
          "name": "stderr",
          "text": [
            "  9%|▉         | 24/259 [00:09<00:48,  4.89it/s]"
          ]
        },
        {
          "output_type": "stream",
          "name": "stdout",
          "text": [
            "Loss: 0.4678\n"
          ]
        },
        {
          "output_type": "stream",
          "name": "stderr",
          "text": [
            " 48%|████▊     | 125/259 [00:32<00:32,  4.17it/s]"
          ]
        },
        {
          "output_type": "stream",
          "name": "stdout",
          "text": [
            "Loss: 0.4528\n"
          ]
        },
        {
          "output_type": "stream",
          "name": "stderr",
          "text": [
            " 86%|████████▋ | 224/259 [00:55<00:07,  4.80it/s]"
          ]
        },
        {
          "output_type": "stream",
          "name": "stdout",
          "text": [
            "Loss: 0.4571\n"
          ]
        },
        {
          "output_type": "stream",
          "name": "stderr",
          "text": [
            "100%|██████████| 259/259 [01:02<00:00,  4.14it/s]\n"
          ]
        },
        {
          "output_type": "stream",
          "name": "stdout",
          "text": [
            "Finished epoch 104 | Loss: 0.4591\n"
          ]
        },
        {
          "output_type": "stream",
          "name": "stderr",
          "text": [
            " 25%|██▌       | 66/259 [00:18<00:41,  4.61it/s]"
          ]
        },
        {
          "output_type": "stream",
          "name": "stdout",
          "text": [
            "Loss: 0.4279\n"
          ]
        },
        {
          "output_type": "stream",
          "name": "stderr",
          "text": [
            " 64%|██████▍   | 166/259 [00:42<00:18,  5.00it/s]"
          ]
        },
        {
          "output_type": "stream",
          "name": "stdout",
          "text": [
            "Loss: 0.4346\n"
          ]
        },
        {
          "output_type": "stream",
          "name": "stderr",
          "text": [
            "100%|██████████| 259/259 [01:02<00:00,  4.15it/s]\n"
          ]
        },
        {
          "output_type": "stream",
          "name": "stdout",
          "text": [
            "Finished epoch 105 | Loss: 0.4422\n"
          ]
        },
        {
          "output_type": "stream",
          "name": "stderr",
          "text": [
            "  2%|▏         | 6/259 [00:05<01:57,  2.15it/s]"
          ]
        },
        {
          "output_type": "stream",
          "name": "stdout",
          "text": [
            "Loss: 0.4088\n"
          ]
        },
        {
          "output_type": "stream",
          "name": "stderr",
          "text": [
            " 41%|████      | 106/259 [00:28<00:34,  4.41it/s]"
          ]
        },
        {
          "output_type": "stream",
          "name": "stdout",
          "text": [
            "Loss: 0.4567\n"
          ]
        },
        {
          "output_type": "stream",
          "name": "stderr",
          "text": [
            " 80%|███████▉  | 207/259 [00:51<00:12,  4.30it/s]"
          ]
        },
        {
          "output_type": "stream",
          "name": "stdout",
          "text": [
            "Loss: 0.4517\n"
          ]
        },
        {
          "output_type": "stream",
          "name": "stderr",
          "text": [
            "100%|██████████| 259/259 [01:02<00:00,  4.17it/s]\n"
          ]
        },
        {
          "output_type": "stream",
          "name": "stdout",
          "text": [
            "Finished epoch 106 | Loss: 0.4520\n"
          ]
        },
        {
          "output_type": "stream",
          "name": "stderr",
          "text": [
            " 19%|█▊        | 48/259 [00:15<00:42,  5.00it/s]"
          ]
        },
        {
          "output_type": "stream",
          "name": "stdout",
          "text": [
            "Loss: 0.4436\n"
          ]
        },
        {
          "output_type": "stream",
          "name": "stderr",
          "text": [
            " 57%|█████▋    | 148/259 [00:38<00:31,  3.48it/s]"
          ]
        },
        {
          "output_type": "stream",
          "name": "stdout",
          "text": [
            "Loss: 0.4406\n"
          ]
        },
        {
          "output_type": "stream",
          "name": "stderr",
          "text": [
            " 96%|█████████▌| 248/259 [01:00<00:02,  5.26it/s]"
          ]
        },
        {
          "output_type": "stream",
          "name": "stdout",
          "text": [
            "Loss: 0.4438\n"
          ]
        },
        {
          "output_type": "stream",
          "name": "stderr",
          "text": [
            "100%|██████████| 259/259 [01:02<00:00,  4.14it/s]\n"
          ]
        },
        {
          "output_type": "stream",
          "name": "stdout",
          "text": [
            "Finished epoch 107 | Loss: 0.4453\n"
          ]
        },
        {
          "output_type": "stream",
          "name": "stderr",
          "text": [
            " 34%|███▍      | 89/259 [00:24<00:42,  4.04it/s]"
          ]
        },
        {
          "output_type": "stream",
          "name": "stdout",
          "text": [
            "Loss: 0.4220\n"
          ]
        },
        {
          "output_type": "stream",
          "name": "stderr",
          "text": [
            " 73%|███████▎  | 189/259 [00:46<00:14,  4.81it/s]"
          ]
        },
        {
          "output_type": "stream",
          "name": "stdout",
          "text": [
            "Loss: 0.4370\n"
          ]
        },
        {
          "output_type": "stream",
          "name": "stderr",
          "text": [
            "100%|██████████| 259/259 [01:02<00:00,  4.17it/s]\n"
          ]
        },
        {
          "output_type": "stream",
          "name": "stdout",
          "text": [
            "Finished epoch 108 | Loss: 0.4389\n"
          ]
        },
        {
          "output_type": "stream",
          "name": "stderr",
          "text": [
            " 11%|█         | 29/259 [00:10<00:59,  3.90it/s]"
          ]
        },
        {
          "output_type": "stream",
          "name": "stdout",
          "text": [
            "Loss: 0.4310\n"
          ]
        },
        {
          "output_type": "stream",
          "name": "stderr",
          "text": [
            " 50%|████▉     | 129/259 [00:33<00:27,  4.73it/s]"
          ]
        },
        {
          "output_type": "stream",
          "name": "stdout",
          "text": [
            "Loss: 0.4318\n"
          ]
        },
        {
          "output_type": "stream",
          "name": "stderr",
          "text": [
            " 88%|████████▊ | 229/259 [00:56<00:06,  5.00it/s]"
          ]
        },
        {
          "output_type": "stream",
          "name": "stdout",
          "text": [
            "Loss: 0.4313\n"
          ]
        },
        {
          "output_type": "stream",
          "name": "stderr",
          "text": [
            "100%|██████████| 259/259 [01:02<00:00,  4.13it/s]\n"
          ]
        },
        {
          "output_type": "stream",
          "name": "stdout",
          "text": [
            "Finished epoch 109 | Loss: 0.4350\n"
          ]
        },
        {
          "output_type": "stream",
          "name": "stderr",
          "text": [
            " 27%|██▋       | 71/259 [00:20<00:39,  4.71it/s]"
          ]
        },
        {
          "output_type": "stream",
          "name": "stdout",
          "text": [
            "Loss: 0.4281\n"
          ]
        },
        {
          "output_type": "stream",
          "name": "stderr",
          "text": [
            " 66%|██████▌   | 171/259 [00:43<00:17,  4.95it/s]"
          ]
        },
        {
          "output_type": "stream",
          "name": "stdout",
          "text": [
            "Loss: 0.4496\n"
          ]
        },
        {
          "output_type": "stream",
          "name": "stderr",
          "text": [
            "100%|██████████| 259/259 [01:02<00:00,  4.16it/s]\n"
          ]
        },
        {
          "output_type": "stream",
          "name": "stdout",
          "text": [
            "Finished epoch 110 | Loss: 0.4483\n"
          ]
        },
        {
          "output_type": "stream",
          "name": "stderr",
          "text": [
            "  5%|▍         | 12/259 [00:07<00:56,  4.37it/s]"
          ]
        },
        {
          "output_type": "stream",
          "name": "stdout",
          "text": [
            "Loss: 0.4987\n"
          ]
        },
        {
          "output_type": "stream",
          "name": "stderr",
          "text": [
            " 43%|████▎     | 112/259 [00:30<00:32,  4.48it/s]"
          ]
        },
        {
          "output_type": "stream",
          "name": "stdout",
          "text": [
            "Loss: 0.4378\n"
          ]
        },
        {
          "output_type": "stream",
          "name": "stderr",
          "text": [
            " 82%|████████▏ | 212/259 [00:52<00:09,  4.77it/s]"
          ]
        },
        {
          "output_type": "stream",
          "name": "stdout",
          "text": [
            "Loss: 0.4411\n"
          ]
        },
        {
          "output_type": "stream",
          "name": "stderr",
          "text": [
            "100%|██████████| 259/259 [01:02<00:00,  4.14it/s]\n"
          ]
        },
        {
          "output_type": "stream",
          "name": "stdout",
          "text": [
            "Finished epoch 111 | Loss: 0.4407\n"
          ]
        },
        {
          "output_type": "stream",
          "name": "stderr",
          "text": [
            " 20%|██        | 52/259 [00:15<00:41,  5.02it/s]"
          ]
        },
        {
          "output_type": "stream",
          "name": "stdout",
          "text": [
            "Loss: 0.4428\n"
          ]
        },
        {
          "output_type": "stream",
          "name": "stderr",
          "text": [
            " 59%|█████▊    | 152/259 [00:38<00:25,  4.19it/s]"
          ]
        },
        {
          "output_type": "stream",
          "name": "stdout",
          "text": [
            "Loss: 0.4439\n"
          ]
        },
        {
          "output_type": "stream",
          "name": "stderr",
          "text": [
            " 98%|█████████▊| 253/259 [01:01<00:01,  5.29it/s]"
          ]
        },
        {
          "output_type": "stream",
          "name": "stdout",
          "text": [
            "Loss: 0.4446\n"
          ]
        },
        {
          "output_type": "stream",
          "name": "stderr",
          "text": [
            "100%|██████████| 259/259 [01:02<00:00,  4.14it/s]\n"
          ]
        },
        {
          "output_type": "stream",
          "name": "stdout",
          "text": [
            "Finished epoch 112 | Loss: 0.4472\n"
          ]
        },
        {
          "output_type": "stream",
          "name": "stderr",
          "text": [
            " 36%|███▋      | 94/259 [00:25<00:37,  4.36it/s]"
          ]
        },
        {
          "output_type": "stream",
          "name": "stdout",
          "text": [
            "Loss: 0.4386\n"
          ]
        },
        {
          "output_type": "stream",
          "name": "stderr",
          "text": [
            " 75%|███████▍  | 194/259 [00:48<00:13,  4.95it/s]"
          ]
        },
        {
          "output_type": "stream",
          "name": "stdout",
          "text": [
            "Loss: 0.4397\n"
          ]
        },
        {
          "output_type": "stream",
          "name": "stderr",
          "text": [
            "100%|██████████| 259/259 [01:02<00:00,  4.15it/s]\n"
          ]
        },
        {
          "output_type": "stream",
          "name": "stdout",
          "text": [
            "Finished epoch 113 | Loss: 0.4450\n"
          ]
        },
        {
          "output_type": "stream",
          "name": "stderr",
          "text": [
            " 14%|█▎        | 35/259 [00:12<00:46,  4.84it/s]"
          ]
        },
        {
          "output_type": "stream",
          "name": "stdout",
          "text": [
            "Loss: 0.4443\n"
          ]
        },
        {
          "output_type": "stream",
          "name": "stderr",
          "text": [
            " 52%|█████▏    | 135/259 [00:35<00:24,  5.02it/s]"
          ]
        },
        {
          "output_type": "stream",
          "name": "stdout",
          "text": [
            "Loss: 0.4474\n"
          ]
        },
        {
          "output_type": "stream",
          "name": "stderr",
          "text": [
            " 90%|█████████ | 234/259 [00:58<00:05,  4.48it/s]"
          ]
        },
        {
          "output_type": "stream",
          "name": "stdout",
          "text": [
            "Loss: 0.4390\n"
          ]
        },
        {
          "output_type": "stream",
          "name": "stderr",
          "text": [
            "100%|██████████| 259/259 [01:03<00:00,  4.10it/s]\n"
          ]
        },
        {
          "output_type": "stream",
          "name": "stdout",
          "text": [
            "Finished epoch 114 | Loss: 0.4425\n"
          ]
        },
        {
          "output_type": "stream",
          "name": "stderr",
          "text": [
            " 29%|██▉       | 76/259 [00:21<00:53,  3.45it/s]"
          ]
        },
        {
          "output_type": "stream",
          "name": "stdout",
          "text": [
            "Loss: 0.4371\n"
          ]
        },
        {
          "output_type": "stream",
          "name": "stderr",
          "text": [
            " 68%|██████▊   | 176/259 [00:44<00:18,  4.42it/s]"
          ]
        },
        {
          "output_type": "stream",
          "name": "stdout",
          "text": [
            "Loss: 0.4357\n"
          ]
        },
        {
          "output_type": "stream",
          "name": "stderr",
          "text": [
            "100%|██████████| 259/259 [01:02<00:00,  4.13it/s]\n"
          ]
        },
        {
          "output_type": "stream",
          "name": "stdout",
          "text": [
            "Finished epoch 115 | Loss: 0.4400\n"
          ]
        },
        {
          "output_type": "stream",
          "name": "stderr",
          "text": [
            "  7%|▋         | 17/259 [00:08<00:56,  4.27it/s]"
          ]
        },
        {
          "output_type": "stream",
          "name": "stdout",
          "text": [
            "Loss: 0.4948\n"
          ]
        },
        {
          "output_type": "stream",
          "name": "stderr",
          "text": [
            " 45%|████▍     | 116/259 [00:30<00:34,  4.18it/s]"
          ]
        },
        {
          "output_type": "stream",
          "name": "stdout",
          "text": [
            "Loss: 0.4415\n"
          ]
        },
        {
          "output_type": "stream",
          "name": "stderr",
          "text": [
            " 83%|████████▎ | 216/259 [00:53<00:09,  4.42it/s]"
          ]
        },
        {
          "output_type": "stream",
          "name": "stdout",
          "text": [
            "Loss: 0.4350\n"
          ]
        },
        {
          "output_type": "stream",
          "name": "stderr",
          "text": [
            "100%|██████████| 259/259 [01:02<00:00,  4.15it/s]\n"
          ]
        },
        {
          "output_type": "stream",
          "name": "stdout",
          "text": [
            "Finished epoch 116 | Loss: 0.4401\n"
          ]
        },
        {
          "output_type": "stream",
          "name": "stderr",
          "text": [
            " 22%|██▏       | 58/259 [00:16<00:40,  5.00it/s]"
          ]
        },
        {
          "output_type": "stream",
          "name": "stdout",
          "text": [
            "Loss: 0.4358\n"
          ]
        },
        {
          "output_type": "stream",
          "name": "stderr",
          "text": [
            " 61%|██████    | 157/259 [00:40<00:22,  4.58it/s]"
          ]
        },
        {
          "output_type": "stream",
          "name": "stdout",
          "text": [
            "Loss: 0.4347\n"
          ]
        },
        {
          "output_type": "stream",
          "name": "stderr",
          "text": [
            "100%|█████████▉| 258/259 [01:02<00:00,  5.39it/s]"
          ]
        },
        {
          "output_type": "stream",
          "name": "stdout",
          "text": [
            "Loss: 0.4312\n"
          ]
        },
        {
          "output_type": "stream",
          "name": "stderr",
          "text": [
            "100%|██████████| 259/259 [01:02<00:00,  4.14it/s]\n"
          ]
        },
        {
          "output_type": "stream",
          "name": "stdout",
          "text": [
            "Finished epoch 117 | Loss: 0.4312\n"
          ]
        },
        {
          "output_type": "stream",
          "name": "stderr",
          "text": [
            " 38%|███▊      | 98/259 [00:26<00:32,  4.98it/s]"
          ]
        },
        {
          "output_type": "stream",
          "name": "stdout",
          "text": [
            "Loss: 0.4416\n"
          ]
        },
        {
          "output_type": "stream",
          "name": "stderr",
          "text": [
            " 77%|███████▋  | 199/259 [00:49<00:13,  4.30it/s]"
          ]
        },
        {
          "output_type": "stream",
          "name": "stdout",
          "text": [
            "Loss: 0.4379\n"
          ]
        },
        {
          "output_type": "stream",
          "name": "stderr",
          "text": [
            "100%|██████████| 259/259 [01:02<00:00,  4.12it/s]\n"
          ]
        },
        {
          "output_type": "stream",
          "name": "stdout",
          "text": [
            "Finished epoch 118 | Loss: 0.4337\n"
          ]
        },
        {
          "output_type": "stream",
          "name": "stderr",
          "text": [
            " 15%|█▌        | 40/259 [00:12<00:46,  4.73it/s]"
          ]
        },
        {
          "output_type": "stream",
          "name": "stdout",
          "text": [
            "Loss: 0.4151\n"
          ]
        },
        {
          "output_type": "stream",
          "name": "stderr",
          "text": [
            " 54%|█████▎    | 139/259 [00:35<00:26,  4.58it/s]"
          ]
        },
        {
          "output_type": "stream",
          "name": "stdout",
          "text": [
            "Loss: 0.4247\n"
          ]
        },
        {
          "output_type": "stream",
          "name": "stderr",
          "text": [
            " 93%|█████████▎| 240/259 [00:58<00:03,  5.14it/s]"
          ]
        },
        {
          "output_type": "stream",
          "name": "stdout",
          "text": [
            "Loss: 0.4358\n"
          ]
        },
        {
          "output_type": "stream",
          "name": "stderr",
          "text": [
            "100%|██████████| 259/259 [01:02<00:00,  4.16it/s]\n"
          ]
        },
        {
          "output_type": "stream",
          "name": "stdout",
          "text": [
            "Finished epoch 119 | Loss: 0.4365\n"
          ]
        },
        {
          "output_type": "stream",
          "name": "stderr",
          "text": [
            " 31%|███       | 80/259 [00:22<00:42,  4.26it/s]"
          ]
        },
        {
          "output_type": "stream",
          "name": "stdout",
          "text": [
            "Loss: 0.4330\n"
          ]
        },
        {
          "output_type": "stream",
          "name": "stderr",
          "text": [
            " 69%|██████▉   | 180/259 [00:45<00:18,  4.24it/s]"
          ]
        },
        {
          "output_type": "stream",
          "name": "stdout",
          "text": [
            "Loss: 0.4333\n"
          ]
        },
        {
          "output_type": "stream",
          "name": "stderr",
          "text": [
            "100%|██████████| 259/259 [01:02<00:00,  4.16it/s]\n"
          ]
        },
        {
          "output_type": "stream",
          "name": "stdout",
          "text": [
            "Finished epoch 120 | Loss: 0.4334\n"
          ]
        },
        {
          "output_type": "stream",
          "name": "stderr",
          "text": [
            "  8%|▊         | 22/259 [00:09<00:48,  4.88it/s]"
          ]
        },
        {
          "output_type": "stream",
          "name": "stdout",
          "text": [
            "Loss: 0.4415\n"
          ]
        },
        {
          "output_type": "stream",
          "name": "stderr",
          "text": [
            " 47%|████▋     | 122/259 [00:32<00:28,  4.80it/s]"
          ]
        },
        {
          "output_type": "stream",
          "name": "stdout",
          "text": [
            "Loss: 0.4243\n"
          ]
        },
        {
          "output_type": "stream",
          "name": "stderr",
          "text": [
            " 85%|████████▌ | 221/259 [00:54<00:07,  5.07it/s]"
          ]
        },
        {
          "output_type": "stream",
          "name": "stdout",
          "text": [
            "Loss: 0.4381\n"
          ]
        },
        {
          "output_type": "stream",
          "name": "stderr",
          "text": [
            "100%|██████████| 259/259 [01:03<00:00,  4.11it/s]\n"
          ]
        },
        {
          "output_type": "stream",
          "name": "stdout",
          "text": [
            "Finished epoch 121 | Loss: 0.4400\n"
          ]
        },
        {
          "output_type": "stream",
          "name": "stderr",
          "text": [
            " 24%|██▍       | 63/259 [00:18<00:38,  5.09it/s]"
          ]
        },
        {
          "output_type": "stream",
          "name": "stdout",
          "text": [
            "Loss: 0.4244\n"
          ]
        },
        {
          "output_type": "stream",
          "name": "stderr",
          "text": [
            " 63%|██████▎   | 162/259 [00:41<00:23,  4.07it/s]"
          ]
        },
        {
          "output_type": "stream",
          "name": "stdout",
          "text": [
            "Loss: 0.4346\n"
          ]
        },
        {
          "output_type": "stream",
          "name": "stderr",
          "text": [
            "100%|██████████| 259/259 [01:03<00:00,  4.11it/s]\n"
          ]
        },
        {
          "output_type": "stream",
          "name": "stdout",
          "text": [
            "Finished epoch 122 | Loss: 0.4345\n"
          ]
        },
        {
          "output_type": "stream",
          "name": "stderr",
          "text": [
            "  1%|          | 3/259 [00:04<05:06,  1.20s/it]"
          ]
        },
        {
          "output_type": "stream",
          "name": "stdout",
          "text": [
            "Loss: 0.6214\n"
          ]
        },
        {
          "output_type": "stream",
          "name": "stderr",
          "text": [
            " 40%|████      | 104/259 [00:27<00:34,  4.51it/s]"
          ]
        },
        {
          "output_type": "stream",
          "name": "stdout",
          "text": [
            "Loss: 0.4350\n"
          ]
        },
        {
          "output_type": "stream",
          "name": "stderr",
          "text": [
            " 78%|███████▊  | 203/259 [00:50<00:11,  4.87it/s]"
          ]
        },
        {
          "output_type": "stream",
          "name": "stdout",
          "text": [
            "Loss: 0.4219\n"
          ]
        },
        {
          "output_type": "stream",
          "name": "stderr",
          "text": [
            "100%|██████████| 259/259 [01:02<00:00,  4.16it/s]\n"
          ]
        },
        {
          "output_type": "stream",
          "name": "stdout",
          "text": [
            "Finished epoch 123 | Loss: 0.4316\n"
          ]
        },
        {
          "output_type": "stream",
          "name": "stderr",
          "text": [
            " 17%|█▋        | 45/259 [00:14<00:49,  4.35it/s]"
          ]
        },
        {
          "output_type": "stream",
          "name": "stdout",
          "text": [
            "Loss: 0.4402\n"
          ]
        },
        {
          "output_type": "stream",
          "name": "stderr",
          "text": [
            " 56%|█████▌    | 144/259 [00:36<00:23,  4.81it/s]"
          ]
        },
        {
          "output_type": "stream",
          "name": "stdout",
          "text": [
            "Loss: 0.4350\n"
          ]
        },
        {
          "output_type": "stream",
          "name": "stderr",
          "text": [
            " 95%|█████████▍| 245/259 [00:59<00:03,  4.23it/s]"
          ]
        },
        {
          "output_type": "stream",
          "name": "stdout",
          "text": [
            "Loss: 0.4349\n"
          ]
        },
        {
          "output_type": "stream",
          "name": "stderr",
          "text": [
            "100%|██████████| 259/259 [01:02<00:00,  4.16it/s]\n"
          ]
        },
        {
          "output_type": "stream",
          "name": "stdout",
          "text": [
            "Finished epoch 124 | Loss: 0.4361\n"
          ]
        },
        {
          "output_type": "stream",
          "name": "stderr",
          "text": [
            " 33%|███▎      | 86/259 [00:23<00:43,  4.01it/s]"
          ]
        },
        {
          "output_type": "stream",
          "name": "stdout",
          "text": [
            "Loss: 0.4354\n"
          ]
        },
        {
          "output_type": "stream",
          "name": "stderr",
          "text": [
            " 71%|███████▏  | 185/259 [00:46<00:16,  4.57it/s]"
          ]
        },
        {
          "output_type": "stream",
          "name": "stdout",
          "text": [
            "Loss: 0.4327\n"
          ]
        },
        {
          "output_type": "stream",
          "name": "stderr",
          "text": [
            "100%|██████████| 259/259 [01:02<00:00,  4.17it/s]\n"
          ]
        },
        {
          "output_type": "stream",
          "name": "stdout",
          "text": [
            "Finished epoch 125 | Loss: 0.4303\n"
          ]
        },
        {
          "output_type": "stream",
          "name": "stderr",
          "text": [
            " 10%|█         | 27/259 [00:10<00:46,  4.94it/s]"
          ]
        },
        {
          "output_type": "stream",
          "name": "stdout",
          "text": [
            "Loss: 0.4490\n"
          ]
        },
        {
          "output_type": "stream",
          "name": "stderr",
          "text": [
            " 49%|████▊     | 126/259 [00:34<00:39,  3.33it/s]"
          ]
        },
        {
          "output_type": "stream",
          "name": "stdout",
          "text": [
            "Loss: 0.4259\n"
          ]
        },
        {
          "output_type": "stream",
          "name": "stderr",
          "text": [
            " 88%|████████▊ | 227/259 [00:57<00:06,  4.88it/s]"
          ]
        },
        {
          "output_type": "stream",
          "name": "stdout",
          "text": [
            "Loss: 0.4220\n"
          ]
        },
        {
          "output_type": "stream",
          "name": "stderr",
          "text": [
            "100%|██████████| 259/259 [01:04<00:00,  4.02it/s]\n"
          ]
        },
        {
          "output_type": "stream",
          "name": "stdout",
          "text": [
            "Finished epoch 126 | Loss: 0.4319\n"
          ]
        },
        {
          "output_type": "stream",
          "name": "stderr",
          "text": [
            " 26%|██▋       | 68/259 [00:19<00:42,  4.52it/s]"
          ]
        },
        {
          "output_type": "stream",
          "name": "stdout",
          "text": [
            "Loss: 0.4410\n"
          ]
        },
        {
          "output_type": "stream",
          "name": "stderr",
          "text": [
            " 65%|██████▍   | 168/259 [00:42<00:18,  4.94it/s]"
          ]
        },
        {
          "output_type": "stream",
          "name": "stdout",
          "text": [
            "Loss: 0.4441\n"
          ]
        },
        {
          "output_type": "stream",
          "name": "stderr",
          "text": [
            "100%|██████████| 259/259 [01:02<00:00,  4.13it/s]\n"
          ]
        },
        {
          "output_type": "stream",
          "name": "stdout",
          "text": [
            "Finished epoch 127 | Loss: 0.4380\n"
          ]
        },
        {
          "output_type": "stream",
          "name": "stderr",
          "text": [
            "  3%|▎         | 8/259 [00:06<01:19,  3.14it/s]"
          ]
        },
        {
          "output_type": "stream",
          "name": "stdout",
          "text": [
            "Loss: 0.4212\n"
          ]
        },
        {
          "output_type": "stream",
          "name": "stderr",
          "text": [
            " 42%|████▏     | 109/259 [00:28<00:35,  4.24it/s]"
          ]
        },
        {
          "output_type": "stream",
          "name": "stdout",
          "text": [
            "Loss: 0.4222\n"
          ]
        },
        {
          "output_type": "stream",
          "name": "stderr",
          "text": [
            " 80%|████████  | 208/259 [00:51<00:10,  5.02it/s]"
          ]
        },
        {
          "output_type": "stream",
          "name": "stdout",
          "text": [
            "Loss: 0.4230\n"
          ]
        },
        {
          "output_type": "stream",
          "name": "stderr",
          "text": [
            "100%|██████████| 259/259 [01:02<00:00,  4.17it/s]\n"
          ]
        },
        {
          "output_type": "stream",
          "name": "stdout",
          "text": [
            "Finished epoch 128 | Loss: 0.4219\n"
          ]
        },
        {
          "output_type": "stream",
          "name": "stderr",
          "text": [
            " 19%|█▉        | 49/259 [00:14<00:41,  5.05it/s]"
          ]
        },
        {
          "output_type": "stream",
          "name": "stdout",
          "text": [
            "Loss: 0.4301\n"
          ]
        },
        {
          "output_type": "stream",
          "name": "stderr",
          "text": [
            " 58%|█████▊    | 150/259 [00:38<00:27,  3.92it/s]"
          ]
        },
        {
          "output_type": "stream",
          "name": "stdout",
          "text": [
            "Loss: 0.4108\n"
          ]
        },
        {
          "output_type": "stream",
          "name": "stderr",
          "text": [
            " 97%|█████████▋| 250/259 [01:00<00:01,  5.27it/s]"
          ]
        },
        {
          "output_type": "stream",
          "name": "stdout",
          "text": [
            "Loss: 0.4120\n"
          ]
        },
        {
          "output_type": "stream",
          "name": "stderr",
          "text": [
            "100%|██████████| 259/259 [01:01<00:00,  4.18it/s]\n"
          ]
        },
        {
          "output_type": "stream",
          "name": "stdout",
          "text": [
            "Finished epoch 129 | Loss: 0.4142\n"
          ]
        },
        {
          "output_type": "stream",
          "name": "stderr",
          "text": [
            " 35%|███▌      | 91/259 [00:24<00:37,  4.42it/s]"
          ]
        },
        {
          "output_type": "stream",
          "name": "stdout",
          "text": [
            "Loss: 0.4147\n"
          ]
        },
        {
          "output_type": "stream",
          "name": "stderr",
          "text": [
            " 73%|███████▎  | 190/259 [00:47<00:16,  4.06it/s]"
          ]
        },
        {
          "output_type": "stream",
          "name": "stdout",
          "text": [
            "Loss: 0.4193\n"
          ]
        },
        {
          "output_type": "stream",
          "name": "stderr",
          "text": [
            "100%|██████████| 259/259 [01:02<00:00,  4.15it/s]\n"
          ]
        },
        {
          "output_type": "stream",
          "name": "stdout",
          "text": [
            "Finished epoch 130 | Loss: 0.4257\n"
          ]
        },
        {
          "output_type": "stream",
          "name": "stderr",
          "text": [
            " 12%|█▏        | 32/259 [00:11<00:45,  4.98it/s]"
          ]
        },
        {
          "output_type": "stream",
          "name": "stdout",
          "text": [
            "Loss: 0.4488\n"
          ]
        },
        {
          "output_type": "stream",
          "name": "stderr",
          "text": [
            " 51%|█████     | 131/259 [00:34<00:30,  4.22it/s]"
          ]
        },
        {
          "output_type": "stream",
          "name": "stdout",
          "text": [
            "Loss: 0.4373\n"
          ]
        },
        {
          "output_type": "stream",
          "name": "stderr",
          "text": [
            " 89%|████████▉ | 231/259 [00:57<00:06,  4.55it/s]"
          ]
        },
        {
          "output_type": "stream",
          "name": "stdout",
          "text": [
            "Loss: 0.4212\n"
          ]
        },
        {
          "output_type": "stream",
          "name": "stderr",
          "text": [
            "100%|██████████| 259/259 [01:02<00:00,  4.13it/s]\n"
          ]
        },
        {
          "output_type": "stream",
          "name": "stdout",
          "text": [
            "Finished epoch 131 | Loss: 0.4253\n"
          ]
        },
        {
          "output_type": "stream",
          "name": "stderr",
          "text": [
            " 28%|██▊       | 72/259 [00:20<00:38,  4.83it/s]"
          ]
        },
        {
          "output_type": "stream",
          "name": "stdout",
          "text": [
            "Loss: 0.4072\n"
          ]
        },
        {
          "output_type": "stream",
          "name": "stderr",
          "text": [
            " 66%|██████▋   | 172/259 [00:44<00:25,  3.41it/s]"
          ]
        },
        {
          "output_type": "stream",
          "name": "stdout",
          "text": [
            "Loss: 0.4143\n"
          ]
        },
        {
          "output_type": "stream",
          "name": "stderr",
          "text": [
            "100%|██████████| 259/259 [01:03<00:00,  4.10it/s]\n"
          ]
        },
        {
          "output_type": "stream",
          "name": "stdout",
          "text": [
            "Finished epoch 132 | Loss: 0.4149\n"
          ]
        },
        {
          "output_type": "stream",
          "name": "stderr",
          "text": [
            "  5%|▌         | 14/259 [00:08<01:13,  3.34it/s]"
          ]
        },
        {
          "output_type": "stream",
          "name": "stdout",
          "text": [
            "Loss: 0.4793\n"
          ]
        },
        {
          "output_type": "stream",
          "name": "stderr",
          "text": [
            " 44%|████▎     | 113/259 [00:30<00:33,  4.42it/s]"
          ]
        },
        {
          "output_type": "stream",
          "name": "stdout",
          "text": [
            "Loss: 0.4200\n"
          ]
        },
        {
          "output_type": "stream",
          "name": "stderr",
          "text": [
            " 82%|████████▏ | 213/259 [00:52<00:10,  4.43it/s]"
          ]
        },
        {
          "output_type": "stream",
          "name": "stdout",
          "text": [
            "Loss: 0.4196\n"
          ]
        },
        {
          "output_type": "stream",
          "name": "stderr",
          "text": [
            "100%|██████████| 259/259 [01:02<00:00,  4.14it/s]\n"
          ]
        },
        {
          "output_type": "stream",
          "name": "stdout",
          "text": [
            "Finished epoch 133 | Loss: 0.4250\n"
          ]
        },
        {
          "output_type": "stream",
          "name": "stderr",
          "text": [
            " 21%|██        | 55/259 [00:16<00:46,  4.43it/s]"
          ]
        },
        {
          "output_type": "stream",
          "name": "stdout",
          "text": [
            "Loss: 0.4039\n"
          ]
        },
        {
          "output_type": "stream",
          "name": "stderr",
          "text": [
            " 59%|█████▉    | 154/259 [00:39<00:22,  4.77it/s]"
          ]
        },
        {
          "output_type": "stream",
          "name": "stdout",
          "text": [
            "Loss: 0.4130\n"
          ]
        },
        {
          "output_type": "stream",
          "name": "stderr",
          "text": [
            " 98%|█████████▊| 255/259 [01:01<00:00,  5.35it/s]"
          ]
        },
        {
          "output_type": "stream",
          "name": "stdout",
          "text": [
            "Loss: 0.4149\n"
          ]
        },
        {
          "output_type": "stream",
          "name": "stderr",
          "text": [
            "100%|██████████| 259/259 [01:02<00:00,  4.15it/s]\n"
          ]
        },
        {
          "output_type": "stream",
          "name": "stdout",
          "text": [
            "Finished epoch 134 | Loss: 0.4160\n"
          ]
        },
        {
          "output_type": "stream",
          "name": "stderr",
          "text": [
            " 37%|███▋      | 95/259 [00:25<00:37,  4.32it/s]"
          ]
        },
        {
          "output_type": "stream",
          "name": "stdout",
          "text": [
            "Loss: 0.4057\n"
          ]
        },
        {
          "output_type": "stream",
          "name": "stderr",
          "text": [
            " 75%|███████▌  | 195/259 [00:48<00:14,  4.33it/s]"
          ]
        },
        {
          "output_type": "stream",
          "name": "stdout",
          "text": [
            "Loss: 0.4176\n"
          ]
        },
        {
          "output_type": "stream",
          "name": "stderr",
          "text": [
            "100%|██████████| 259/259 [01:02<00:00,  4.16it/s]\n"
          ]
        },
        {
          "output_type": "stream",
          "name": "stdout",
          "text": [
            "Finished epoch 135 | Loss: 0.4206\n",
            "Done Training...\n"
          ]
        }
      ]
    },
    {
      "cell_type": "code",
      "source": [
        "COLORS = [\n",
        "    [0, 0, 0],\n",
        "    [200, 0, 0],\n",
        "    [0, 200, 0],\n",
        "    [50, 128, 0],\n",
        "    [0, 0, 128],\n",
        "    [128, 0, 128],\n",
        "    [0, 128, 128],\n",
        "    [128, 128, 128],\n",
        "    [50, 0, 0],\n",
        "    [192, 0, 0],\n",
        "    [64, 128, 0],\n",
        "    [192, 128, 0],\n",
        "    [64, 0, 128],\n",
        "    [192, 0, 128],\n",
        "    [50, 128, 200],\n",
        "    [192, 128, 200],\n",
        "    [0, 64, 0],\n",
        "    [128, 64, 0],\n",
        "    [0, 192, 0],\n",
        "    [128, 192, 0],\n",
        "    [0, 64, 128]\n",
        "]\n",
        "\n",
        "\n",
        "def visualize_bbox(img, bbox, class_name, score=None, color=(255, 0, 0), thickness=2):\n",
        "    \"\"\"\n",
        "    Draws a single bounding box on image\n",
        "    \"\"\"\n",
        "    x_min, y_min, x_max, y_max = bbox\n",
        "    x_min, y_min, x_max, y_max = int(x_min), int(y_min), int(x_max), int(y_max )\n",
        "\n",
        "    cv2.rectangle(img, (x_min, y_min), (x_max, y_max), color=color, thickness=thickness)\n",
        "    box_text = class_name + ' {:.2f}'.format(score) if score is not None else class_name\n",
        "    ((text_width, text_height), _) = cv2.getTextSize(box_text, cv2.FONT_HERSHEY_SIMPLEX, 0.45, 1)\n",
        "    cv2.rectangle(img, (x_min, y_min - int(1.3 * text_height)), (x_min + text_width, y_min), color, -1)\n",
        "\n",
        "    cv2.putText(\n",
        "        img,\n",
        "        text=box_text,\n",
        "        org=(x_min, y_min - int(0.3 * text_height)),\n",
        "        fontFace=cv2.FONT_HERSHEY_SIMPLEX,\n",
        "        fontScale=0.45,\n",
        "        color=(255, 255, 255),\n",
        "        lineType=cv2.LINE_AA,\n",
        "    )\n",
        "\n",
        "    return img\n",
        "\n",
        "\n",
        "def visualize(image, bboxes, category_ids, category_id_to_name, scores=None):\n",
        "    img = image.copy()\n",
        "    for idx, (bbox, category_id) in enumerate(zip(bboxes, category_ids)):\n",
        "      class_name = category_id_to_name[category_id]\n",
        "      img = visualize_bbox(img, bbox, class_name, scores[idx] if scores is not None else None)\n",
        "\n",
        "    return img\n",
        "\n",
        "\n",
        "def draw_grid(img, grid_shape, color=(0, 0, 0), thickness=2):\n",
        "    \"\"\"\n",
        "    Draws a grid on image\n",
        "    \"\"\"\n",
        "    grid_im = np.copy(img)\n",
        "    h, w, _ = grid_im.shape\n",
        "    rows, cols = grid_shape\n",
        "    dy, dx = h / rows, w / cols\n",
        "\n",
        "    # draw vertical lines\n",
        "    for x in np.linspace(start=dx, stop=w-dx, num=cols-1):\n",
        "      x = int(round(x))\n",
        "      cv2.line(grid_im, (x, 0), (x, h), color=color, thickness=thickness)\n",
        "\n",
        "    # draw horizontal lines\n",
        "    for y in np.linspace(start=dy, stop=h-dy, num=rows-1):\n",
        "      y = int(round(y))\n",
        "      cv2.line(grid_im, (0, y), (w, y), color=color, thickness=thickness)\n",
        "\n",
        "    return grid_im\n",
        "\n",
        "\n",
        "def draw_cls_grid(img, cls_idx, grid_shape):\n",
        "  \"\"\"\n",
        "  Draws color coded grid for the entire image\n",
        "  coded based on the class label\n",
        "  \"\"\"\n",
        "  rect_im = np.copy(img)\n",
        "  h, w, _ = rect_im.shape\n",
        "  rows, cols = grid_shape\n",
        "  dy, dx = h / rows, w / cols\n",
        "  for i in range(rows):\n",
        "    for j in range(cols):\n",
        "          cv2.rectangle(rect_im, (int(i*dx), int(j*dy)), (int((i+1)*dx), int((j+1)*dy)),\n",
        "                        thickness=-1,\n",
        "                        color=COLORS[cls_idx[j, i].item()])\n",
        "\n",
        "  return rect_im\n",
        "\n",
        "\n",
        "def draw_cls_text(img, cls_idx, cls_idx_label, grid_shape):\n",
        "  \"\"\"\n",
        "  Writes class text name in grid center locations\n",
        "  \"\"\"\n",
        "  rect_im = np.copy(img)\n",
        "  h, w, _ = rect_im.shape\n",
        "  rows, cols = grid_shape\n",
        "  dy, dx = h / rows, w / cols\n",
        "  for i in range(rows):\n",
        "    for j in range(cols):\n",
        "      cls_label = cls_idx_label[cls_idx[j, i].item()]\n",
        "      cv2.putText(rect_im,\n",
        "                  cls_label[:6],\n",
        "                  (int((i+0.1)*dx), int((j+0.5)*dy)),\n",
        "                  fontFace=cv2.FONT_HERSHEY_SIMPLEX,\n",
        "                  fontScale=0.45,\n",
        "                  color=(255, 255, 255),\n",
        "                  lineType=cv2.LINE_AA)\n",
        "  return rect_im"
      ],
      "metadata": {
        "id": "znQkcftmNS8i"
      },
      "execution_count": 19,
      "outputs": []
    },
    {
      "cell_type": "code",
      "source": [
        "def get_iou_map(det, gt):\n",
        "  det_x1, det_y1, det_x2, det_y2 = det\n",
        "  gt_x1, gt_y1, gt_x2, gt_y2 = gt\n",
        "\n",
        "  x_left = max(det_x1, gt_x1)\n",
        "  y_top = max(det_y1, gt_y1)\n",
        "  x_right = min(det_x2, gt_x2)\n",
        "  y_bottom = min(det_y2, gt_y2)\n",
        "\n",
        "  if x_right < x_left or y_bottom < y_top:\n",
        "    return 0.0\n",
        "\n",
        "  area_intersection = (x_right - x_left) * (y_bottom - y_top)\n",
        "  det_area = (det_x2 - det_x1) * (det_y2 - det_y1)\n",
        "  gt_area = (gt_x2 - gt_x1) * (gt_y2 - gt_y1)\n",
        "\n",
        "  area_union = float(det_area + gt_area - area_intersection + 1E-6)\n",
        "  iou = area_intersection / area_union\n",
        "\n",
        "  return iou"
      ],
      "metadata": {
        "id": "vfZlciPgNl8t"
      },
      "execution_count": 20,
      "outputs": []
    },
    {
      "cell_type": "code",
      "source": [
        "def compute_map(det_boxes, gt_boxes, iou_threshold=0.5, method=\"area\", difficult=None):\n",
        "  gt_labels = {cls_key for im_gt in gt_boxes for cls_key in im_gt.keys()}\n",
        "  gt_labels = sorted(gt_labels)\n",
        "\n",
        "  all_aps = {}\n",
        "\n",
        "  # Average precisions for ALL classes\n",
        "  aps = []\n",
        "  for idx, label in enumerate(gt_labels):\n",
        "    # Get detection predictions of this class\n",
        "    cls_dets = [\n",
        "        [im_idx, im_dets_label] for im_idx, im_dets in enumerate(det_boxes)\n",
        "        if label in im_dets for im_dets_label in im_dets[label]\n",
        "    ]\n",
        "\n",
        "    # Sort them by confidence score\n",
        "    cls_dets = sorted(cls_dets, key=lambda k: -k[1][-1])\n",
        "\n",
        "    # For tracking which gt boxes of this class have already been matched\n",
        "    gt_matched = [[False for _ in im_gts[label]] for im_gts in gt_boxes]\n",
        "    # Number of gt boxes for this class for recall calculation\n",
        "    num_gts = sum([len(im_gts[label]) for im_gts in gt_boxes])\n",
        "    num_difficults = sum([sum(difficults_label[label]) for difficults_label in difficult])\n",
        "\n",
        "    tp = [0] * len(cls_dets)\n",
        "    fp = [0] * len(cls_dets)\n",
        "\n",
        "    # For each prediction\n",
        "    for det_idx, (im_idx, det_pred) in enumerate(cls_dets):\n",
        "      # Get gt boxes for this image and this label\n",
        "      im_gts = gt_boxes[im_idx][label]\n",
        "      im_gt_difficults = difficult[im_idx][label]\n",
        "\n",
        "      max_iou_found = -1\n",
        "      max_iou_gt_idx = -1\n",
        "\n",
        "      # Get best matching gt box\n",
        "      for gt_box_idx, gt_box in enumerate(im_gts):\n",
        "        gt_box_iou = get_iou_map(det_pred[:-1], gt_box)\n",
        "        if gt_box_iou > max_iou_found:\n",
        "          max_iou_found = gt_box_iou\n",
        "          max_iou_gt_idx = gt_box_idx\n",
        "      # TP only if iou >= threshold and this gt has not yet been matched\n",
        "      if max_iou_found >= iou_threshold:\n",
        "        if not im_gt_difficults[max_iou_gt_idx]:\n",
        "          if not gt_matched[im_idx][max_iou_gt_idx]:\n",
        "            # If tp then we set this gt box as matched\n",
        "            gt_matched[im_idx][max_iou_gt_idx] = True\n",
        "            tp[det_idx] = 1\n",
        "          else:\n",
        "            fp[det_idx] = 1\n",
        "      else:\n",
        "        fp[det_idx] = 1\n",
        "\n",
        "    # Cumulative tp and fp\n",
        "    tp = np.cumsum(tp)\n",
        "    fp = np.cumsum(fp)\n",
        "\n",
        "    eps = np.finfo(np.float32).eps\n",
        "    # recalls = tp / np.maximum(num_gts, eps)\n",
        "    recalls = tp / np.maximum(num_gts - num_difficults, eps)\n",
        "    precisions = tp / np.maximum((tp + fp), eps)\n",
        "\n",
        "    if method == \"area\":\n",
        "      recalls = np.concatenate(([0.0], recalls, [1.0]))\n",
        "      precisions = np.concatenate(([0.0], precisions, [0.0]))\n",
        "\n",
        "      # Replace precision values with recall r with maximum precision value\n",
        "      # of any recall value >= r\n",
        "      # This computes the precision envelope\n",
        "      for i in range(precisions.size - 1, 0, -1):\n",
        "          precisions[i - 1] = np.maximum(precisions[i - 1], precisions[i])\n",
        "      # For computing area, get points where recall changes value\n",
        "      i = np.where(recalls[1:] != recalls[:-1])[0]\n",
        "      # Add the rectangular areas to get ap\n",
        "      ap = np.sum((recalls[i + 1] - recalls[i]) * precisions[i + 1])\n",
        "    elif method == \"interp\":\n",
        "      ap = 0.0\n",
        "      for interp_pt in np.arange(0, 1 + 1E-3, 0.1):\n",
        "        # Get precision values for recall values >= interp_pt\n",
        "        prec_interp_pt = precisions[recalls >= interp_pt]\n",
        "\n",
        "        # Get max of those precision values\n",
        "        prec_interp_pt= prec_interp_pt.max() if prec_interp_pt.size>0.0 else 0.0\n",
        "        ap += prec_interp_pt\n",
        "      ap = ap / 11.0\n",
        "    else:\n",
        "      raise ValueError(\"Method can only be area or interp\")\n",
        "    if num_gts > 0:\n",
        "      aps.append(ap)\n",
        "      all_aps[label] = ap\n",
        "    else:\n",
        "      all_aps[label] = np.nan\n",
        "\n",
        "  # compute mAP at provided iou threshold\n",
        "  mean_ap = sum(aps) / len(aps)\n",
        "  return mean_ap, all_aps"
      ],
      "metadata": {
        "id": "tFb7Vq9INnwn"
      },
      "execution_count": 33,
      "outputs": []
    },
    {
      "cell_type": "code",
      "source": [
        "def load_model_and_dataset():\n",
        "  dataset_config = dataset_params\n",
        "  model_config = model_params\n",
        "  train_config = train_params\n",
        "\n",
        "  voc = VOCDataset(\"test\",\n",
        "                   im_sets=dataset_config[\"test_im_sets\"],\n",
        "                   im_size=dataset_config[\"im_size\"],\n",
        "                   S=model_config[\"S\"],\n",
        "                   B=model_config[\"B\"],\n",
        "                   C=dataset_config[\"num_classes\"])\n",
        "\n",
        "  test_dataset = DataLoader(voc,\n",
        "                            batch_size=1,\n",
        "                            shuffle=False,\n",
        "                            num_workers=os.cpu_count(),\n",
        "                            pin_memory=True)\n",
        "\n",
        "  yolo_model = YOLOV1(im_size=dataset_config[\"im_size\"],\n",
        "                      num_classes=dataset_config[\"num_classes\"],\n",
        "                      model_config=model_config)\n",
        "  yolo_model.eval()\n",
        "  yolo_model.to(device)\n",
        "\n",
        "  checkpoint = torch.load(os.path.join(train_config[\"task_name\"], train_config[\"ckpt_name\"]),\n",
        "                          map_location=device)\n",
        "\n",
        "  yolo_model.load_state_dict(checkpoint[\"model_state_dict\"])\n",
        "\n",
        "  return yolo_model, voc, test_dataset"
      ],
      "metadata": {
        "id": "6HCZ73BkNsyq"
      },
      "execution_count": 30,
      "outputs": []
    },
    {
      "cell_type": "code",
      "source": [
        "def convert_yolo_pred_x1y1x2y2(yolo_pred, S, B, C, use_sigmoid=False):\n",
        "  \"\"\"\n",
        "  Method converts yolo predictions to x_1, y_1, x_2, y_2 format\n",
        "  \"\"\"\n",
        "  out = yolo_pred.reshape((S, S, 5 * B + C))\n",
        "  if use_sigmoid:\n",
        "    out[..., :5 * B] = torch.nn.functional.sigmoid(out[..., :5 * B])\n",
        "\n",
        "  out = torch.clamp(out, min=0., max=1.)\n",
        "  class_score, class_idx = torch.max(out[..., 5 * B:], dim=-1)\n",
        "\n",
        "  # Create a grid using these shifts\n",
        "  # Will use these for converting x_center_offset and y_center_offset\n",
        "  # values to x_1, y_1, x_2, y_2 that are normalized between [0,1]\n",
        "  # S cells = 1 => each cell adds 1/S pixels of shift\n",
        "  shifts_x = torch.arange(0, S, dtype=torch.int32, device=out.device) * 1 / float(S)\n",
        "  shifts_y = torch.arange(0, S, dtype=torch.int32, device=out.device) * 1 / float(S)\n",
        "  shifts_y, shifts_x = torch.meshgrid(shifts_y, shifts_x, indexing=\"ij\")\n",
        "\n",
        "  boxes = []\n",
        "  confidences = []\n",
        "  labels = []\n",
        "  for box_idx in range(B):\n",
        "    # xc_offset, yc_offset, width, height -> x_1, y_1, x_2, y_2\n",
        "    boxes_x1 = ((out[..., box_idx * 5] * 1 / float(S) + shifts_x) - 0.5 * torch.square(out[..., 2 + box_idx * 5])).reshape(-1, 1)\n",
        "    boxes_y1 = ((out[..., 1 + box_idx * 5] * 1 / float(S) + shifts_y) - 0.5 * torch.square(out[..., 3 + box_idx * 5])).reshape(-1, 1)\n",
        "    boxes_x2 = ((out[..., box_idx * 5] * 1 / float(S) + shifts_x) + 0.5 * torch.square(out[..., 2 + box_idx * 5])).reshape(-1, 1)\n",
        "    boxes_y2 = ((out[..., box_idx * 5] * 1 / float(S) + shifts_y) + 0.5 * torch.square(out[..., 3 + box_idx * 5])).reshape(-1, 1)\n",
        "\n",
        "    boxes.append(torch.cat([boxes_x1, boxes_y1, boxes_x2, boxes_y2], dim=-1))\n",
        "    confidences.append((out[..., 4 + box_idx * 5] * class_score).reshape(-1))\n",
        "    labels.append(class_idx.reshape(-1))\n",
        "\n",
        "  boxes = torch.cat(boxes, dim=0)\n",
        "  scores = torch.cat(confidences, dim=0)\n",
        "  labels = torch.cat(labels, dim=0)\n",
        "\n",
        "  return boxes, scores, labels"
      ],
      "metadata": {
        "id": "rXJWCeIAOLIk"
      },
      "execution_count": 31,
      "outputs": []
    },
    {
      "cell_type": "code",
      "source": [
        "def infer():\n",
        "  if not os.path.exists(\"samples\"):\n",
        "      os.mkdir(\"samples\")\n",
        "\n",
        "  yolo_model, voc, test_dataset = load_model_and_dataset()\n",
        "  conf_threshold = train_params[\"infer_conf_threshold\"]\n",
        "  nms_threshold = train_params[\"nms_threshold\"]\n",
        "\n",
        "  num_samples = 5\n",
        "\n",
        "  for i in tqdm(range(num_samples)):\n",
        "    dataset_idx = random.randint(0, len(voc) - 1)\n",
        "    im_tensor, targets, fname = voc[dataset_idx]\n",
        "\n",
        "    out = yolo_model(im_tensor.unsqueeze(0).to(device))\n",
        "\n",
        "    # Have to convert the output for YOLO format to x_1, y_1, x_2, y_2\n",
        "    boxes, scores, labels = convert_yolo_pred_x1y1x2y2(out,\n",
        "                                                       S=yolo_model.S,\n",
        "                                                       B=yolo_model.B,\n",
        "                                                       C=yolo_model.C,\n",
        "                                                       use_sigmoid=model_params[\"use_sigmoid\"])\n",
        "\n",
        "    # Confidence Score Thresholding\n",
        "    keep = torch.where(scores > conf_threshold)[0]\n",
        "    boxes = boxes[keep]\n",
        "    scores = scores[keep]\n",
        "    labels = labels[keep]\n",
        "\n",
        "    # NMS\n",
        "    keep_mask = torch.zeros_like(scores, dtype=torch.bool)\n",
        "    for class_id in torch.unique(labels):\n",
        "      curr_indices = torch.where(labels == class_id)[0]\n",
        "      curr_keep_indices = torch.ops.torchvision.nms(boxes[curr_indices],\n",
        "                                                    scores[curr_indices],\n",
        "                                                    nms_threshold)\n",
        "      keep_mask[curr_indices[curr_keep_indices]] = True\n",
        "\n",
        "    keep = torch.where(keep_mask)[0]\n",
        "    boxes = boxes[keep]\n",
        "    scores = scores[keep]\n",
        "    labels = labels[keep]\n",
        "\n",
        "    # Visualization\n",
        "\n",
        "    if not os.path.exists(\"samples/preds\"):\n",
        "      os.mkdir(\"samples/preds\")\n",
        "    if not os.path.exists(\"samples/grid_cls\"):\n",
        "      os.mkdir(\"samples/grid_cls\")\n",
        "\n",
        "    im = cv2.imread(fname)\n",
        "    h, w = im.shape[:2]\n",
        "    # Scale prediction boxes x_1, y_1, x_2, y_2 from [0, 1] to 0-w and 0-h\n",
        "    boxes[..., 0::2] = (w * boxes[..., 0::2])\n",
        "    boxes[..., 1::2] = (h * boxes[..., 1::2])\n",
        "\n",
        "    out_img = visualize(image=im,\n",
        "                        bboxes=boxes.detach().cpu().numpy(),\n",
        "                        category_ids=labels.detach().cpu().numpy(),\n",
        "                        category_id_to_name=voc.idx2label,\n",
        "                        scores=scores.detach().cpu().numpy())\n",
        "\n",
        "    cv2.imwrite(f\"samples/preds/{i}_pred.jpeg\", out_img)\n",
        "\n",
        "    # Below lines of code are only for drawing class prob map\n",
        "    im = cv2.resize(im, (yolo_model.im_size, yolo_model.im_size))\n",
        "\n",
        "    # Draw a SxS grid on image\n",
        "    grid_im = draw_grid(im, (yolo_model.S, yolo_model.S))\n",
        "\n",
        "    out = out.reshape((yolo_model.S, yolo_model.S, 5 * yolo_model.B + yolo_model.C))\n",
        "    cls_val, cls_idx = torch.max(out[..., 5 * yolo_model.B:], dim=-1)\n",
        "\n",
        "    # Draw colored squares for probability mappings on image\n",
        "    rect_im = draw_cls_grid(im, cls_idx, (yolo_model.S, yolo_model.S))\n",
        "    # Draw grid again on top of this image\n",
        "    rect_im = draw_grid(rect_im, (yolo_model.S, yolo_model.S))\n",
        "\n",
        "    # Overlay image with grid and cls mappings with grid on top of each other\n",
        "    res = cv2.addWeighted(rect_im, 0.5, grid_im, 0.5, 1.0)\n",
        "\n",
        "    # Write class labels on grid on this image\n",
        "    res = draw_cls_text(res, cls_idx, voc.idx2label, (yolo_model.S, yolo_model.S))\n",
        "    cv2.imwrite(f\"samples/grid_cls/{i}_grid_map.jpeg\", res)\n",
        "\n",
        "  print(\"Done Detecting..\")\n",
        "\n",
        "infer()"
      ],
      "metadata": {
        "id": "3Zd1TwouOfbt",
        "colab": {
          "base_uri": "https://localhost:8080/"
        },
        "outputId": "e7dc7d41-e7ee-4fc3-c24a-a61fdd90f95e"
      },
      "execution_count": 24,
      "outputs": [
        {
          "output_type": "stream",
          "name": "stderr",
          "text": [
            "<ipython-input-12-16ecad10404b>:18: UserWarning: Argument(s) 'always_apply' are not valid for transform Affine\n",
            "  albu.Affine(\n",
            "<ipython-input-12-16ecad10404b>:23: UserWarning: Argument(s) 'always_apply' are not valid for transform ColorJitter\n",
            "  albu.ColorJitter(\n"
          ]
        },
        {
          "output_type": "stream",
          "name": "stdout",
          "text": [
            "{0: 'aeroplane', 1: 'bicycle', 2: 'bird', 3: 'boat', 4: 'bottle', 5: 'bus', 6: 'car', 7: 'cat', 8: 'chair', 9: 'cow', 10: 'diningtable', 11: 'dog', 12: 'horse', 13: 'motorbike', 14: 'person', 15: 'pottedplant', 16: 'sheep', 17: 'sofa', 18: 'train', 19: 'tvmonitor'}\n",
            "Total 4952 images found\n"
          ]
        },
        {
          "output_type": "stream",
          "name": "stderr",
          "text": [
            "100%|██████████| 5/5 [00:00<00:00, 10.38it/s]"
          ]
        },
        {
          "output_type": "stream",
          "name": "stdout",
          "text": [
            "Done Detecting..\n"
          ]
        },
        {
          "output_type": "stream",
          "name": "stderr",
          "text": [
            "\n"
          ]
        }
      ]
    },
    {
      "cell_type": "code",
      "source": [
        "def evaluate_map():\n",
        "  yolo_model, voc, test_dataset = load_model_and_dataset()\n",
        "\n",
        "  conf_threshold = train_params[\"eval_conf_threshold\"]\n",
        "  nms_threshold = train_params[\"nms_threshold\"]\n",
        "\n",
        "  gts = []\n",
        "  preds = []\n",
        "  difficults = []\n",
        "  for im_tensor, target, fname in tqdm(test_dataset):\n",
        "    im_tensor = im_tensor.float().to(device)\n",
        "    target_bboxes = target[\"bboxes\"].float().to(device)[0]\n",
        "    target_labels = target[\"labels\"].long().to(device)[0]\n",
        "    difficult = target[\"difficult\"].long().to(device)[0]\n",
        "\n",
        "    out = yolo_model(im_tensor)\n",
        "\n",
        "    boxes, scores, labels = convert_yolo_pred_x1y1x2y2(out,\n",
        "                                                        S=yolo_model.S,\n",
        "                                                        B=yolo_model.B,\n",
        "                                                        C=yolo_model.C,\n",
        "                                                        use_sigmoid=model_params[\"use_sigmoid\"])\n",
        "\n",
        "    # Confidence Score Thresholding\n",
        "    keep = torch.where(scores > conf_threshold)[0]\n",
        "    boxes = boxes[keep]\n",
        "    scores = scores[keep]\n",
        "    labels = labels[keep]\n",
        "\n",
        "    # NMS\n",
        "    keep_mask = torch.zeros_like(scores, dtype=torch.bool)\n",
        "    for class_id in torch.unique(labels):\n",
        "      curr_indices = torch.where(labels == class_id)[0]\n",
        "      curr_keep_indices = torch.ops.torchvision.nms(boxes[curr_indices],\n",
        "                                                    scores[curr_indices],\n",
        "                                                    nms_threshold)\n",
        "\n",
        "      keep_mask[curr_indices[curr_keep_indices]] = True\n",
        "\n",
        "    keep = torch.where(keep_mask)[0]\n",
        "    boxes = boxes[keep]\n",
        "    scores = scores[keep]\n",
        "    labels = labels[keep]\n",
        "\n",
        "    pred_boxes = {}\n",
        "    gt_boxes = {}\n",
        "    difficult_boxes = {}\n",
        "\n",
        "    for label_name in voc.label2idx:\n",
        "      pred_boxes[label_name] = []\n",
        "      gt_boxes[label_name] = []\n",
        "      difficult_boxes[label_name] = []\n",
        "\n",
        "    for idx, box in enumerate(boxes):\n",
        "      x1, y1, x2, y2 = box.detach().cpu().numpy()\n",
        "      label = labels[idx].detach().cpu().item()\n",
        "      score = scores[idx].detach().cpu().item()\n",
        "      label_name = voc.idx2label[label]\n",
        "      pred_boxes[label_name].append([x1, y1, x2, y2, score])\n",
        "\n",
        "    for idx, box in enumerate(target_bboxes):\n",
        "      x1, y1, x2, y2 = box.detach().cpu().numpy()\n",
        "      label = target_labels[idx].detach().cpu().item()\n",
        "      label_name = voc.idx2label[label]\n",
        "      gt_boxes[label_name].append([x1, y1, x2, y2])\n",
        "      difficult_boxes[label_name].append(difficult[idx].detach().cpu().item())\n",
        "\n",
        "      gts.append(gt_boxes)\n",
        "      preds.append(pred_boxes)\n",
        "      difficults.append(difficult_boxes)\n",
        "\n",
        "  mean_ap, all_aps = compute_map(preds, gts, method=\"area\", difficult=difficults)\n",
        "\n",
        "  print(\"Class Wise Average Precisions\")\n",
        "  for idx in range(len(voc.idx2label)):\n",
        "    print(f\"AP for class {voc.idx2label[idx]} = {all_aps[voc.idx2label[idx]]:.4f}\")\n",
        "\n",
        "  print(f\"Mean Average Precision: {mean_ap:.4f}\")\n",
        "\n",
        "evaluate_map()"
      ],
      "metadata": {
        "id": "CDxsReSePWsh",
        "colab": {
          "base_uri": "https://localhost:8080/"
        },
        "outputId": "b5798c3b-6980-47d9-ee10-a964accaedc0"
      },
      "execution_count": 34,
      "outputs": [
        {
          "output_type": "stream",
          "name": "stderr",
          "text": [
            "<ipython-input-12-16ecad10404b>:18: UserWarning: Argument(s) 'always_apply' are not valid for transform Affine\n",
            "  albu.Affine(\n",
            "<ipython-input-12-16ecad10404b>:23: UserWarning: Argument(s) 'always_apply' are not valid for transform ColorJitter\n",
            "  albu.ColorJitter(\n"
          ]
        },
        {
          "output_type": "stream",
          "name": "stdout",
          "text": [
            "{0: 'aeroplane', 1: 'bicycle', 2: 'bird', 3: 'boat', 4: 'bottle', 5: 'bus', 6: 'car', 7: 'cat', 8: 'chair', 9: 'cow', 10: 'diningtable', 11: 'dog', 12: 'horse', 13: 'motorbike', 14: 'person', 15: 'pottedplant', 16: 'sheep', 17: 'sofa', 18: 'train', 19: 'tvmonitor'}\n",
            "Total 4952 images found\n"
          ]
        },
        {
          "output_type": "stream",
          "name": "stderr",
          "text": [
            "100%|██████████| 4952/4952 [01:14<00:00, 66.66it/s]\n"
          ]
        },
        {
          "output_type": "stream",
          "name": "stdout",
          "text": [
            "Class Wise Average Precisions\n",
            "AP for class aeroplane = 0.3184\n",
            "AP for class bicycle = 0.4868\n",
            "AP for class bird = 0.2774\n",
            "AP for class boat = 0.2727\n",
            "AP for class bottle = 0.1549\n",
            "AP for class bus = 0.5753\n",
            "AP for class car = 0.4371\n",
            "AP for class cat = 0.7185\n",
            "AP for class chair = 0.2702\n",
            "AP for class cow = 0.4358\n",
            "AP for class diningtable = 0.4733\n",
            "AP for class dog = 0.6572\n",
            "AP for class horse = 0.6561\n",
            "AP for class motorbike = 0.4671\n",
            "AP for class person = 0.4352\n",
            "AP for class pottedplant = 0.1607\n",
            "AP for class sheep = 0.4112\n",
            "AP for class sofa = 0.4401\n",
            "AP for class train = 0.7036\n",
            "AP for class tvmonitor = 0.3888\n",
            "Mean Average Precision: 0.4370\n"
          ]
        }
      ]
    },
    {
      "cell_type": "code",
      "source": [
        "!zip -r samples.zip samples"
      ],
      "metadata": {
        "colab": {
          "base_uri": "https://localhost:8080/"
        },
        "id": "1CRxXd9wC5eJ",
        "outputId": "ec861bb1-4baf-47ef-a7c2-67379277ca35"
      },
      "execution_count": 27,
      "outputs": [
        {
          "output_type": "stream",
          "name": "stdout",
          "text": [
            "  adding: samples/ (stored 0%)\n",
            "  adding: samples/grid_cls/ (stored 0%)\n",
            "  adding: samples/grid_cls/2_grid_map.jpeg (deflated 5%)\n",
            "  adding: samples/grid_cls/3_grid_map.jpeg (deflated 1%)\n",
            "  adding: samples/grid_cls/1_grid_map.jpeg (deflated 1%)\n",
            "  adding: samples/grid_cls/4_grid_map.jpeg (deflated 3%)\n",
            "  adding: samples/grid_cls/0_grid_map.jpeg (deflated 1%)\n",
            "  adding: samples/preds/ (stored 0%)\n",
            "  adding: samples/preds/0_pred.jpeg (deflated 0%)\n",
            "  adding: samples/preds/2_pred.jpeg (deflated 0%)\n",
            "  adding: samples/preds/1_pred.jpeg (deflated 0%)\n",
            "  adding: samples/preds/3_pred.jpeg (deflated 0%)\n",
            "  adding: samples/preds/4_pred.jpeg (deflated 1%)\n"
          ]
        }
      ]
    },
    {
      "cell_type": "code",
      "source": [
        "from google.colab import files\n",
        "\n",
        "files.download(\"samples.zip\")"
      ],
      "metadata": {
        "colab": {
          "base_uri": "https://localhost:8080/",
          "height": 17
        },
        "id": "gB2n4ZwUC60M",
        "outputId": "3bdbb4b2-537e-462f-8f73-d1a980d25952"
      },
      "execution_count": 28,
      "outputs": [
        {
          "output_type": "display_data",
          "data": {
            "text/plain": [
              "<IPython.core.display.Javascript object>"
            ],
            "application/javascript": [
              "\n",
              "    async function download(id, filename, size) {\n",
              "      if (!google.colab.kernel.accessAllowed) {\n",
              "        return;\n",
              "      }\n",
              "      const div = document.createElement('div');\n",
              "      const label = document.createElement('label');\n",
              "      label.textContent = `Downloading \"${filename}\": `;\n",
              "      div.appendChild(label);\n",
              "      const progress = document.createElement('progress');\n",
              "      progress.max = size;\n",
              "      div.appendChild(progress);\n",
              "      document.body.appendChild(div);\n",
              "\n",
              "      const buffers = [];\n",
              "      let downloaded = 0;\n",
              "\n",
              "      const channel = await google.colab.kernel.comms.open(id);\n",
              "      // Send a message to notify the kernel that we're ready.\n",
              "      channel.send({})\n",
              "\n",
              "      for await (const message of channel.messages) {\n",
              "        // Send a message to notify the kernel that we're ready.\n",
              "        channel.send({})\n",
              "        if (message.buffers) {\n",
              "          for (const buffer of message.buffers) {\n",
              "            buffers.push(buffer);\n",
              "            downloaded += buffer.byteLength;\n",
              "            progress.value = downloaded;\n",
              "          }\n",
              "        }\n",
              "      }\n",
              "      const blob = new Blob(buffers, {type: 'application/binary'});\n",
              "      const a = document.createElement('a');\n",
              "      a.href = window.URL.createObjectURL(blob);\n",
              "      a.download = filename;\n",
              "      div.appendChild(a);\n",
              "      a.click();\n",
              "      div.remove();\n",
              "    }\n",
              "  "
            ]
          },
          "metadata": {}
        },
        {
          "output_type": "display_data",
          "data": {
            "text/plain": [
              "<IPython.core.display.Javascript object>"
            ],
            "application/javascript": [
              "download(\"download_94c93e8b-0f49-4c18-bfa0-73d35ca3d173\", \"samples.zip\", 910542)"
            ]
          },
          "metadata": {}
        }
      ]
    }
  ]
}