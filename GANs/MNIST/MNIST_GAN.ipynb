{
  "nbformat": 4,
  "nbformat_minor": 0,
  "metadata": {
    "colab": {
      "provenance": [],
      "machine_shape": "hm",
      "gpuType": "T4"
    },
    "kernelspec": {
      "name": "python3",
      "display_name": "Python 3"
    },
    "language_info": {
      "name": "python"
    },
    "accelerator": "GPU"
  },
  "cells": [
    {
      "cell_type": "code",
      "execution_count": null,
      "metadata": {
        "id": "tSQ0KaTiNlxS"
      },
      "outputs": [],
      "source": [
        "import torch\n",
        "import torch.nn as nn\n",
        "import torch.nn.functional as F\n",
        "import torch.optim as optim\n",
        "import torchvision\n",
        "from torchvision import datasets, transforms\n",
        "import torchvision.utils as vutils\n",
        "\n",
        "import os\n",
        "import matplotlib.pyplot as plt\n",
        "import numpy as np\n",
        "import imageio\n",
        "\n",
        "from tqdm.notebook import trange, tqdm\n",
        "\n",
        "device = torch.device(\"cuda\" if torch.cuda.is_available() else \"cpu\")"
      ]
    },
    {
      "cell_type": "code",
      "source": [
        "batch_size = 512\n",
        "\n",
        "g_lr = 1e-4\n",
        "d_lr = 1e-4\n",
        "\n",
        "image_size = 32\n",
        "data_set_root = \"../../datasets\""
      ],
      "metadata": {
        "id": "GRJIF1yTNsFM"
      },
      "execution_count": null,
      "outputs": []
    },
    {
      "cell_type": "code",
      "source": [
        "transform = transforms.Compose([transforms.Resize(image_size),\n",
        "                                transforms.ToTensor(),\n",
        "                                transforms.Normalize(mean=([0.5]), std=([0.5]))\n",
        "                                ])\n",
        "\n",
        "trainset = datasets.MNIST(data_set_root, train=True, download=True, transform=transform)\n",
        "dataloader = torch.utils.data.DataLoader(trainset, batch_size=batch_size, shuffle=True, num_workers=4)"
      ],
      "metadata": {
        "colab": {
          "base_uri": "https://localhost:8080/"
        },
        "id": "DsHpuAMLN1n7",
        "outputId": "92473d6b-c5ed-4936-a552-d68b94bd7f57"
      },
      "execution_count": null,
      "outputs": [
        {
          "output_type": "stream",
          "name": "stdout",
          "text": [
            "Downloading http://yann.lecun.com/exdb/mnist/train-images-idx3-ubyte.gz\n",
            "Failed to download (trying next):\n",
            "HTTP Error 404: Not Found\n",
            "\n",
            "Downloading https://ossci-datasets.s3.amazonaws.com/mnist/train-images-idx3-ubyte.gz\n",
            "Downloading https://ossci-datasets.s3.amazonaws.com/mnist/train-images-idx3-ubyte.gz to ../../datasets/MNIST/raw/train-images-idx3-ubyte.gz\n"
          ]
        },
        {
          "output_type": "stream",
          "name": "stderr",
          "text": [
            "100%|██████████| 9.91M/9.91M [00:10<00:00, 904kB/s] \n"
          ]
        },
        {
          "output_type": "stream",
          "name": "stdout",
          "text": [
            "Extracting ../../datasets/MNIST/raw/train-images-idx3-ubyte.gz to ../../datasets/MNIST/raw\n",
            "\n",
            "Downloading http://yann.lecun.com/exdb/mnist/train-labels-idx1-ubyte.gz\n",
            "Failed to download (trying next):\n",
            "HTTP Error 404: Not Found\n",
            "\n",
            "Downloading https://ossci-datasets.s3.amazonaws.com/mnist/train-labels-idx1-ubyte.gz\n",
            "Downloading https://ossci-datasets.s3.amazonaws.com/mnist/train-labels-idx1-ubyte.gz to ../../datasets/MNIST/raw/train-labels-idx1-ubyte.gz\n"
          ]
        },
        {
          "output_type": "stream",
          "name": "stderr",
          "text": [
            "100%|██████████| 28.9k/28.9k [00:00<00:00, 133kB/s]\n"
          ]
        },
        {
          "output_type": "stream",
          "name": "stdout",
          "text": [
            "Extracting ../../datasets/MNIST/raw/train-labels-idx1-ubyte.gz to ../../datasets/MNIST/raw\n",
            "\n",
            "Downloading http://yann.lecun.com/exdb/mnist/t10k-images-idx3-ubyte.gz\n",
            "Failed to download (trying next):\n",
            "HTTP Error 404: Not Found\n",
            "\n",
            "Downloading https://ossci-datasets.s3.amazonaws.com/mnist/t10k-images-idx3-ubyte.gz\n",
            "Downloading https://ossci-datasets.s3.amazonaws.com/mnist/t10k-images-idx3-ubyte.gz to ../../datasets/MNIST/raw/t10k-images-idx3-ubyte.gz\n"
          ]
        },
        {
          "output_type": "stream",
          "name": "stderr",
          "text": [
            "100%|██████████| 1.65M/1.65M [00:01<00:00, 1.26MB/s]\n"
          ]
        },
        {
          "output_type": "stream",
          "name": "stdout",
          "text": [
            "Extracting ../../datasets/MNIST/raw/t10k-images-idx3-ubyte.gz to ../../datasets/MNIST/raw\n",
            "\n",
            "Downloading http://yann.lecun.com/exdb/mnist/t10k-labels-idx1-ubyte.gz\n",
            "Failed to download (trying next):\n",
            "HTTP Error 404: Not Found\n",
            "\n",
            "Downloading https://ossci-datasets.s3.amazonaws.com/mnist/t10k-labels-idx1-ubyte.gz\n",
            "Downloading https://ossci-datasets.s3.amazonaws.com/mnist/t10k-labels-idx1-ubyte.gz to ../../datasets/MNIST/raw/t10k-labels-idx1-ubyte.gz\n"
          ]
        },
        {
          "output_type": "stream",
          "name": "stderr",
          "text": [
            "100%|██████████| 4.54k/4.54k [00:00<00:00, 8.38MB/s]"
          ]
        },
        {
          "output_type": "stream",
          "name": "stdout",
          "text": [
            "Extracting ../../datasets/MNIST/raw/t10k-labels-idx1-ubyte.gz to ../../datasets/MNIST/raw\n",
            "\n"
          ]
        },
        {
          "output_type": "stream",
          "name": "stderr",
          "text": [
            "\n"
          ]
        }
      ]
    },
    {
      "cell_type": "markdown",
      "source": [
        "The Generator takes in a noise sample vector as an input and upsamples it until it is the desired size. After training, it should output a valid image"
      ],
      "metadata": {
        "id": "j0EijDM5ZFWh"
      }
    },
    {
      "cell_type": "code",
      "source": [
        "class Generator(nn.Module):\n",
        "  def __init__(self, in_channels=128, hidden_channels=32):\n",
        "    super().__init__()\n",
        "\n",
        "    self.conv_transpose_1 = nn.ConvTranspose2d(in_channels=in_channels,\n",
        "                                               out_channels=(hidden_channels * 4),\n",
        "                                               kernel_size=4,\n",
        "                                               stride=1)\n",
        "\n",
        "    self.conv_1 = nn.Conv2d(in_channels=(hidden_channels * 4),\n",
        "                            out_channels=(hidden_channels * 4),\n",
        "                            kernel_size=3,\n",
        "                            stride=1,\n",
        "                            padding=1)\n",
        "    self.batch_norm_1 = nn.BatchNorm2d(hidden_channels * 4)\n",
        "\n",
        "    self.conv_2 = nn.Conv2d(in_channels=(hidden_channels * 4),\n",
        "                            out_channels=(hidden_channels * 2),\n",
        "                            kernel_size=3,\n",
        "                            stride=1,\n",
        "                            padding=1)\n",
        "    self.batch_norm_2 = nn.BatchNorm2d(hidden_channels * 2)\n",
        "\n",
        "    self.conv_3 = nn.Conv2d(in_channels=(hidden_channels * 2),\n",
        "                            out_channels=(hidden_channels * 2),\n",
        "                            kernel_size=3,\n",
        "                            stride=1,\n",
        "                            padding=1)\n",
        "    self.batch_norm_3 = nn.BatchNorm2d(hidden_channels * 2)\n",
        "\n",
        "    self.conv_4 = nn.Conv2d(in_channels=(hidden_channels * 2),\n",
        "                            out_channels=(hidden_channels * 2),\n",
        "                            kernel_size=3,\n",
        "                            stride=1,\n",
        "                            padding=1)\n",
        "    self.batch_norm_4 = nn.BatchNorm2d(hidden_channels * 2)\n",
        "\n",
        "    self.conv_out = nn.Conv2d(in_channels=(hidden_channels * 2),\n",
        "                              out_channels=1,\n",
        "                              kernel_size=3,\n",
        "                              stride=1,\n",
        "                              padding=1)\n",
        "\n",
        "    self.upsample = nn.Upsample(scale_factor=2, mode=\"nearest\")\n",
        "\n",
        "  def forward(self, x):\n",
        "    x = F.elu(self.conv_transpose_1(x)) # (batch_size, 128, 1, 1) -> (batch_size, 128, 4, 4)\n",
        "    x = self.upsample(F.elu(self.batch_norm_1(self.conv_1(x)))) # (batch_size, 128, 4, 4) -> (batch_size, 128, 8, 8)\n",
        "    x = self.upsample(F.elu(self.batch_norm_2(self.conv_2(x)))) # (batch_size, 128, 8, 8) -> (batch_size, 64, 16, 16)\n",
        "    x = self.upsample(F.elu(self.batch_norm_3(self.conv_3(x)))) # (batch_size, 64, 16, 16) -> (batch_size, 64, 32, 32)\n",
        "    x = F.elu(self.batch_norm_4(self.conv_4(x))) # (batch_size, 64, 32, 32) -> (batch_size, 64, 32, 32)\n",
        "\n",
        "    # Go from random noise to an image with the correct dimensions\n",
        "    return torch.tanh(self.conv_out(x)) # (batch_size, 64, 32, 32) -> (batch_size, 1, 32, 32)"
      ],
      "metadata": {
        "id": "bMiLfxOtN7X6"
      },
      "execution_count": null,
      "outputs": []
    },
    {
      "cell_type": "markdown",
      "source": [
        "The Discriminator is convolutional classifier network that has a single output."
      ],
      "metadata": {
        "id": "FZso_kRiZMUP"
      }
    },
    {
      "cell_type": "code",
      "source": [
        "class Discriminator(nn.Module):\n",
        "  def __init__(self, hidden_channels=32):\n",
        "    super().__init__()\n",
        "\n",
        "    self.conv_in = nn.Conv2d(in_channels=1,\n",
        "                             out_channels=hidden_channels,\n",
        "                             kernel_size=3,\n",
        "                             stride=1,\n",
        "                             padding=1)\n",
        "\n",
        "    self.conv_1 = nn.Conv2d(in_channels=hidden_channels,\n",
        "                            out_channels=(hidden_channels * 2),\n",
        "                            kernel_size=3,\n",
        "                            stride=2,\n",
        "                            padding=1)\n",
        "\n",
        "    self.conv_2 = nn.Conv2d(in_channels=(hidden_channels * 2),\n",
        "                            out_channels=(hidden_channels * 2),\n",
        "                            kernel_size=3,\n",
        "                            stride=2,\n",
        "                            padding=1)\n",
        "\n",
        "    self.conv_3 = nn.Conv2d(in_channels=(hidden_channels * 2),\n",
        "                            out_channels=(hidden_channels * 4),\n",
        "                            kernel_size=3,\n",
        "                            stride=2,\n",
        "                            padding=1)\n",
        "\n",
        "    self.conv_4 = nn.Conv2d(in_channels=(hidden_channels * 4),\n",
        "                            out_channels=(hidden_channels * 4),\n",
        "                            kernel_size=3,\n",
        "                            stride=2,\n",
        "                            padding=1)\n",
        "\n",
        "    self.batch_norm = nn.BatchNorm2d(hidden_channels * 4)\n",
        "\n",
        "    self.dropout = nn.Dropout(p=0.5)\n",
        "\n",
        "    self.conv_5 = nn.Conv2d(in_channels=(hidden_channels * 4),\n",
        "                            out_channels=1,\n",
        "                            kernel_size=2,\n",
        "                            stride=1)\n",
        "\n",
        "  def forward(self, x):\n",
        "    x = F.elu(self.conv_in(x)) # (batch_size, 1, 32, 32) -> (batch_size, 32, 32, 32)\n",
        "    x = F.elu(self.conv_1(x)) # (batch_size, 32, 32, 32) -> (batch_size, 64, 16, 16)\n",
        "    x = F.elu(self.conv_2(x)) # (batch_size, 64, 16, 16) -> (batch_size, 64, 8, 8)\n",
        "    x = F.elu(self.conv_3(x)) # (batch_size, 64, 8, 8) -> (batch_size, 128, 4, 4)\n",
        "    x = self.dropout(F.elu(self.batch_norm(self.conv_4(x)))) # (batch_size, 128, 4, 4) -> (batch_size, 128, 2, 2)\n",
        "    x = self.conv_5(x) # (batch_size, 128, 2, 2) -> (batch_size, 1, 1, 1)\n",
        "    x = x.squeeze(dim=-1).squeeze(dim=-1) # (batch_size, 1, 1, 1) -> (batch_size, 1)\n",
        "    return x"
      ],
      "metadata": {
        "id": "QkF9E6RFPctB"
      },
      "execution_count": null,
      "outputs": []
    },
    {
      "cell_type": "markdown",
      "source": [
        "GANs are often described as a minimax game in which $G$ wants to minimize $V$.\n",
        "\n",
        "**This means that in training, we first pass the output of the generator on a random noise sample through the generator to get an image. We then pass the image through the discriminator to get the probability that it is real or fake, and compare it to a vector of 1s. This means that in backpropagation, the generator is trying to make images that when passed through the discriminator, output 1s.**\n",
        "\n",
        "**We then take the real image and pass it through the discriminator and compare it against a vector of 1s because we know that it is real. We then take the generated image from above and pass it through the discrimnator and compare it against a vector of 0s because we know that it is fake. Through backpropagation, this makes the discriminator learn the differences between fake and real images.**\n",
        "\n",
        "$$\n",
        "\\min_G\\max_DV(D, G) = \\mathbb{E}_{x \\sim  p_{data}(x)}[log(D(x))] + \\mathbb{E}_{z \\sim p_z(z)}[log(1 - D(G(z))]\n",
        "$$\n",
        "\n",
        "Where:\n",
        "\n",
        "- **$V$** is the objective function that we want to maximize\n",
        "- $D(x)$ is the discriminator’s estimate of the probability that $x$ is a real data sample.\n",
        "- $G(z)$ is the generator’s output when given noise $z$.\n",
        "- $D(G(z))$ is the discriminator’s estimate of the probability that the output of the generator when given noise $z$ is a real data sample.\n",
        "- $x \\sim  p_{data}(x)$ is a real image drawn from the dataset\n",
        "- $z \\sim p_z(z)$ is a random noise vector that has been sampled from a standard distribution\n",
        "- $\\mathbb{E}_{x \\sim  p_{data}(x)}[log(D(x))]$ recognizes real images\n",
        "- $\\mathbb{E}_{z \\sim p_z(z)}[log(1 - D(G(z))]$ recognizes generated images\n",
        "- $\\log(D(x))$ takes the log of the probability meaning that if $D(x)$ is high , the log value is near $0$, which is good for $D$. If $D(x)$ is low, the log value becomes very negative, which penalizes the discriminator.\n",
        "- $\\log(1 - D(G(z)))$ means that if $D(G(z))$ is low meaning that the discriminator correctly identified the fake image, then $1 - D(G(z))$ is high and its logarithm is less negative. Conversely, if $D(G(z))$ is high, the logarithm becomes very negative, which is bad for the discriminator.\n",
        "\n",
        "**The discriminator is rewarded (maximized) when it assigns a high probability to real images.**\n",
        "\n",
        "**The discriminator is rewarded when it correctly identifies fake images as fake.**\n",
        "\n",
        "**While the discriminator is trying to maximize the whole value function (improving its ability to tell real from fake), the generator is trying to minimize the value function.**\n",
        "\n",
        "Once both objective functions are defined, they are learned jointly by the alternating gradient descent algorithm. We fix the generator model’s parameters and perform a single iteration of gradient ascend on the discriminator using the real and the generated images. Then we switch sides. Fix the discriminator and train the generator for another single iteration. We train both networks in alternating steps until the generator produces good-quality images. The following summarizes the data flow and the gradients used for the backpropagation."
      ],
      "metadata": {
        "id": "Ur6WMLkrgjv3"
      }
    },
    {
      "cell_type": "code",
      "source": [
        "def gan_bce_loss(output, real_label=True):\n",
        "  if real_label:\n",
        "    # Compare with a tensor of 1s when real\n",
        "    return F.binary_cross_entropy_with_logits(output, torch.ones_like(output))\n",
        "  else:\n",
        "    # Compare with a tensor of 0s when fake\n",
        "    return F.binary_cross_entropy_with_logits(output, torch.zeros_like(output))"
      ],
      "metadata": {
        "id": "-UeR3SliQV2T"
      },
      "execution_count": null,
      "outputs": []
    },
    {
      "cell_type": "code",
      "source": [
        "noise_dim = 128\n",
        "\n",
        "epochs = 100\n",
        "\n",
        "generator = Generator(in_channels=noise_dim, hidden_channels=32).to(device)\n",
        "discriminator = Discriminator(hidden_channels=32).to(device)\n",
        "\n",
        "# A fixed latent noise vector so we can see the improvement over the epochs\n",
        "fixed_latent_noise = torch.randn(16, noise_dim, 1, 1).to(device) # (batch_size=16, 128, 1, 1)\n",
        "\n",
        "optimizer_g = optim.Adam(params=generator.parameters(), lr=g_lr)\n",
        "optimizer_d = optim.Adam(params=discriminator.parameters(), lr=d_lr)"
      ],
      "metadata": {
        "id": "2m1hnlbhQj-j"
      },
      "execution_count": null,
      "outputs": []
    },
    {
      "cell_type": "code",
      "source": [
        "generator_model_path = \"mnist_gan_generator.pt\"\n",
        "discriminator_model_path = \"mnist_gan_discriminator.pt\"\n",
        "\n",
        "if os.path.exists(generator_model_path):\n",
        "  print(f\"Loading generator from {generator_model_path}...\")\n",
        "  generator.load_state_dict(torch.load(generator_model_path, map_location=device))\n",
        "\n",
        "if os.path.exists(discriminator_model_path):\n",
        "  print(f\"Loading discriminator from {discriminator_model_path}...\")\n",
        "  discriminator.load_state_dict(torch.load(discriminator_model_path, map_location=device))\n",
        "\n",
        "d_out_fake = []\n",
        "d_out_real = []\n",
        "\n",
        "g_loss = 0\n",
        "d_loss = 0\n",
        "\n",
        "train = False"
      ],
      "metadata": {
        "colab": {
          "base_uri": "https://localhost:8080/"
        },
        "id": "renfacc-Q5Zj",
        "outputId": "3092634f-59e1-4864-8b08-b99eb4d733dc"
      },
      "execution_count": null,
      "outputs": [
        {
          "output_type": "stream",
          "name": "stdout",
          "text": [
            "Loading generator from mnist_gan_generator.pt...\n",
            "Loading discriminator from mnist_gan_discriminator.pt...\n"
          ]
        },
        {
          "output_type": "stream",
          "name": "stderr",
          "text": [
            "<ipython-input-10-fbbeb7ecdfdd>:6: FutureWarning: You are using `torch.load` with `weights_only=False` (the current default value), which uses the default pickle module implicitly. It is possible to construct malicious pickle data which will execute arbitrary code during unpickling (See https://github.com/pytorch/pytorch/blob/main/SECURITY.md#untrusted-models for more details). In a future release, the default value for `weights_only` will be flipped to `True`. This limits the functions that could be executed during unpickling. Arbitrary objects will no longer be allowed to be loaded via this mode unless they are explicitly allowlisted by the user via `torch.serialization.add_safe_globals`. We recommend you start setting `weights_only=True` for any use case where you don't have full control of the loaded file. Please open an issue on GitHub for any issues related to this experimental feature.\n",
            "  generator.load_state_dict(torch.load(generator_model_path, map_location=device))\n",
            "<ipython-input-10-fbbeb7ecdfdd>:10: FutureWarning: You are using `torch.load` with `weights_only=False` (the current default value), which uses the default pickle module implicitly. It is possible to construct malicious pickle data which will execute arbitrary code during unpickling (See https://github.com/pytorch/pytorch/blob/main/SECURITY.md#untrusted-models for more details). In a future release, the default value for `weights_only` will be flipped to `True`. This limits the functions that could be executed during unpickling. Arbitrary objects will no longer be allowed to be loaded via this mode unless they are explicitly allowlisted by the user via `torch.serialization.add_safe_globals`. We recommend you start setting `weights_only=True` for any use case where you don't have full control of the loaded file. Please open an issue on GitHub for any issues related to this experimental feature.\n",
            "  discriminator.load_state_dict(torch.load(discriminator_model_path, map_location=device))\n"
          ]
        }
      ]
    },
    {
      "cell_type": "code",
      "source": [
        "if train:\n",
        "  pbar = trange(epochs, leave=False, desc=\"Epoch\")\n",
        "\n",
        "  generator.train()\n",
        "\n",
        "  for epoch in pbar:\n",
        "    pbar.set_postfix_str(f\"G Loss: {g_loss / len(dataloader)} | D Loss: {d_loss / len(dataloader)}\")\n",
        "    g_loss = 0\n",
        "    d_loss = 0\n",
        "\n",
        "    for i, (images, label) in enumerate(tqdm(dataloader, leave=False)):\n",
        "      images = images.to(device)\n",
        "\n",
        "      batch_size = images.shape[0]\n",
        "\n",
        "      # Generator\n",
        "\n",
        "      # Sample a random noise vector from a standard distribution and pass it through the generator\n",
        "      latent_noise = torch.randn(batch_size, noise_dim, 1, 1).to(device)\n",
        "      output_g = generator(latent_noise)\n",
        "\n",
        "      # Pass the generator output through the discriminator and calculate the loss against the real label because we want the discriminator to think the outputs are real\n",
        "      output_d = discriminator(output_g)\n",
        "      loss_g = gan_bce_loss(output=output_d, real_label=True)\n",
        "\n",
        "      optimizer_g.zero_grad()\n",
        "      loss_g.backward()\n",
        "      optimizer_g.step()\n",
        "\n",
        "      g_loss += loss_g.item()\n",
        "\n",
        "      # Discriminator\n",
        "\n",
        "      # Pass the real images through the Discriminator and calculate the loss against the real label\n",
        "      output_real_d = discriminator(images)\n",
        "      loss_real_d = gan_bce_loss(output=output_real_d, real_label=True)\n",
        "      d_out_real.append(loss_real_d.mean().item())\n",
        "\n",
        "      # Pass the fake images from the Generator through the Discriminator and calculate the loss against the fake label\n",
        "      output_fake_d = discriminator(output_g.detach())\n",
        "      loss_fake_d = gan_bce_loss(output=output_fake_d, real_label=False)\n",
        "      d_out_fake.append(loss_fake_d.mean().item())\n",
        "\n",
        "      # Average the losses and backpropogate through the discriminator\n",
        "      loss_d = (loss_real_d + loss_fake_d) / 2\n",
        "\n",
        "      optimizer_d.zero_grad()\n",
        "      loss_d.backward()\n",
        "      optimizer_d.step()\n",
        "\n",
        "      d_loss += loss_d.item()\n",
        "\n",
        "    torch.save(generator.state_dict(), generator_model_path)\n",
        "    torch.save(discriminator.state_dict(), discriminator_model_path)"
      ],
      "metadata": {
        "id": "Z56r6YsSQ-4q"
      },
      "execution_count": null,
      "outputs": []
    },
    {
      "cell_type": "code",
      "source": [
        "fixed_latent_noise.shape"
      ],
      "metadata": {
        "colab": {
          "base_uri": "https://localhost:8080/"
        },
        "id": "oirDkl2ijQw7",
        "outputId": "1a47289a-ffd1-412b-a269-8dcdbdec6a72"
      },
      "execution_count": null,
      "outputs": [
        {
          "output_type": "execute_result",
          "data": {
            "text/plain": [
              "torch.Size([16, 128, 1, 1])"
            ]
          },
          "metadata": {},
          "execution_count": 12
        }
      ]
    },
    {
      "cell_type": "code",
      "source": [
        "test_fake = generator(fixed_latent_noise)\n",
        "print(test_fake.shape)\n",
        "\n",
        "plt.figure(figsize=(20, 10))\n",
        "out = vutils.make_grid(test_fake.detach().cpu(), 4, normalize=True)\n",
        "\n",
        "plt.imshow(out.numpy().transpose((1, 2, 0)))\n",
        "plt.axis(False)"
      ],
      "metadata": {
        "colab": {
          "base_uri": "https://localhost:8080/",
          "height": 843
        },
        "id": "CpApysmJTeVG",
        "outputId": "29cba393-c4db-4773-b824-28ae552dcfa1"
      },
      "execution_count": null,
      "outputs": [
        {
          "output_type": "stream",
          "name": "stdout",
          "text": [
            "torch.Size([16, 1, 32, 32])\n"
          ]
        },
        {
          "output_type": "execute_result",
          "data": {
            "text/plain": [
              "(-0.5, 137.5, 137.5, -0.5)"
            ]
          },
          "metadata": {},
          "execution_count": 13
        },
        {
          "output_type": "display_data",
          "data": {
            "text/plain": [
              "<Figure size 2000x1000 with 1 Axes>"
            ],
            "image/png": "[encoded data removed]"
          },
          "metadata": {}
        }
      ]
    },
    {
      "cell_type": "code",
      "source": [
        "generated_images = []\n",
        "\n",
        "for x in range(4):\n",
        "  for y in range(4):\n",
        "    noise = fixed_latent_noise[1].clone().detach()\n",
        "\n",
        "    dim_x = 7\n",
        "    dim_y = 1\n",
        "\n",
        "    noise[dim_x] = noise[dim_x] + x * torch.ones_like(noise[dim_x])\n",
        "    noise[dim_y] = noise[dim_y] + y * torch.ones_like(noise[dim_y])\n",
        "    new_img = generator(noise.unsqueeze(dim=0))\n",
        "\n",
        "    generated_images.append(new_img)\n",
        "\n",
        "plt.figure(figsize=(20, 10))\n",
        "out = vutils.make_grid(torch.cat(generated_images).detach().cpu(), 4, normalize=True)\n",
        "\n",
        "plt.imshow(out.numpy().transpose((1, 2, 0)))\n",
        "plt.axis(False)"
      ],
      "metadata": {
        "colab": {
          "base_uri": "https://localhost:8080/",
          "height": 825
        },
        "id": "Pd-ZBQL-jI3p",
        "outputId": "6406374c-91d2-4480-f1ea-939b80edf055"
      },
      "execution_count": null,
      "outputs": [
        {
          "output_type": "execute_result",
          "data": {
            "text/plain": [
              "(-0.5, 137.5, 137.5, -0.5)"
            ]
          },
          "metadata": {},
          "execution_count": 28
        },
        {
          "output_type": "display_data",
          "data": {
            "text/plain": [
              "<Figure size 2000x1000 with 1 Axes>"
            ],
            "image/png": "[encoded data removed]"
          },
          "metadata": {}
        }
      ]
    }
  ]
}